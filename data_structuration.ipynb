{
 "cells": [
  {
   "cell_type": "code",
   "execution_count": 2,
   "id": "5d40f362-fb57-4974-8add-0d6b6e157c93",
   "metadata": {},
   "outputs": [
    {
     "name": "stdout",
     "output_type": "stream",
     "text": [
      "Collecting neo4j\n",
      "  Downloading neo4j-5.25.0-py3-none-any.whl (296 kB)\n",
      "\u001b[2K     \u001b[90m━━━━━━━━━━━━━━━━━━━━━━━━━━━━━━━━━━━━━━━\u001b[0m \u001b[32m296.6/296.6 kB\u001b[0m \u001b[31m6.5 MB/s\u001b[0m eta \u001b[36m0:00:00\u001b[0ma \u001b[36m0:00:01\u001b[0m\n",
      "\u001b[?25hRequirement already satisfied: pytz in /opt/conda/lib/python3.10/site-packages (from neo4j) (2023.3)\n",
      "Installing collected packages: neo4j\n",
      "Successfully installed neo4j-5.25.0\n"
     ]
    }
   ],
   "source": [
    "! pip install neo4j"
   ]
  },
  {
   "cell_type": "code",
   "execution_count": 27,
   "id": "868e081b-5ada-4d1b-b04e-df878af2a021",
   "metadata": {},
   "outputs": [
    {
     "name": "stdout",
     "output_type": "stream",
     "text": [
      "Requirement already satisfied: tqdm in /opt/conda/lib/python3.10/site-packages (4.65.0)\n"
     ]
    }
   ],
   "source": [
    "! pip install tqdm"
   ]
  },
  {
   "cell_type": "code",
   "execution_count": 29,
   "id": "162046df-000f-4a19-a0ae-82dd44649b12",
   "metadata": {},
   "outputs": [],
   "source": [
    "from neo4j import GraphDatabase\n",
    "import pandas as pd\n",
    "from tqdm import tqdm\n",
    "tqdm.pandas()\n",
    "\n",
    "# Define the connection URI and authentication\n",
    "uri = \"bolt://94.230.217.43:7687\" #\"bolt://localhost:7687\" #\"bolt://94.230.217.43:7687\"  # Update this if you're using a different address   localhost\n",
    "username = \"neo4j\"  # Your Neo4j username\n",
    "password = \"lagginhorn\" #\"lagginhorn\"  # Your Neo4j password   newpassword\n",
    "\n",
    "# Create a Neo4j driver instance\n",
    "driver = GraphDatabase.driver(uri, auth=(username, password))"
   ]
  },
  {
   "cell_type": "markdown",
   "id": "7b91a6af-d8b2-4b5e-809e-77800a5b516f",
   "metadata": {},
   "source": [
    "### Utils"
   ]
  },
  {
   "cell_type": "code",
   "execution_count": 32,
   "id": "ff14f834-262e-4c5b-9f76-04197ce0da04",
   "metadata": {},
   "outputs": [],
   "source": [
    "def get_node_data_with_relation_and_node(tx, node_label, relation, node_label_2):\n",
    "    query = \"\"\"\n",
    "    MATCH (b:{})-[r:{}]->(rdata:{})\n",
    "    RETURN b, rdata LIMIT 100000\n",
    "    \"\"\".format(node_label, relation, node_label_2)\n",
    "    result = tx.run(query)\n",
    "    return [{node_label: record[\"b\"], node_label_2: record[\"rdata\"]} for record in result]\n",
    "\n",
    "# Main block to run the query\n",
    "def get_node2_data_with_relation_and_node_data_main(node_label=\"Person\", relation=\"SPONSORS\", node_label_2=\"Bill\"):\n",
    "    with driver.session() as session:\n",
    "        examples = session.read_transaction(get_node_data_with_relation_and_node, node_label, relation, node_label_2)\n",
    "        # Output the examples\n",
    "        df = pd.DataFrame(columns = [node_label_2, node_label])\n",
    "        print(\"Node2 {} data\".format(node_label_2), examples[0][node_label_2])\n",
    "        print(\"Node1 {} data\".format(node_label), examples[0][node_label])\n",
    "        for example in examples:\n",
    "            df.loc[len(df)] = [example[node_label_2], example[node_label]]\n",
    "    return df\n",
    "\n",
    "\n",
    "def get_one_node_data_with_relation_and_node(tx, node_label, relation, node_label_2, element_id):\n",
    "    query = \"\"\"\n",
    "    MATCH (b:{})-[r:{}]->(rdata:{})\n",
    "    where elementId(b) = '{}'\n",
    "    RETURN b, rdata LIMIT 1000\n",
    "    \"\"\".format(node_label, relation, node_label_2, element_id)\n",
    "    result = tx.run(query)\n",
    "    return [{node_label: record[\"b\"], node_label_2: record[\"rdata\"]} for record in result]\n",
    "\n",
    "# Main block to run the query\n",
    "def get_one_node_data_with_relation_and_node_main(element_id, node_label=\"Person\", relation=\"REPRESENTS\", node_label_2=\"Canton\"):\n",
    "    with driver.session() as session:\n",
    "        examples = session.read_transaction(get_one_node_data_with_relation_and_node, node_label, relation, node_label_2, element_id)\n",
    "        # Output the examples\n",
    "        # print(\"Node1 {} data\".format(node_label), examples[0][node_label])\n",
    "        # print(\"Node2 {} data\".format(node_label_2), examples[0][node_label_2])\n",
    "    if examples:\n",
    "       return examples[0][node_label_2]\n",
    "    #print(\"NOT FOUND\")\n",
    "    return \"NOT FOUND\""
   ]
  },
  {
   "cell_type": "code",
   "execution_count": 33,
   "id": "69c5a974-4d1c-408d-9289-684296067f53",
   "metadata": {},
   "outputs": [
    {
     "name": "stderr",
     "output_type": "stream",
     "text": [
      "/tmp/ipykernel_1161/1591477151.py:12: DeprecationWarning: read_transaction has been renamed to execute_read\n",
      "  examples = session.read_transaction(get_node_data_with_relation_and_node, node_label, relation, node_label_2)\n"
     ]
    },
    {
     "name": "stdout",
     "output_type": "stream",
     "text": [
      "Node2 Bill data <Node element_id='4:fa996e42-3a3f-4866-ad85-cb06ad63f099:454275' labels=frozenset({'Question Time', 'Bill'}) properties={'title_de': 'Kyoto-Protokoll. Bilanz der bisherigen Politik?', 'bill_number': '09.5595', 'title_fr': 'Protocole de Kyoto. Bilan de la politique menée?', 'urgent': False, 'status': 'Resolved'}>\n",
      "Node1 Person data <Node element_id='4:fa996e42-3a3f-4866-ad85-cb06ad63f099:585934' labels=frozenset({'Person', 'Unique Person'}) properties={'date_birth': neo4j.time.Date(1969, 5, 5), 'uid': 3888, 'gender': 'm', 'last_name': 'Hiltpold', 'first_name': 'Hugues'}>\n"
     ]
    },
    {
     "name": "stderr",
     "output_type": "stream",
     "text": [
      "  0%|          | 0/31823 [00:00<?, ?it/s]/tmp/ipykernel_1161/1591477151.py:34: DeprecationWarning: read_transaction has been renamed to execute_read\n",
      "  examples = session.read_transaction(get_one_node_data_with_relation_and_node, node_label, relation, node_label_2, element_id)\n",
      "100%|██████████| 31823/31823 [05:02<00:00, 105.37it/s]\n",
      "  0%|          | 0/31823 [00:00<?, ?it/s]/tmp/ipykernel_1161/1591477151.py:34: DeprecationWarning: read_transaction has been renamed to execute_read\n",
      "  examples = session.read_transaction(get_one_node_data_with_relation_and_node, node_label, relation, node_label_2, element_id)\n",
      "100%|██████████| 31823/31823 [09:33<00:00, 55.52it/s]\n"
     ]
    }
   ],
   "source": [
    "# Get 10000 Bill with Person Sponsors\n",
    "df_bill_person = get_node2_data_with_relation_and_node_data_main(node_label=\"Person\", relation=\"SPONSORS\", node_label_2=\"Bill\")\n",
    "df_bill_person[\"Bill\"] = df_bill_person[\"Bill\"].apply(lambda l : {\"element_id\": l.element_id, \"bill_number\": l['bill_number'], \"title_fr\": l['title_fr'], \"title_de\": l['title_de'], \"urgent\": l['urgent']})\n",
    "df_bill_person[\"Person\"] = df_bill_person[\"Person\"].apply(lambda l : {\"element_id\": l.element_id, \"last_name\": l['last_name'], \"first_name\":l[\"first_name\"], \"gender\": l['gender']})\n",
    "\n",
    "# Associate Canton to Person\n",
    "df_bill_person[\"Canton\"] = df_bill_person[\"Person\"].progress_apply(lambda l: get_one_node_data_with_relation_and_node_main(l[\"element_id\"]))\n",
    "df_bill_person[\"Canton\"] = df_bill_person[\"Canton\"].apply(lambda l : {\"name\": l['name'], \"abbrev\": l['abbrev']})\n",
    "\n",
    "# Get Tag for each Bill  \n",
    "df_bill_person[\"Tag\"] = df_bill_person[\"Bill\"].progress_apply(lambda l: get_one_node_data_with_relation_and_node_main(l[\"element_id\"], node_label=\"Bill\", relation=\"ABOUT\", node_label_2=\"Tag\"))\n",
    "df_bill_person = df_bill_person[df_bill_person[\"Tag\"]!=\"NOT FOUND\"]\n",
    "df_bill_person[\"Tag\"] = df_bill_person[\"Tag\"].apply(lambda l : {\"name\": l['name']})\n",
    "\n",
    "# Associate Debates\n",
    "df_bill_person[\"Debate\"] = df_bill_person[\"Bill\"].progress_apply(lambda l: get_one_node_data_with_relation_and_node_main(l[\"element_id\"], node_label=\"Bill\", relation=\"CONTAINS\", node_label_2=\"Debate\"))\n",
    "df_bill_person[\"Debate\"] = df_bill_person[\"Debate\"].apply(lambda l : {\"date_start\": l['date_start']})"
   ]
  },
  {
   "cell_type": "code",
   "execution_count": 38,
   "id": "8d6a7a88-83c8-4a45-a257-b72eef6e71d3",
   "metadata": {},
   "outputs": [
    {
     "name": "stderr",
     "output_type": "stream",
     "text": [
      "  0%|          | 0/31737 [00:00<?, ?it/s]/tmp/ipykernel_1161/1591477151.py:34: DeprecationWarning: read_transaction has been renamed to execute_read\n",
      "  examples = session.read_transaction(get_one_node_data_with_relation_and_node, node_label, relation, node_label_2, element_id)\n",
      "100%|██████████| 31737/31737 [09:29<00:00, 55.73it/s]\n"
     ]
    }
   ],
   "source": [
    "df_bill_person[\"Debate\"] = df_bill_person[\"Bill\"].progress_apply(lambda l: get_one_node_data_with_relation_and_node_main(l[\"element_id\"], node_label=\"Bill\", relation=\"CONTAINS\", node_label_2=\"Debate\"))"
   ]
  },
  {
   "cell_type": "code",
   "execution_count": 40,
   "id": "5d1ec5b0-6a98-41a6-a468-51bcd27a825d",
   "metadata": {},
   "outputs": [],
   "source": [
    "df_bill_person[\"Debate\"] = df_bill_person[\"Debate\"].apply(lambda l : {\"date_start\": l['date_start']})"
   ]
  },
  {
   "cell_type": "code",
   "execution_count": 41,
   "id": "b78edf92-4310-4bd7-897c-0248330deaab",
   "metadata": {},
   "outputs": [
    {
     "data": {
      "text/html": [
       "<div>\n",
       "<style scoped>\n",
       "    .dataframe tbody tr th:only-of-type {\n",
       "        vertical-align: middle;\n",
       "    }\n",
       "\n",
       "    .dataframe tbody tr th {\n",
       "        vertical-align: top;\n",
       "    }\n",
       "\n",
       "    .dataframe thead th {\n",
       "        text-align: right;\n",
       "    }\n",
       "</style>\n",
       "<table border=\"1\" class=\"dataframe\">\n",
       "  <thead>\n",
       "    <tr style=\"text-align: right;\">\n",
       "      <th></th>\n",
       "      <th>Bill</th>\n",
       "      <th>Person</th>\n",
       "      <th>Canton</th>\n",
       "      <th>Tag</th>\n",
       "      <th>Debate</th>\n",
       "    </tr>\n",
       "  </thead>\n",
       "  <tbody>\n",
       "    <tr>\n",
       "      <th>0</th>\n",
       "      <td>{'element_id': '4:fa996e42-3a3f-4866-ad85-cb06...</td>\n",
       "      <td>{'element_id': '4:fa996e42-3a3f-4866-ad85-cb06...</td>\n",
       "      <td>{'name': 'Genf', 'abbrev': 'GE'}</td>\n",
       "      <td>{'name': 'Umwelt'}</td>\n",
       "      <td>{'date_start': 2009-12-07}</td>\n",
       "    </tr>\n",
       "    <tr>\n",
       "      <th>1</th>\n",
       "      <td>{'element_id': '4:fa996e42-3a3f-4866-ad85-cb06...</td>\n",
       "      <td>{'element_id': '4:fa996e42-3a3f-4866-ad85-cb06...</td>\n",
       "      <td>{'name': 'Zürich', 'abbrev': 'ZH'}</td>\n",
       "      <td>{'name': 'Medien und Kommunikation'}</td>\n",
       "      <td>{'date_start': 2009-12-07}</td>\n",
       "    </tr>\n",
       "    <tr>\n",
       "      <th>2</th>\n",
       "      <td>{'element_id': '4:fa996e42-3a3f-4866-ad85-cb06...</td>\n",
       "      <td>{'element_id': '4:fa996e42-3a3f-4866-ad85-cb06...</td>\n",
       "      <td>{'name': 'Aargau', 'abbrev': 'AG'}</td>\n",
       "      <td>{'name': 'Internationale Politik'}</td>\n",
       "      <td>{'date_start': 2009-12-07}</td>\n",
       "    </tr>\n",
       "    <tr>\n",
       "      <th>3</th>\n",
       "      <td>{'element_id': '4:fa996e42-3a3f-4866-ad85-cb06...</td>\n",
       "      <td>{'element_id': '4:fa996e42-3a3f-4866-ad85-cb06...</td>\n",
       "      <td>{'name': 'Bern', 'abbrev': 'BE'}</td>\n",
       "      <td>{'name': 'Verkehr'}</td>\n",
       "      <td>{'date_start': 2009-12-07}</td>\n",
       "    </tr>\n",
       "    <tr>\n",
       "      <th>4</th>\n",
       "      <td>{'element_id': '4:fa996e42-3a3f-4866-ad85-cb06...</td>\n",
       "      <td>{'element_id': '4:fa996e42-3a3f-4866-ad85-cb06...</td>\n",
       "      <td>{'name': 'Zürich', 'abbrev': 'ZH'}</td>\n",
       "      <td>{'name': 'Recht Allgemein'}</td>\n",
       "      <td>{'date_start': 2009-12-07}</td>\n",
       "    </tr>\n",
       "    <tr>\n",
       "      <th>...</th>\n",
       "      <td>...</td>\n",
       "      <td>...</td>\n",
       "      <td>...</td>\n",
       "      <td>...</td>\n",
       "      <td>...</td>\n",
       "    </tr>\n",
       "    <tr>\n",
       "      <th>31818</th>\n",
       "      <td>{'element_id': '4:fa996e42-3a3f-4866-ad85-cb06...</td>\n",
       "      <td>{'element_id': '4:fa996e42-3a3f-4866-ad85-cb06...</td>\n",
       "      <td>{'name': 'Zürich', 'abbrev': 'ZH'}</td>\n",
       "      <td>{'name': 'Europapolitik'}</td>\n",
       "      <td>{'date_start': 2008-06-09}</td>\n",
       "    </tr>\n",
       "    <tr>\n",
       "      <th>31819</th>\n",
       "      <td>{'element_id': '4:fa996e42-3a3f-4866-ad85-cb06...</td>\n",
       "      <td>{'element_id': '4:fa996e42-3a3f-4866-ad85-cb06...</td>\n",
       "      <td>{'name': 'Bern', 'abbrev': 'BE'}</td>\n",
       "      <td>{'name': 'Finanzwesen'}</td>\n",
       "      <td>{'date_start': 2008-12-15}</td>\n",
       "    </tr>\n",
       "    <tr>\n",
       "      <th>31820</th>\n",
       "      <td>{'element_id': '4:fa996e42-3a3f-4866-ad85-cb06...</td>\n",
       "      <td>{'element_id': '4:fa996e42-3a3f-4866-ad85-cb06...</td>\n",
       "      <td>{'name': 'Zürich', 'abbrev': 'ZH'}</td>\n",
       "      <td>{'name': 'Europapolitik'}</td>\n",
       "      <td>{'date_start': 2008-09-29}</td>\n",
       "    </tr>\n",
       "    <tr>\n",
       "      <th>31821</th>\n",
       "      <td>{'element_id': '4:fa996e42-3a3f-4866-ad85-cb06...</td>\n",
       "      <td>{'element_id': '4:fa996e42-3a3f-4866-ad85-cb06...</td>\n",
       "      <td>{'name': 'Zürich', 'abbrev': 'ZH'}</td>\n",
       "      <td>{'name': 'Internationale Politik'}</td>\n",
       "      <td>{'date_start': 2008-09-22}</td>\n",
       "    </tr>\n",
       "    <tr>\n",
       "      <th>31822</th>\n",
       "      <td>{'element_id': '4:fa996e42-3a3f-4866-ad85-cb06...</td>\n",
       "      <td>{'element_id': '4:fa996e42-3a3f-4866-ad85-cb06...</td>\n",
       "      <td>{'name': 'Bern', 'abbrev': 'BE'}</td>\n",
       "      <td>{'name': 'Gesundheit'}</td>\n",
       "      <td>{'date_start': 2008-06-09}</td>\n",
       "    </tr>\n",
       "  </tbody>\n",
       "</table>\n",
       "<p>31737 rows × 5 columns</p>\n",
       "</div>"
      ],
      "text/plain": [
       "                                                    Bill  \\\n",
       "0      {'element_id': '4:fa996e42-3a3f-4866-ad85-cb06...   \n",
       "1      {'element_id': '4:fa996e42-3a3f-4866-ad85-cb06...   \n",
       "2      {'element_id': '4:fa996e42-3a3f-4866-ad85-cb06...   \n",
       "3      {'element_id': '4:fa996e42-3a3f-4866-ad85-cb06...   \n",
       "4      {'element_id': '4:fa996e42-3a3f-4866-ad85-cb06...   \n",
       "...                                                  ...   \n",
       "31818  {'element_id': '4:fa996e42-3a3f-4866-ad85-cb06...   \n",
       "31819  {'element_id': '4:fa996e42-3a3f-4866-ad85-cb06...   \n",
       "31820  {'element_id': '4:fa996e42-3a3f-4866-ad85-cb06...   \n",
       "31821  {'element_id': '4:fa996e42-3a3f-4866-ad85-cb06...   \n",
       "31822  {'element_id': '4:fa996e42-3a3f-4866-ad85-cb06...   \n",
       "\n",
       "                                                  Person  \\\n",
       "0      {'element_id': '4:fa996e42-3a3f-4866-ad85-cb06...   \n",
       "1      {'element_id': '4:fa996e42-3a3f-4866-ad85-cb06...   \n",
       "2      {'element_id': '4:fa996e42-3a3f-4866-ad85-cb06...   \n",
       "3      {'element_id': '4:fa996e42-3a3f-4866-ad85-cb06...   \n",
       "4      {'element_id': '4:fa996e42-3a3f-4866-ad85-cb06...   \n",
       "...                                                  ...   \n",
       "31818  {'element_id': '4:fa996e42-3a3f-4866-ad85-cb06...   \n",
       "31819  {'element_id': '4:fa996e42-3a3f-4866-ad85-cb06...   \n",
       "31820  {'element_id': '4:fa996e42-3a3f-4866-ad85-cb06...   \n",
       "31821  {'element_id': '4:fa996e42-3a3f-4866-ad85-cb06...   \n",
       "31822  {'element_id': '4:fa996e42-3a3f-4866-ad85-cb06...   \n",
       "\n",
       "                                   Canton  \\\n",
       "0        {'name': 'Genf', 'abbrev': 'GE'}   \n",
       "1      {'name': 'Zürich', 'abbrev': 'ZH'}   \n",
       "2      {'name': 'Aargau', 'abbrev': 'AG'}   \n",
       "3        {'name': 'Bern', 'abbrev': 'BE'}   \n",
       "4      {'name': 'Zürich', 'abbrev': 'ZH'}   \n",
       "...                                   ...   \n",
       "31818  {'name': 'Zürich', 'abbrev': 'ZH'}   \n",
       "31819    {'name': 'Bern', 'abbrev': 'BE'}   \n",
       "31820  {'name': 'Zürich', 'abbrev': 'ZH'}   \n",
       "31821  {'name': 'Zürich', 'abbrev': 'ZH'}   \n",
       "31822    {'name': 'Bern', 'abbrev': 'BE'}   \n",
       "\n",
       "                                        Tag                      Debate  \n",
       "0                        {'name': 'Umwelt'}  {'date_start': 2009-12-07}  \n",
       "1      {'name': 'Medien und Kommunikation'}  {'date_start': 2009-12-07}  \n",
       "2        {'name': 'Internationale Politik'}  {'date_start': 2009-12-07}  \n",
       "3                       {'name': 'Verkehr'}  {'date_start': 2009-12-07}  \n",
       "4               {'name': 'Recht Allgemein'}  {'date_start': 2009-12-07}  \n",
       "...                                     ...                         ...  \n",
       "31818             {'name': 'Europapolitik'}  {'date_start': 2008-06-09}  \n",
       "31819               {'name': 'Finanzwesen'}  {'date_start': 2008-12-15}  \n",
       "31820             {'name': 'Europapolitik'}  {'date_start': 2008-09-29}  \n",
       "31821    {'name': 'Internationale Politik'}  {'date_start': 2008-09-22}  \n",
       "31822                {'name': 'Gesundheit'}  {'date_start': 2008-06-09}  \n",
       "\n",
       "[31737 rows x 5 columns]"
      ]
     },
     "execution_count": 41,
     "metadata": {},
     "output_type": "execute_result"
    }
   ],
   "source": [
    "df_bill_person"
   ]
  },
  {
   "cell_type": "code",
   "execution_count": 21,
   "id": "643e8ac2-cd33-4cf1-b531-0c2ac7cd01ef",
   "metadata": {},
   "outputs": [
    {
     "data": {
      "text/html": [
       "<div>\n",
       "<style scoped>\n",
       "    .dataframe tbody tr th:only-of-type {\n",
       "        vertical-align: middle;\n",
       "    }\n",
       "\n",
       "    .dataframe tbody tr th {\n",
       "        vertical-align: top;\n",
       "    }\n",
       "\n",
       "    .dataframe thead th {\n",
       "        text-align: right;\n",
       "    }\n",
       "</style>\n",
       "<table border=\"1\" class=\"dataframe\">\n",
       "  <thead>\n",
       "    <tr style=\"text-align: right;\">\n",
       "      <th></th>\n",
       "      <th>Bill</th>\n",
       "      <th>Person</th>\n",
       "      <th>Canton</th>\n",
       "      <th>Tag</th>\n",
       "    </tr>\n",
       "  </thead>\n",
       "  <tbody>\n",
       "    <tr>\n",
       "      <th>0</th>\n",
       "      <td>{'element_id': '4:fa996e42-3a3f-4866-ad85-cb06...</td>\n",
       "      <td>{'element_id': '4:fa996e42-3a3f-4866-ad85-cb06...</td>\n",
       "      <td>{'name': 'Genf', 'abbrev': 'GE'}</td>\n",
       "      <td>{'name': 'Umwelt'}</td>\n",
       "    </tr>\n",
       "    <tr>\n",
       "      <th>1</th>\n",
       "      <td>{'element_id': '4:fa996e42-3a3f-4866-ad85-cb06...</td>\n",
       "      <td>{'element_id': '4:fa996e42-3a3f-4866-ad85-cb06...</td>\n",
       "      <td>{'name': 'Zürich', 'abbrev': 'ZH'}</td>\n",
       "      <td>{'name': 'Medien und Kommunikation'}</td>\n",
       "    </tr>\n",
       "    <tr>\n",
       "      <th>2</th>\n",
       "      <td>{'element_id': '4:fa996e42-3a3f-4866-ad85-cb06...</td>\n",
       "      <td>{'element_id': '4:fa996e42-3a3f-4866-ad85-cb06...</td>\n",
       "      <td>{'name': 'Aargau', 'abbrev': 'AG'}</td>\n",
       "      <td>{'name': 'Internationale Politik'}</td>\n",
       "    </tr>\n",
       "    <tr>\n",
       "      <th>3</th>\n",
       "      <td>{'element_id': '4:fa996e42-3a3f-4866-ad85-cb06...</td>\n",
       "      <td>{'element_id': '4:fa996e42-3a3f-4866-ad85-cb06...</td>\n",
       "      <td>{'name': 'Bern', 'abbrev': 'BE'}</td>\n",
       "      <td>{'name': 'Verkehr'}</td>\n",
       "    </tr>\n",
       "    <tr>\n",
       "      <th>4</th>\n",
       "      <td>{'element_id': '4:fa996e42-3a3f-4866-ad85-cb06...</td>\n",
       "      <td>{'element_id': '4:fa996e42-3a3f-4866-ad85-cb06...</td>\n",
       "      <td>{'name': 'Zürich', 'abbrev': 'ZH'}</td>\n",
       "      <td>{'name': 'Recht Allgemein'}</td>\n",
       "    </tr>\n",
       "    <tr>\n",
       "      <th>...</th>\n",
       "      <td>...</td>\n",
       "      <td>...</td>\n",
       "      <td>...</td>\n",
       "      <td>...</td>\n",
       "    </tr>\n",
       "    <tr>\n",
       "      <th>9995</th>\n",
       "      <td>{'element_id': '4:fa996e42-3a3f-4866-ad85-cb06...</td>\n",
       "      <td>{'element_id': '4:fa996e42-3a3f-4866-ad85-cb06...</td>\n",
       "      <td>{'name': 'Genf', 'abbrev': 'GE'}</td>\n",
       "      <td>{'name': 'Sozialer Schutz'}</td>\n",
       "    </tr>\n",
       "    <tr>\n",
       "      <th>9996</th>\n",
       "      <td>{'element_id': '4:fa996e42-3a3f-4866-ad85-cb06...</td>\n",
       "      <td>{'element_id': '4:fa996e42-3a3f-4866-ad85-cb06...</td>\n",
       "      <td>{'name': 'Basel-Stadt', 'abbrev': 'BS'}</td>\n",
       "      <td>{'name': 'Gesundheit'}</td>\n",
       "    </tr>\n",
       "    <tr>\n",
       "      <th>9997</th>\n",
       "      <td>{'element_id': '4:fa996e42-3a3f-4866-ad85-cb06...</td>\n",
       "      <td>{'element_id': '4:fa996e42-3a3f-4866-ad85-cb06...</td>\n",
       "      <td>{'name': 'Bern', 'abbrev': 'BE'}</td>\n",
       "      <td>{'name': 'Kultur'}</td>\n",
       "    </tr>\n",
       "    <tr>\n",
       "      <th>9998</th>\n",
       "      <td>{'element_id': '4:fa996e42-3a3f-4866-ad85-cb06...</td>\n",
       "      <td>{'element_id': '4:fa996e42-3a3f-4866-ad85-cb06...</td>\n",
       "      <td>{'name': 'St. Gallen', 'abbrev': 'SG'}</td>\n",
       "      <td>{'name': 'Landwirtschaft'}</td>\n",
       "    </tr>\n",
       "    <tr>\n",
       "      <th>9999</th>\n",
       "      <td>{'element_id': '4:fa996e42-3a3f-4866-ad85-cb06...</td>\n",
       "      <td>{'element_id': '4:fa996e42-3a3f-4866-ad85-cb06...</td>\n",
       "      <td>{'name': 'Schwyz', 'abbrev': 'SZ'}</td>\n",
       "      <td>{'name': 'Landwirtschaft'}</td>\n",
       "    </tr>\n",
       "  </tbody>\n",
       "</table>\n",
       "<p>9941 rows × 4 columns</p>\n",
       "</div>"
      ],
      "text/plain": [
       "                                                   Bill  \\\n",
       "0     {'element_id': '4:fa996e42-3a3f-4866-ad85-cb06...   \n",
       "1     {'element_id': '4:fa996e42-3a3f-4866-ad85-cb06...   \n",
       "2     {'element_id': '4:fa996e42-3a3f-4866-ad85-cb06...   \n",
       "3     {'element_id': '4:fa996e42-3a3f-4866-ad85-cb06...   \n",
       "4     {'element_id': '4:fa996e42-3a3f-4866-ad85-cb06...   \n",
       "...                                                 ...   \n",
       "9995  {'element_id': '4:fa996e42-3a3f-4866-ad85-cb06...   \n",
       "9996  {'element_id': '4:fa996e42-3a3f-4866-ad85-cb06...   \n",
       "9997  {'element_id': '4:fa996e42-3a3f-4866-ad85-cb06...   \n",
       "9998  {'element_id': '4:fa996e42-3a3f-4866-ad85-cb06...   \n",
       "9999  {'element_id': '4:fa996e42-3a3f-4866-ad85-cb06...   \n",
       "\n",
       "                                                 Person  \\\n",
       "0     {'element_id': '4:fa996e42-3a3f-4866-ad85-cb06...   \n",
       "1     {'element_id': '4:fa996e42-3a3f-4866-ad85-cb06...   \n",
       "2     {'element_id': '4:fa996e42-3a3f-4866-ad85-cb06...   \n",
       "3     {'element_id': '4:fa996e42-3a3f-4866-ad85-cb06...   \n",
       "4     {'element_id': '4:fa996e42-3a3f-4866-ad85-cb06...   \n",
       "...                                                 ...   \n",
       "9995  {'element_id': '4:fa996e42-3a3f-4866-ad85-cb06...   \n",
       "9996  {'element_id': '4:fa996e42-3a3f-4866-ad85-cb06...   \n",
       "9997  {'element_id': '4:fa996e42-3a3f-4866-ad85-cb06...   \n",
       "9998  {'element_id': '4:fa996e42-3a3f-4866-ad85-cb06...   \n",
       "9999  {'element_id': '4:fa996e42-3a3f-4866-ad85-cb06...   \n",
       "\n",
       "                                       Canton  \\\n",
       "0            {'name': 'Genf', 'abbrev': 'GE'}   \n",
       "1          {'name': 'Zürich', 'abbrev': 'ZH'}   \n",
       "2          {'name': 'Aargau', 'abbrev': 'AG'}   \n",
       "3            {'name': 'Bern', 'abbrev': 'BE'}   \n",
       "4          {'name': 'Zürich', 'abbrev': 'ZH'}   \n",
       "...                                       ...   \n",
       "9995         {'name': 'Genf', 'abbrev': 'GE'}   \n",
       "9996  {'name': 'Basel-Stadt', 'abbrev': 'BS'}   \n",
       "9997         {'name': 'Bern', 'abbrev': 'BE'}   \n",
       "9998   {'name': 'St. Gallen', 'abbrev': 'SG'}   \n",
       "9999       {'name': 'Schwyz', 'abbrev': 'SZ'}   \n",
       "\n",
       "                                       Tag  \n",
       "0                       {'name': 'Umwelt'}  \n",
       "1     {'name': 'Medien und Kommunikation'}  \n",
       "2       {'name': 'Internationale Politik'}  \n",
       "3                      {'name': 'Verkehr'}  \n",
       "4              {'name': 'Recht Allgemein'}  \n",
       "...                                    ...  \n",
       "9995           {'name': 'Sozialer Schutz'}  \n",
       "9996                {'name': 'Gesundheit'}  \n",
       "9997                    {'name': 'Kultur'}  \n",
       "9998            {'name': 'Landwirtschaft'}  \n",
       "9999            {'name': 'Landwirtschaft'}  \n",
       "\n",
       "[9941 rows x 4 columns]"
      ]
     },
     "execution_count": 21,
     "metadata": {},
     "output_type": "execute_result"
    }
   ],
   "source": [
    "df_bill_person"
   ]
  },
  {
   "cell_type": "markdown",
   "id": "c12ae385-04a2-412d-b856-418046d28f65",
   "metadata": {},
   "source": [
    "## Use cases views"
   ]
  },
  {
   "cell_type": "code",
   "execution_count": 49,
   "id": "eae2b733-c990-4425-82ea-c0c614381e00",
   "metadata": {},
   "outputs": [
    {
     "data": {
      "text/html": [
       "<div>\n",
       "<style scoped>\n",
       "    .dataframe tbody tr th:only-of-type {\n",
       "        vertical-align: middle;\n",
       "    }\n",
       "\n",
       "    .dataframe tbody tr th {\n",
       "        vertical-align: top;\n",
       "    }\n",
       "\n",
       "    .dataframe thead th {\n",
       "        text-align: right;\n",
       "    }\n",
       "</style>\n",
       "<table border=\"1\" class=\"dataframe\">\n",
       "  <thead>\n",
       "    <tr style=\"text-align: right;\">\n",
       "      <th></th>\n",
       "      <th>bill_id</th>\n",
       "      <th>bill_title_fr</th>\n",
       "      <th>bill_title_de</th>\n",
       "      <th>person_name</th>\n",
       "      <th>person_gender</th>\n",
       "      <th>canton_name</th>\n",
       "      <th>canton_abbrev</th>\n",
       "      <th>topic</th>\n",
       "      <th>date_start</th>\n",
       "    </tr>\n",
       "  </thead>\n",
       "  <tbody>\n",
       "    <tr>\n",
       "      <th>0</th>\n",
       "      <td>4:fa996e42-3a3f-4866-ad85-cb06ad63f099:454275</td>\n",
       "      <td>Protocole de Kyoto. Bilan de la politique menée?</td>\n",
       "      <td>Kyoto-Protokoll. Bilanz der bisherigen Politik?</td>\n",
       "      <td>Hiltpold Hugues</td>\n",
       "      <td>m</td>\n",
       "      <td>Genf</td>\n",
       "      <td>GE</td>\n",
       "      <td>Umwelt</td>\n",
       "      <td>2009-12-07</td>\n",
       "    </tr>\n",
       "    <tr>\n",
       "      <th>1</th>\n",
       "      <td>4:fa996e42-3a3f-4866-ad85-cb06ad63f099:454276</td>\n",
       "      <td>Possibilités d'économies pour la SSR</td>\n",
       "      <td>Einsparungspotenzial bei der SRG</td>\n",
       "      <td>Bäumle Martin</td>\n",
       "      <td>m</td>\n",
       "      <td>Zürich</td>\n",
       "      <td>ZH</td>\n",
       "      <td>Medien und Kommunikation</td>\n",
       "      <td>2009-12-07</td>\n",
       "    </tr>\n",
       "    <tr>\n",
       "      <th>2</th>\n",
       "      <td>4:fa996e42-3a3f-4866-ad85-cb06ad63f099:454277</td>\n",
       "      <td>Coup d'Etat au Honduras</td>\n",
       "      <td>Putsch in Honduras</td>\n",
       "      <td>Müller Geri</td>\n",
       "      <td>m</td>\n",
       "      <td>Aargau</td>\n",
       "      <td>AG</td>\n",
       "      <td>Internationale Politik</td>\n",
       "      <td>2009-12-07</td>\n",
       "    </tr>\n",
       "    <tr>\n",
       "      <th>3</th>\n",
       "      <td>4:fa996e42-3a3f-4866-ad85-cb06ad63f099:454278</td>\n",
       "      <td>Premières chutes de neige et gestion de la cir...</td>\n",
       "      <td>Wintereinbruch und Verkehrsmanagement auf der A2</td>\n",
       "      <td>Brönnimann Andreas</td>\n",
       "      <td>m</td>\n",
       "      <td>Bern</td>\n",
       "      <td>BE</td>\n",
       "      <td>Verkehr</td>\n",
       "      <td>2009-12-07</td>\n",
       "    </tr>\n",
       "    <tr>\n",
       "      <th>4</th>\n",
       "      <td>4:fa996e42-3a3f-4866-ad85-cb06ad63f099:454279</td>\n",
       "      <td>Interdiction d'exercer une profession pour les...</td>\n",
       "      <td>Berufsverbot für Frauen</td>\n",
       "      <td>Kaufmann Hans</td>\n",
       "      <td>m</td>\n",
       "      <td>Zürich</td>\n",
       "      <td>ZH</td>\n",
       "      <td>Recht Allgemein</td>\n",
       "      <td>2009-12-07</td>\n",
       "    </tr>\n",
       "    <tr>\n",
       "      <th>...</th>\n",
       "      <td>...</td>\n",
       "      <td>...</td>\n",
       "      <td>...</td>\n",
       "      <td>...</td>\n",
       "      <td>...</td>\n",
       "      <td>...</td>\n",
       "      <td>...</td>\n",
       "      <td>...</td>\n",
       "      <td>...</td>\n",
       "    </tr>\n",
       "    <tr>\n",
       "      <th>31818</th>\n",
       "      <td>4:fa996e42-3a3f-4866-ad85-cb06ad63f099:732351</td>\n",
       "      <td>Explosion des coûts liés aux accords de Schengen</td>\n",
       "      <td>Explosion der Schengen-Kosten</td>\n",
       "      <td>Fehr Hans</td>\n",
       "      <td>m</td>\n",
       "      <td>Zürich</td>\n",
       "      <td>ZH</td>\n",
       "      <td>Europapolitik</td>\n",
       "      <td>2008-06-09</td>\n",
       "    </tr>\n",
       "    <tr>\n",
       "      <th>31819</th>\n",
       "      <td>4:fa996e42-3a3f-4866-ad85-cb06ad63f099:732352</td>\n",
       "      <td>Crise des marchés financiers 2. Assurances</td>\n",
       "      <td>Finanzmarktkrise 2. Versicherungen</td>\n",
       "      <td>Stöckli Hans</td>\n",
       "      <td>m</td>\n",
       "      <td>Bern</td>\n",
       "      <td>BE</td>\n",
       "      <td>Finanzwesen</td>\n",
       "      <td>2008-12-15</td>\n",
       "    </tr>\n",
       "    <tr>\n",
       "      <th>31820</th>\n",
       "      <td>4:fa996e42-3a3f-4866-ad85-cb06ad63f099:732353</td>\n",
       "      <td>Introduction de REACH. Enregistrement jusqu'au...</td>\n",
       "      <td>Einführung Reach. Registrierung bis zum 30. No...</td>\n",
       "      <td>Moser Tiana Angelina</td>\n",
       "      <td>f</td>\n",
       "      <td>Zürich</td>\n",
       "      <td>ZH</td>\n",
       "      <td>Europapolitik</td>\n",
       "      <td>2008-09-29</td>\n",
       "    </tr>\n",
       "    <tr>\n",
       "      <th>31821</th>\n",
       "      <td>4:fa996e42-3a3f-4866-ad85-cb06ad63f099:732354</td>\n",
       "      <td>La Suisse, quartier général des FARC en Europe</td>\n",
       "      <td>Die Schweiz als europäisches Hauptquartier der...</td>\n",
       "      <td>Fehr Hans</td>\n",
       "      <td>m</td>\n",
       "      <td>Zürich</td>\n",
       "      <td>ZH</td>\n",
       "      <td>Internationale Politik</td>\n",
       "      <td>2008-09-22</td>\n",
       "    </tr>\n",
       "    <tr>\n",
       "      <th>31822</th>\n",
       "      <td>4:fa996e42-3a3f-4866-ad85-cb06ad63f099:732355</td>\n",
       "      <td>Risque aggravé de tumeurs du cerveau à cause d...</td>\n",
       "      <td>Erhöhtes Risiko von Hirntumoren wegen Telefoni...</td>\n",
       "      <td>Teuscher Franziska</td>\n",
       "      <td>f</td>\n",
       "      <td>Bern</td>\n",
       "      <td>BE</td>\n",
       "      <td>Gesundheit</td>\n",
       "      <td>2008-06-09</td>\n",
       "    </tr>\n",
       "  </tbody>\n",
       "</table>\n",
       "<p>31052 rows × 9 columns</p>\n",
       "</div>"
      ],
      "text/plain": [
       "                                             bill_id  \\\n",
       "0      4:fa996e42-3a3f-4866-ad85-cb06ad63f099:454275   \n",
       "1      4:fa996e42-3a3f-4866-ad85-cb06ad63f099:454276   \n",
       "2      4:fa996e42-3a3f-4866-ad85-cb06ad63f099:454277   \n",
       "3      4:fa996e42-3a3f-4866-ad85-cb06ad63f099:454278   \n",
       "4      4:fa996e42-3a3f-4866-ad85-cb06ad63f099:454279   \n",
       "...                                              ...   \n",
       "31818  4:fa996e42-3a3f-4866-ad85-cb06ad63f099:732351   \n",
       "31819  4:fa996e42-3a3f-4866-ad85-cb06ad63f099:732352   \n",
       "31820  4:fa996e42-3a3f-4866-ad85-cb06ad63f099:732353   \n",
       "31821  4:fa996e42-3a3f-4866-ad85-cb06ad63f099:732354   \n",
       "31822  4:fa996e42-3a3f-4866-ad85-cb06ad63f099:732355   \n",
       "\n",
       "                                           bill_title_fr  \\\n",
       "0       Protocole de Kyoto. Bilan de la politique menée?   \n",
       "1                   Possibilités d'économies pour la SSR   \n",
       "2                                Coup d'Etat au Honduras   \n",
       "3      Premières chutes de neige et gestion de la cir...   \n",
       "4      Interdiction d'exercer une profession pour les...   \n",
       "...                                                  ...   \n",
       "31818   Explosion des coûts liés aux accords de Schengen   \n",
       "31819         Crise des marchés financiers 2. Assurances   \n",
       "31820  Introduction de REACH. Enregistrement jusqu'au...   \n",
       "31821     La Suisse, quartier général des FARC en Europe   \n",
       "31822  Risque aggravé de tumeurs du cerveau à cause d...   \n",
       "\n",
       "                                           bill_title_de  \\\n",
       "0        Kyoto-Protokoll. Bilanz der bisherigen Politik?   \n",
       "1                       Einsparungspotenzial bei der SRG   \n",
       "2                                     Putsch in Honduras   \n",
       "3       Wintereinbruch und Verkehrsmanagement auf der A2   \n",
       "4                                Berufsverbot für Frauen   \n",
       "...                                                  ...   \n",
       "31818                      Explosion der Schengen-Kosten   \n",
       "31819                 Finanzmarktkrise 2. Versicherungen   \n",
       "31820  Einführung Reach. Registrierung bis zum 30. No...   \n",
       "31821  Die Schweiz als europäisches Hauptquartier der...   \n",
       "31822  Erhöhtes Risiko von Hirntumoren wegen Telefoni...   \n",
       "\n",
       "                person_name person_gender canton_name canton_abbrev  \\\n",
       "0           Hiltpold Hugues             m        Genf            GE   \n",
       "1             Bäumle Martin             m      Zürich            ZH   \n",
       "2               Müller Geri             m      Aargau            AG   \n",
       "3        Brönnimann Andreas             m        Bern            BE   \n",
       "4             Kaufmann Hans             m      Zürich            ZH   \n",
       "...                     ...           ...         ...           ...   \n",
       "31818             Fehr Hans             m      Zürich            ZH   \n",
       "31819          Stöckli Hans             m        Bern            BE   \n",
       "31820  Moser Tiana Angelina             f      Zürich            ZH   \n",
       "31821             Fehr Hans             m      Zürich            ZH   \n",
       "31822    Teuscher Franziska             f        Bern            BE   \n",
       "\n",
       "                          topic  date_start  \n",
       "0                        Umwelt  2009-12-07  \n",
       "1      Medien und Kommunikation  2009-12-07  \n",
       "2        Internationale Politik  2009-12-07  \n",
       "3                       Verkehr  2009-12-07  \n",
       "4               Recht Allgemein  2009-12-07  \n",
       "...                         ...         ...  \n",
       "31818             Europapolitik  2008-06-09  \n",
       "31819               Finanzwesen  2008-12-15  \n",
       "31820             Europapolitik  2008-09-29  \n",
       "31821    Internationale Politik  2008-09-22  \n",
       "31822                Gesundheit  2008-06-09  \n",
       "\n",
       "[31052 rows x 9 columns]"
      ]
     },
     "execution_count": 49,
     "metadata": {},
     "output_type": "execute_result"
    }
   ],
   "source": [
    "df_uc_1 = df_bill_person.copy()\n",
    "df_uc_1[\"bill_id\"] = df_uc_1[\"Bill\"].apply(lambda l : l[\"element_id\"])\n",
    "df_uc_1[\"bill_title_fr\"] = df_uc_1[\"Bill\"].apply(lambda l : l[\"title_fr\"])\n",
    "df_uc_1[\"bill_title_de\"] = df_uc_1[\"Bill\"].apply(lambda l : l[\"title_de\"])\n",
    "\n",
    "df_uc_1[\"person_name\"] = df_uc_1[\"Person\"].apply(lambda l : l[\"last_name\"] + \" \" + l[\"first_name\"])\n",
    "df_uc_1[\"person_gender\"] = df_uc_1[\"Person\"].apply(lambda l : l[\"gender\"])\n",
    "\n",
    "df_uc_1[\"canton_name\"] = df_uc_1[\"Canton\"].apply(lambda l : l[\"name\"])\n",
    "df_uc_1[\"canton_abbrev\"] = df_uc_1[\"Canton\"].apply(lambda l : l[\"abbrev\"])\n",
    "\n",
    "df_uc_1[\"topic\"] = df_uc_1[\"Tag\"].apply(lambda l : l[\"name\"])\n",
    "\n",
    "df_uc_1[\"date_start\"] = df_uc_1[\"Debate\"].apply(lambda l : str(l[\"date_start\"]))\n",
    "\n",
    "df_uc_1.drop(columns = [\"Bill\", \"Person\", \"Canton\", \"Tag\", \"Debate\"], inplace=True)\n",
    "df_uc_1.drop_duplicates([\"bill_id\"], inplace = True)\n",
    "df_uc_1"
   ]
  },
  {
   "cell_type": "code",
   "execution_count": 23,
   "id": "a8d50bcf-6d4d-46f6-838b-e13f7f265cc6",
   "metadata": {},
   "outputs": [
    {
     "name": "stdout",
     "output_type": "stream",
     "text": [
      " democrasci.db\t\t  neo4j-community-5.24.2-unix.tar.gz   test.csv\n",
      " democrasci_rdb.db\t  neo4j.dump\t\t\t       Untitled1.ipynb\n",
      " neo4j_5.24.2_all.deb\t 'old - neo4j-community-5.24.2-old'    Untitled.ipynb\n",
      " neo4j-community-5.24.2   test_2.csv\n"
     ]
    }
   ],
   "source": [
    "! ls /home/jovyan/work/5-2-lagginhorn/"
   ]
  },
  {
   "cell_type": "code",
   "execution_count": 24,
   "id": "fdd05613-cce9-4145-bbc0-1b25b22050c9",
   "metadata": {},
   "outputs": [],
   "source": [
    "df_uc_1.to_csv(\"/home/jovyan/work/5-2-lagginhorn/use_case_views/uc1_967.csv\")"
   ]
  },
  {
   "cell_type": "code",
   "execution_count": 26,
   "id": "df2c15d0-ecd6-4f5b-8d27-ee829ef10181",
   "metadata": {},
   "outputs": [],
   "source": [
    "df_uc_1.to_csv(\"/home/jovyan/work/5-2-lagginhorn/use_case_views/uc1_9713.csv\")"
   ]
  },
  {
   "cell_type": "code",
   "execution_count": 36,
   "id": "2b780095-8b1d-4924-9b9c-3c18fbd9a567",
   "metadata": {},
   "outputs": [],
   "source": [
    "df_uc_1.to_csv(\"/home/jovyan/work/5-2-lagginhorn/use_case_views/uc1_31052.csv\")"
   ]
  },
  {
   "cell_type": "code",
   "execution_count": 50,
   "id": "a4d9b2b8-2c75-458f-b6f0-dc740016e8e7",
   "metadata": {},
   "outputs": [],
   "source": [
    "df_uc_1.to_csv(\"/home/jovyan/work/5-2-lagginhorn/use_case_views/uc3_31052.csv\")"
   ]
  },
  {
   "cell_type": "code",
   "execution_count": 48,
   "id": "df366fb9-586c-47fb-92ed-da097507db06",
   "metadata": {},
   "outputs": [
    {
     "data": {
      "text/plain": [
       "'2009-12-07'"
      ]
     },
     "execution_count": 48,
     "metadata": {},
     "output_type": "execute_result"
    }
   ],
   "source": [
    "str(df_uc_1[\"date_start\"][0])"
   ]
  },
  {
   "cell_type": "code",
   "execution_count": null,
   "id": "7925fc9f-ce7b-4bd1-bdb9-ecb2365e099d",
   "metadata": {},
   "outputs": [],
   "source": []
  },
  {
   "cell_type": "code",
   "execution_count": 16,
   "id": "08c2c21a-6119-4130-9575-08789f943132",
   "metadata": {},
   "outputs": [
    {
     "data": {
      "text/plain": [
       "20"
      ]
     },
     "execution_count": 16,
     "metadata": {},
     "output_type": "execute_result"
    }
   ],
   "source": [
    "len(set(df_uc_1[\"topic\"]))"
   ]
  },
  {
   "cell_type": "code",
   "execution_count": 5,
   "id": "267ac3c5-b460-4c7a-b2a2-38b0464fcd48",
   "metadata": {},
   "outputs": [
    {
     "data": {
      "text/plain": [
       "{'element_id': '4:fa996e42-3a3f-4866-ad85-cb06ad63f099:454275',\n",
       " 'bill_number': '09.5595',\n",
       " 'title_fr': 'Protocole de Kyoto. Bilan de la politique menée?',\n",
       " 'title_de': 'Kyoto-Protokoll. Bilanz der bisherigen Politik?',\n",
       " 'urgent': False}"
      ]
     },
     "execution_count": 5,
     "metadata": {},
     "output_type": "execute_result"
    }
   ],
   "source": [
    "df_bill_person[\"Bill\"][0]"
   ]
  },
  {
   "cell_type": "code",
   "execution_count": 6,
   "id": "4c6ae769-bdcb-43e5-a4fc-eda4bebdedad",
   "metadata": {},
   "outputs": [
    {
     "data": {
      "text/plain": [
       "{'element_id': '4:fa996e42-3a3f-4866-ad85-cb06ad63f099:585934',\n",
       " 'last_name': 'Hiltpold',\n",
       " 'first_name': 'Hugues',\n",
       " 'gender': 'm'}"
      ]
     },
     "execution_count": 6,
     "metadata": {},
     "output_type": "execute_result"
    }
   ],
   "source": [
    "df_bill_person[\"Person\"][0]"
   ]
  },
  {
   "cell_type": "code",
   "execution_count": null,
   "id": "aa6e3177-088e-4e7e-bfbb-450956cc1af1",
   "metadata": {},
   "outputs": [],
   "source": [
    "\"bill_id\", \"bill_title_fr\", \"bill_title_de\", \"person_name\", \"person_gender\", \"canton_name\", \"canton_abbrev\", \"topic\""
   ]
  },
  {
   "cell_type": "code",
   "execution_count": null,
   "id": "78c9b88e-1af3-4539-b973-c2502755fdb4",
   "metadata": {},
   "outputs": [],
   "source": []
  },
  {
   "cell_type": "code",
   "execution_count": null,
   "id": "01d546bd-b5a4-4b42-8ad3-24784d639eb5",
   "metadata": {},
   "outputs": [],
   "source": []
  },
  {
   "cell_type": "code",
   "execution_count": null,
   "id": "441990be-da92-46fb-848f-143133caca7e",
   "metadata": {},
   "outputs": [],
   "source": []
  },
  {
   "cell_type": "code",
   "execution_count": null,
   "id": "891bb7aa-a9aa-4c62-9953-4dc4d44d447c",
   "metadata": {},
   "outputs": [],
   "source": []
  },
  {
   "cell_type": "code",
   "execution_count": null,
   "id": "f898d9a5-2319-4b43-a6fc-16471b5e999f",
   "metadata": {},
   "outputs": [],
   "source": []
  },
  {
   "cell_type": "code",
   "execution_count": null,
   "id": "f829b8a3-ae09-4e5e-8e05-4afa7b8664aa",
   "metadata": {},
   "outputs": [],
   "source": []
  },
  {
   "cell_type": "code",
   "execution_count": null,
   "id": "25d6cf96-6797-4abc-839f-af67fe39808f",
   "metadata": {},
   "outputs": [],
   "source": []
  },
  {
   "cell_type": "code",
   "execution_count": 9,
   "id": "8d12e6ca-2961-4a6f-8cfb-71f6fa12113f",
   "metadata": {},
   "outputs": [
    {
     "name": "stderr",
     "output_type": "stream",
     "text": [
      "/tmp/ipykernel_243/4155827826.py:40: DeprecationWarning: read_transaction has been renamed to execute_read\n",
      "  unique_relationships = session.read_transaction(get_unique_relationships, node_label)\n"
     ]
    },
    {
     "name": "stdout",
     "output_type": "stream",
     "text": [
      "Unique relationships related to 'Person' nodes:\n",
      "BORN_IN\n",
      "GAVE\n",
      "PART_OF\n",
      "ACTING_AS\n",
      "COSPONSORS\n",
      "SPONSORS\n",
      "ACTIVE_DURING\n",
      "CITIZEN_IN\n",
      "ELECTED_TO\n",
      "MEMBER_OF\n",
      "REPRESENTS\n",
      "ASSOCIATED_WITH\n",
      "VOTED\n",
      "WORKS_FOR\n",
      "CANDIDATE\n"
     ]
    }
   ],
   "source": [
    "get_unique_relationships_main(\"Person\")"
   ]
  },
  {
   "cell_type": "code",
   "execution_count": 13,
   "id": "9cca9971-5beb-4dc9-93e0-ee09352f214e",
   "metadata": {},
   "outputs": [
    {
     "name": "stderr",
     "output_type": "stream",
     "text": [
      "/tmp/ipykernel_243/603547608.py:57: DeprecationWarning: read_transaction has been renamed to execute_read\n",
      "  unique_relationships = session.read_transaction(get_unique_relationships_with_nodes, node_label)\n"
     ]
    },
    {
     "name": "stdout",
     "output_type": "stream",
     "text": [
      "Unique relationships related to 'Person' nodes:\n",
      "('BORN_IN', ['City', 'Location'])\n",
      "('GAVE', ['Transcript', 'Speech'])\n",
      "('PART_OF', ['Committee'])\n",
      "('PART_OF', ['Delegation'])\n",
      "('ACTING_AS', ['Party', 'Organisation'])\n",
      "('ACTING_AS', ['Committee'])\n",
      "('ACTING_AS', ['Delegation'])\n",
      "('COSPONSORS', ['Bill', 'Motion'])\n",
      "('COSPONSORS', ['Bill', 'Postulate'])\n",
      "('COSPONSORS', ['Bill', 'Interpellation'])\n",
      "('COSPONSORS', ['Bill', 'Parliamentary Initiative'])\n",
      "('SPONSORS', ['Bill', 'Question'])\n",
      "('SPONSORS', ['Bill', 'Motion'])\n",
      "('SPONSORS', ['Bill', 'Parliamentary Initiative'])\n",
      "('SPONSORS', ['Bill', 'Postulate'])\n",
      "('SPONSORS', ['Bill', 'Interpellation'])\n",
      "('ACTIVE_DURING', ['Year'])\n",
      "('CITIZEN_IN', ['City', 'Location'])\n",
      "('ELECTED_TO', ['Chamber'])\n",
      "('MEMBER_OF', ['Party', 'Organisation'])\n",
      "('MEMBER_OF', ['Parliamentary Group'])\n",
      "('REPRESENTS', ['Canton', 'Location'])\n",
      "('ASSOCIATED_WITH', ['Organisation', 'Interest Group', 'Postprocessing Necessary', 'Foundation'])\n",
      "('ASSOCIATED_WITH', ['Organisation', 'Interest Group', 'Postprocessing Necessary', 'Club'])\n",
      "('ASSOCIATED_WITH', ['Organisation', 'Interest Group', 'Postprocessing Necessary', 'Corporation'])\n",
      "('ASSOCIATED_WITH', ['Organisation', 'Interest Group', 'Postprocessing Necessary', 'Cooperative'])\n",
      "('GAVE', ['Transcript', 'Speech', 'Inconsistent Timestamp'])\n",
      "('VOTED', ['Transcript', 'Vote', 'Inconsistent Timestamp'])\n",
      "('VOTED', ['Transcript', 'Vote'])\n",
      "('VOTED', ['Transcript', 'Vote', 'Inconsistent Timestamp', 'Unexpected Vote Total'])\n",
      "('VOTED', ['Transcript', 'Vote', 'Unexpected Vote Total'])\n",
      "('SPONSORS', ['Bill', 'Question Time'])\n",
      "('ACTING_AS', ['Parliamentary Group'])\n",
      "('ACTING_AS', ['Bill', 'Motion'])\n",
      "('ACTING_AS', ['Bill', 'Postulate'])\n",
      "('ACTING_AS', ['Bill', 'Interpellation'])\n",
      "('ACTING_AS', ['Bill', 'Parliamentary Initiative'])\n",
      "('WORKS_FOR', ['Organisation', 'Postprocessing Necessary', 'Employer'])\n",
      "('WORKS_FOR', ['Organisation', 'Ambiguous Employer'])\n",
      "('COSPONSORS', ['Bill', 'Question'])\n",
      "('ASSOCIATED_WITH', ['Organisation', 'Interest Group', 'Postprocessing Necessary', 'Simple Cooperative'])\n",
      "('ACTING_AS', ['Bill', 'Question'])\n",
      "('ASSOCIATED_WITH', ['Organisation', 'Interest Group', 'Postprocessing Necessary', 'Club', 'Employer'])\n",
      "('PART_OF', ['Committee', 'Delegation'])\n",
      "('ACTING_AS', ['Committee', 'Delegation'])\n",
      "('ASSOCIATED_WITH', ['Organisation', 'Interest Group', 'Postprocessing Necessary'])\n",
      "('ASSOCIATED_WITH', ['Organisation', 'Interest Group', 'Limited Liability Company', 'Postprocessing Necessary'])\n",
      "('ASSOCIATED_WITH', ['Organisation', 'Interest Group', 'Postprocessing Necessary', 'Club', 'Simple Cooperative'])\n",
      "('ASSOCIATED_WITH', ['Organisation', 'Interest Group', 'Postprocessing Necessary', 'Corporation', 'Employer'])\n",
      "('WORKS_FOR', ['Organisation', 'Interest Group', 'Postprocessing Necessary', 'Corporation', 'Employer'])\n",
      "('ASSOCIATED_WITH', ['Organisation', 'Interest Group', 'Postprocessing Necessary', 'Public Body'])\n",
      "('ASSOCIATED_WITH', ['Organisation', 'Interest Group', 'Postprocessing Necessary', 'Public Institute'])\n",
      "('COSPONSORS', ['Bill', 'Question Time'])\n",
      "('ASSOCIATED_WITH', ['Organisation', 'Interest Group', 'Postprocessing Necessary', 'Commission'])\n",
      "('ASSOCIATED_WITH', ['Organisation', 'Interest Group', 'Limited Liability Company', 'Postprocessing Necessary', 'Employer'])\n",
      "('WORKS_FOR', ['Organisation', 'Interest Group', 'Limited Liability Company', 'Postprocessing Necessary', 'Employer'])\n",
      "('WORKS_FOR', ['Organisation', 'Interest Group', 'Postprocessing Necessary', 'Club', 'Employer'])\n",
      "('ASSOCIATED_WITH', ['Organisation', 'Interest Group', 'Postprocessing Necessary', 'Public Foundation'])\n",
      "('ASSOCIATED_WITH', ['Organisation', 'Interest Group', 'Postprocessing Necessary', 'General Partnership'])\n",
      "('ASSOCIATED_WITH', ['Organisation', 'Interest Group', 'Postprocessing Necessary', 'Federal Commission'])\n",
      "('ASSOCIATED_WITH', ['Organisation', 'Interest Group', 'Postprocessing Necessary', 'Limited Partnership'])\n",
      "('ASSOCIATED_WITH', ['Organisation', 'Interest Group', 'Postprocessing Necessary', 'Simple Cooperative', 'Employer'])\n",
      "('WORKS_FOR', ['Organisation', 'Interest Group', 'Postprocessing Necessary', 'Simple Cooperative', 'Employer'])\n",
      "('CANDIDATE', ['Person', 'Unique Person'])\n"
     ]
    }
   ],
   "source": [
    "get_unique_relationships_with_nodes_main(\"Person\")"
   ]
  },
  {
   "cell_type": "code",
   "execution_count": 10,
   "id": "19ebee5e-0b79-4c83-997c-a4b5d046cb7b",
   "metadata": {},
   "outputs": [],
   "source": [
    "from neo4j import GraphDatabase\n",
    "import pandas as pd\n",
    "\n",
    "# Define the connection URI and authentication\n",
    "uri = \"bolt://94.230.217.43:7687\" #\"bolt://localhost:7687\" #\"bolt://94.230.217.43:7687\"  # Update this if you're using a different address   localhost\n",
    "username = \"neo4j\"  # Your Neo4j username\n",
    "password = \"lagginhorn\" #\"lagginhorn\"  # Your Neo4j password   newpassword\n",
    "\n",
    "# Create a Neo4j driver instance\n",
    "driver = GraphDatabase.driver(uri, auth=(username, password))\n",
    "\n",
    "def get_unique_node_labels():\n",
    "    with driver.session() as session:\n",
    "        # Cypher query to get all labels of nodes\n",
    "        result = session.run(\"MATCH (n) RETURN DISTINCT labels(n) AS label_list\")\n",
    "        # Extracting and flattening the label lists\n",
    "        unique_labels = set()\n",
    "        for record in result:\n",
    "            unique_labels.update(record[\"label_list\"])\n",
    "        return unique_labels\n",
    "\n",
    "# Fetch and print the unique node labels\n",
    "def get_unique_node_labels_main():\n",
    "    unique_labels = get_unique_node_labels()\n",
    "    for label in unique_labels:\n",
    "        print(label)\n",
    "\n",
    "\n",
    "def get_unique_relationships(tx, node_label):\n",
    "    query = \"\"\"\n",
    "    MATCH (b:{})-[r]-()\n",
    "    RETURN DISTINCT type(r) AS relationship\n",
    "    \"\"\".format(node_label)\n",
    "    result = tx.run(query)    \n",
    "    return [record[\"relationship\"] for record in result]\n",
    "\n",
    "# Main block to run the query\n",
    "def get_unique_relationships_main(node_label=\"Bill\"):\n",
    "    with driver.session() as session:\n",
    "        unique_relationships = session.read_transaction(get_unique_relationships, node_label)\n",
    "        print(\"Unique relationships related to '{}' nodes:\".format(node_label))\n",
    "        for rel in unique_relationships:\n",
    "            print(rel)\n",
    "\n",
    "\n",
    "def get_unique_relationships_with_nodes(tx, node_label):\n",
    "    query = \"\"\"\n",
    "    MATCH (b:{})-[r]->(n)\n",
    "    RETURN DISTINCT type(r) AS RelationshipType, labels(n) AS RelatedNodeLabels\n",
    "    \"\"\".format(node_label)\n",
    "    result = tx.run(query)    \n",
    "    return [(record[\"RelationshipType\"], record[\"RelatedNodeLabels\"]) for record in result]\n",
    "\n",
    "# Main block to run the query\n",
    "def get_unique_relationships_with_nodes_main(node_label=\"Bill\"):\n",
    "    with driver.session() as session:\n",
    "        unique_relationships = session.read_transaction(get_unique_relationships_with_nodes, node_label)\n",
    "        print(\"Unique relationships related to '{}' nodes:\".format(node_label))\n",
    "        for rel in unique_relationships:\n",
    "            print(rel)\n",
    "\n",
    "\n",
    "def get_node_data(tx, node_label):\n",
    "    query = \"\"\"\n",
    "    MATCH (b:{})\n",
    "    RETURN b LIMIT 100\n",
    "    \"\"\".format(node_label)\n",
    "    result = tx.run(query)\n",
    "    return [record[\"b\"] for record in result]\n",
    "\n",
    "# Main block to run the query\n",
    "def get_node_data_main(node_label=\"Bill\"):\n",
    "    list_nodes = []\n",
    "    with driver.session() as session:\n",
    "        examples = session.read_transaction(get_node_data, node_label)\n",
    "        # Output the examples\n",
    "        for example in examples:\n",
    "            print(example)\n",
    "            print(\"-\" * 40)\n",
    "            list_nodes.append(example)\n",
    "    return list_nodes\n",
    "\n",
    "\n",
    "def get_node_data_with_properties(tx, node_label, property_name):\n",
    "    query = \"\"\"\n",
    "    MATCH (b:{})\n",
    "    WHERE b.name = '{}'\n",
    "    RETURN b LIMIT 10\n",
    "    \"\"\".format(node_label, property_name)\n",
    "    result = tx.run(query)\n",
    "    return [record[\"b\"] for record in result]\n",
    "\n",
    "# Main block to run the query\n",
    "def get_node_data_with_properties_main(node_label=\"Tag\", property_name=\"Verkehr\"):\n",
    "    with driver.session() as session:\n",
    "        examples = session.read_transaction(get_node_data_with_properties, node_label, property_name)\n",
    "        # Output the examples\n",
    "        for example in examples:\n",
    "            print(example)\n",
    "            print(\"-\" * 40)\n",
    "\n",
    "\n",
    "def get_node_data_with_relation(tx, node_label, relation):\n",
    "    query = \"\"\"\n",
    "    MATCH (b:{})-[r:{}]->(rdata)\n",
    "    RETURN b, rdata LIMIT 10\n",
    "    \"\"\".format(node_label, relation)\n",
    "    result = tx.run(query)\n",
    "    return [{node_label: record[\"b\"], relation: record[\"rdata\"]} for record in result]\n",
    "\n",
    "# Main block to run the query\n",
    "def get_node_data_with_relation_data_main(node_label=\"Bill\", relation=\"ABOUT\"):\n",
    "    with driver.session() as session:\n",
    "        examples = session.read_transaction(get_node_data_with_relation, node_label, relation)\n",
    "        # Output the examples\n",
    "        for example in examples:\n",
    "            print(\"Node {} data\".format(node_label), example[node_label])\n",
    "            print(\"Relation {} data\".format(relation), example[relation])\n",
    "            print(\"-\" * 40)\n",
    "\n",
    "\n",
    "def get_node_data_with_relation_and_node(tx, node_label, relation, node_label_2):\n",
    "    query = \"\"\"\n",
    "    MATCH (b:{})-[r:{}]->(rdata:{})\n",
    "    RETURN b, rdata LIMIT 10\n",
    "    \"\"\".format(node_label, relation, node_label_2)\n",
    "    result = tx.run(query)\n",
    "    return [{node_label: record[\"b\"], node_label_2: record[\"rdata\"]} for record in result]\n",
    "\n",
    "# Main block to run the query\n",
    "def get_node_data_with_relation_and_node_data_main(node_label=\"Bill\", relation=\"ABOUT\", node_label_2=\"Tag\"):\n",
    "    with driver.session() as session:\n",
    "        examples = session.read_transaction(get_node_data_with_relation_and_node, node_label, relation, node_label_2)\n",
    "        # Output the examples\n",
    "        for example in examples:\n",
    "            print(\"Node1 {} data\".format(node_label), example[node_label])\n",
    "            print(\"{}, Node2 {} data\".format(relation, node_label_2), example[node_label_2])\n",
    "            print(\"-\" * 40)\n",
    "\n",
    "\n",
    "def get_bill_with_specific_about_tag(tx, node_label, relation, node_label_2):\n",
    "    query = \"\"\"\n",
    "    MATCH (b:{})-[r:{}]->(rdata:{})\n",
    "    where rdata.name IN [\"Gesundheit\", \"Umwelt\", \"Bildung\", \"Wirtschaft\", \"Wissenschaft und Forschung\"]\n",
    "    RETURN b, rdata LIMIT 10000\n",
    "    \"\"\".format(node_label, relation, node_label_2)\n",
    "    result = tx.run(query)\n",
    "    return [{node_label: record[\"b\"], node_label_2: record[\"rdata\"]} for record in result]\n",
    "\n",
    "# Main block to run the query\n",
    "def get_bill_with_specific_about_tag_main(node_label=\"Bill\", relation=\"ABOUT\", node_label_2=\"Tag\"):\n",
    "    with driver.session() as session:\n",
    "        examples = session.read_transaction(get_bill_with_specific_about_tag, node_label, relation, node_label_2)\n",
    "        # Output the examples\n",
    "        df = pd.DataFrame(columns = [\"Bill\", \"Tag\"])\n",
    "        print(\"Node1 {} data\".format(node_label), examples[0][node_label])\n",
    "        print(\"{}, Node2 {} data\".format(relation, node_label_2), examples[0][node_label_2])\n",
    "        for example in examples:\n",
    "            df.loc[len(df)] = [example[node_label], example[node_label_2]]\n",
    "    return df\n",
    "            \n",
    "\n",
    "\n",
    "# Health, Environment, Education, Economy, Science research\n",
    "# Gesundheit, Umwelt, Bildung, Wirtschaft, Wissenschaft und Forschung"
   ]
  },
  {
   "cell_type": "code",
   "execution_count": 4,
   "id": "17b1777f-0a90-4442-b953-dff7a7e10302",
   "metadata": {},
   "outputs": [
    {
     "name": "stderr",
     "output_type": "stream",
     "text": [
      "/tmp/ipykernel_243/1659919274.py:14: DeprecationWarning: read_transaction has been renamed to execute_read\n",
      "  examples = session.read_transaction(get_node_data_with_relation_and_node, node_label, relation, node_label_2)\n"
     ]
    },
    {
     "name": "stdout",
     "output_type": "stream",
     "text": [
      "Node1 Bill data <Node element_id='4:fa996e42-3a3f-4866-ad85-cb06ad63f099:693723' labels=frozenset({'Cantonal Initiative', 'Bill'}) properties={'title_de': 'Einbürgerungsverfahren', 'bill_number': '03.317', 'title_fr': 'Procédure de naturalisation', 'urgent': False, 'status': 'Resolved'}>\n",
      "Node2 Canton data <Node element_id='4:fa996e42-3a3f-4866-ad85-cb06ad63f099:518263' labels=frozenset({'Canton', 'Location'}) properties={'name': 'Schwyz', 'abbrev': 'SZ'}>\n"
     ]
    }
   ],
   "source": [
    "\n",
    "#### REFAIRE AVEC PERSON BILL\n",
    "\n",
    "def get_node_data_with_relation_and_node(tx, node_label, relation, node_label_2):\n",
    "    query = \"\"\"\n",
    "    MATCH (b:{})-[r:{}]->(rdata:{})\n",
    "    RETURN b, rdata LIMIT 1000\n",
    "    \"\"\".format(node_label, relation, node_label_2)\n",
    "    result = tx.run(query)\n",
    "    return [{node_label: record[\"b\"], node_label_2: record[\"rdata\"]} for record in result]\n",
    "\n",
    "# Main block to run the query\n",
    "def get_node_data_with_relation_and_node_data_main(node_label=\"Canton\", relation=\"SPONSORS\", node_label_2=\"Bill\"):\n",
    "    with driver.session() as session:\n",
    "        examples = session.read_transaction(get_node_data_with_relation_and_node, node_label, relation, node_label_2)\n",
    "        # Output the examples\n",
    "        df = pd.DataFrame(columns = [node_label, node_label_2])\n",
    "        print(\"Node1 {} data\".format(node_label_2), examples[0][node_label_2])\n",
    "        print(\"Node2 {} data\".format(node_label), examples[0][node_label])\n",
    "        for example in examples:\n",
    "            df.loc[len(df)] = [example[node_label_2], example[node_label]]\n",
    "    return df\n",
    "\n",
    "df_bill_canton = get_node_data_with_relation_and_node_data_main()\n",
    "df_bill_canton[\"Bill\"] = df_bill_canton[\"Bill\"].apply(lambda l : {\"element_id\": l.element_id, \"bill_number\": l['bill_number'], \"title_fr\": l['title_fr'], \"title_de\": l['title_de']})\n",
    "df_bill_canton[\"Canton\"] = df_bill_canton[\"Canton\"].apply(lambda l : {\"name\": l['name'], \"abbrev\": l['abbrev']})"
   ]
  },
  {
   "cell_type": "code",
   "execution_count": 113,
   "id": "f91a5722-9793-477a-94eb-a3bd04be4094",
   "metadata": {},
   "outputs": [],
   "source": [
    "def get_bill_with_about_tag(tx, node_label, relation, node_label_2, element_id):\n",
    "    query = \"\"\"\n",
    "    MATCH (b:{})-[r:{}]->(rdata:{})\n",
    "    where elementId(b) = '{}'\n",
    "    RETURN rdata LIMIT 10000\n",
    "    \"\"\".format(node_label, relation, node_label_2, element_id)\n",
    "    result = tx.run(query)\n",
    "    return [{node_label_2: record[\"rdata\"]} for record in result]\n",
    "\n",
    "# Main block to run the query\n",
    "def get_bill_with_about_tag_main(element_id, node_label=\"Bill\", relation=\"ABOUT\", node_label_2=\"Tag\"):\n",
    "    with driver.session() as session:\n",
    "        examples = session.read_transaction(get_bill_with_about_tag, node_label, relation, node_label_2, element_id)\n",
    "        # Output the examples\n",
    "        tag_value = examples[0][node_label_2]\n",
    "    return tag_value\n",
    "\n",
    "df_bill_canton[\"Tag\"] = df_bill_canton[\"Bill\"].apply(lambda l: get_bill_with_about_tag_main(l[\"element_id\"])[\"name\"])"
   ]
  },
  {
   "cell_type": "code",
   "execution_count": 123,
   "id": "67391275-3325-42eb-a28f-8cb92eb33206",
   "metadata": {},
   "outputs": [
    {
     "name": "stderr",
     "output_type": "stream",
     "text": [
      "/tmp/ipykernel_8066/624684903.py:13: DeprecationWarning: read_transaction has been renamed to execute_read\n",
      "  examples = session.read_transaction(get_bill_with_about_tag, node_label, relation, node_label_2, element_id)\n"
     ]
    }
   ],
   "source": [
    "df_bill_canton[\"Tag\"] = df_bill_canton[\"Bill\"].apply(lambda l: get_bill_with_about_tag_main(l[\"element_id\"])[\"name\"])"
   ]
  },
  {
   "cell_type": "code",
   "execution_count": 129,
   "id": "b2544b0f-8978-404d-96f6-edbd0bde5997",
   "metadata": {},
   "outputs": [
    {
     "name": "stderr",
     "output_type": "stream",
     "text": [
      "/tmp/ipykernel_8066/624684903.py:13: DeprecationWarning: read_transaction has been renamed to execute_read\n",
      "  examples = session.read_transaction(get_bill_with_about_tag, node_label, relation, node_label_2, element_id)\n"
     ]
    }
   ],
   "source": [
    "df_bill_canton[\"BillText\"] = df_bill_canton[\"Bill\"].apply(lambda l: get_bill_with_about_tag_main(l[\"element_id\"], relation=\"CONTAINS\", node_label_2=\"BillText\")[\"text\"])"
   ]
  },
  {
   "cell_type": "code",
   "execution_count": 133,
   "id": "9ba5a78f-712f-4f63-925c-4cebb571b0cf",
   "metadata": {},
   "outputs": [],
   "source": [
    "def get_person_of_bill(tx, node_label, relation, node_label_2, element_id):\n",
    "    query = \"\"\"\n",
    "    MATCH (b:{})-[r:{}]->(rdata:{})\n",
    "    where elementId(rdata) = '{}'\n",
    "    RETURN b LIMIT 10000\n",
    "    \"\"\".format(node_label, relation, node_label_2, element_id)\n",
    "    result = tx.run(query)\n",
    "    return [{node_label: record[\"b\"]} for record in result]\n",
    "\n",
    "# Main block to run the query\n",
    "def get_person_of_bill_main(element_id, node_label=\"Person\", relation=\"SPONSORS\", node_label_2=\"Bill\"):\n",
    "    with driver.session() as session:\n",
    "        examples = session.read_transaction(get_person_of_bill, node_label, relation, node_label_2, element_id)\n",
    "        # Output the examples\n",
    "        if not examples:\n",
    "            person_value = \"NA\"\n",
    "        else:\n",
    "            person_value = examples[0][node_label]\n",
    "    return person_value"
   ]
  },
  {
   "cell_type": "code",
   "execution_count": 134,
   "id": "c6dbb424-4c98-4e2c-9601-0fbf28a27acd",
   "metadata": {},
   "outputs": [
    {
     "name": "stderr",
     "output_type": "stream",
     "text": [
      "/tmp/ipykernel_8066/306973483.py:13: DeprecationWarning: read_transaction has been renamed to execute_read\n",
      "  examples = session.read_transaction(get_person_of_bill, node_label, relation, node_label_2, element_id)\n"
     ]
    }
   ],
   "source": [
    "df_bill_canton[\"Person\"] = df_bill_canton[\"Bill\"].apply(lambda l: get_person_of_bill_main(l[\"element_id\"]))"
   ]
  },
  {
   "cell_type": "code",
   "execution_count": 135,
   "id": "85e8ddbb-20ae-4d58-b921-bc56d198b2cb",
   "metadata": {},
   "outputs": [
    {
     "data": {
      "text/html": [
       "<div>\n",
       "<style scoped>\n",
       "    .dataframe tbody tr th:only-of-type {\n",
       "        vertical-align: middle;\n",
       "    }\n",
       "\n",
       "    .dataframe tbody tr th {\n",
       "        vertical-align: top;\n",
       "    }\n",
       "\n",
       "    .dataframe thead th {\n",
       "        text-align: right;\n",
       "    }\n",
       "</style>\n",
       "<table border=\"1\" class=\"dataframe\">\n",
       "  <thead>\n",
       "    <tr style=\"text-align: right;\">\n",
       "      <th></th>\n",
       "      <th>Bill</th>\n",
       "      <th>Canton</th>\n",
       "      <th>Tag</th>\n",
       "      <th>BillText</th>\n",
       "      <th>Person</th>\n",
       "    </tr>\n",
       "  </thead>\n",
       "  <tbody>\n",
       "    <tr>\n",
       "      <th>0</th>\n",
       "      <td>{'element_id': '4:57021189-84a0-4dfc-8fa3-eb88...</td>\n",
       "      <td>{'name': 'Schwyz', 'abbrev': 'SZ'}</td>\n",
       "      <td>Migration</td>\n",
       "      <td>&lt;text&gt;&lt;p&gt;Gestützt auf Artikel 160 Absatz 1 der...</td>\n",
       "      <td>NA</td>\n",
       "    </tr>\n",
       "    <tr>\n",
       "      <th>1</th>\n",
       "      <td>{'element_id': '4:57021189-84a0-4dfc-8fa3-eb88...</td>\n",
       "      <td>{'name': 'Schwyz', 'abbrev': 'SZ'}</td>\n",
       "      <td>Landwirtschaft</td>\n",
       "      <td>&lt;p&gt;&lt;b&gt;Debatte im Nationalrat, 23.09.2015&lt;/b&gt;&lt;/...</td>\n",
       "      <td>NA</td>\n",
       "    </tr>\n",
       "    <tr>\n",
       "      <th>2</th>\n",
       "      <td>{'element_id': '4:57021189-84a0-4dfc-8fa3-eb88...</td>\n",
       "      <td>{'name': 'Schwyz', 'abbrev': 'SZ'}</td>\n",
       "      <td>Finanzwesen</td>\n",
       "      <td>&lt;text&gt;&lt;p&gt;Gestützt auf Artikel 160 Absatz 1 der...</td>\n",
       "      <td>NA</td>\n",
       "    </tr>\n",
       "    <tr>\n",
       "      <th>3</th>\n",
       "      <td>{'element_id': '4:57021189-84a0-4dfc-8fa3-eb88...</td>\n",
       "      <td>{'name': 'Schwyz', 'abbrev': 'SZ'}</td>\n",
       "      <td>Europapolitik</td>\n",
       "      <td>&lt;text&gt;&lt;p&gt;Gestützt auf Artikel 160 Absatz 1 der...</td>\n",
       "      <td>NA</td>\n",
       "    </tr>\n",
       "    <tr>\n",
       "      <th>4</th>\n",
       "      <td>{'element_id': '4:57021189-84a0-4dfc-8fa3-eb88...</td>\n",
       "      <td>{'name': 'Aargau', 'abbrev': 'AG'}</td>\n",
       "      <td>Staatspolitik</td>\n",
       "      <td>&lt;text&gt;&lt;p&gt;a. Anhebung der Integrationspauschale...</td>\n",
       "      <td>NA</td>\n",
       "    </tr>\n",
       "    <tr>\n",
       "      <th>...</th>\n",
       "      <td>...</td>\n",
       "      <td>...</td>\n",
       "      <td>...</td>\n",
       "      <td>...</td>\n",
       "      <td>...</td>\n",
       "    </tr>\n",
       "    <tr>\n",
       "      <th>435</th>\n",
       "      <td>{'element_id': '4:57021189-84a0-4dfc-8fa3-eb88...</td>\n",
       "      <td>{'name': 'Tessin', 'abbrev': 'TI'}</td>\n",
       "      <td>Kultur</td>\n",
       "      <td>&lt;text&gt;&lt;p&gt;Gestützt auf Artikel 160 Absatz 1 der...</td>\n",
       "      <td>NA</td>\n",
       "    </tr>\n",
       "    <tr>\n",
       "      <th>436</th>\n",
       "      <td>{'element_id': '4:57021189-84a0-4dfc-8fa3-eb88...</td>\n",
       "      <td>{'name': 'Tessin', 'abbrev': 'TI'}</td>\n",
       "      <td>Finanzwesen</td>\n",
       "      <td>&lt;p&gt;Der Grosse Rat von Republik und Kanton Tess...</td>\n",
       "      <td>NA</td>\n",
       "    </tr>\n",
       "    <tr>\n",
       "      <th>437</th>\n",
       "      <td>{'element_id': '4:57021189-84a0-4dfc-8fa3-eb88...</td>\n",
       "      <td>{'name': 'Tessin', 'abbrev': 'TI'}</td>\n",
       "      <td>Recht Allgemein</td>\n",
       "      <td>&lt;text&gt;&lt;p&gt;Gestützt auf Artikel 160 Absatz 1 der...</td>\n",
       "      <td>NA</td>\n",
       "    </tr>\n",
       "    <tr>\n",
       "      <th>438</th>\n",
       "      <td>{'element_id': '4:57021189-84a0-4dfc-8fa3-eb88...</td>\n",
       "      <td>{'name': 'Tessin', 'abbrev': 'TI'}</td>\n",
       "      <td>Recht Allgemein</td>\n",
       "      <td>&lt;text&gt;&lt;p&gt;Gestützt auf Artikel 160 Absatz 1 der...</td>\n",
       "      <td>NA</td>\n",
       "    </tr>\n",
       "    <tr>\n",
       "      <th>439</th>\n",
       "      <td>{'element_id': '4:57021189-84a0-4dfc-8fa3-eb88...</td>\n",
       "      <td>{'name': 'Tessin', 'abbrev': 'TI'}</td>\n",
       "      <td>Gesundheit</td>\n",
       "      <td>&lt;p&gt;Gestützt auf Artikel 160 Absatz 1 der Bunde...</td>\n",
       "      <td>NA</td>\n",
       "    </tr>\n",
       "  </tbody>\n",
       "</table>\n",
       "<p>440 rows × 5 columns</p>\n",
       "</div>"
      ],
      "text/plain": [
       "                                                  Bill  \\\n",
       "0    {'element_id': '4:57021189-84a0-4dfc-8fa3-eb88...   \n",
       "1    {'element_id': '4:57021189-84a0-4dfc-8fa3-eb88...   \n",
       "2    {'element_id': '4:57021189-84a0-4dfc-8fa3-eb88...   \n",
       "3    {'element_id': '4:57021189-84a0-4dfc-8fa3-eb88...   \n",
       "4    {'element_id': '4:57021189-84a0-4dfc-8fa3-eb88...   \n",
       "..                                                 ...   \n",
       "435  {'element_id': '4:57021189-84a0-4dfc-8fa3-eb88...   \n",
       "436  {'element_id': '4:57021189-84a0-4dfc-8fa3-eb88...   \n",
       "437  {'element_id': '4:57021189-84a0-4dfc-8fa3-eb88...   \n",
       "438  {'element_id': '4:57021189-84a0-4dfc-8fa3-eb88...   \n",
       "439  {'element_id': '4:57021189-84a0-4dfc-8fa3-eb88...   \n",
       "\n",
       "                                 Canton              Tag  \\\n",
       "0    {'name': 'Schwyz', 'abbrev': 'SZ'}        Migration   \n",
       "1    {'name': 'Schwyz', 'abbrev': 'SZ'}   Landwirtschaft   \n",
       "2    {'name': 'Schwyz', 'abbrev': 'SZ'}      Finanzwesen   \n",
       "3    {'name': 'Schwyz', 'abbrev': 'SZ'}    Europapolitik   \n",
       "4    {'name': 'Aargau', 'abbrev': 'AG'}    Staatspolitik   \n",
       "..                                  ...              ...   \n",
       "435  {'name': 'Tessin', 'abbrev': 'TI'}           Kultur   \n",
       "436  {'name': 'Tessin', 'abbrev': 'TI'}      Finanzwesen   \n",
       "437  {'name': 'Tessin', 'abbrev': 'TI'}  Recht Allgemein   \n",
       "438  {'name': 'Tessin', 'abbrev': 'TI'}  Recht Allgemein   \n",
       "439  {'name': 'Tessin', 'abbrev': 'TI'}       Gesundheit   \n",
       "\n",
       "                                              BillText Person  \n",
       "0    <text><p>Gestützt auf Artikel 160 Absatz 1 der...     NA  \n",
       "1    <p><b>Debatte im Nationalrat, 23.09.2015</b></...     NA  \n",
       "2    <text><p>Gestützt auf Artikel 160 Absatz 1 der...     NA  \n",
       "3    <text><p>Gestützt auf Artikel 160 Absatz 1 der...     NA  \n",
       "4    <text><p>a. Anhebung der Integrationspauschale...     NA  \n",
       "..                                                 ...    ...  \n",
       "435  <text><p>Gestützt auf Artikel 160 Absatz 1 der...     NA  \n",
       "436  <p>Der Grosse Rat von Republik und Kanton Tess...     NA  \n",
       "437  <text><p>Gestützt auf Artikel 160 Absatz 1 der...     NA  \n",
       "438  <text><p>Gestützt auf Artikel 160 Absatz 1 der...     NA  \n",
       "439  <p>Gestützt auf Artikel 160 Absatz 1 der Bunde...     NA  \n",
       "\n",
       "[440 rows x 5 columns]"
      ]
     },
     "execution_count": 135,
     "metadata": {},
     "output_type": "execute_result"
    }
   ],
   "source": [
    "df_bill_canton"
   ]
  },
  {
   "cell_type": "code",
   "execution_count": 137,
   "id": "10721cdf-634d-4e47-8ad2-5877069a8f46",
   "metadata": {},
   "outputs": [
    {
     "data": {
      "text/plain": [
       "{'NA'}"
      ]
     },
     "execution_count": 137,
     "metadata": {},
     "output_type": "execute_result"
    }
   ],
   "source": [
    "set(df_bill_canton[\"Person\"])"
   ]
  },
  {
   "cell_type": "code",
   "execution_count": 141,
   "id": "bc3adb95-0e8c-472e-a5b0-d35a00c673ef",
   "metadata": {},
   "outputs": [],
   "source": [
    "def get_bill_person(tx, node_label, relation, node_label_2, eli):\n",
    "    query = \"\"\"\n",
    "    MATCH (b:{})-[r:{}]->(rdata:{})\n",
    "    WHERE elementId(rdata) = '{}'\n",
    "    RETURN b, rdata LIMIT 10\n",
    "    \"\"\".format(node_label, relation, node_label_2, eli)\n",
    "    result = tx.run(query)\n",
    "    return [{node_label: record[\"b\"], node_label_2: record[\"rdata\"]} for record in result]\n",
    "\n",
    "# Main block to run the query\n",
    "def get_bill_person_main(eli, node_label=\"Person\", relation=\"SPONSORS\", node_label_2=\"Bill\"):\n",
    "    with driver.session() as session:\n",
    "        examples = session.read_transaction(get_bill_person, node_label, relation, node_label_2, eli)\n",
    "        for example in examples:\n",
    "            print(\"Node1 {} data\".format(node_label), example[node_label])\n",
    "            print(\"{}, Node2 {} data\".format(relation, node_label_2), example[node_label_2])\n",
    "            print(\"-\" * 40)"
   ]
  },
  {
   "cell_type": "code",
   "execution_count": 142,
   "id": "19405703-0f68-4250-abf8-7cb56e281d95",
   "metadata": {},
   "outputs": [
    {
     "name": "stderr",
     "output_type": "stream",
     "text": [
      "/tmp/ipykernel_8066/2093912536.py:13: DeprecationWarning: read_transaction has been renamed to execute_read\n",
      "  examples = session.read_transaction(get_bill_person, node_label, relation, node_label_2, eli)\n"
     ]
    },
    {
     "name": "stdout",
     "output_type": "stream",
     "text": [
      "Node1 Person data <Node element_id='4:57021189-84a0-4dfc-8fa3-eb8852328616:585934' labels=frozenset({'Unique Person', 'Person'}) properties={'date_birth': neo4j.time.Date(1969, 5, 5), 'uid': 3888, 'gender': 'm', 'last_name': 'Hiltpold', 'first_name': 'Hugues'}>\n",
      "SPONSORS, Node2 Bill data <Node element_id='4:57021189-84a0-4dfc-8fa3-eb8852328616:454275' labels=frozenset({'Question Time', 'Bill'}) properties={'title_de': 'Kyoto-Protokoll. Bilanz der bisherigen Politik?', 'bill_number': '09.5595', 'title_fr': 'Protocole de Kyoto. Bilan de la politique menée?', 'urgent': False, 'status': 'Resolved'}>\n",
      "----------------------------------------\n"
     ]
    }
   ],
   "source": [
    "get_bill_person_main(\"4:57021189-84a0-4dfc-8fa3-eb8852328616:454275\")"
   ]
  },
  {
   "cell_type": "code",
   "execution_count": 144,
   "id": "8eb4277b-c48f-4845-a980-42e4482d4f5e",
   "metadata": {},
   "outputs": [
    {
     "name": "stderr",
     "output_type": "stream",
     "text": [
      "/tmp/ipykernel_8066/2093912536.py:13: DeprecationWarning: read_transaction has been renamed to execute_read\n",
      "  examples = session.read_transaction(get_bill_person, node_label, relation, node_label_2, eli)\n"
     ]
    }
   ],
   "source": [
    "get_bill_person_main(\"4:57021189-84a0-4dfc-8fa3-eb8852328616:693723\")"
   ]
  },
  {
   "cell_type": "code",
   "execution_count": 143,
   "id": "d75a7dcf-54e8-4c00-89a8-7a79e5d0cf99",
   "metadata": {},
   "outputs": [
    {
     "data": {
      "text/plain": [
       "'4:57021189-84a0-4dfc-8fa3-eb8852328616:693723'"
      ]
     },
     "execution_count": 143,
     "metadata": {},
     "output_type": "execute_result"
    }
   ],
   "source": [
    "df_bill_canton[\"Bill\"][0][\"element_id\"]"
   ]
  },
  {
   "cell_type": "code",
   "execution_count": 79,
   "id": "fe5e07c4-44b6-45c8-b551-f04774ad8cb1",
   "metadata": {},
   "outputs": [
    {
     "name": "stderr",
     "output_type": "stream",
     "text": [
      "/tmp/ipykernel_8066/837977075.py:153: DeprecationWarning: read_transaction has been renamed to execute_read\n",
      "  examples = session.read_transaction(get_bill_with_specific_about_tag, node_label, relation, node_label_2)\n"
     ]
    },
    {
     "name": "stdout",
     "output_type": "stream",
     "text": [
      "Node1 Bill data <Node element_id='4:57021189-84a0-4dfc-8fa3-eb8852328616:494770' labels=frozenset({'Question Time', 'Bill'}) properties={'title_de': 'Was hält der Bundesrat vom BAG-Vorschlag betreffend Auslandpreisvergleich von Medikamenten?', 'bill_number': '12.5057', 'title_fr': \"Comparaison avec l'étranger du prix des médicaments. Proposition de l'OFSP\", 'urgent': False, 'status': 'Resolved'}>\n",
      "ABOUT, Node2 Tag data <Node element_id='4:57021189-84a0-4dfc-8fa3-eb8852328616:454255' labels=frozenset({'Tag', 'Issuelist'}) properties={'name': 'Gesundheit'}>\n"
     ]
    }
   ],
   "source": [
    "df = get_bill_with_specific_about_tag_main()\n",
    "df[\"Bill\"] = df[\"Bill\"].apply(lambda l : {\"element_id\": l.element_id, \"bill_number\": l['bill_number'], \"title_fr\": l['title_fr'], \"title_de\": l['title_de']})\n",
    "df[\"Tag\"] = df[\"Tag\"].apply(lambda l : l['name'])"
   ]
  },
  {
   "cell_type": "code",
   "execution_count": 88,
   "id": "762a701c-3eb2-4faa-a04e-c30904a315d4",
   "metadata": {},
   "outputs": [
    {
     "name": "stderr",
     "output_type": "stream",
     "text": [
      "/tmp/ipykernel_8066/837977075.py:133: DeprecationWarning: read_transaction has been renamed to execute_read\n",
      "  examples = session.read_transaction(get_node_data_with_relation_and_node, node_label, relation, node_label_2)\n"
     ]
    },
    {
     "name": "stdout",
     "output_type": "stream",
     "text": [
      "Node1 Canton data <Node element_id='4:57021189-84a0-4dfc-8fa3-eb8852328616:518263' labels=frozenset({'Canton', 'Location'}) properties={'name': 'Schwyz', 'abbrev': 'SZ'}>\n",
      "SPONSORS, Node2 Bill data <Node element_id='4:57021189-84a0-4dfc-8fa3-eb8852328616:693723' labels=frozenset({'Cantonal Initiative', 'Bill'}) properties={'title_de': 'Einbürgerungsverfahren', 'bill_number': '03.317', 'title_fr': 'Procédure de naturalisation', 'urgent': False, 'status': 'Resolved'}>\n",
      "----------------------------------------\n",
      "Node1 Canton data <Node element_id='4:57021189-84a0-4dfc-8fa3-eb8852328616:518263' labels=frozenset({'Canton', 'Location'}) properties={'name': 'Schwyz', 'abbrev': 'SZ'}>\n",
      "SPONSORS, Node2 Bill data <Node element_id='4:57021189-84a0-4dfc-8fa3-eb8852328616:480233' labels=frozenset({'Cantonal Initiative', 'Bill'}) properties={'title_de': 'Umsetzbares revidiertes Gewässerschutzgesetz', 'bill_number': '12.309', 'title_fr': 'Loi fédérale sur la protection des eaux. Révision', 'urgent': False, 'status': 'Resolved'}>\n",
      "----------------------------------------\n",
      "Node1 Canton data <Node element_id='4:57021189-84a0-4dfc-8fa3-eb8852328616:518263' labels=frozenset({'Canton', 'Location'}) properties={'name': 'Schwyz', 'abbrev': 'SZ'}>\n",
      "SPONSORS, Node2 Bill data <Node element_id='4:57021189-84a0-4dfc-8fa3-eb8852328616:474073' labels=frozenset({'Cantonal Initiative', 'Bill'}) properties={'title_de': 'Erhöhung der Wirksamkeit des NFA-Ressourcenausgleichs durch Einführung einer neutralen Zone', 'bill_number': '11.320', 'title_fr': \"Améliorer l'efficacité de la péréquation des ressources RPT grâce à la création d'une zone neutre\", 'urgent': False, 'status': 'Resolved'}>\n",
      "----------------------------------------\n",
      "Node1 Canton data <Node element_id='4:57021189-84a0-4dfc-8fa3-eb8852328616:518263' labels=frozenset({'Canton', 'Location'}) properties={'name': 'Schwyz', 'abbrev': 'SZ'}>\n",
      "SPONSORS, Node2 Bill data <Node element_id='4:57021189-84a0-4dfc-8fa3-eb8852328616:719466' labels=frozenset({'Cantonal Initiative', 'Bill'}) properties={'title_de': 'Rückzug des Beitrittsgesuches der Schweiz zur Europäischen Union', 'bill_number': '06.303', 'title_fr': \"Retrait de la demande d'adhésion de la Suisse à l'Union européenne\", 'urgent': False, 'status': 'Resolved'}>\n",
      "----------------------------------------\n",
      "Node1 Canton data <Node element_id='4:57021189-84a0-4dfc-8fa3-eb8852328616:518265' labels=frozenset({'Canton', 'Location'}) properties={'name': 'Aargau', 'abbrev': 'AG'}>\n",
      "SPONSORS, Node2 Bill data <Node element_id='4:57021189-84a0-4dfc-8fa3-eb8852328616:512526' labels=frozenset({'Cantonal Initiative', 'Bill'}) properties={'title_de': 'Für eine höhere Kostenbeteiligung des Bundes im Asylbereich', 'bill_number': '17.312', 'title_fr': \"Augmenter la participation de la Confédération aux coûts dans le domaine de l'asile\", 'urgent': False, 'status': 'Resolved'}>\n",
      "----------------------------------------\n",
      "Node1 Canton data <Node element_id='4:57021189-84a0-4dfc-8fa3-eb8852328616:518265' labels=frozenset({'Canton', 'Location'}) properties={'name': 'Aargau', 'abbrev': 'AG'}>\n",
      "SPONSORS, Node2 Bill data <Node element_id='4:57021189-84a0-4dfc-8fa3-eb8852328616:512527' labels=frozenset({'Cantonal Initiative', 'Bill'}) properties={'title_de': 'Für eine wirksame Flüchtlingspolitik vor Ort anstelle falscher Anreize für Völkerwanderungen', 'bill_number': '17.303', 'title_fr': 'Pour une politique en matière de réfugiés efficace et la fin des incitations aux mouvements migratoires', 'urgent': False, 'status': 'Resolved'}>\n",
      "----------------------------------------\n",
      "Node1 Canton data <Node element_id='4:57021189-84a0-4dfc-8fa3-eb8852328616:518265' labels=frozenset({'Canton', 'Location'}) properties={'name': 'Aargau', 'abbrev': 'AG'}>\n",
      "SPONSORS, Node2 Bill data <Node element_id='4:57021189-84a0-4dfc-8fa3-eb8852328616:506753' labels=frozenset({'Cantonal Initiative', 'Bill'}) properties={'title_de': 'Abschaffung der Heiratsstrafe', 'bill_number': '16.318', 'title_fr': 'Abolition de la pénalisation du mariage', 'urgent': False, 'status': 'Resolved'}>\n",
      "----------------------------------------\n",
      "Node1 Canton data <Node element_id='4:57021189-84a0-4dfc-8fa3-eb8852328616:518265' labels=frozenset({'Canton', 'Location'}) properties={'name': 'Aargau', 'abbrev': 'AG'}>\n",
      "SPONSORS, Node2 Bill data <Node element_id='4:57021189-84a0-4dfc-8fa3-eb8852328616:488314' labels=frozenset({'Cantonal Initiative', 'Bill'}) properties={'title_de': 'Ausbau der A1 im Kanton Aargau auf sechs Spuren mit höchster Priorität', 'bill_number': '14.319', 'title_fr': \"Accorder la plus haute priorité à l'élargissement à six voies de l'A1 dans le canton d'Argovie\", 'urgent': False, 'status': 'Resolved'}>\n",
      "----------------------------------------\n",
      "Node1 Canton data <Node element_id='4:57021189-84a0-4dfc-8fa3-eb8852328616:518265' labels=frozenset({'Canton', 'Location'}) properties={'name': 'Aargau', 'abbrev': 'AG'}>\n",
      "SPONSORS, Node2 Bill data <Node element_id='4:57021189-84a0-4dfc-8fa3-eb8852328616:496641' labels=frozenset({'Cantonal Initiative', 'Bill'}) properties={'title_de': 'Erreichung von Änderungen des eidgenössischen Gewässerschutzgesetzes', 'bill_number': '13.311', 'title_fr': 'Pour une modification de la loi fédérale sur la protection des eaux', 'urgent': False, 'status': 'Resolved'}>\n",
      "----------------------------------------\n",
      "Node1 Canton data <Node element_id='4:57021189-84a0-4dfc-8fa3-eb8852328616:518265' labels=frozenset({'Canton', 'Location'}) properties={'name': 'Aargau', 'abbrev': 'AG'}>\n",
      "SPONSORS, Node2 Bill data <Node element_id='4:57021189-84a0-4dfc-8fa3-eb8852328616:571806' labels=frozenset({'Cantonal Initiative', 'Bill'}) properties={'title_de': 'Sicherung der Landesversorgung mit essenziellen Wirkstoffen, Medikamenten und medizinischen Produkten', 'bill_number': '21.303', 'title_fr': \"Garantir l'approvisionnement du pays en principes actifs essentiels, en médicaments et en produits médicaux\", 'urgent': False, 'status': 'Resolved'}>\n",
      "----------------------------------------\n"
     ]
    }
   ],
   "source": [
    "get_node_data_with_relation_and_node_data_main(node_label=\"Canton\", relation=\"SPONSORS\", node_label_2=\"Bill\")"
   ]
  },
  {
   "cell_type": "code",
   "execution_count": 81,
   "id": "73a4bc2f-65cb-487b-86fc-30cd5debdcca",
   "metadata": {},
   "outputs": [
    {
     "data": {
      "text/plain": [
       "{'Gesundheit', 'Wirtschaft'}"
      ]
     },
     "execution_count": 81,
     "metadata": {},
     "output_type": "execute_result"
    }
   ],
   "source": [
    "set(df[\"Tag\"])"
   ]
  },
  {
   "cell_type": "code",
   "execution_count": 82,
   "id": "79e71769-f97c-42c3-9a08-212f6a53ebd6",
   "metadata": {},
   "outputs": [
    {
     "data": {
      "text/html": [
       "<div>\n",
       "<style scoped>\n",
       "    .dataframe tbody tr th:only-of-type {\n",
       "        vertical-align: middle;\n",
       "    }\n",
       "\n",
       "    .dataframe tbody tr th {\n",
       "        vertical-align: top;\n",
       "    }\n",
       "\n",
       "    .dataframe thead th {\n",
       "        text-align: right;\n",
       "    }\n",
       "</style>\n",
       "<table border=\"1\" class=\"dataframe\">\n",
       "  <thead>\n",
       "    <tr style=\"text-align: right;\">\n",
       "      <th></th>\n",
       "      <th>Bill</th>\n",
       "      <th>Tag</th>\n",
       "    </tr>\n",
       "  </thead>\n",
       "  <tbody>\n",
       "    <tr>\n",
       "      <th>0</th>\n",
       "      <td>{'element_id': '4:57021189-84a0-4dfc-8fa3-eb88...</td>\n",
       "      <td>Gesundheit</td>\n",
       "    </tr>\n",
       "    <tr>\n",
       "      <th>1</th>\n",
       "      <td>{'element_id': '4:57021189-84a0-4dfc-8fa3-eb88...</td>\n",
       "      <td>Gesundheit</td>\n",
       "    </tr>\n",
       "    <tr>\n",
       "      <th>2</th>\n",
       "      <td>{'element_id': '4:57021189-84a0-4dfc-8fa3-eb88...</td>\n",
       "      <td>Gesundheit</td>\n",
       "    </tr>\n",
       "    <tr>\n",
       "      <th>3</th>\n",
       "      <td>{'element_id': '4:57021189-84a0-4dfc-8fa3-eb88...</td>\n",
       "      <td>Gesundheit</td>\n",
       "    </tr>\n",
       "    <tr>\n",
       "      <th>4</th>\n",
       "      <td>{'element_id': '4:57021189-84a0-4dfc-8fa3-eb88...</td>\n",
       "      <td>Gesundheit</td>\n",
       "    </tr>\n",
       "  </tbody>\n",
       "</table>\n",
       "</div>"
      ],
      "text/plain": [
       "                                                Bill         Tag\n",
       "0  {'element_id': '4:57021189-84a0-4dfc-8fa3-eb88...  Gesundheit\n",
       "1  {'element_id': '4:57021189-84a0-4dfc-8fa3-eb88...  Gesundheit\n",
       "2  {'element_id': '4:57021189-84a0-4dfc-8fa3-eb88...  Gesundheit\n",
       "3  {'element_id': '4:57021189-84a0-4dfc-8fa3-eb88...  Gesundheit\n",
       "4  {'element_id': '4:57021189-84a0-4dfc-8fa3-eb88...  Gesundheit"
      ]
     },
     "execution_count": 82,
     "metadata": {},
     "output_type": "execute_result"
    }
   ],
   "source": [
    "df.head()"
   ]
  },
  {
   "cell_type": "code",
   "execution_count": 101,
   "id": "09f5f7bb-d679-4539-a2f7-0e7b06be453a",
   "metadata": {},
   "outputs": [
    {
     "data": {
      "text/plain": [
       "{'element_id': '4:57021189-84a0-4dfc-8fa3-eb8852328616:731227',\n",
       " 'bill_number': '08.3464',\n",
       " 'title_fr': 'Tarif des analyses version bêta',\n",
       " 'title_de': 'Labortarife in der Beta-Version der Analysenliste'}"
      ]
     },
     "execution_count": 101,
     "metadata": {},
     "output_type": "execute_result"
    }
   ],
   "source": [
    "df[\"Bill\"][1]"
   ]
  },
  {
   "cell_type": "code",
   "execution_count": 84,
   "id": "9a0b8e4f-f136-423f-b223-de1474b367e0",
   "metadata": {},
   "outputs": [
    {
     "name": "stderr",
     "output_type": "stream",
     "text": [
      "/tmp/ipykernel_8066/837977075.py:57: DeprecationWarning: read_transaction has been renamed to execute_read\n",
      "  unique_relationships = session.read_transaction(get_unique_relationships_with_nodes, node_label)\n"
     ]
    },
    {
     "name": "stdout",
     "output_type": "stream",
     "text": [
      "Unique relationships related to 'Bill' nodes:\n",
      "('SUBMITTED_TO', ['Chamber'])\n",
      "('CONTAINS', ['BillText', 'Submitted'])\n",
      "('ABOUT', ['Tag', 'Issuelist'])\n",
      "('CONTAINS', ['Debate', 'Chamber Debate'])\n",
      "('PROPOSED_TO', ['Department'])\n",
      "('CONTAINS', ['Debate', 'Committee Debate'])\n",
      "('CONTAINS', ['BillText', 'Reasoning'])\n",
      "('RELATED_TO', ['Bill', 'Motion'])\n",
      "('CONTAINS', ['Enactment Draft'])\n",
      "('CONTAINS', ['BillText', 'News Report'])\n",
      "('CONTAINS', ['BillText', 'Media Summary'])\n",
      "('RELATED_TO', ['Bill', 'Parliamentary Initiative'])\n",
      "('CONTAINS', ['URL'])\n",
      "('RELATED_TO', ['Bill', 'Federal Council Dispatch'])\n",
      "('RELATED_TO', ['Bill', 'Postulate'])\n",
      "('RELATED_TO', ['Bill', 'Federal Council Report'])\n",
      "('RELATED_TO', ['Bill', 'Interpellation'])\n",
      "('RELATED_TO', ['Bill', 'Cantonal Initiative'])\n",
      "('RELATED_TO', ['Bill', 'Question'])\n",
      "('CONTAINS', ['URL', 'Popular vote'])\n",
      "('CONTAINS', ['URL', 'Negotiation booklet'])\n",
      "('CONTAINS', ['URL', 'Commission documents'])\n",
      "('CONTAINS', ['URL', 'Consultation'])\n",
      "('CONTAINS', ['URL', 'Message/Report not in BBl'])\n"
     ]
    }
   ],
   "source": [
    "get_unique_relationships_with_nodes_main()"
   ]
  },
  {
   "cell_type": "code",
   "execution_count": 85,
   "id": "2727026b-475d-4780-8865-4facf7edb2c2",
   "metadata": {},
   "outputs": [
    {
     "name": "stderr",
     "output_type": "stream",
     "text": [
      "/tmp/ipykernel_8066/837977075.py:57: DeprecationWarning: read_transaction has been renamed to execute_read\n",
      "  unique_relationships = session.read_transaction(get_unique_relationships_with_nodes, node_label)\n"
     ]
    },
    {
     "name": "stdout",
     "output_type": "stream",
     "text": [
      "Unique relationships related to 'Canton' nodes:\n",
      "('SUBMITTED_TO', ['Chamber'])\n",
      "('CONTAINS', ['BillText', 'Submitted'])\n",
      "('ABOUT', ['Tag', 'Issuelist'])\n",
      "('CONTAINS', ['Debate', 'Chamber Debate'])\n",
      "('PROPOSED_TO', ['Department'])\n",
      "('CONTAINS', ['Debate', 'Committee Debate'])\n",
      "('CONTAINS', ['BillText', 'Reasoning'])\n",
      "('RELATED_TO', ['Bill', 'Motion'])\n",
      "('CONTAINS', ['Enactment Draft'])\n",
      "('CONTAINS', ['BillText', 'News Report'])\n",
      "('CONTAINS', ['BillText', 'Media Summary'])\n",
      "('RELATED_TO', ['Bill', 'Parliamentary Initiative'])\n",
      "('CONTAINS', ['URL'])\n",
      "('RELATED_TO', ['Bill', 'Federal Council Dispatch'])\n",
      "('RELATED_TO', ['Bill', 'Postulate'])\n",
      "('RELATED_TO', ['Bill', 'Federal Council Report'])\n",
      "('RELATED_TO', ['Bill', 'Interpellation'])\n",
      "('RELATED_TO', ['Bill', 'Cantonal Initiative'])\n",
      "('RELATED_TO', ['Bill', 'Question'])\n",
      "('CONTAINS', ['URL', 'Popular vote'])\n",
      "('CONTAINS', ['URL', 'Negotiation booklet'])\n",
      "('CONTAINS', ['URL', 'Commission documents'])\n",
      "('CONTAINS', ['URL', 'Consultation'])\n",
      "('CONTAINS', ['URL', 'Message/Report not in BBl'])\n"
     ]
    }
   ],
   "source": [
    "get_unique_relationships_with_nodes_main(\"Canton\")"
   ]
  },
  {
   "cell_type": "code",
   "execution_count": 83,
   "id": "d4f6c028-b548-471f-849d-cbb1d584b0f0",
   "metadata": {},
   "outputs": [
    {
     "data": {
      "text/plain": [
       "{'Ambiguous Employer',\n",
       " 'Ambiguous Person',\n",
       " 'Bill',\n",
       " 'BillText',\n",
       " 'Canton',\n",
       " 'Cantonal Initiative',\n",
       " 'Chamber',\n",
       " 'Chamber Debate',\n",
       " 'City',\n",
       " 'Club',\n",
       " 'Commission',\n",
       " 'Commission documents',\n",
       " 'Committee',\n",
       " 'Committee Debate',\n",
       " 'Consultation',\n",
       " 'Cooperative',\n",
       " 'Corporation',\n",
       " 'Debate',\n",
       " 'Delegation',\n",
       " 'Department',\n",
       " 'Discussion',\n",
       " 'Employer',\n",
       " 'Enactment Draft',\n",
       " 'External Entity',\n",
       " 'Federal Commission',\n",
       " 'Federal Council Dispatch',\n",
       " 'Federal Council Report',\n",
       " 'Federal Response',\n",
       " 'Foundation',\n",
       " 'General Partnership',\n",
       " 'Inconsistent Timestamp',\n",
       " 'Interest Group',\n",
       " 'Interpellation',\n",
       " 'Issuelist',\n",
       " 'Legislative Period',\n",
       " 'Legislative Proposition',\n",
       " 'Limited Liability Company',\n",
       " 'Limited Partnership',\n",
       " 'Location',\n",
       " 'Media Summary',\n",
       " 'Meeting',\n",
       " 'Message/Report not in BBl',\n",
       " 'Motion',\n",
       " 'MultiDebate',\n",
       " 'Negotiation booklet',\n",
       " 'News Report',\n",
       " 'Not Bill Related',\n",
       " 'Organisation',\n",
       " 'Other Parliamentary Activities',\n",
       " 'Parliamentary Group',\n",
       " 'Parliamentary Initiative',\n",
       " 'Partition',\n",
       " 'Party',\n",
       " 'Party Class',\n",
       " 'Person',\n",
       " 'Petition',\n",
       " 'Popular vote',\n",
       " 'Postprocessing Necessary',\n",
       " 'Postulate',\n",
       " 'Proposal',\n",
       " 'Public Body',\n",
       " 'Public Foundation',\n",
       " 'Public Institute',\n",
       " 'Question',\n",
       " 'Question Time',\n",
       " 'Reasoning',\n",
       " 'Session',\n",
       " 'Simple Cooperative',\n",
       " 'Source',\n",
       " 'Speech',\n",
       " 'Submitted',\n",
       " 'Tag',\n",
       " 'Transcript',\n",
       " 'URL',\n",
       " 'Unexpected Vote Total',\n",
       " 'Unique Person',\n",
       " 'Vote',\n",
       " 'Written Response',\n",
       " 'Year'}"
      ]
     },
     "execution_count": 83,
     "metadata": {},
     "output_type": "execute_result"
    }
   ],
   "source": [
    "get_unique_node_labels()"
   ]
  },
  {
   "cell_type": "code",
   "execution_count": null,
   "id": "64172f6e-9df3-4e2b-be91-c6e346aaacb1",
   "metadata": {},
   "outputs": [],
   "source": []
  },
  {
   "cell_type": "code",
   "execution_count": 19,
   "id": "f718d338-ed5c-4510-ad3e-56d251fcd35d",
   "metadata": {},
   "outputs": [
    {
     "name": "stderr",
     "output_type": "stream",
     "text": [
      "/tmp/ipykernel_8066/2982058914.py:152: DeprecationWarning: read_transaction has been renamed to execute_read\n",
      "  examples = session.read_transaction(get_node_data_with_relation_and_node, node_label, relation, node_label_2)\n"
     ]
    },
    {
     "name": "stdout",
     "output_type": "stream",
     "text": [
      "Node1 Bill data <Node element_id='4:57021189-84a0-4dfc-8fa3-eb8852328616:494770' labels=frozenset({'Question Time', 'Bill'}) properties={'title_de': 'Was hält der Bundesrat vom BAG-Vorschlag betreffend Auslandpreisvergleich von Medikamenten?', 'bill_number': '12.5057', 'title_fr': \"Comparaison avec l'étranger du prix des médicaments. Proposition de l'OFSP\", 'urgent': False, 'status': 'Resolved'}>\n",
      "ABOUT, Node2 Tag data <Node element_id='4:57021189-84a0-4dfc-8fa3-eb8852328616:454255' labels=frozenset({'Tag', 'Issuelist'}) properties={'name': 'Gesundheit'}>\n",
      "----------------------------------------\n",
      "Node1 Bill data <Node element_id='4:57021189-84a0-4dfc-8fa3-eb8852328616:731227' labels=frozenset({'Bill', 'Interpellation'}) properties={'title_de': 'Labortarife in der Beta-Version der Analysenliste', 'bill_number': '08.3464', 'title_fr': 'Tarif des analyses version bêta', 'urgent': False, 'status': 'Resolved'}>\n",
      "ABOUT, Node2 Tag data <Node element_id='4:57021189-84a0-4dfc-8fa3-eb8852328616:454255' labels=frozenset({'Tag', 'Issuelist'}) properties={'name': 'Gesundheit'}>\n",
      "----------------------------------------\n",
      "Node1 Bill data <Node element_id='4:57021189-84a0-4dfc-8fa3-eb8852328616:731204' labels=frozenset({'Postulate', 'Bill'}) properties={'title_de': 'Früherkennung von Darmkrebs', 'bill_number': '08.3238', 'title_fr': 'Dépistage du cancer du côlon', 'urgent': False, 'status': 'Resolved'}>\n",
      "ABOUT, Node2 Tag data <Node element_id='4:57021189-84a0-4dfc-8fa3-eb8852328616:454255' labels=frozenset({'Tag', 'Issuelist'}) properties={'name': 'Gesundheit'}>\n",
      "----------------------------------------\n",
      "Node1 Bill data <Node element_id='4:57021189-84a0-4dfc-8fa3-eb8852328616:731076' labels=frozenset({'Bill', 'Motion'}) properties={'title_de': 'Leistungen der Hilflosenentschädigung. Koordination', 'bill_number': '08.3236', 'title_fr': \"Prestations relevant de l'allocation pour impotent. Coordination\", 'urgent': False, 'status': 'Resolved'}>\n",
      "ABOUT, Node2 Tag data <Node element_id='4:57021189-84a0-4dfc-8fa3-eb8852328616:454255' labels=frozenset({'Tag', 'Issuelist'}) properties={'name': 'Gesundheit'}>\n",
      "----------------------------------------\n",
      "Node1 Bill data <Node element_id='4:57021189-84a0-4dfc-8fa3-eb8852328616:731360' labels=frozenset({'Bill', 'Interpellation'}) properties={'title_de': 'Massenbesäufnisse \"Botellón\". Strategie des Bundes', 'bill_number': '08.3473', 'title_fr': 'Beuveries collectives \"Botellón\". Stratégie de la Confédération', 'urgent': False, 'status': 'Resolved'}>\n",
      "ABOUT, Node2 Tag data <Node element_id='4:57021189-84a0-4dfc-8fa3-eb8852328616:454255' labels=frozenset({'Tag', 'Issuelist'}) properties={'name': 'Gesundheit'}>\n",
      "----------------------------------------\n",
      "Node1 Bill data <Node element_id='4:57021189-84a0-4dfc-8fa3-eb8852328616:731408' labels=frozenset({'Bill', 'Interpellation'}) properties={'title_de': 'Wirksame Bekämpfung der Mangelernährung bei Kindern unter drei Jahren', 'bill_number': '08.3282', 'title_fr': 'Lutter efficacement contre la malnutrition chez les enfants de moins de trois ans', 'urgent': False, 'status': 'Resolved'}>\n",
      "ABOUT, Node2 Tag data <Node element_id='4:57021189-84a0-4dfc-8fa3-eb8852328616:454255' labels=frozenset({'Tag', 'Issuelist'}) properties={'name': 'Gesundheit'}>\n",
      "----------------------------------------\n",
      "Node1 Bill data <Node element_id='4:57021189-84a0-4dfc-8fa3-eb8852328616:731266' labels=frozenset({'Bill', 'Interpellation'}) properties={'title_de': 'Revision der Verordnung über die Labortarife', 'bill_number': '08.3626', 'title_fr': 'Tarifs de laboratoire. Révision de la liste des analyses', 'urgent': False, 'status': 'Resolved'}>\n",
      "ABOUT, Node2 Tag data <Node element_id='4:57021189-84a0-4dfc-8fa3-eb8852328616:454255' labels=frozenset({'Tag', 'Issuelist'}) properties={'name': 'Gesundheit'}>\n",
      "----------------------------------------\n",
      "Node1 Bill data <Node element_id='4:57021189-84a0-4dfc-8fa3-eb8852328616:731172' labels=frozenset({'Postulate', 'Bill'}) properties={'title_de': 'Kampf der hohen Zahl von Suiziden in der Schweiz', 'bill_number': '08.3366', 'title_fr': 'Taux élevé de suicides en Suisse. Mesures de prévention', 'urgent': False, 'status': 'Resolved'}>\n",
      "ABOUT, Node2 Tag data <Node element_id='4:57021189-84a0-4dfc-8fa3-eb8852328616:454255' labels=frozenset({'Tag', 'Issuelist'}) properties={'name': 'Gesundheit'}>\n",
      "----------------------------------------\n",
      "Node1 Bill data <Node element_id='4:57021189-84a0-4dfc-8fa3-eb8852328616:731288' labels=frozenset({'Bill', 'Interpellation'}) properties={'title_de': 'Aktivismus des BAG. Volkswirtschaftliche Schäden und Auswirkungen', 'bill_number': '08.3259', 'title_fr': \"Activité débordante de l'OFSP. Dommages et coûts économiques\", 'urgent': False, 'status': 'Resolved'}>\n",
      "ABOUT, Node2 Tag data <Node element_id='4:57021189-84a0-4dfc-8fa3-eb8852328616:454255' labels=frozenset({'Tag', 'Issuelist'}) properties={'name': 'Gesundheit'}>\n",
      "----------------------------------------\n",
      "Node1 Bill data <Node element_id='4:57021189-84a0-4dfc-8fa3-eb8852328616:731027' labels=frozenset({'Bill', 'Motion'}) properties={'title_de': 'Zigarettenpreise. Stopp der Verführung', 'bill_number': '08.3408', 'title_fr': 'Prix des cigarettes. Interdire les mesures promotionnelles', 'urgent': False, 'status': 'Resolved'}>\n",
      "ABOUT, Node2 Tag data <Node element_id='4:57021189-84a0-4dfc-8fa3-eb8852328616:454255' labels=frozenset({'Tag', 'Issuelist'}) properties={'name': 'Gesundheit'}>\n",
      "----------------------------------------\n"
     ]
    }
   ],
   "source": [
    "get_bill_with_specific_about_tag_main()"
   ]
  },
  {
   "cell_type": "code",
   "execution_count": 9,
   "id": "d4c758be-69a3-44e6-a534-04795a474aad",
   "metadata": {},
   "outputs": [
    {
     "name": "stdout",
     "output_type": "stream",
     "text": [
      "<Node element_id='4:57021189-84a0-4dfc-8fa3-eb8852328616:454255' labels=frozenset({'Tag', 'Issuelist'}) properties={'name': 'Gesundheit'}>\n",
      "----------------------------------------\n",
      "<Node element_id='4:57021189-84a0-4dfc-8fa3-eb8852328616:454256' labels=frozenset({'Tag', 'Issuelist'}) properties={'name': 'Raumplanung und Wohnungswesen'}>\n",
      "----------------------------------------\n",
      "<Node element_id='4:57021189-84a0-4dfc-8fa3-eb8852328616:454257' labels=frozenset({'Tag', 'Issuelist'}) properties={'name': 'Medien und Kommunikation'}>\n",
      "----------------------------------------\n",
      "<Node element_id='4:57021189-84a0-4dfc-8fa3-eb8852328616:454258' labels=frozenset({'Tag', 'Issuelist'}) properties={'name': 'Landwirtschaft'}>\n",
      "----------------------------------------\n",
      "<Node element_id='4:57021189-84a0-4dfc-8fa3-eb8852328616:454259' labels=frozenset({'Tag', 'Issuelist'}) properties={'name': 'Kultur'}>\n",
      "----------------------------------------\n",
      "<Node element_id='4:57021189-84a0-4dfc-8fa3-eb8852328616:454260' labels=frozenset({'Tag', 'Issuelist'}) properties={'name': 'Finanzwesen'}>\n",
      "----------------------------------------\n",
      "<Node element_id='4:57021189-84a0-4dfc-8fa3-eb8852328616:454261' labels=frozenset({'Tag', 'Issuelist'}) properties={'name': 'Wirtschaft'}>\n",
      "----------------------------------------\n",
      "<Node element_id='4:57021189-84a0-4dfc-8fa3-eb8852328616:454262' labels=frozenset({'Tag', 'Issuelist'}) properties={'name': 'Recht Allgemein'}>\n",
      "----------------------------------------\n",
      "<Node element_id='4:57021189-84a0-4dfc-8fa3-eb8852328616:454263' labels=frozenset({'Tag', 'Issuelist'}) properties={'name': 'Verkehr'}>\n",
      "----------------------------------------\n",
      "<Node element_id='4:57021189-84a0-4dfc-8fa3-eb8852328616:454264' labels=frozenset({'Tag', 'Issuelist'}) properties={'name': 'Parlament'}>\n",
      "----------------------------------------\n",
      "<Node element_id='4:57021189-84a0-4dfc-8fa3-eb8852328616:454265' labels=frozenset({'Tag', 'Issuelist'}) properties={'name': 'Europapolitik'}>\n",
      "----------------------------------------\n",
      "<Node element_id='4:57021189-84a0-4dfc-8fa3-eb8852328616:454266' labels=frozenset({'Tag', 'Issuelist'}) properties={'name': 'Migration'}>\n",
      "----------------------------------------\n",
      "<Node element_id='4:57021189-84a0-4dfc-8fa3-eb8852328616:454267' labels=frozenset({'Tag', 'Issuelist'}) properties={'name': 'Bildung'}>\n",
      "----------------------------------------\n",
      "<Node element_id='4:57021189-84a0-4dfc-8fa3-eb8852328616:454268' labels=frozenset({'Tag', 'Issuelist'}) properties={'name': 'Staatspolitik'}>\n",
      "----------------------------------------\n",
      "<Node element_id='4:57021189-84a0-4dfc-8fa3-eb8852328616:454269' labels=frozenset({'Tag', 'Issuelist'}) properties={'name': 'Sicherheitspolitik'}>\n",
      "----------------------------------------\n",
      "<Node element_id='4:57021189-84a0-4dfc-8fa3-eb8852328616:454270' labels=frozenset({'Tag', 'Issuelist'}) properties={'name': 'Umwelt'}>\n",
      "----------------------------------------\n",
      "<Node element_id='4:57021189-84a0-4dfc-8fa3-eb8852328616:454271' labels=frozenset({'Tag', 'Issuelist'}) properties={'name': 'Soziale Fragen'}>\n",
      "----------------------------------------\n",
      "<Node element_id='4:57021189-84a0-4dfc-8fa3-eb8852328616:454272' labels=frozenset({'Tag', 'Issuelist'}) properties={'name': 'Internationale Politik'}>\n",
      "----------------------------------------\n",
      "<Node element_id='4:57021189-84a0-4dfc-8fa3-eb8852328616:454273' labels=frozenset({'Tag', 'Issuelist'}) properties={'name': 'Energie'}>\n",
      "----------------------------------------\n",
      "<Node element_id='4:57021189-84a0-4dfc-8fa3-eb8852328616:454274' labels=frozenset({'Tag', 'Issuelist'}) properties={'name': 'Wissenschaft und Forschung'}>\n",
      "----------------------------------------\n",
      "<Node element_id='4:57021189-84a0-4dfc-8fa3-eb8852328616:464142' labels=frozenset({'Tag', 'Issuelist'}) properties={'name': 'Zivilrecht'}>\n",
      "----------------------------------------\n",
      "<Node element_id='4:57021189-84a0-4dfc-8fa3-eb8852328616:485231' labels=frozenset({'Tag', 'Issuelist'}) properties={'name': 'Menschenrechte'}>\n",
      "----------------------------------------\n",
      "<Node element_id='4:57021189-84a0-4dfc-8fa3-eb8852328616:485232' labels=frozenset({'Tag', 'Issuelist'}) properties={'name': 'Internationales Recht'}>\n",
      "----------------------------------------\n",
      "<Node element_id='4:57021189-84a0-4dfc-8fa3-eb8852328616:485233' labels=frozenset({'Tag', 'Issuelist'}) properties={'name': 'Steuer'}>\n",
      "----------------------------------------\n",
      "<Node element_id='4:57021189-84a0-4dfc-8fa3-eb8852328616:485234' labels=frozenset({'Tag', 'Issuelist'}) properties={'name': 'Sozialer Schutz'}>\n",
      "----------------------------------------\n",
      "<Node element_id='4:57021189-84a0-4dfc-8fa3-eb8852328616:485235' labels=frozenset({'Tag', 'Issuelist'}) properties={'name': 'Strafrecht'}>\n",
      "----------------------------------------\n",
      "<Node element_id='4:57021189-84a0-4dfc-8fa3-eb8852328616:485236' labels=frozenset({'Tag', 'Issuelist'}) properties={'name': 'Beschäftigung und Arbeit'}>\n",
      "----------------------------------------\n",
      "<Node element_id='4:57021189-84a0-4dfc-8fa3-eb8852328616:487791' labels=frozenset({'Tag', 'Issuelist'}) properties={'name': 'Gerichtswesen'}>\n",
      "----------------------------------------\n"
     ]
    },
    {
     "name": "stderr",
     "output_type": "stream",
     "text": [
      "/tmp/ipykernel_8066/327362110.py:74: DeprecationWarning: read_transaction has been renamed to execute_read\n",
      "  examples = session.read_transaction(get_node_data, node_label)\n"
     ]
    },
    {
     "data": {
      "text/plain": [
       "28"
      ]
     },
     "execution_count": 9,
     "metadata": {},
     "output_type": "execute_result"
    }
   ],
   "source": [
    "tags = get_node_data_main(node_label=\"Tag\")\n",
    "len(tags)"
   ]
  },
  {
   "cell_type": "code",
   "execution_count": 17,
   "id": "e505a5df-1bfc-4edf-9a0d-83ed59620f2d",
   "metadata": {},
   "outputs": [
    {
     "name": "stdout",
     "output_type": "stream",
     "text": [
      "Gesundheit\n",
      "Raumplanung und Wohnungswesen\n",
      "Medien und Kommunikation\n",
      "Landwirtschaft\n",
      "Kultur\n",
      "Finanzwesen\n",
      "Wirtschaft\n",
      "Recht Allgemein\n",
      "Verkehr\n",
      "Parlament\n",
      "Europapolitik\n",
      "Migration\n",
      "Bildung\n",
      "Staatspolitik\n",
      "Sicherheitspolitik\n",
      "Umwelt\n",
      "Soziale Fragen\n",
      "Internationale Politik\n",
      "Energie\n",
      "Wissenschaft und Forschung\n",
      "Zivilrecht\n",
      "Menschenrechte\n",
      "Internationales Recht\n",
      "Steuer\n",
      "Sozialer Schutz\n",
      "Strafrecht\n",
      "Beschäftigung und Arbeit\n",
      "Gerichtswesen\n"
     ]
    }
   ],
   "source": [
    "for t in tags:\n",
    "    print(t[\"name\"])"
   ]
  },
  {
   "cell_type": "code",
   "execution_count": 56,
   "id": "fbdbe609-7329-4e54-8394-a64928a92ad2",
   "metadata": {},
   "outputs": [
    {
     "data": {
      "text/plain": [
       "{'Ambiguous Employer',\n",
       " 'Ambiguous Person',\n",
       " 'Bill',\n",
       " 'BillText',\n",
       " 'Canton',\n",
       " 'Cantonal Initiative',\n",
       " 'Chamber',\n",
       " 'Chamber Debate',\n",
       " 'City',\n",
       " 'Club',\n",
       " 'Commission',\n",
       " 'Commission documents',\n",
       " 'Committee',\n",
       " 'Committee Debate',\n",
       " 'Consultation',\n",
       " 'Cooperative',\n",
       " 'Corporation',\n",
       " 'Debate',\n",
       " 'Delegation',\n",
       " 'Department',\n",
       " 'Discussion',\n",
       " 'Employer',\n",
       " 'Enactment Draft',\n",
       " 'External Entity',\n",
       " 'Federal Commission',\n",
       " 'Federal Council Dispatch',\n",
       " 'Federal Council Report',\n",
       " 'Federal Response',\n",
       " 'Foundation',\n",
       " 'General Partnership',\n",
       " 'Inconsistent Timestamp',\n",
       " 'Interest Group',\n",
       " 'Interpellation',\n",
       " 'Issuelist',\n",
       " 'Legislative Period',\n",
       " 'Legislative Proposition',\n",
       " 'Limited Liability Company',\n",
       " 'Limited Partnership',\n",
       " 'Location',\n",
       " 'Media Summary',\n",
       " 'Meeting',\n",
       " 'Message/Report not in BBl',\n",
       " 'Motion',\n",
       " 'MultiDebate',\n",
       " 'Negotiation booklet',\n",
       " 'News Report',\n",
       " 'Not Bill Related',\n",
       " 'Organisation',\n",
       " 'Other Parliamentary Activities',\n",
       " 'Parliamentary Group',\n",
       " 'Parliamentary Initiative',\n",
       " 'Partition',\n",
       " 'Party',\n",
       " 'Party Class',\n",
       " 'Person',\n",
       " 'Petition',\n",
       " 'Popular vote',\n",
       " 'Postprocessing Necessary',\n",
       " 'Postulate',\n",
       " 'Proposal',\n",
       " 'Public Body',\n",
       " 'Public Foundation',\n",
       " 'Public Institute',\n",
       " 'Question',\n",
       " 'Question Time',\n",
       " 'Reasoning',\n",
       " 'Session',\n",
       " 'Simple Cooperative',\n",
       " 'Source',\n",
       " 'Speech',\n",
       " 'Submitted',\n",
       " 'Tag',\n",
       " 'Transcript',\n",
       " 'URL',\n",
       " 'Unexpected Vote Total',\n",
       " 'Unique Person',\n",
       " 'Vote',\n",
       " 'Written Response',\n",
       " 'Year'}"
      ]
     },
     "execution_count": 56,
     "metadata": {},
     "output_type": "execute_result"
    }
   ],
   "source": [
    "get_unique_node_labels()"
   ]
  },
  {
   "cell_type": "code",
   "execution_count": 39,
   "id": "c03aab72-284d-4dc9-8b59-022ec946821b",
   "metadata": {},
   "outputs": [
    {
     "name": "stdout",
     "output_type": "stream",
     "text": [
      "Node1 Bill data <Node element_id='4:fa996e42-3a3f-4866-ad85-cb06ad63f099:494770' labels=frozenset({'Bill', 'Question Time'}) properties={'title_de': 'Was hält der Bundesrat vom BAG-Vorschlag betreffend Auslandpreisvergleich von Medikamenten?', 'bill_number': '12.5057', 'title_fr': \"Comparaison avec l'étranger du prix des médicaments. Proposition de l'OFSP\", 'urgent': False, 'status': 'Resolved'}>\n",
      "ABOUT, Node2 Tag data <Node element_id='4:fa996e42-3a3f-4866-ad85-cb06ad63f099:454255' labels=frozenset({'Tag', 'Issuelist'}) properties={'name': 'Gesundheit'}>\n",
      "----------------------------------------\n",
      "Node1 Bill data <Node element_id='4:fa996e42-3a3f-4866-ad85-cb06ad63f099:731227' labels=frozenset({'Interpellation', 'Bill'}) properties={'title_de': 'Labortarife in der Beta-Version der Analysenliste', 'bill_number': '08.3464', 'title_fr': 'Tarif des analyses version bêta', 'urgent': False, 'status': 'Resolved'}>\n",
      "ABOUT, Node2 Tag data <Node element_id='4:fa996e42-3a3f-4866-ad85-cb06ad63f099:454255' labels=frozenset({'Tag', 'Issuelist'}) properties={'name': 'Gesundheit'}>\n",
      "----------------------------------------\n",
      "Node1 Bill data <Node element_id='4:fa996e42-3a3f-4866-ad85-cb06ad63f099:731204' labels=frozenset({'Postulate', 'Bill'}) properties={'title_de': 'Früherkennung von Darmkrebs', 'bill_number': '08.3238', 'title_fr': 'Dépistage du cancer du côlon', 'urgent': False, 'status': 'Resolved'}>\n",
      "ABOUT, Node2 Tag data <Node element_id='4:fa996e42-3a3f-4866-ad85-cb06ad63f099:454255' labels=frozenset({'Tag', 'Issuelist'}) properties={'name': 'Gesundheit'}>\n",
      "----------------------------------------\n",
      "Node1 Bill data <Node element_id='4:fa996e42-3a3f-4866-ad85-cb06ad63f099:731076' labels=frozenset({'Motion', 'Bill'}) properties={'title_de': 'Leistungen der Hilflosenentschädigung. Koordination', 'bill_number': '08.3236', 'title_fr': \"Prestations relevant de l'allocation pour impotent. Coordination\", 'urgent': False, 'status': 'Resolved'}>\n",
      "ABOUT, Node2 Tag data <Node element_id='4:fa996e42-3a3f-4866-ad85-cb06ad63f099:454255' labels=frozenset({'Tag', 'Issuelist'}) properties={'name': 'Gesundheit'}>\n",
      "----------------------------------------\n",
      "Node1 Bill data <Node element_id='4:fa996e42-3a3f-4866-ad85-cb06ad63f099:731360' labels=frozenset({'Interpellation', 'Bill'}) properties={'title_de': 'Massenbesäufnisse \"Botellón\". Strategie des Bundes', 'bill_number': '08.3473', 'title_fr': 'Beuveries collectives \"Botellón\". Stratégie de la Confédération', 'urgent': False, 'status': 'Resolved'}>\n",
      "ABOUT, Node2 Tag data <Node element_id='4:fa996e42-3a3f-4866-ad85-cb06ad63f099:454255' labels=frozenset({'Tag', 'Issuelist'}) properties={'name': 'Gesundheit'}>\n",
      "----------------------------------------\n",
      "Node1 Bill data <Node element_id='4:fa996e42-3a3f-4866-ad85-cb06ad63f099:731408' labels=frozenset({'Interpellation', 'Bill'}) properties={'title_de': 'Wirksame Bekämpfung der Mangelernährung bei Kindern unter drei Jahren', 'bill_number': '08.3282', 'title_fr': 'Lutter efficacement contre la malnutrition chez les enfants de moins de trois ans', 'urgent': False, 'status': 'Resolved'}>\n",
      "ABOUT, Node2 Tag data <Node element_id='4:fa996e42-3a3f-4866-ad85-cb06ad63f099:454255' labels=frozenset({'Tag', 'Issuelist'}) properties={'name': 'Gesundheit'}>\n",
      "----------------------------------------\n",
      "Node1 Bill data <Node element_id='4:fa996e42-3a3f-4866-ad85-cb06ad63f099:731266' labels=frozenset({'Interpellation', 'Bill'}) properties={'title_de': 'Revision der Verordnung über die Labortarife', 'bill_number': '08.3626', 'title_fr': 'Tarifs de laboratoire. Révision de la liste des analyses', 'urgent': False, 'status': 'Resolved'}>\n",
      "ABOUT, Node2 Tag data <Node element_id='4:fa996e42-3a3f-4866-ad85-cb06ad63f099:454255' labels=frozenset({'Tag', 'Issuelist'}) properties={'name': 'Gesundheit'}>\n",
      "----------------------------------------\n",
      "Node1 Bill data <Node element_id='4:fa996e42-3a3f-4866-ad85-cb06ad63f099:731172' labels=frozenset({'Postulate', 'Bill'}) properties={'title_de': 'Kampf der hohen Zahl von Suiziden in der Schweiz', 'bill_number': '08.3366', 'title_fr': 'Taux élevé de suicides en Suisse. Mesures de prévention', 'urgent': False, 'status': 'Resolved'}>\n",
      "ABOUT, Node2 Tag data <Node element_id='4:fa996e42-3a3f-4866-ad85-cb06ad63f099:454255' labels=frozenset({'Tag', 'Issuelist'}) properties={'name': 'Gesundheit'}>\n",
      "----------------------------------------\n",
      "Node1 Bill data <Node element_id='4:fa996e42-3a3f-4866-ad85-cb06ad63f099:731288' labels=frozenset({'Interpellation', 'Bill'}) properties={'title_de': 'Aktivismus des BAG. Volkswirtschaftliche Schäden und Auswirkungen', 'bill_number': '08.3259', 'title_fr': \"Activité débordante de l'OFSP. Dommages et coûts économiques\", 'urgent': False, 'status': 'Resolved'}>\n",
      "ABOUT, Node2 Tag data <Node element_id='4:fa996e42-3a3f-4866-ad85-cb06ad63f099:454255' labels=frozenset({'Tag', 'Issuelist'}) properties={'name': 'Gesundheit'}>\n",
      "----------------------------------------\n",
      "Node1 Bill data <Node element_id='4:fa996e42-3a3f-4866-ad85-cb06ad63f099:731027' labels=frozenset({'Motion', 'Bill'}) properties={'title_de': 'Zigarettenpreise. Stopp der Verführung', 'bill_number': '08.3408', 'title_fr': 'Prix des cigarettes. Interdire les mesures promotionnelles', 'urgent': False, 'status': 'Resolved'}>\n",
      "ABOUT, Node2 Tag data <Node element_id='4:fa996e42-3a3f-4866-ad85-cb06ad63f099:454255' labels=frozenset({'Tag', 'Issuelist'}) properties={'name': 'Gesundheit'}>\n",
      "----------------------------------------\n"
     ]
    },
    {
     "name": "stderr",
     "output_type": "stream",
     "text": [
      "/tmp/ipykernel_7626/893329818.py:110: DeprecationWarning: read_transaction has been renamed to execute_read\n",
      "  examples = session.read_transaction(get_node_data_with_relation_and_node, node_label, relation, node_label_2)\n"
     ]
    }
   ],
   "source": [
    "get_node_data_with_relation_and_node_data_main()"
   ]
  },
  {
   "cell_type": "code",
   "execution_count": 12,
   "id": "78767236-0e5b-49e1-9278-22b44f4a9cea",
   "metadata": {
    "scrolled": true
   },
   "outputs": [
    {
     "name": "stdout",
     "output_type": "stream",
     "text": [
      "Unexpected Vote Total\n",
      "Limited Partnership\n",
      "Transcript\n",
      "Bill\n",
      "Public Foundation\n",
      "Message/Report not in BBl\n",
      "Issuelist\n",
      "Question\n",
      "General Partnership\n",
      "Federal Council Report\n",
      "Reasoning\n",
      "Person\n",
      "Consultation\n",
      "Limited Liability Company\n",
      "Discussion\n",
      "Parliamentary Group\n",
      "Chamber\n",
      "Committee\n",
      "Cooperative\n",
      "Corporation\n",
      "Popular vote\n",
      "Meeting\n",
      "Federal Council Dispatch\n",
      "Committee Debate\n",
      "Canton\n",
      "Negotiation booklet\n",
      "Location\n",
      "Postprocessing Necessary\n",
      "Written Response\n",
      "Media Summary\n",
      "Year\n",
      "Proposal\n",
      "Vote\n",
      "Petition\n",
      "Session\n",
      "Debate\n",
      "Interpellation\n",
      "Federal Response\n",
      "Not Bill Related\n",
      "Cantonal Initiative\n",
      "Legislative Period\n",
      "Unique Person\n",
      "Commission documents\n",
      "Club\n",
      "Public Institute\n",
      "Postulate\n",
      "Submitted\n",
      "External Entity\n",
      "Source\n",
      "Tag\n",
      "Interest Group\n",
      "Organisation\n",
      "BillText\n",
      "Party\n",
      "Partition\n",
      "Commission\n",
      "Ambiguous Person\n",
      "Other Parliamentary Activities\n",
      "Ambiguous Employer\n",
      "Delegation\n",
      "Foundation\n",
      "Question Time\n",
      "News Report\n",
      "Federal Commission\n",
      "URL\n",
      "Chamber Debate\n",
      "Legislative Proposition\n",
      "Enactment Draft\n",
      "Parliamentary Initiative\n",
      "Public Body\n",
      "Speech\n",
      "MultiDebate\n",
      "Inconsistent Timestamp\n",
      "City\n",
      "Simple Cooperative\n",
      "Party Class\n",
      "Department\n",
      "Motion\n",
      "Employer\n"
     ]
    }
   ],
   "source": [
    "get_unique_node_labels_main()"
   ]
  },
  {
   "cell_type": "code",
   "execution_count": 9,
   "id": "1037ed43-d1a6-4d9d-98ec-30c0f27176ed",
   "metadata": {},
   "outputs": [
    {
     "name": "stderr",
     "output_type": "stream",
     "text": [
      "/tmp/ipykernel_7626/2236063300.py:22: DeprecationWarning: read_transaction has been renamed to execute_read\n",
      "  unique_relationships = session.read_transaction(get_unique_relationships, node_label)\n"
     ]
    },
    {
     "name": "stdout",
     "output_type": "stream",
     "text": [
      "Unique relationships related to 'Bill' nodes:\n",
      "SPONSORS\n",
      "SUBMITTED_TO\n",
      "CONTAINS\n",
      "ABOUT\n",
      "REACTION_TO\n",
      "PROPOSED_TO\n",
      "COSPONSORS\n",
      "RELATED_TO\n",
      "ACTING_AS\n",
      "PROPOSED\n"
     ]
    }
   ],
   "source": [
    "get_unique_relationships_main()"
   ]
  },
  {
   "cell_type": "code",
   "execution_count": 10,
   "id": "b40acc79-fa6a-4f7f-bdb4-a354d82aae3f",
   "metadata": {},
   "outputs": [
    {
     "name": "stderr",
     "output_type": "stream",
     "text": [
      "/tmp/ipykernel_7626/2236063300.py:22: DeprecationWarning: read_transaction has been renamed to execute_read\n",
      "  unique_relationships = session.read_transaction(get_unique_relationships, node_label)\n"
     ]
    },
    {
     "name": "stdout",
     "output_type": "stream",
     "text": [
      "Unique relationships related to 'BillText' nodes:\n",
      "CONTAINS\n"
     ]
    }
   ],
   "source": [
    "get_unique_relationships_main(\"BillText\")"
   ]
  },
  {
   "cell_type": "code",
   "execution_count": 15,
   "id": "f8d668af-d413-4ab4-bc52-991e59f504f0",
   "metadata": {},
   "outputs": [
    {
     "name": "stderr",
     "output_type": "stream",
     "text": [
      "/tmp/ipykernel_7626/1527625206.py:56: DeprecationWarning: read_transaction has been renamed to execute_read\n",
      "  unique_relationships = session.read_transaction(get_unique_relationships_with_nodes, node_label)\n"
     ]
    },
    {
     "name": "stdout",
     "output_type": "stream",
     "text": [
      "Unique relationships related to 'Bill' nodes:\n",
      "('SUBMITTED_TO', ['Chamber'])\n",
      "('CONTAINS', ['BillText', 'Submitted'])\n",
      "('ABOUT', ['Tag', 'Issuelist'])\n",
      "('CONTAINS', ['Debate', 'Chamber Debate'])\n",
      "('PROPOSED_TO', ['Department'])\n",
      "('CONTAINS', ['Debate', 'Committee Debate'])\n",
      "('CONTAINS', ['BillText', 'Reasoning'])\n",
      "('RELATED_TO', ['Bill', 'Motion'])\n",
      "('CONTAINS', ['Enactment Draft'])\n",
      "('CONTAINS', ['BillText', 'News Report'])\n",
      "('CONTAINS', ['BillText', 'Media Summary'])\n",
      "('RELATED_TO', ['Bill', 'Parliamentary Initiative'])\n",
      "('CONTAINS', ['URL'])\n",
      "('RELATED_TO', ['Bill', 'Federal Council Dispatch'])\n",
      "('RELATED_TO', ['Bill', 'Postulate'])\n",
      "('RELATED_TO', ['Bill', 'Federal Council Report'])\n",
      "('RELATED_TO', ['Bill', 'Interpellation'])\n",
      "('RELATED_TO', ['Bill', 'Cantonal Initiative'])\n",
      "('RELATED_TO', ['Bill', 'Question'])\n",
      "('CONTAINS', ['URL', 'Popular vote'])\n",
      "('CONTAINS', ['URL', 'Negotiation booklet'])\n",
      "('CONTAINS', ['URL', 'Commission documents'])\n",
      "('CONTAINS', ['URL', 'Consultation'])\n",
      "('CONTAINS', ['URL', 'Message/Report not in BBl'])\n"
     ]
    }
   ],
   "source": [
    "get_unique_relationships_with_nodes_main()"
   ]
  },
  {
   "cell_type": "code",
   "execution_count": 16,
   "id": "17a830c0-076f-41be-b636-4cbd9cf3a8de",
   "metadata": {},
   "outputs": [
    {
     "name": "stderr",
     "output_type": "stream",
     "text": [
      "/tmp/ipykernel_7626/1527625206.py:56: DeprecationWarning: read_transaction has been renamed to execute_read\n",
      "  unique_relationships = session.read_transaction(get_unique_relationships_with_nodes, node_label)\n"
     ]
    },
    {
     "name": "stdout",
     "output_type": "stream",
     "text": [
      "Unique relationships related to 'Speech' nodes:\n",
      "('SUBMITTED_TO', ['Chamber'])\n",
      "('CONTAINS', ['BillText', 'Submitted'])\n",
      "('ABOUT', ['Tag', 'Issuelist'])\n",
      "('CONTAINS', ['Debate', 'Chamber Debate'])\n",
      "('PROPOSED_TO', ['Department'])\n",
      "('CONTAINS', ['Debate', 'Committee Debate'])\n",
      "('CONTAINS', ['BillText', 'Reasoning'])\n",
      "('RELATED_TO', ['Bill', 'Motion'])\n",
      "('CONTAINS', ['Enactment Draft'])\n",
      "('CONTAINS', ['BillText', 'News Report'])\n",
      "('CONTAINS', ['BillText', 'Media Summary'])\n",
      "('RELATED_TO', ['Bill', 'Parliamentary Initiative'])\n",
      "('CONTAINS', ['URL'])\n",
      "('RELATED_TO', ['Bill', 'Federal Council Dispatch'])\n",
      "('RELATED_TO', ['Bill', 'Postulate'])\n",
      "('RELATED_TO', ['Bill', 'Federal Council Report'])\n",
      "('RELATED_TO', ['Bill', 'Interpellation'])\n",
      "('RELATED_TO', ['Bill', 'Cantonal Initiative'])\n",
      "('RELATED_TO', ['Bill', 'Question'])\n",
      "('CONTAINS', ['URL', 'Popular vote'])\n",
      "('CONTAINS', ['URL', 'Negotiation booklet'])\n",
      "('CONTAINS', ['URL', 'Commission documents'])\n",
      "('CONTAINS', ['URL', 'Consultation'])\n",
      "('CONTAINS', ['URL', 'Message/Report not in BBl'])\n"
     ]
    }
   ],
   "source": [
    "get_unique_relationships_with_nodes_main(\"Speech\")"
   ]
  },
  {
   "cell_type": "code",
   "execution_count": 17,
   "id": "bf47824a-aece-4e80-89e7-ec692e698276",
   "metadata": {},
   "outputs": [
    {
     "name": "stderr",
     "output_type": "stream",
     "text": [
      "/tmp/ipykernel_7626/1527625206.py:56: DeprecationWarning: read_transaction has been renamed to execute_read\n",
      "  unique_relationships = session.read_transaction(get_unique_relationships_with_nodes, node_label)\n"
     ]
    },
    {
     "name": "stdout",
     "output_type": "stream",
     "text": [
      "Unique relationships related to 'Transcript' nodes:\n",
      "('SUBMITTED_TO', ['Chamber'])\n",
      "('CONTAINS', ['BillText', 'Submitted'])\n",
      "('ABOUT', ['Tag', 'Issuelist'])\n",
      "('CONTAINS', ['Debate', 'Chamber Debate'])\n",
      "('PROPOSED_TO', ['Department'])\n",
      "('CONTAINS', ['Debate', 'Committee Debate'])\n",
      "('CONTAINS', ['BillText', 'Reasoning'])\n",
      "('RELATED_TO', ['Bill', 'Motion'])\n",
      "('CONTAINS', ['Enactment Draft'])\n",
      "('CONTAINS', ['BillText', 'News Report'])\n",
      "('CONTAINS', ['BillText', 'Media Summary'])\n",
      "('RELATED_TO', ['Bill', 'Parliamentary Initiative'])\n",
      "('CONTAINS', ['URL'])\n",
      "('RELATED_TO', ['Bill', 'Federal Council Dispatch'])\n",
      "('RELATED_TO', ['Bill', 'Postulate'])\n",
      "('RELATED_TO', ['Bill', 'Federal Council Report'])\n",
      "('RELATED_TO', ['Bill', 'Interpellation'])\n",
      "('RELATED_TO', ['Bill', 'Cantonal Initiative'])\n",
      "('RELATED_TO', ['Bill', 'Question'])\n",
      "('CONTAINS', ['URL', 'Popular vote'])\n",
      "('CONTAINS', ['URL', 'Negotiation booklet'])\n",
      "('CONTAINS', ['URL', 'Commission documents'])\n",
      "('CONTAINS', ['URL', 'Consultation'])\n",
      "('CONTAINS', ['URL', 'Message/Report not in BBl'])\n"
     ]
    }
   ],
   "source": [
    "get_unique_relationships_with_nodes_main(\"Transcript\")"
   ]
  },
  {
   "cell_type": "code",
   "execution_count": null,
   "id": "d272bb58-47d5-4e22-8b1f-933c78a291f0",
   "metadata": {},
   "outputs": [],
   "source": []
  },
  {
   "cell_type": "code",
   "execution_count": null,
   "id": "81d20586-34c0-4287-a2de-6bdd2e74d9dd",
   "metadata": {},
   "outputs": [],
   "source": []
  },
  {
   "cell_type": "code",
   "execution_count": null,
   "id": "437b9758-1203-4eda-9447-0aecaeb59459",
   "metadata": {},
   "outputs": [],
   "source": []
  },
  {
   "cell_type": "code",
   "execution_count": null,
   "id": "f7e1f6f0-fa45-4e61-983e-cd22b1790f75",
   "metadata": {},
   "outputs": [],
   "source": []
  },
  {
   "cell_type": "code",
   "execution_count": null,
   "id": "ba57289b-2a12-4f0e-bdc4-dfbbb4ca043c",
   "metadata": {},
   "outputs": [],
   "source": []
  },
  {
   "cell_type": "code",
   "execution_count": null,
   "id": "85133c59-8853-4de4-906b-35e1840316f9",
   "metadata": {},
   "outputs": [],
   "source": []
  },
  {
   "cell_type": "code",
   "execution_count": null,
   "id": "26318399-de04-4cab-8107-fc7087fc7c2e",
   "metadata": {},
   "outputs": [],
   "source": []
  },
  {
   "cell_type": "code",
   "execution_count": 5,
   "id": "df230e84-4587-47b1-b0d7-6273ebedf076",
   "metadata": {},
   "outputs": [
    {
     "name": "stdout",
     "output_type": "stream",
     "text": [
      "Examples of 'Bill' nodes with 'ABOUT' relationship data:\n",
      "Bill: <Node element_id='4:fa996e42-3a3f-4866-ad85-cb06ad63f099:454275' labels=frozenset({'Question Time', 'Bill'}) properties={'title_de': 'Kyoto-Protokoll. Bilanz der bisherigen Politik?', 'bill_number': '09.5595', 'title_fr': 'Protocole de Kyoto. Bilan de la politique menée?', 'urgent': False, 'status': 'Resolved'}>\n",
      "About Data: <Node element_id='4:fa996e42-3a3f-4866-ad85-cb06ad63f099:454270' labels=frozenset({'Issuelist', 'Tag'}) properties={'name': 'Umwelt'}>\n",
      "----------------------------------------\n",
      "Bill: <Node element_id='4:fa996e42-3a3f-4866-ad85-cb06ad63f099:454276' labels=frozenset({'Question Time', 'Bill'}) properties={'title_de': 'Einsparungspotenzial bei der SRG', 'bill_number': '09.5612', 'title_fr': \"Possibilités d'économies pour la SSR\", 'urgent': False, 'status': 'Resolved'}>\n",
      "About Data: <Node element_id='4:fa996e42-3a3f-4866-ad85-cb06ad63f099:454257' labels=frozenset({'Issuelist', 'Tag'}) properties={'name': 'Medien und Kommunikation'}>\n",
      "----------------------------------------\n",
      "Bill: <Node element_id='4:fa996e42-3a3f-4866-ad85-cb06ad63f099:454277' labels=frozenset({'Question Time', 'Bill'}) properties={'title_de': 'Putsch in Honduras', 'bill_number': '09.5570', 'title_fr': \"Coup d'Etat au Honduras\", 'urgent': False, 'status': 'Resolved'}>\n",
      "About Data: <Node element_id='4:fa996e42-3a3f-4866-ad85-cb06ad63f099:454272' labels=frozenset({'Issuelist', 'Tag'}) properties={'name': 'Internationale Politik'}>\n",
      "----------------------------------------\n",
      "Bill: <Node element_id='4:fa996e42-3a3f-4866-ad85-cb06ad63f099:454278' labels=frozenset({'Question Time', 'Bill'}) properties={'title_de': 'Wintereinbruch und Verkehrsmanagement auf der A2', 'bill_number': '09.5622', 'title_fr': \"Premières chutes de neige et gestion de la circulation sur l'A2\", 'urgent': False, 'status': 'Resolved'}>\n",
      "About Data: <Node element_id='4:fa996e42-3a3f-4866-ad85-cb06ad63f099:454263' labels=frozenset({'Issuelist', 'Tag'}) properties={'name': 'Verkehr'}>\n",
      "----------------------------------------\n",
      "Bill: <Node element_id='4:fa996e42-3a3f-4866-ad85-cb06ad63f099:454279' labels=frozenset({'Question Time', 'Bill'}) properties={'title_de': 'Berufsverbot für Frauen', 'bill_number': '09.5569', 'title_fr': \"Interdiction d'exercer une profession pour les femmes\", 'urgent': False, 'status': 'Resolved'}>\n",
      "About Data: <Node element_id='4:fa996e42-3a3f-4866-ad85-cb06ad63f099:454262' labels=frozenset({'Issuelist', 'Tag'}) properties={'name': 'Recht Allgemein'}>\n",
      "----------------------------------------\n",
      "Bill: <Node element_id='4:fa996e42-3a3f-4866-ad85-cb06ad63f099:454280' labels=frozenset({'Question Time', 'Bill'}) properties={'title_de': 'Minarett-Verbot. EMRK-Abklärung durch den Bundesrat', 'bill_number': '09.5611', 'title_fr': 'Interdiction des minarets. Examen de la conformité à la CEDH par le Conseil fédéral', 'urgent': False, 'status': 'Resolved'}>\n",
      "About Data: <Node element_id='4:fa996e42-3a3f-4866-ad85-cb06ad63f099:454262' labels=frozenset({'Issuelist', 'Tag'}) properties={'name': 'Recht Allgemein'}>\n",
      "----------------------------------------\n",
      "Bill: <Node element_id='4:fa996e42-3a3f-4866-ad85-cb06ad63f099:454280' labels=frozenset({'Question Time', 'Bill'}) properties={'title_de': 'Minarett-Verbot. EMRK-Abklärung durch den Bundesrat', 'bill_number': '09.5611', 'title_fr': 'Interdiction des minarets. Examen de la conformité à la CEDH par le Conseil fédéral', 'urgent': False, 'status': 'Resolved'}>\n",
      "About Data: <Node element_id='4:fa996e42-3a3f-4866-ad85-cb06ad63f099:454259' labels=frozenset({'Issuelist', 'Tag'}) properties={'name': 'Kultur'}>\n",
      "----------------------------------------\n",
      "Bill: <Node element_id='4:fa996e42-3a3f-4866-ad85-cb06ad63f099:454281' labels=frozenset({'Question Time', 'Bill'}) properties={'title_de': 'Neutrales Gutachten zur Einschätzung der Risiken des Kernkraftwerks Mühleberg?', 'bill_number': '09.5559', 'title_fr': 'Une expertise neutre pour évaluer les risques de la centrale nucléaire de Mühleberg?', 'urgent': False, 'status': 'Resolved'}>\n",
      "About Data: <Node element_id='4:fa996e42-3a3f-4866-ad85-cb06ad63f099:454273' labels=frozenset({'Issuelist', 'Tag'}) properties={'name': 'Energie'}>\n",
      "----------------------------------------\n",
      "Bill: <Node element_id='4:fa996e42-3a3f-4866-ad85-cb06ad63f099:454282' labels=frozenset({'Question Time', 'Bill'}) properties={'title_de': 'UBS-Verantwortlichkeitsklage?', 'bill_number': '09.5631', 'title_fr': 'UBS. Action en responsabilité?', 'urgent': False, 'status': 'Resolved'}>\n",
      "About Data: <Node element_id='4:fa996e42-3a3f-4866-ad85-cb06ad63f099:454260' labels=frozenset({'Issuelist', 'Tag'}) properties={'name': 'Finanzwesen'}>\n",
      "----------------------------------------\n",
      "Bill: <Node element_id='4:fa996e42-3a3f-4866-ad85-cb06ad63f099:454283' labels=frozenset({'Question Time', 'Bill'}) properties={'title_de': 'Druckaufträge der Post im Ausland', 'bill_number': '09.5592', 'title_fr': \"Commandes d'impression confiées par la Poste à des entreprises situées à l'étranger\", 'urgent': False, 'status': 'Resolved'}>\n",
      "About Data: <Node element_id='4:fa996e42-3a3f-4866-ad85-cb06ad63f099:454257' labels=frozenset({'Issuelist', 'Tag'}) properties={'name': 'Medien und Kommunikation'}>\n",
      "----------------------------------------\n"
     ]
    },
    {
     "name": "stderr",
     "output_type": "stream",
     "text": [
      "/tmp/ipykernel_7505/2839504859.py:10: DeprecationWarning: Using a driver after it has been closed is deprecated. Future versions of the driver will raise an error.\n",
      "  with driver.session() as session:\n",
      "/tmp/ipykernel_7505/2839504859.py:11: DeprecationWarning: read_transaction has been renamed to execute_read\n",
      "  bill_about_examples = session.read_transaction(get_bill_about_data)\n"
     ]
    }
   ],
   "source": [
    "def get_bill_about_data(tx):\n",
    "    query = \"\"\"\n",
    "    MATCH (b:Bill)-[r:ABOUT]->(aboutData)\n",
    "    RETURN b, aboutData LIMIT 10\n",
    "    \"\"\"\n",
    "    result = tx.run(query)\n",
    "    return [{\"bill\": record[\"b\"], \"about_data\": record[\"aboutData\"]} for record in result]\n",
    "\n",
    "# Main block to run the query\n",
    "with driver.session() as session:\n",
    "    bill_about_examples = session.read_transaction(get_bill_about_data)\n",
    "    \n",
    "    # Output the examples\n",
    "    print(\"Examples of 'Bill' nodes with 'ABOUT' relationship data:\")\n",
    "    for example in bill_about_examples:\n",
    "        print(f\"Bill: {example['bill']}\")\n",
    "        print(f\"About Data: {example['about_data']}\")\n",
    "        print(\"-\" * 40)"
   ]
  },
  {
   "cell_type": "code",
   "execution_count": 3,
   "id": "18442bbc-b371-4412-b3b5-0bca42d0ba78",
   "metadata": {},
   "outputs": [
    {
     "name": "stderr",
     "output_type": "stream",
     "text": [
      "Received notification from DBMS server: {severity: WARNING} {code: Neo.ClientNotification.Statement.FeatureDeprecationWarning} {category: DEPRECATION} {title: This feature is deprecated and will be removed in future versions.} {description: All subqueries in a UNION [ALL] should have the same ordering for the return columns. Using differently ordered return items in a UNION [ALL] clause is deprecated and will be removed in a future version.} {position: line: 2, column: 9, offset: 9} for query: '\\n        MATCH (b:Bill)-[r]->(n)\\n        RETURN b, r, n\\n        LIMIT 25\\n        UNION\\n        MATCH (n)-[r]->(b:Bill)\\n        RETURN n, r, b\\n        LIMIT 25\\n        '\n"
     ]
    },
    {
     "name": "stdout",
     "output_type": "stream",
     "text": [
      "Node 1: <Node element_id='4:fa996e42-3a3f-4866-ad85-cb06ad63f099:454275' labels=frozenset({'Question Time', 'Bill'}) properties={'title_de': 'Kyoto-Protokoll. Bilanz der bisherigen Politik?', 'bill_number': '09.5595', 'title_fr': 'Protocole de Kyoto. Bilan de la politique menée?', 'urgent': False, 'status': 'Resolved'}> - Relationship: <Relationship element_id='5:fa996e42-3a3f-4866-ad85-cb06ad63f099:492646' nodes=(<Node element_id='4:fa996e42-3a3f-4866-ad85-cb06ad63f099:454275' labels=frozenset({'Question Time', 'Bill'}) properties={'title_de': 'Kyoto-Protokoll. Bilanz der bisherigen Politik?', 'bill_number': '09.5595', 'title_fr': 'Protocole de Kyoto. Bilan de la politique menée?', 'urgent': False, 'status': 'Resolved'}>, <Node element_id='4:fa996e42-3a3f-4866-ad85-cb06ad63f099:518450' labels=frozenset({'Chamber'}) properties={'name': 'Nationalrat', 'abbrev': 'NR'}>) type='SUBMITTED_TO' properties={'date': neo4j.time.Date(2009, 12, 7)}> - Node 2: <Node element_id='4:fa996e42-3a3f-4866-ad85-cb06ad63f099:518450' labels=frozenset({'Chamber'}) properties={'name': 'Nationalrat', 'abbrev': 'NR'}>\n",
      "Node 1: <Node element_id='4:fa996e42-3a3f-4866-ad85-cb06ad63f099:454275' labels=frozenset({'Question Time', 'Bill'}) properties={'title_de': 'Kyoto-Protokoll. Bilanz der bisherigen Politik?', 'bill_number': '09.5595', 'title_fr': 'Protocole de Kyoto. Bilan de la politique menée?', 'urgent': False, 'status': 'Resolved'}> - Relationship: <Relationship element_id='5:fa996e42-3a3f-4866-ad85-cb06ad63f099:386795' nodes=(<Node element_id='4:fa996e42-3a3f-4866-ad85-cb06ad63f099:454275' labels=frozenset({'Question Time', 'Bill'}) properties={'title_de': 'Kyoto-Protokoll. Bilanz der bisherigen Politik?', 'bill_number': '09.5595', 'title_fr': 'Protocole de Kyoto. Bilan de la politique menée?', 'urgent': False, 'status': 'Resolved'}>, <Node element_id='4:fa996e42-3a3f-4866-ad85-cb06ad63f099:248730' labels=frozenset({'Submitted', 'BillText'}) properties={'uid': '09.5595.bt.06f6de86-f3ed-49cf-b9e9-7904e5171c9f', 'text': '<p>In Hinblick auf die Klimakonferenz in Kopenhagen hat der Bundesrat angekündigt, dass er bis 2020 den Treibhausgas-Ausstoss der Schweiz nicht nur um 20 Prozent, sondern umf 30 Prozent reduzieren will.</p><p>Hat der Bundesrat nach der Ratifizierung des Kyoto-Protokolls eine Bilanz der bisherigen Situation erstellt bzw. die Auswirkungen der Umweltpolitik hinsichtlich der getroffenen Zielsetzungen (8-prozentige Reduktion des Treibhausgas-Ausstosses zwischen 2008 und 2012) untersucht?</p>'}>) type='CONTAINS' properties={}> - Node 2: <Node element_id='4:fa996e42-3a3f-4866-ad85-cb06ad63f099:248730' labels=frozenset({'Submitted', 'BillText'}) properties={'uid': '09.5595.bt.06f6de86-f3ed-49cf-b9e9-7904e5171c9f', 'text': '<p>In Hinblick auf die Klimakonferenz in Kopenhagen hat der Bundesrat angekündigt, dass er bis 2020 den Treibhausgas-Ausstoss der Schweiz nicht nur um 20 Prozent, sondern umf 30 Prozent reduzieren will.</p><p>Hat der Bundesrat nach der Ratifizierung des Kyoto-Protokolls eine Bilanz der bisherigen Situation erstellt bzw. die Auswirkungen der Umweltpolitik hinsichtlich der getroffenen Zielsetzungen (8-prozentige Reduktion des Treibhausgas-Ausstosses zwischen 2008 und 2012) untersucht?</p>'}>\n",
      "Node 1: <Node element_id='4:fa996e42-3a3f-4866-ad85-cb06ad63f099:454275' labels=frozenset({'Question Time', 'Bill'}) properties={'title_de': 'Kyoto-Protokoll. Bilanz der bisherigen Politik?', 'bill_number': '09.5595', 'title_fr': 'Protocole de Kyoto. Bilan de la politique menée?', 'urgent': False, 'status': 'Resolved'}> - Relationship: <Relationship element_id='5:fa996e42-3a3f-4866-ad85-cb06ad63f099:388211' nodes=(<Node element_id='4:fa996e42-3a3f-4866-ad85-cb06ad63f099:454275' labels=frozenset({'Question Time', 'Bill'}) properties={'title_de': 'Kyoto-Protokoll. Bilanz der bisherigen Politik?', 'bill_number': '09.5595', 'title_fr': 'Protocole de Kyoto. Bilan de la politique menée?', 'urgent': False, 'status': 'Resolved'}>, <Node element_id='4:fa996e42-3a3f-4866-ad85-cb06ad63f099:454270' labels=frozenset({'Issuelist', 'Tag'}) properties={'name': 'Umwelt'}>) type='ABOUT' properties={}> - Node 2: <Node element_id='4:fa996e42-3a3f-4866-ad85-cb06ad63f099:454270' labels=frozenset({'Issuelist', 'Tag'}) properties={'name': 'Umwelt'}>\n",
      "Node 1: <Node element_id='4:fa996e42-3a3f-4866-ad85-cb06ad63f099:454275' labels=frozenset({'Question Time', 'Bill'}) properties={'title_de': 'Kyoto-Protokoll. Bilanz der bisherigen Politik?', 'bill_number': '09.5595', 'title_fr': 'Protocole de Kyoto. Bilan de la politique menée?', 'urgent': False, 'status': 'Resolved'}> - Relationship: <Relationship element_id='5:fa996e42-3a3f-4866-ad85-cb06ad63f099:387390' nodes=(<Node element_id='4:fa996e42-3a3f-4866-ad85-cb06ad63f099:454275' labels=frozenset({'Question Time', 'Bill'}) properties={'title_de': 'Kyoto-Protokoll. Bilanz der bisherigen Politik?', 'bill_number': '09.5595', 'title_fr': 'Protocole de Kyoto. Bilan de la politique menée?', 'urgent': False, 'status': 'Resolved'}>, <Node element_id='4:fa996e42-3a3f-4866-ad85-cb06ad63f099:249343' labels=frozenset({'Debate', 'Chamber Debate'}) properties={'uid': '09_5595.1', 'date_start': neo4j.time.Date(2009, 12, 7), 'date_end': neo4j.time.Date(2009, 12, 7), 'order_stamp': 1}>) type='CONTAINS' properties={}> - Node 2: <Node element_id='4:fa996e42-3a3f-4866-ad85-cb06ad63f099:249343' labels=frozenset({'Debate', 'Chamber Debate'}) properties={'uid': '09_5595.1', 'date_start': neo4j.time.Date(2009, 12, 7), 'date_end': neo4j.time.Date(2009, 12, 7), 'order_stamp': 1}>\n",
      "Node 1: <Node element_id='4:fa996e42-3a3f-4866-ad85-cb06ad63f099:454275' labels=frozenset({'Question Time', 'Bill'}) properties={'title_de': 'Kyoto-Protokoll. Bilanz der bisherigen Politik?', 'bill_number': '09.5595', 'title_fr': 'Protocole de Kyoto. Bilan de la politique menée?', 'urgent': False, 'status': 'Resolved'}> - Relationship: <Relationship element_id='5:fa996e42-3a3f-4866-ad85-cb06ad63f099:353422' nodes=(<Node element_id='4:fa996e42-3a3f-4866-ad85-cb06ad63f099:454275' labels=frozenset({'Question Time', 'Bill'}) properties={'title_de': 'Kyoto-Protokoll. Bilanz der bisherigen Politik?', 'bill_number': '09.5595', 'title_fr': 'Protocole de Kyoto. Bilan de la politique menée?', 'urgent': False, 'status': 'Resolved'}>, <Node element_id='4:fa996e42-3a3f-4866-ad85-cb06ad63f099:455420' labels=frozenset({'Department'}) properties={'name': 'Departement für Umwelt, Verkehr, Energie und Kommunikation', 'abbrev': 'UVEK'}>) type='PROPOSED_TO' properties={'leading': 1}> - Node 2: <Node element_id='4:fa996e42-3a3f-4866-ad85-cb06ad63f099:455420' labels=frozenset({'Department'}) properties={'name': 'Departement für Umwelt, Verkehr, Energie und Kommunikation', 'abbrev': 'UVEK'}>\n",
      "Node 1: <Node element_id='4:fa996e42-3a3f-4866-ad85-cb06ad63f099:454276' labels=frozenset({'Question Time', 'Bill'}) properties={'title_de': 'Einsparungspotenzial bei der SRG', 'bill_number': '09.5612', 'title_fr': \"Possibilités d'économies pour la SSR\", 'urgent': False, 'status': 'Resolved'}> - Relationship: <Relationship element_id='5:fa996e42-3a3f-4866-ad85-cb06ad63f099:1510070' nodes=(<Node element_id='4:fa996e42-3a3f-4866-ad85-cb06ad63f099:454276' labels=frozenset({'Question Time', 'Bill'}) properties={'title_de': 'Einsparungspotenzial bei der SRG', 'bill_number': '09.5612', 'title_fr': \"Possibilités d'économies pour la SSR\", 'urgent': False, 'status': 'Resolved'}>, <Node element_id='4:fa996e42-3a3f-4866-ad85-cb06ad63f099:455420' labels=frozenset({'Department'}) properties={'name': 'Departement für Umwelt, Verkehr, Energie und Kommunikation', 'abbrev': 'UVEK'}>) type='PROPOSED_TO' properties={'leading': 1}> - Node 2: <Node element_id='4:fa996e42-3a3f-4866-ad85-cb06ad63f099:455420' labels=frozenset({'Department'}) properties={'name': 'Departement für Umwelt, Verkehr, Energie und Kommunikation', 'abbrev': 'UVEK'}>\n",
      "Node 1: <Node element_id='4:fa996e42-3a3f-4866-ad85-cb06ad63f099:454276' labels=frozenset({'Question Time', 'Bill'}) properties={'title_de': 'Einsparungspotenzial bei der SRG', 'bill_number': '09.5612', 'title_fr': \"Possibilités d'économies pour la SSR\", 'urgent': False, 'status': 'Resolved'}> - Relationship: <Relationship element_id='5:fa996e42-3a3f-4866-ad85-cb06ad63f099:492474' nodes=(<Node element_id='4:fa996e42-3a3f-4866-ad85-cb06ad63f099:454276' labels=frozenset({'Question Time', 'Bill'}) properties={'title_de': 'Einsparungspotenzial bei der SRG', 'bill_number': '09.5612', 'title_fr': \"Possibilités d'économies pour la SSR\", 'urgent': False, 'status': 'Resolved'}>, <Node element_id='4:fa996e42-3a3f-4866-ad85-cb06ad63f099:518450' labels=frozenset({'Chamber'}) properties={'name': 'Nationalrat', 'abbrev': 'NR'}>) type='SUBMITTED_TO' properties={'date': neo4j.time.Date(2009, 12, 7)}> - Node 2: <Node element_id='4:fa996e42-3a3f-4866-ad85-cb06ad63f099:518450' labels=frozenset({'Chamber'}) properties={'name': 'Nationalrat', 'abbrev': 'NR'}>\n",
      "Node 1: <Node element_id='4:fa996e42-3a3f-4866-ad85-cb06ad63f099:454276' labels=frozenset({'Question Time', 'Bill'}) properties={'title_de': 'Einsparungspotenzial bei der SRG', 'bill_number': '09.5612', 'title_fr': \"Possibilités d'économies pour la SSR\", 'urgent': False, 'status': 'Resolved'}> - Relationship: <Relationship element_id='5:fa996e42-3a3f-4866-ad85-cb06ad63f099:386171' nodes=(<Node element_id='4:fa996e42-3a3f-4866-ad85-cb06ad63f099:454276' labels=frozenset({'Question Time', 'Bill'}) properties={'title_de': 'Einsparungspotenzial bei der SRG', 'bill_number': '09.5612', 'title_fr': \"Possibilités d'économies pour la SSR\", 'urgent': False, 'status': 'Resolved'}>, <Node element_id='4:fa996e42-3a3f-4866-ad85-cb06ad63f099:249502' labels=frozenset({'Debate', 'Chamber Debate'}) properties={'uid': '09_5612.1', 'date_start': neo4j.time.Date(2009, 12, 7), 'date_end': neo4j.time.Date(2009, 12, 7), 'order_stamp': 1}>) type='CONTAINS' properties={}> - Node 2: <Node element_id='4:fa996e42-3a3f-4866-ad85-cb06ad63f099:249502' labels=frozenset({'Debate', 'Chamber Debate'}) properties={'uid': '09_5612.1', 'date_start': neo4j.time.Date(2009, 12, 7), 'date_end': neo4j.time.Date(2009, 12, 7), 'order_stamp': 1}>\n",
      "Node 1: <Node element_id='4:fa996e42-3a3f-4866-ad85-cb06ad63f099:454276' labels=frozenset({'Question Time', 'Bill'}) properties={'title_de': 'Einsparungspotenzial bei der SRG', 'bill_number': '09.5612', 'title_fr': \"Possibilités d'économies pour la SSR\", 'urgent': False, 'status': 'Resolved'}> - Relationship: <Relationship element_id='5:fa996e42-3a3f-4866-ad85-cb06ad63f099:388693' nodes=(<Node element_id='4:fa996e42-3a3f-4866-ad85-cb06ad63f099:454276' labels=frozenset({'Question Time', 'Bill'}) properties={'title_de': 'Einsparungspotenzial bei der SRG', 'bill_number': '09.5612', 'title_fr': \"Possibilités d'économies pour la SSR\", 'urgent': False, 'status': 'Resolved'}>, <Node element_id='4:fa996e42-3a3f-4866-ad85-cb06ad63f099:454257' labels=frozenset({'Issuelist', 'Tag'}) properties={'name': 'Medien und Kommunikation'}>) type='ABOUT' properties={}> - Node 2: <Node element_id='4:fa996e42-3a3f-4866-ad85-cb06ad63f099:454257' labels=frozenset({'Issuelist', 'Tag'}) properties={'name': 'Medien und Kommunikation'}>\n",
      "Node 1: <Node element_id='4:fa996e42-3a3f-4866-ad85-cb06ad63f099:454276' labels=frozenset({'Question Time', 'Bill'}) properties={'title_de': 'Einsparungspotenzial bei der SRG', 'bill_number': '09.5612', 'title_fr': \"Possibilités d'économies pour la SSR\", 'urgent': False, 'status': 'Resolved'}> - Relationship: <Relationship element_id='5:fa996e42-3a3f-4866-ad85-cb06ad63f099:384793' nodes=(<Node element_id='4:fa996e42-3a3f-4866-ad85-cb06ad63f099:454276' labels=frozenset({'Question Time', 'Bill'}) properties={'title_de': 'Einsparungspotenzial bei der SRG', 'bill_number': '09.5612', 'title_fr': \"Possibilités d'économies pour la SSR\", 'urgent': False, 'status': 'Resolved'}>, <Node element_id='4:fa996e42-3a3f-4866-ad85-cb06ad63f099:248806' labels=frozenset({'Submitted', 'BillText'}) properties={'uid': '09.5612.bt.312ce544-efac-4aea-a1a4-7067abb3d9e8', 'text': '<p>Die SRG weist in einem eigenen Bericht einen Fehlbetrag von 54 Millionen Franken pro Jahr aus und möchte die Einnahmen erhöhen.</p><p>Diverse Serien und Spielfilme, die die SRG ausstrahlt, könnte das TV-Publikum in der Schweiz auch auf ausländischen Privatsendern gratis empfangen.</p><p>- Wäre es nicht angebracht, statt einer Gebührenerhöhung z. B. auf solche Serien zu verzichten und damit Doppelspurigkeiten zu vermeiden?</p><p>- Wie viel Gebührengeld könnte die SRG so einsparen?</p>'}>) type='CONTAINS' properties={}> - Node 2: <Node element_id='4:fa996e42-3a3f-4866-ad85-cb06ad63f099:248806' labels=frozenset({'Submitted', 'BillText'}) properties={'uid': '09.5612.bt.312ce544-efac-4aea-a1a4-7067abb3d9e8', 'text': '<p>Die SRG weist in einem eigenen Bericht einen Fehlbetrag von 54 Millionen Franken pro Jahr aus und möchte die Einnahmen erhöhen.</p><p>Diverse Serien und Spielfilme, die die SRG ausstrahlt, könnte das TV-Publikum in der Schweiz auch auf ausländischen Privatsendern gratis empfangen.</p><p>- Wäre es nicht angebracht, statt einer Gebührenerhöhung z. B. auf solche Serien zu verzichten und damit Doppelspurigkeiten zu vermeiden?</p><p>- Wie viel Gebührengeld könnte die SRG so einsparen?</p>'}>\n",
      "Node 1: <Node element_id='4:fa996e42-3a3f-4866-ad85-cb06ad63f099:454277' labels=frozenset({'Question Time', 'Bill'}) properties={'title_de': 'Putsch in Honduras', 'bill_number': '09.5570', 'title_fr': \"Coup d'Etat au Honduras\", 'urgent': False, 'status': 'Resolved'}> - Relationship: <Relationship element_id='5:fa996e42-3a3f-4866-ad85-cb06ad63f099:1695802' nodes=(<Node element_id='4:fa996e42-3a3f-4866-ad85-cb06ad63f099:454277' labels=frozenset({'Question Time', 'Bill'}) properties={'title_de': 'Putsch in Honduras', 'bill_number': '09.5570', 'title_fr': \"Coup d'Etat au Honduras\", 'urgent': False, 'status': 'Resolved'}>, <Node element_id='4:fa996e42-3a3f-4866-ad85-cb06ad63f099:455424' labels=frozenset({'Department'}) properties={'name': 'Departement für auswärtige Angelegenheiten', 'abbrev': 'EDA'}>) type='PROPOSED_TO' properties={'leading': 1}> - Node 2: <Node element_id='4:fa996e42-3a3f-4866-ad85-cb06ad63f099:455424' labels=frozenset({'Department'}) properties={'name': 'Departement für auswärtige Angelegenheiten', 'abbrev': 'EDA'}>\n",
      "Node 1: <Node element_id='4:fa996e42-3a3f-4866-ad85-cb06ad63f099:454277' labels=frozenset({'Question Time', 'Bill'}) properties={'title_de': 'Putsch in Honduras', 'bill_number': '09.5570', 'title_fr': \"Coup d'Etat au Honduras\", 'urgent': False, 'status': 'Resolved'}> - Relationship: <Relationship element_id='5:fa996e42-3a3f-4866-ad85-cb06ad63f099:492475' nodes=(<Node element_id='4:fa996e42-3a3f-4866-ad85-cb06ad63f099:454277' labels=frozenset({'Question Time', 'Bill'}) properties={'title_de': 'Putsch in Honduras', 'bill_number': '09.5570', 'title_fr': \"Coup d'Etat au Honduras\", 'urgent': False, 'status': 'Resolved'}>, <Node element_id='4:fa996e42-3a3f-4866-ad85-cb06ad63f099:518450' labels=frozenset({'Chamber'}) properties={'name': 'Nationalrat', 'abbrev': 'NR'}>) type='SUBMITTED_TO' properties={'date': neo4j.time.Date(2009, 12, 7)}> - Node 2: <Node element_id='4:fa996e42-3a3f-4866-ad85-cb06ad63f099:518450' labels=frozenset({'Chamber'}) properties={'name': 'Nationalrat', 'abbrev': 'NR'}>\n",
      "Node 1: <Node element_id='4:fa996e42-3a3f-4866-ad85-cb06ad63f099:454277' labels=frozenset({'Question Time', 'Bill'}) properties={'title_de': 'Putsch in Honduras', 'bill_number': '09.5570', 'title_fr': \"Coup d'Etat au Honduras\", 'urgent': False, 'status': 'Resolved'}> - Relationship: <Relationship element_id='5:fa996e42-3a3f-4866-ad85-cb06ad63f099:388642' nodes=(<Node element_id='4:fa996e42-3a3f-4866-ad85-cb06ad63f099:454277' labels=frozenset({'Question Time', 'Bill'}) properties={'title_de': 'Putsch in Honduras', 'bill_number': '09.5570', 'title_fr': \"Coup d'Etat au Honduras\", 'urgent': False, 'status': 'Resolved'}>, <Node element_id='4:fa996e42-3a3f-4866-ad85-cb06ad63f099:454272' labels=frozenset({'Issuelist', 'Tag'}) properties={'name': 'Internationale Politik'}>) type='ABOUT' properties={}> - Node 2: <Node element_id='4:fa996e42-3a3f-4866-ad85-cb06ad63f099:454272' labels=frozenset({'Issuelist', 'Tag'}) properties={'name': 'Internationale Politik'}>\n",
      "Node 1: <Node element_id='4:fa996e42-3a3f-4866-ad85-cb06ad63f099:454277' labels=frozenset({'Question Time', 'Bill'}) properties={'title_de': 'Putsch in Honduras', 'bill_number': '09.5570', 'title_fr': \"Coup d'Etat au Honduras\", 'urgent': False, 'status': 'Resolved'}> - Relationship: <Relationship element_id='5:fa996e42-3a3f-4866-ad85-cb06ad63f099:385262' nodes=(<Node element_id='4:fa996e42-3a3f-4866-ad85-cb06ad63f099:454277' labels=frozenset({'Question Time', 'Bill'}) properties={'title_de': 'Putsch in Honduras', 'bill_number': '09.5570', 'title_fr': \"Coup d'Etat au Honduras\", 'urgent': False, 'status': 'Resolved'}>, <Node element_id='4:fa996e42-3a3f-4866-ad85-cb06ad63f099:248955' labels=frozenset({'Debate', 'Chamber Debate'}) properties={'uid': '09_5570.1', 'date_start': neo4j.time.Date(2009, 12, 7), 'date_end': neo4j.time.Date(2009, 12, 7), 'order_stamp': 1}>) type='CONTAINS' properties={}> - Node 2: <Node element_id='4:fa996e42-3a3f-4866-ad85-cb06ad63f099:248955' labels=frozenset({'Debate', 'Chamber Debate'}) properties={'uid': '09_5570.1', 'date_start': neo4j.time.Date(2009, 12, 7), 'date_end': neo4j.time.Date(2009, 12, 7), 'order_stamp': 1}>\n",
      "Node 1: <Node element_id='4:fa996e42-3a3f-4866-ad85-cb06ad63f099:454277' labels=frozenset({'Question Time', 'Bill'}) properties={'title_de': 'Putsch in Honduras', 'bill_number': '09.5570', 'title_fr': \"Coup d'Etat au Honduras\", 'urgent': False, 'status': 'Resolved'}> - Relationship: <Relationship element_id='5:fa996e42-3a3f-4866-ad85-cb06ad63f099:387494' nodes=(<Node element_id='4:fa996e42-3a3f-4866-ad85-cb06ad63f099:454277' labels=frozenset({'Question Time', 'Bill'}) properties={'title_de': 'Putsch in Honduras', 'bill_number': '09.5570', 'title_fr': \"Coup d'Etat au Honduras\", 'urgent': False, 'status': 'Resolved'}>, <Node element_id='4:fa996e42-3a3f-4866-ad85-cb06ad63f099:248428' labels=frozenset({'Submitted', 'BillText'}) properties={'uid': '09.5570.bt.d36a4410-f9a5-4ad1-8c66-af09de746c5f', 'text': '<p>Trifft es zu, dass der Bundesrat erwägt, die durch einen Putsch erstellte Regierung in Honduras, welche durch Wahlfälschungen grossen Ausmasses legitimiert werden sollte, zu anerkennen (wie dies über die AFP vermeldet wurde)?</p>'}>) type='CONTAINS' properties={}> - Node 2: <Node element_id='4:fa996e42-3a3f-4866-ad85-cb06ad63f099:248428' labels=frozenset({'Submitted', 'BillText'}) properties={'uid': '09.5570.bt.d36a4410-f9a5-4ad1-8c66-af09de746c5f', 'text': '<p>Trifft es zu, dass der Bundesrat erwägt, die durch einen Putsch erstellte Regierung in Honduras, welche durch Wahlfälschungen grossen Ausmasses legitimiert werden sollte, zu anerkennen (wie dies über die AFP vermeldet wurde)?</p>'}>\n",
      "Node 1: <Node element_id='4:fa996e42-3a3f-4866-ad85-cb06ad63f099:454278' labels=frozenset({'Question Time', 'Bill'}) properties={'title_de': 'Wintereinbruch und Verkehrsmanagement auf der A2', 'bill_number': '09.5622', 'title_fr': \"Premières chutes de neige et gestion de la circulation sur l'A2\", 'urgent': False, 'status': 'Resolved'}> - Relationship: <Relationship element_id='5:fa996e42-3a3f-4866-ad85-cb06ad63f099:1694340' nodes=(<Node element_id='4:fa996e42-3a3f-4866-ad85-cb06ad63f099:454278' labels=frozenset({'Question Time', 'Bill'}) properties={'title_de': 'Wintereinbruch und Verkehrsmanagement auf der A2', 'bill_number': '09.5622', 'title_fr': \"Premières chutes de neige et gestion de la circulation sur l'A2\", 'urgent': False, 'status': 'Resolved'}>, <Node element_id='4:fa996e42-3a3f-4866-ad85-cb06ad63f099:455420' labels=frozenset({'Department'}) properties={'name': 'Departement für Umwelt, Verkehr, Energie und Kommunikation', 'abbrev': 'UVEK'}>) type='PROPOSED_TO' properties={'leading': 1}> - Node 2: <Node element_id='4:fa996e42-3a3f-4866-ad85-cb06ad63f099:455420' labels=frozenset({'Department'}) properties={'name': 'Departement für Umwelt, Verkehr, Energie und Kommunikation', 'abbrev': 'UVEK'}>\n",
      "Node 1: <Node element_id='4:fa996e42-3a3f-4866-ad85-cb06ad63f099:454278' labels=frozenset({'Question Time', 'Bill'}) properties={'title_de': 'Wintereinbruch und Verkehrsmanagement auf der A2', 'bill_number': '09.5622', 'title_fr': \"Premières chutes de neige et gestion de la circulation sur l'A2\", 'urgent': False, 'status': 'Resolved'}> - Relationship: <Relationship element_id='5:fa996e42-3a3f-4866-ad85-cb06ad63f099:492582' nodes=(<Node element_id='4:fa996e42-3a3f-4866-ad85-cb06ad63f099:454278' labels=frozenset({'Question Time', 'Bill'}) properties={'title_de': 'Wintereinbruch und Verkehrsmanagement auf der A2', 'bill_number': '09.5622', 'title_fr': \"Premières chutes de neige et gestion de la circulation sur l'A2\", 'urgent': False, 'status': 'Resolved'}>, <Node element_id='4:fa996e42-3a3f-4866-ad85-cb06ad63f099:518450' labels=frozenset({'Chamber'}) properties={'name': 'Nationalrat', 'abbrev': 'NR'}>) type='SUBMITTED_TO' properties={'date': neo4j.time.Date(2009, 12, 7)}> - Node 2: <Node element_id='4:fa996e42-3a3f-4866-ad85-cb06ad63f099:518450' labels=frozenset({'Chamber'}) properties={'name': 'Nationalrat', 'abbrev': 'NR'}>\n",
      "Node 1: <Node element_id='4:fa996e42-3a3f-4866-ad85-cb06ad63f099:454278' labels=frozenset({'Question Time', 'Bill'}) properties={'title_de': 'Wintereinbruch und Verkehrsmanagement auf der A2', 'bill_number': '09.5622', 'title_fr': \"Premières chutes de neige et gestion de la circulation sur l'A2\", 'urgent': False, 'status': 'Resolved'}> - Relationship: <Relationship element_id='5:fa996e42-3a3f-4866-ad85-cb06ad63f099:387239' nodes=(<Node element_id='4:fa996e42-3a3f-4866-ad85-cb06ad63f099:454278' labels=frozenset({'Question Time', 'Bill'}) properties={'title_de': 'Wintereinbruch und Verkehrsmanagement auf der A2', 'bill_number': '09.5622', 'title_fr': \"Premières chutes de neige et gestion de la circulation sur l'A2\", 'urgent': False, 'status': 'Resolved'}>, <Node element_id='4:fa996e42-3a3f-4866-ad85-cb06ad63f099:249571' labels=frozenset({'Debate', 'Chamber Debate'}) properties={'uid': '09_5622.1', 'date_start': neo4j.time.Date(2009, 12, 7), 'date_end': neo4j.time.Date(2009, 12, 7), 'order_stamp': 1}>) type='CONTAINS' properties={}> - Node 2: <Node element_id='4:fa996e42-3a3f-4866-ad85-cb06ad63f099:249571' labels=frozenset({'Debate', 'Chamber Debate'}) properties={'uid': '09_5622.1', 'date_start': neo4j.time.Date(2009, 12, 7), 'date_end': neo4j.time.Date(2009, 12, 7), 'order_stamp': 1}>\n",
      "Node 1: <Node element_id='4:fa996e42-3a3f-4866-ad85-cb06ad63f099:454278' labels=frozenset({'Question Time', 'Bill'}) properties={'title_de': 'Wintereinbruch und Verkehrsmanagement auf der A2', 'bill_number': '09.5622', 'title_fr': \"Premières chutes de neige et gestion de la circulation sur l'A2\", 'urgent': False, 'status': 'Resolved'}> - Relationship: <Relationship element_id='5:fa996e42-3a3f-4866-ad85-cb06ad63f099:386541' nodes=(<Node element_id='4:fa996e42-3a3f-4866-ad85-cb06ad63f099:454278' labels=frozenset({'Question Time', 'Bill'}) properties={'title_de': 'Wintereinbruch und Verkehrsmanagement auf der A2', 'bill_number': '09.5622', 'title_fr': \"Premières chutes de neige et gestion de la circulation sur l'A2\", 'urgent': False, 'status': 'Resolved'}>, <Node element_id='4:fa996e42-3a3f-4866-ad85-cb06ad63f099:248738' labels=frozenset({'Submitted', 'BillText'}) properties={'uid': '09.5622.bt.67bcd3f7-a2ef-490f-83b5-0fa2b527b53d', 'text': '<p>Nach dem Wintereinbruch musste der Schwerverkehr Richtung Norden wegen fehlender Ausstellmöglichkeiten im Tessin über Nacht einmal mehr behelfsmässig abgestellt werden. Daran wird sich nichts ändern, bis Monteforno gebaut ist.</p><p>Hat der Bundesrat diese Probleme rechtzeitig und mit dem notwendigen Tempo angepackt, oder nimmt er diese Situation bewusst in Kauf?</p>'}>) type='CONTAINS' properties={}> - Node 2: <Node element_id='4:fa996e42-3a3f-4866-ad85-cb06ad63f099:248738' labels=frozenset({'Submitted', 'BillText'}) properties={'uid': '09.5622.bt.67bcd3f7-a2ef-490f-83b5-0fa2b527b53d', 'text': '<p>Nach dem Wintereinbruch musste der Schwerverkehr Richtung Norden wegen fehlender Ausstellmöglichkeiten im Tessin über Nacht einmal mehr behelfsmässig abgestellt werden. Daran wird sich nichts ändern, bis Monteforno gebaut ist.</p><p>Hat der Bundesrat diese Probleme rechtzeitig und mit dem notwendigen Tempo angepackt, oder nimmt er diese Situation bewusst in Kauf?</p>'}>\n",
      "Node 1: <Node element_id='4:fa996e42-3a3f-4866-ad85-cb06ad63f099:454278' labels=frozenset({'Question Time', 'Bill'}) properties={'title_de': 'Wintereinbruch und Verkehrsmanagement auf der A2', 'bill_number': '09.5622', 'title_fr': \"Premières chutes de neige et gestion de la circulation sur l'A2\", 'urgent': False, 'status': 'Resolved'}> - Relationship: <Relationship element_id='5:fa996e42-3a3f-4866-ad85-cb06ad63f099:388710' nodes=(<Node element_id='4:fa996e42-3a3f-4866-ad85-cb06ad63f099:454278' labels=frozenset({'Question Time', 'Bill'}) properties={'title_de': 'Wintereinbruch und Verkehrsmanagement auf der A2', 'bill_number': '09.5622', 'title_fr': \"Premières chutes de neige et gestion de la circulation sur l'A2\", 'urgent': False, 'status': 'Resolved'}>, <Node element_id='4:fa996e42-3a3f-4866-ad85-cb06ad63f099:454263' labels=frozenset({'Issuelist', 'Tag'}) properties={'name': 'Verkehr'}>) type='ABOUT' properties={}> - Node 2: <Node element_id='4:fa996e42-3a3f-4866-ad85-cb06ad63f099:454263' labels=frozenset({'Issuelist', 'Tag'}) properties={'name': 'Verkehr'}>\n",
      "Node 1: <Node element_id='4:fa996e42-3a3f-4866-ad85-cb06ad63f099:454279' labels=frozenset({'Question Time', 'Bill'}) properties={'title_de': 'Berufsverbot für Frauen', 'bill_number': '09.5569', 'title_fr': \"Interdiction d'exercer une profession pour les femmes\", 'urgent': False, 'status': 'Resolved'}> - Relationship: <Relationship element_id='5:fa996e42-3a3f-4866-ad85-cb06ad63f099:1275942' nodes=(<Node element_id='4:fa996e42-3a3f-4866-ad85-cb06ad63f099:454279' labels=frozenset({'Question Time', 'Bill'}) properties={'title_de': 'Berufsverbot für Frauen', 'bill_number': '09.5569', 'title_fr': \"Interdiction d'exercer une profession pour les femmes\", 'urgent': False, 'status': 'Resolved'}>, <Node element_id='4:fa996e42-3a3f-4866-ad85-cb06ad63f099:455422' labels=frozenset({'Department'}) properties={'name': 'Departement des Innern', 'abbrev': 'EDI'}>) type='PROPOSED_TO' properties={'leading': 1}> - Node 2: <Node element_id='4:fa996e42-3a3f-4866-ad85-cb06ad63f099:455422' labels=frozenset({'Department'}) properties={'name': 'Departement des Innern', 'abbrev': 'EDI'}>\n",
      "Node 1: <Node element_id='4:fa996e42-3a3f-4866-ad85-cb06ad63f099:454279' labels=frozenset({'Question Time', 'Bill'}) properties={'title_de': 'Berufsverbot für Frauen', 'bill_number': '09.5569', 'title_fr': \"Interdiction d'exercer une profession pour les femmes\", 'urgent': False, 'status': 'Resolved'}> - Relationship: <Relationship element_id='5:fa996e42-3a3f-4866-ad85-cb06ad63f099:492804' nodes=(<Node element_id='4:fa996e42-3a3f-4866-ad85-cb06ad63f099:454279' labels=frozenset({'Question Time', 'Bill'}) properties={'title_de': 'Berufsverbot für Frauen', 'bill_number': '09.5569', 'title_fr': \"Interdiction d'exercer une profession pour les femmes\", 'urgent': False, 'status': 'Resolved'}>, <Node element_id='4:fa996e42-3a3f-4866-ad85-cb06ad63f099:518450' labels=frozenset({'Chamber'}) properties={'name': 'Nationalrat', 'abbrev': 'NR'}>) type='SUBMITTED_TO' properties={'date': neo4j.time.Date(2009, 12, 7)}> - Node 2: <Node element_id='4:fa996e42-3a3f-4866-ad85-cb06ad63f099:518450' labels=frozenset({'Chamber'}) properties={'name': 'Nationalrat', 'abbrev': 'NR'}>\n",
      "Node 1: <Node element_id='4:fa996e42-3a3f-4866-ad85-cb06ad63f099:454279' labels=frozenset({'Question Time', 'Bill'}) properties={'title_de': 'Berufsverbot für Frauen', 'bill_number': '09.5569', 'title_fr': \"Interdiction d'exercer une profession pour les femmes\", 'urgent': False, 'status': 'Resolved'}> - Relationship: <Relationship element_id='5:fa996e42-3a3f-4866-ad85-cb06ad63f099:387795' nodes=(<Node element_id='4:fa996e42-3a3f-4866-ad85-cb06ad63f099:454279' labels=frozenset({'Question Time', 'Bill'}) properties={'title_de': 'Berufsverbot für Frauen', 'bill_number': '09.5569', 'title_fr': \"Interdiction d'exercer une profession pour les femmes\", 'urgent': False, 'status': 'Resolved'}>, <Node element_id='4:fa996e42-3a3f-4866-ad85-cb06ad63f099:249419' labels=frozenset({'Debate', 'Chamber Debate'}) properties={'uid': '09_5569.1', 'date_start': neo4j.time.Date(2009, 12, 7), 'date_end': neo4j.time.Date(2009, 12, 7), 'order_stamp': 1}>) type='CONTAINS' properties={}> - Node 2: <Node element_id='4:fa996e42-3a3f-4866-ad85-cb06ad63f099:249419' labels=frozenset({'Debate', 'Chamber Debate'}) properties={'uid': '09_5569.1', 'date_start': neo4j.time.Date(2009, 12, 7), 'date_end': neo4j.time.Date(2009, 12, 7), 'order_stamp': 1}>\n",
      "Node 1: <Node element_id='4:fa996e42-3a3f-4866-ad85-cb06ad63f099:454279' labels=frozenset({'Question Time', 'Bill'}) properties={'title_de': 'Berufsverbot für Frauen', 'bill_number': '09.5569', 'title_fr': \"Interdiction d'exercer une profession pour les femmes\", 'urgent': False, 'status': 'Resolved'}> - Relationship: <Relationship element_id='5:fa996e42-3a3f-4866-ad85-cb06ad63f099:388237' nodes=(<Node element_id='4:fa996e42-3a3f-4866-ad85-cb06ad63f099:454279' labels=frozenset({'Question Time', 'Bill'}) properties={'title_de': 'Berufsverbot für Frauen', 'bill_number': '09.5569', 'title_fr': \"Interdiction d'exercer une profession pour les femmes\", 'urgent': False, 'status': 'Resolved'}>, <Node element_id='4:fa996e42-3a3f-4866-ad85-cb06ad63f099:454262' labels=frozenset({'Issuelist', 'Tag'}) properties={'name': 'Recht Allgemein'}>) type='ABOUT' properties={}> - Node 2: <Node element_id='4:fa996e42-3a3f-4866-ad85-cb06ad63f099:454262' labels=frozenset({'Issuelist', 'Tag'}) properties={'name': 'Recht Allgemein'}>\n",
      "Node 1: <Node element_id='4:fa996e42-3a3f-4866-ad85-cb06ad63f099:454279' labels=frozenset({'Question Time', 'Bill'}) properties={'title_de': 'Berufsverbot für Frauen', 'bill_number': '09.5569', 'title_fr': \"Interdiction d'exercer une profession pour les femmes\", 'urgent': False, 'status': 'Resolved'}> - Relationship: <Relationship element_id='5:fa996e42-3a3f-4866-ad85-cb06ad63f099:387063' nodes=(<Node element_id='4:fa996e42-3a3f-4866-ad85-cb06ad63f099:454279' labels=frozenset({'Question Time', 'Bill'}) properties={'title_de': 'Berufsverbot für Frauen', 'bill_number': '09.5569', 'title_fr': \"Interdiction d'exercer une profession pour les femmes\", 'urgent': False, 'status': 'Resolved'}>, <Node element_id='4:fa996e42-3a3f-4866-ad85-cb06ad63f099:248679' labels=frozenset({'Submitted', 'BillText'}) properties={'uid': '09.5569.bt.212e0c21-73f4-4939-b1fe-f69cf5904199', 'text': '<p>Das Diskriminierungsverbot in Artikel\\xa014 der EMRK verbietet die Diskriminierung wegen des Geschlechtes. Frauen ist es aber wegen ihres Geschlechtes untersagt, ein Priesteramt, geschweige denn ein Bischofsamt der katholischen Kirche auszuüben.</p><p>Warum blieb das Gleichstellungsbüro in dieser Angelegenheit bis heute untätig?</p>'}>) type='CONTAINS' properties={}> - Node 2: <Node element_id='4:fa996e42-3a3f-4866-ad85-cb06ad63f099:248679' labels=frozenset({'Submitted', 'BillText'}) properties={'uid': '09.5569.bt.212e0c21-73f4-4939-b1fe-f69cf5904199', 'text': '<p>Das Diskriminierungsverbot in Artikel\\xa014 der EMRK verbietet die Diskriminierung wegen des Geschlechtes. Frauen ist es aber wegen ihres Geschlechtes untersagt, ein Priesteramt, geschweige denn ein Bischofsamt der katholischen Kirche auszuüben.</p><p>Warum blieb das Gleichstellungsbüro in dieser Angelegenheit bis heute untätig?</p>'}>\n",
      "Node 1: <Node element_id='4:fa996e42-3a3f-4866-ad85-cb06ad63f099:454275' labels=frozenset({'Question Time', 'Bill'}) properties={'title_de': 'Kyoto-Protokoll. Bilanz der bisherigen Politik?', 'bill_number': '09.5595', 'title_fr': 'Protocole de Kyoto. Bilan de la politique menée?', 'urgent': False, 'status': 'Resolved'}> - Relationship: <Relationship element_id='5:fa996e42-3a3f-4866-ad85-cb06ad63f099:984036' nodes=(<Node element_id='4:fa996e42-3a3f-4866-ad85-cb06ad63f099:585934' labels=frozenset({'Unique Person', 'Person'}) properties={'date_birth': neo4j.time.Date(1969, 5, 5), 'uid': 3888, 'gender': 'm', 'last_name': 'Hiltpold', 'first_name': 'Hugues'}>, <Node element_id='4:fa996e42-3a3f-4866-ad85-cb06ad63f099:454275' labels=frozenset({'Question Time', 'Bill'}) properties={'title_de': 'Kyoto-Protokoll. Bilanz der bisherigen Politik?', 'bill_number': '09.5595', 'title_fr': 'Protocole de Kyoto. Bilan de la politique menée?', 'urgent': False, 'status': 'Resolved'}>) type='SPONSORS' properties={'transferred': False}> - Node 2: <Node element_id='4:fa996e42-3a3f-4866-ad85-cb06ad63f099:585934' labels=frozenset({'Unique Person', 'Person'}) properties={'date_birth': neo4j.time.Date(1969, 5, 5), 'uid': 3888, 'gender': 'm', 'last_name': 'Hiltpold', 'first_name': 'Hugues'}>\n",
      "Node 1: <Node element_id='4:fa996e42-3a3f-4866-ad85-cb06ad63f099:454275' labels=frozenset({'Question Time', 'Bill'}) properties={'title_de': 'Kyoto-Protokoll. Bilanz der bisherigen Politik?', 'bill_number': '09.5595', 'title_fr': 'Protocole de Kyoto. Bilan de la politique menée?', 'urgent': False, 'status': 'Resolved'}> - Relationship: <Relationship element_id='5:fa996e42-3a3f-4866-ad85-cb06ad63f099:394507' nodes=(<Node element_id='4:fa996e42-3a3f-4866-ad85-cb06ad63f099:250631' labels=frozenset({'Written Response', 'Federal Response'}) properties={'date': neo4j.time.Date(2009, 12, 7), 'uid': '09.5595.fr.aae526b5-b1ea-473f-bcb3-643830350c40', 'text': '<p>Die Entwicklung der Treibhausgasemissionen der Schweiz wird jährlich erfasst und im Treibhausgasinventar ausgewiesen. Seit die Schweiz das Kyoto-Protokoll ratifiziert hat, werden regelmässig Analysen über die Wirkung der klimapolitischen Massnahmen durchgeführt. Die Schweiz ist verpflichtet, zuhanden der Uno-Klimakonvention alle vier Jahre einen umfassenden nationalen Bericht einzureichen. Dieser Bericht dokumentiert u. a. die Anstrengungen der Schweiz im Hinblick auf die Einhaltung des Kyoto-Protokolls. Der fünfte nationale Bericht der Schweiz wird Mitte Dezember 2009 eingereicht und veröffentlicht werden. Die Treibhausgasemissionen der Schweiz lagen im Jahr 2007 um 2,7 Prozent unter dem Niveau von 1990. Die Erhöhung der CO2-Abgabe auf Brennstoffen und das vom Parlament beschlossene Gebäudeprogramm werden weitere Reduktionen bewirken. Da das Kyoto-Protokoll zusätzlich die Anrechnung von ausländischen Emissionszertifikaten und von Waldsenken erlaubt, wird die Schweiz ihre Kyoto-Ziele nach Einschätzung der Experten einhalten können. Die Daten für das Jahr 2008 werden im April 2010 zur Verfügung stehen.</p>'}>, <Node element_id='4:fa996e42-3a3f-4866-ad85-cb06ad63f099:454275' labels=frozenset({'Question Time', 'Bill'}) properties={'title_de': 'Kyoto-Protokoll. Bilanz der bisherigen Politik?', 'bill_number': '09.5595', 'title_fr': 'Protocole de Kyoto. Bilan de la politique menée?', 'urgent': False, 'status': 'Resolved'}>) type='REACTION_TO' properties={}> - Node 2: <Node element_id='4:fa996e42-3a3f-4866-ad85-cb06ad63f099:250631' labels=frozenset({'Written Response', 'Federal Response'}) properties={'date': neo4j.time.Date(2009, 12, 7), 'uid': '09.5595.fr.aae526b5-b1ea-473f-bcb3-643830350c40', 'text': '<p>Die Entwicklung der Treibhausgasemissionen der Schweiz wird jährlich erfasst und im Treibhausgasinventar ausgewiesen. Seit die Schweiz das Kyoto-Protokoll ratifiziert hat, werden regelmässig Analysen über die Wirkung der klimapolitischen Massnahmen durchgeführt. Die Schweiz ist verpflichtet, zuhanden der Uno-Klimakonvention alle vier Jahre einen umfassenden nationalen Bericht einzureichen. Dieser Bericht dokumentiert u. a. die Anstrengungen der Schweiz im Hinblick auf die Einhaltung des Kyoto-Protokolls. Der fünfte nationale Bericht der Schweiz wird Mitte Dezember 2009 eingereicht und veröffentlicht werden. Die Treibhausgasemissionen der Schweiz lagen im Jahr 2007 um 2,7 Prozent unter dem Niveau von 1990. Die Erhöhung der CO2-Abgabe auf Brennstoffen und das vom Parlament beschlossene Gebäudeprogramm werden weitere Reduktionen bewirken. Da das Kyoto-Protokoll zusätzlich die Anrechnung von ausländischen Emissionszertifikaten und von Waldsenken erlaubt, wird die Schweiz ihre Kyoto-Ziele nach Einschätzung der Experten einhalten können. Die Daten für das Jahr 2008 werden im April 2010 zur Verfügung stehen.</p>'}>\n",
      "Node 1: <Node element_id='4:fa996e42-3a3f-4866-ad85-cb06ad63f099:454276' labels=frozenset({'Question Time', 'Bill'}) properties={'title_de': 'Einsparungspotenzial bei der SRG', 'bill_number': '09.5612', 'title_fr': \"Possibilités d'économies pour la SSR\", 'urgent': False, 'status': 'Resolved'}> - Relationship: <Relationship element_id='5:fa996e42-3a3f-4866-ad85-cb06ad63f099:818261' nodes=(<Node element_id='4:fa996e42-3a3f-4866-ad85-cb06ad63f099:538664' labels=frozenset({'Unique Person', 'Person'}) properties={'date_birth': neo4j.time.Date(1964, 6, 3), 'uid': 1138, 'gender': 'm', 'last_name': 'Bäumle', 'first_name': 'Martin'}>, <Node element_id='4:fa996e42-3a3f-4866-ad85-cb06ad63f099:454276' labels=frozenset({'Question Time', 'Bill'}) properties={'title_de': 'Einsparungspotenzial bei der SRG', 'bill_number': '09.5612', 'title_fr': \"Possibilités d'économies pour la SSR\", 'urgent': False, 'status': 'Resolved'}>) type='SPONSORS' properties={'transferred': False}> - Node 2: <Node element_id='4:fa996e42-3a3f-4866-ad85-cb06ad63f099:538664' labels=frozenset({'Unique Person', 'Person'}) properties={'date_birth': neo4j.time.Date(1964, 6, 3), 'uid': 1138, 'gender': 'm', 'last_name': 'Bäumle', 'first_name': 'Martin'}>\n",
      "Node 1: <Node element_id='4:fa996e42-3a3f-4866-ad85-cb06ad63f099:454276' labels=frozenset({'Question Time', 'Bill'}) properties={'title_de': 'Einsparungspotenzial bei der SRG', 'bill_number': '09.5612', 'title_fr': \"Possibilités d'économies pour la SSR\", 'urgent': False, 'status': 'Resolved'}> - Relationship: <Relationship element_id='5:fa996e42-3a3f-4866-ad85-cb06ad63f099:394521' nodes=(<Node element_id='4:fa996e42-3a3f-4866-ad85-cb06ad63f099:250621' labels=frozenset({'Written Response', 'Federal Response'}) properties={'date': neo4j.time.Date(2009, 12, 7), 'uid': '09.5612.fr.009bfc53-eb5f-4fe8-b319-a40a06df3d85', 'text': '<p>Die SRG hat am 27. November 2009 dem Bundesrat ihren Finanzbedarf für die Jahre 2011 bis 2014 angemeldet, wie das in der Konzession vorgesehen ist. Der Bundesrat wird diesen Bedarf nun genau analysieren und dann bis Mitte des nächsten Jahres über eine allfällige Gebührenanpassung entscheiden. Es wäre sicher verfrüht, im jetzigen Zeitpunkt auf einzelne konkrete Vorschläge einzugehen. Bei all den nun vorgebrachten Sparempfehlungen dürfen wir nicht aus den Augen verlieren, dass die SRG auch einen Unterhaltungsauftrag hat. Mit welchen Sendungen sie diese gesetzliche Verpflichtung umsetzt, ist grundsätzlich ihrer Programmfreiheit überlassen. Die SRG bezahlt im Maximum 1 bis 2 Gebührenprozent, d. h. 11 bis 22 Millionen Franken, für ihre Serien auf den sechs Kanälen von SF, TSR und RSI. Weil diese Serien für ein grosses Publikum attraktiv sind und mehrfach wiederholt werden, generieren sie viel Werbung und können dementsprechend auch gut refinanziert werden.</p>'}>, <Node element_id='4:fa996e42-3a3f-4866-ad85-cb06ad63f099:454276' labels=frozenset({'Question Time', 'Bill'}) properties={'title_de': 'Einsparungspotenzial bei der SRG', 'bill_number': '09.5612', 'title_fr': \"Possibilités d'économies pour la SSR\", 'urgent': False, 'status': 'Resolved'}>) type='REACTION_TO' properties={}> - Node 2: <Node element_id='4:fa996e42-3a3f-4866-ad85-cb06ad63f099:250621' labels=frozenset({'Written Response', 'Federal Response'}) properties={'date': neo4j.time.Date(2009, 12, 7), 'uid': '09.5612.fr.009bfc53-eb5f-4fe8-b319-a40a06df3d85', 'text': '<p>Die SRG hat am 27. November 2009 dem Bundesrat ihren Finanzbedarf für die Jahre 2011 bis 2014 angemeldet, wie das in der Konzession vorgesehen ist. Der Bundesrat wird diesen Bedarf nun genau analysieren und dann bis Mitte des nächsten Jahres über eine allfällige Gebührenanpassung entscheiden. Es wäre sicher verfrüht, im jetzigen Zeitpunkt auf einzelne konkrete Vorschläge einzugehen. Bei all den nun vorgebrachten Sparempfehlungen dürfen wir nicht aus den Augen verlieren, dass die SRG auch einen Unterhaltungsauftrag hat. Mit welchen Sendungen sie diese gesetzliche Verpflichtung umsetzt, ist grundsätzlich ihrer Programmfreiheit überlassen. Die SRG bezahlt im Maximum 1 bis 2 Gebührenprozent, d. h. 11 bis 22 Millionen Franken, für ihre Serien auf den sechs Kanälen von SF, TSR und RSI. Weil diese Serien für ein grosses Publikum attraktiv sind und mehrfach wiederholt werden, generieren sie viel Werbung und können dementsprechend auch gut refinanziert werden.</p>'}>\n",
      "Node 1: <Node element_id='4:fa996e42-3a3f-4866-ad85-cb06ad63f099:454277' labels=frozenset({'Question Time', 'Bill'}) properties={'title_de': 'Putsch in Honduras', 'bill_number': '09.5570', 'title_fr': \"Coup d'Etat au Honduras\", 'urgent': False, 'status': 'Resolved'}> - Relationship: <Relationship element_id='5:fa996e42-3a3f-4866-ad85-cb06ad63f099:1335385' nodes=(<Node element_id='4:fa996e42-3a3f-4866-ad85-cb06ad63f099:544263' labels=frozenset({'Unique Person', 'Person'}) properties={'date_birth': neo4j.time.Date(1960, 10, 27), 'uid': 1112, 'gender': 'm', 'last_name': 'Müller', 'first_name': 'Geri'}>, <Node element_id='4:fa996e42-3a3f-4866-ad85-cb06ad63f099:454277' labels=frozenset({'Question Time', 'Bill'}) properties={'title_de': 'Putsch in Honduras', 'bill_number': '09.5570', 'title_fr': \"Coup d'Etat au Honduras\", 'urgent': False, 'status': 'Resolved'}>) type='SPONSORS' properties={'transferred': False}> - Node 2: <Node element_id='4:fa996e42-3a3f-4866-ad85-cb06ad63f099:544263' labels=frozenset({'Unique Person', 'Person'}) properties={'date_birth': neo4j.time.Date(1960, 10, 27), 'uid': 1112, 'gender': 'm', 'last_name': 'Müller', 'first_name': 'Geri'}>\n",
      "Node 1: <Node element_id='4:fa996e42-3a3f-4866-ad85-cb06ad63f099:454278' labels=frozenset({'Question Time', 'Bill'}) properties={'title_de': 'Wintereinbruch und Verkehrsmanagement auf der A2', 'bill_number': '09.5622', 'title_fr': \"Premières chutes de neige et gestion de la circulation sur l'A2\", 'urgent': False, 'status': 'Resolved'}> - Relationship: <Relationship element_id='5:fa996e42-3a3f-4866-ad85-cb06ad63f099:394456' nodes=(<Node element_id='4:fa996e42-3a3f-4866-ad85-cb06ad63f099:250665' labels=frozenset({'Written Response', 'Federal Response'}) properties={'date': neo4j.time.Date(2009, 12, 7), 'uid': '09.5622.fr.8017c205-dd94-4af7-9218-07016032b366', 'text': '<p>Der Bundesrat kennt die Probleme, die sich heute auf der Autobahn A2 in der Leventina für den Schwerverkehr als Folge von schwierigen Witterungsverhältnissen und aufgrund der fehlenden Ausstellmöglichkeiten abseits der Autobahn ergeben. Aus diesem Grund hat er immer gefordert, dass zusammen mit dem Schwerverkehrskontrollzentrum im Kanton Tessin auch eine Schwerverkehrs-Managementfläche erstellt wird. Heute kann der Schwerverkehr bei schwierigen Witterungsverhältnissen und anderen Störungen auf der A2 in der Leventina nur behelfsmässig abgestellt werden. Der Bundesrat ist deshalb bestrebt, das geplante Kontrollzentrum zusammen mit der Managementfläche im Raum Bodio so rasch wie möglich zu bauen. Damit wird sich die Situation für den Schwerverkehr in Zukunft auch auf der Südseite des Gotthard-Strassentunnels wesentlich verbessern.</p>'}>, <Node element_id='4:fa996e42-3a3f-4866-ad85-cb06ad63f099:454278' labels=frozenset({'Question Time', 'Bill'}) properties={'title_de': 'Wintereinbruch und Verkehrsmanagement auf der A2', 'bill_number': '09.5622', 'title_fr': \"Premières chutes de neige et gestion de la circulation sur l'A2\", 'urgent': False, 'status': 'Resolved'}>) type='REACTION_TO' properties={}> - Node 2: <Node element_id='4:fa996e42-3a3f-4866-ad85-cb06ad63f099:250665' labels=frozenset({'Written Response', 'Federal Response'}) properties={'date': neo4j.time.Date(2009, 12, 7), 'uid': '09.5622.fr.8017c205-dd94-4af7-9218-07016032b366', 'text': '<p>Der Bundesrat kennt die Probleme, die sich heute auf der Autobahn A2 in der Leventina für den Schwerverkehr als Folge von schwierigen Witterungsverhältnissen und aufgrund der fehlenden Ausstellmöglichkeiten abseits der Autobahn ergeben. Aus diesem Grund hat er immer gefordert, dass zusammen mit dem Schwerverkehrskontrollzentrum im Kanton Tessin auch eine Schwerverkehrs-Managementfläche erstellt wird. Heute kann der Schwerverkehr bei schwierigen Witterungsverhältnissen und anderen Störungen auf der A2 in der Leventina nur behelfsmässig abgestellt werden. Der Bundesrat ist deshalb bestrebt, das geplante Kontrollzentrum zusammen mit der Managementfläche im Raum Bodio so rasch wie möglich zu bauen. Damit wird sich die Situation für den Schwerverkehr in Zukunft auch auf der Südseite des Gotthard-Strassentunnels wesentlich verbessern.</p>'}>\n",
      "Node 1: <Node element_id='4:fa996e42-3a3f-4866-ad85-cb06ad63f099:454278' labels=frozenset({'Question Time', 'Bill'}) properties={'title_de': 'Wintereinbruch und Verkehrsmanagement auf der A2', 'bill_number': '09.5622', 'title_fr': \"Premières chutes de neige et gestion de la circulation sur l'A2\", 'urgent': False, 'status': 'Resolved'}> - Relationship: <Relationship element_id='5:fa996e42-3a3f-4866-ad85-cb06ad63f099:370274' nodes=(<Node element_id='4:fa996e42-3a3f-4866-ad85-cb06ad63f099:601923' labels=frozenset({'Unique Person', 'Person'}) properties={'date_birth': neo4j.time.Date(1955, 3, 27), 'uid': 4014, 'gender': 'm', 'last_name': 'Brönnimann', 'first_name': 'Andreas'}>, <Node element_id='4:fa996e42-3a3f-4866-ad85-cb06ad63f099:454278' labels=frozenset({'Question Time', 'Bill'}) properties={'title_de': 'Wintereinbruch und Verkehrsmanagement auf der A2', 'bill_number': '09.5622', 'title_fr': \"Premières chutes de neige et gestion de la circulation sur l'A2\", 'urgent': False, 'status': 'Resolved'}>) type='SPONSORS' properties={'transferred': False}> - Node 2: <Node element_id='4:fa996e42-3a3f-4866-ad85-cb06ad63f099:601923' labels=frozenset({'Unique Person', 'Person'}) properties={'date_birth': neo4j.time.Date(1955, 3, 27), 'uid': 4014, 'gender': 'm', 'last_name': 'Brönnimann', 'first_name': 'Andreas'}>\n",
      "Node 1: <Node element_id='4:fa996e42-3a3f-4866-ad85-cb06ad63f099:454279' labels=frozenset({'Question Time', 'Bill'}) properties={'title_de': 'Berufsverbot für Frauen', 'bill_number': '09.5569', 'title_fr': \"Interdiction d'exercer une profession pour les femmes\", 'urgent': False, 'status': 'Resolved'}> - Relationship: <Relationship element_id='5:fa996e42-3a3f-4866-ad85-cb06ad63f099:1263807' nodes=(<Node element_id='4:fa996e42-3a3f-4866-ad85-cb06ad63f099:516613' labels=frozenset({'Unique Person', 'Person'}) properties={'date_birth': neo4j.time.Date(1948, 6, 13), 'uid': 479, 'gender': 'm', 'last_name': 'Kaufmann', 'first_name': 'Hans'}>, <Node element_id='4:fa996e42-3a3f-4866-ad85-cb06ad63f099:454279' labels=frozenset({'Question Time', 'Bill'}) properties={'title_de': 'Berufsverbot für Frauen', 'bill_number': '09.5569', 'title_fr': \"Interdiction d'exercer une profession pour les femmes\", 'urgent': False, 'status': 'Resolved'}>) type='SPONSORS' properties={'transferred': False}> - Node 2: <Node element_id='4:fa996e42-3a3f-4866-ad85-cb06ad63f099:516613' labels=frozenset({'Unique Person', 'Person'}) properties={'date_birth': neo4j.time.Date(1948, 6, 13), 'uid': 479, 'gender': 'm', 'last_name': 'Kaufmann', 'first_name': 'Hans'}>\n",
      "Node 1: <Node element_id='4:fa996e42-3a3f-4866-ad85-cb06ad63f099:454279' labels=frozenset({'Question Time', 'Bill'}) properties={'title_de': 'Berufsverbot für Frauen', 'bill_number': '09.5569', 'title_fr': \"Interdiction d'exercer une profession pour les femmes\", 'urgent': False, 'status': 'Resolved'}> - Relationship: <Relationship element_id='5:fa996e42-3a3f-4866-ad85-cb06ad63f099:394537' nodes=(<Node element_id='4:fa996e42-3a3f-4866-ad85-cb06ad63f099:250726' labels=frozenset({'Written Response', 'Federal Response'}) properties={'date': neo4j.time.Date(2009, 12, 7), 'uid': '09.5569.fr.46ea8c40-082d-424b-bf35-03c52afab9c5', 'text': \"<p>L'interdiction de discrimination de l'article 14 de la Convention européenne de sauvegarde des droits de l'homme et des libertés fondamentales (CEDH) a une portée limitée, car elle couvre uniquement les droits et libertés reconnus par cette même convention et ne peut être invoquée qu'en lien avec l'un de ces droits. Aucun article de la CEDH ne couvre la question de l'accès à un emploi\\xa0; en particulier l'article 8 sur le droit au respect de la vie privée et familiale et l'article 9 sur la liberté de pensée, de conscience et de religion ne s'appliquent pas au cas des femmes qui voudraient devenir prêtres ou évêques. L'accès à l'emploi et la protection contre toute discrimination dans cet accès et dans l'exercice de l'emploi sont en revanche protégés par les articles 1 et 20 de la Charte sociale européenne révisée, que la Suisse n'a ni signée ni ratifiée.</p>\"}>, <Node element_id='4:fa996e42-3a3f-4866-ad85-cb06ad63f099:454279' labels=frozenset({'Question Time', 'Bill'}) properties={'title_de': 'Berufsverbot für Frauen', 'bill_number': '09.5569', 'title_fr': \"Interdiction d'exercer une profession pour les femmes\", 'urgent': False, 'status': 'Resolved'}>) type='REACTION_TO' properties={}> - Node 2: <Node element_id='4:fa996e42-3a3f-4866-ad85-cb06ad63f099:250726' labels=frozenset({'Written Response', 'Federal Response'}) properties={'date': neo4j.time.Date(2009, 12, 7), 'uid': '09.5569.fr.46ea8c40-082d-424b-bf35-03c52afab9c5', 'text': \"<p>L'interdiction de discrimination de l'article 14 de la Convention européenne de sauvegarde des droits de l'homme et des libertés fondamentales (CEDH) a une portée limitée, car elle couvre uniquement les droits et libertés reconnus par cette même convention et ne peut être invoquée qu'en lien avec l'un de ces droits. Aucun article de la CEDH ne couvre la question de l'accès à un emploi\\xa0; en particulier l'article 8 sur le droit au respect de la vie privée et familiale et l'article 9 sur la liberté de pensée, de conscience et de religion ne s'appliquent pas au cas des femmes qui voudraient devenir prêtres ou évêques. L'accès à l'emploi et la protection contre toute discrimination dans cet accès et dans l'exercice de l'emploi sont en revanche protégés par les articles 1 et 20 de la Charte sociale européenne révisée, que la Suisse n'a ni signée ni ratifiée.</p>\"}>\n",
      "Node 1: <Node element_id='4:fa996e42-3a3f-4866-ad85-cb06ad63f099:454280' labels=frozenset({'Question Time', 'Bill'}) properties={'title_de': 'Minarett-Verbot. EMRK-Abklärung durch den Bundesrat', 'bill_number': '09.5611', 'title_fr': 'Interdiction des minarets. Examen de la conformité à la CEDH par le Conseil fédéral', 'urgent': False, 'status': 'Resolved'}> - Relationship: <Relationship element_id='5:fa996e42-3a3f-4866-ad85-cb06ad63f099:2221423' nodes=(<Node element_id='4:fa996e42-3a3f-4866-ad85-cb06ad63f099:538601' labels=frozenset({'Unique Person', 'Person'}) properties={'date_birth': neo4j.time.Date(1959, 10, 12), 'uid': 3999, 'marital_status': 'verheiratet', 'gender': 'f', 'last_name': 'Prelicz-Huber', 'first_name': 'Katharina'}>, <Node element_id='4:fa996e42-3a3f-4866-ad85-cb06ad63f099:454280' labels=frozenset({'Question Time', 'Bill'}) properties={'title_de': 'Minarett-Verbot. EMRK-Abklärung durch den Bundesrat', 'bill_number': '09.5611', 'title_fr': 'Interdiction des minarets. Examen de la conformité à la CEDH par le Conseil fédéral', 'urgent': False, 'status': 'Resolved'}>) type='SPONSORS' properties={'transferred': False}> - Node 2: <Node element_id='4:fa996e42-3a3f-4866-ad85-cb06ad63f099:538601' labels=frozenset({'Unique Person', 'Person'}) properties={'date_birth': neo4j.time.Date(1959, 10, 12), 'uid': 3999, 'marital_status': 'verheiratet', 'gender': 'f', 'last_name': 'Prelicz-Huber', 'first_name': 'Katharina'}>\n",
      "Node 1: <Node element_id='4:fa996e42-3a3f-4866-ad85-cb06ad63f099:454281' labels=frozenset({'Question Time', 'Bill'}) properties={'title_de': 'Neutrales Gutachten zur Einschätzung der Risiken des Kernkraftwerks Mühleberg?', 'bill_number': '09.5559', 'title_fr': 'Une expertise neutre pour évaluer les risques de la centrale nucléaire de Mühleberg?', 'urgent': False, 'status': 'Resolved'}> - Relationship: <Relationship element_id='5:fa996e42-3a3f-4866-ad85-cb06ad63f099:2322847' nodes=(<Node element_id='4:fa996e42-3a3f-4866-ad85-cb06ad63f099:549132' labels=frozenset({'Unique Person', 'Person'}) properties={'date_birth': neo4j.time.Date(1950, 1, 20), 'uid': 3924, 'gender': 'm', 'last_name': 'van Singer', 'first_name': 'Christian'}>, <Node element_id='4:fa996e42-3a3f-4866-ad85-cb06ad63f099:454281' labels=frozenset({'Question Time', 'Bill'}) properties={'title_de': 'Neutrales Gutachten zur Einschätzung der Risiken des Kernkraftwerks Mühleberg?', 'bill_number': '09.5559', 'title_fr': 'Une expertise neutre pour évaluer les risques de la centrale nucléaire de Mühleberg?', 'urgent': False, 'status': 'Resolved'}>) type='SPONSORS' properties={'transferred': False}> - Node 2: <Node element_id='4:fa996e42-3a3f-4866-ad85-cb06ad63f099:549132' labels=frozenset({'Unique Person', 'Person'}) properties={'date_birth': neo4j.time.Date(1950, 1, 20), 'uid': 3924, 'gender': 'm', 'last_name': 'van Singer', 'first_name': 'Christian'}>\n",
      "Node 1: <Node element_id='4:fa996e42-3a3f-4866-ad85-cb06ad63f099:454282' labels=frozenset({'Question Time', 'Bill'}) properties={'title_de': 'UBS-Verantwortlichkeitsklage?', 'bill_number': '09.5631', 'title_fr': 'UBS. Action en responsabilité?', 'urgent': False, 'status': 'Resolved'}> - Relationship: <Relationship element_id='5:fa996e42-3a3f-4866-ad85-cb06ad63f099:136917' nodes=(<Node element_id='4:fa996e42-3a3f-4866-ad85-cb06ad63f099:538596' labels=frozenset({'Unique Person', 'Person'}) properties={'date_birth': neo4j.time.Date(1948, 3, 6), 'uid': 487, 'gender': 'f', 'last_name': 'Leutenegger Oberholzer', 'first_name': 'Susanne'}>, <Node element_id='4:fa996e42-3a3f-4866-ad85-cb06ad63f099:454282' labels=frozenset({'Question Time', 'Bill'}) properties={'title_de': 'UBS-Verantwortlichkeitsklage?', 'bill_number': '09.5631', 'title_fr': 'UBS. Action en responsabilité?', 'urgent': False, 'status': 'Resolved'}>) type='SPONSORS' properties={'transferred': False}> - Node 2: <Node element_id='4:fa996e42-3a3f-4866-ad85-cb06ad63f099:538596' labels=frozenset({'Unique Person', 'Person'}) properties={'date_birth': neo4j.time.Date(1948, 3, 6), 'uid': 487, 'gender': 'f', 'last_name': 'Leutenegger Oberholzer', 'first_name': 'Susanne'}>\n",
      "Node 1: <Node element_id='4:fa996e42-3a3f-4866-ad85-cb06ad63f099:454283' labels=frozenset({'Question Time', 'Bill'}) properties={'title_de': 'Druckaufträge der Post im Ausland', 'bill_number': '09.5592', 'title_fr': \"Commandes d'impression confiées par la Poste à des entreprises situées à l'étranger\", 'urgent': False, 'status': 'Resolved'}> - Relationship: <Relationship element_id='5:fa996e42-3a3f-4866-ad85-cb06ad63f099:2360152' nodes=(<Node element_id='4:fa996e42-3a3f-4866-ad85-cb06ad63f099:549116' labels=frozenset({'Unique Person', 'Person'}) properties={'date_birth': neo4j.time.Date(1960, 10, 18), 'uid': 3896, 'gender': 'm', 'last_name': 'Malama', 'date_death': neo4j.time.Date(2012, 9, 22), 'first_name': 'Peter'}>, <Node element_id='4:fa996e42-3a3f-4866-ad85-cb06ad63f099:454283' labels=frozenset({'Question Time', 'Bill'}) properties={'title_de': 'Druckaufträge der Post im Ausland', 'bill_number': '09.5592', 'title_fr': \"Commandes d'impression confiées par la Poste à des entreprises situées à l'étranger\", 'urgent': False, 'status': 'Resolved'}>) type='SPONSORS' properties={'transferred': False}> - Node 2: <Node element_id='4:fa996e42-3a3f-4866-ad85-cb06ad63f099:549116' labels=frozenset({'Unique Person', 'Person'}) properties={'date_birth': neo4j.time.Date(1960, 10, 18), 'uid': 3896, 'gender': 'm', 'last_name': 'Malama', 'date_death': neo4j.time.Date(2012, 9, 22), 'first_name': 'Peter'}>\n",
      "Node 1: <Node element_id='4:fa996e42-3a3f-4866-ad85-cb06ad63f099:454283' labels=frozenset({'Question Time', 'Bill'}) properties={'title_de': 'Druckaufträge der Post im Ausland', 'bill_number': '09.5592', 'title_fr': \"Commandes d'impression confiées par la Poste à des entreprises situées à l'étranger\", 'urgent': False, 'status': 'Resolved'}> - Relationship: <Relationship element_id='5:fa996e42-3a3f-4866-ad85-cb06ad63f099:394525' nodes=(<Node element_id='4:fa996e42-3a3f-4866-ad85-cb06ad63f099:250777' labels=frozenset({'Written Response', 'Federal Response'}) properties={'date': neo4j.time.Date(2009, 12, 7), 'uid': '09.5592.fr.07c7d3df-d2fe-44d5-8c7f-5f6ba0d897ab', 'text': '<p>Seit die Post 1998 in eine selbstständige öffentlich-rechtliche Anstalt umgewandelt wurde, greift der Bund nicht mehr in die operativen Belange der Post ein. Eine dieser operativen Fragen ist die Praxis bei der Auftragsvergabe. Dafür ist allein die Post zuständig, wobei sie sich natürlich an die Vorschriften des Beschaffungsrechtes halten muss. Gemäss Angaben der Post beschafft sie ihre Druckerzeugnisse zum grössten Teil, zu mehr als 85 Prozent, in der Schweiz; dies vor allem, weil die Schweizer Druckindustrie konkurrenzfähig ist, einen hohen Qualitätsstandard aufweist und die örtliche Nähe von Vorteil ist. Die übrigen Druckerzeugnisse, d. h. weniger als 15 Prozent, die in der Schweiz gar nicht produziert werden oder für die kein Wettbewerb besteht, bezieht die Post vom internationalen Beschaffungsmarkt. In diesen Zahlen nicht enthalten sind die Erzeugnisse der Konzerngesellschaften mit Niederlassungen im Ausland. Diese Gesellschaften stehen im Wettbewerb und beschaffen ihre Druckerzeugnisse nach wirtschaftlichen Kriterien dort, wo das beste Preis-Leistungs-Verhältnis besteht. Rückläufige Briefmengen bzw. Gewinne sowie die zunehmende Konkurrenz zwingen die Post, ihre Kostenstruktur laufend zu verbessern. Dazu gehört auch, dass sie ihre Auftragsvergabe optimiert und sich für das finanziell und qualitativ beste Angebot entscheidet. Dies entspricht - auch für bundesnahe Betriebe - dem normalen Wirtschaftsgeschehen und stärkt letztlich die Wettbewerbsfähigkeit des Werkplatzes Schweiz. Vor diesem Hintergrund ist die Auftragsvergabe der Post nicht zu beanstanden.</p>'}>, <Node element_id='4:fa996e42-3a3f-4866-ad85-cb06ad63f099:454283' labels=frozenset({'Question Time', 'Bill'}) properties={'title_de': 'Druckaufträge der Post im Ausland', 'bill_number': '09.5592', 'title_fr': \"Commandes d'impression confiées par la Poste à des entreprises situées à l'étranger\", 'urgent': False, 'status': 'Resolved'}>) type='REACTION_TO' properties={}> - Node 2: <Node element_id='4:fa996e42-3a3f-4866-ad85-cb06ad63f099:250777' labels=frozenset({'Written Response', 'Federal Response'}) properties={'date': neo4j.time.Date(2009, 12, 7), 'uid': '09.5592.fr.07c7d3df-d2fe-44d5-8c7f-5f6ba0d897ab', 'text': '<p>Seit die Post 1998 in eine selbstständige öffentlich-rechtliche Anstalt umgewandelt wurde, greift der Bund nicht mehr in die operativen Belange der Post ein. Eine dieser operativen Fragen ist die Praxis bei der Auftragsvergabe. Dafür ist allein die Post zuständig, wobei sie sich natürlich an die Vorschriften des Beschaffungsrechtes halten muss. Gemäss Angaben der Post beschafft sie ihre Druckerzeugnisse zum grössten Teil, zu mehr als 85 Prozent, in der Schweiz; dies vor allem, weil die Schweizer Druckindustrie konkurrenzfähig ist, einen hohen Qualitätsstandard aufweist und die örtliche Nähe von Vorteil ist. Die übrigen Druckerzeugnisse, d. h. weniger als 15 Prozent, die in der Schweiz gar nicht produziert werden oder für die kein Wettbewerb besteht, bezieht die Post vom internationalen Beschaffungsmarkt. In diesen Zahlen nicht enthalten sind die Erzeugnisse der Konzerngesellschaften mit Niederlassungen im Ausland. Diese Gesellschaften stehen im Wettbewerb und beschaffen ihre Druckerzeugnisse nach wirtschaftlichen Kriterien dort, wo das beste Preis-Leistungs-Verhältnis besteht. Rückläufige Briefmengen bzw. Gewinne sowie die zunehmende Konkurrenz zwingen die Post, ihre Kostenstruktur laufend zu verbessern. Dazu gehört auch, dass sie ihre Auftragsvergabe optimiert und sich für das finanziell und qualitativ beste Angebot entscheidet. Dies entspricht - auch für bundesnahe Betriebe - dem normalen Wirtschaftsgeschehen und stärkt letztlich die Wettbewerbsfähigkeit des Werkplatzes Schweiz. Vor diesem Hintergrund ist die Auftragsvergabe der Post nicht zu beanstanden.</p>'}>\n",
      "Node 1: <Node element_id='4:fa996e42-3a3f-4866-ad85-cb06ad63f099:454284' labels=frozenset({'Question Time', 'Bill'}) properties={'title_de': 'Spielt der Wettbewerb im Telekom-Markt mit einer staatlichen Swisscom?', 'bill_number': '09.5607', 'title_fr': 'Le marché des télécommunications est-il concurrentiel face à une Swisscom étatisée?', 'urgent': False, 'status': 'Resolved'}> - Relationship: <Relationship element_id='5:fa996e42-3a3f-4866-ad85-cb06ad63f099:686312' nodes=(<Node element_id='4:fa996e42-3a3f-4866-ad85-cb06ad63f099:549101' labels=frozenset({'Unique Person', 'Person'}) properties={'date_birth': neo4j.time.Date(1962, 8, 16), 'uid': 3908, 'gender': 'm', 'last_name': 'von Graffenried', 'first_name': 'Alec'}>, <Node element_id='4:fa996e42-3a3f-4866-ad85-cb06ad63f099:454284' labels=frozenset({'Question Time', 'Bill'}) properties={'title_de': 'Spielt der Wettbewerb im Telekom-Markt mit einer staatlichen Swisscom?', 'bill_number': '09.5607', 'title_fr': 'Le marché des télécommunications est-il concurrentiel face à une Swisscom étatisée?', 'urgent': False, 'status': 'Resolved'}>) type='SPONSORS' properties={'transferred': False}> - Node 2: <Node element_id='4:fa996e42-3a3f-4866-ad85-cb06ad63f099:549101' labels=frozenset({'Unique Person', 'Person'}) properties={'date_birth': neo4j.time.Date(1962, 8, 16), 'uid': 3908, 'gender': 'm', 'last_name': 'von Graffenried', 'first_name': 'Alec'}>\n",
      "Node 1: <Node element_id='4:fa996e42-3a3f-4866-ad85-cb06ad63f099:454284' labels=frozenset({'Question Time', 'Bill'}) properties={'title_de': 'Spielt der Wettbewerb im Telekom-Markt mit einer staatlichen Swisscom?', 'bill_number': '09.5607', 'title_fr': 'Le marché des télécommunications est-il concurrentiel face à une Swisscom étatisée?', 'urgent': False, 'status': 'Resolved'}> - Relationship: <Relationship element_id='5:fa996e42-3a3f-4866-ad85-cb06ad63f099:394368' nodes=(<Node element_id='4:fa996e42-3a3f-4866-ad85-cb06ad63f099:250690' labels=frozenset({'Written Response', 'Federal Response'}) properties={'date': neo4j.time.Date(2009, 12, 7), 'uid': '09.5607.fr.fa3aa1c4-ffe2-48ad-9e72-09372088f353', 'text': '<p>Der Gesetzgeber hat anlässlich der letzten Revision des Fernmeldegesetzes den Infrastrukturwettbewerb bewusst bekräftigt. In Erfüllung des Postulates der KVF-S 09.3002 wird der Bundesrat dem Parlament bis spätestens Mitte 2010 einen Bericht zur Evaluation des Fernmeldemarktes vorlegen. Darin wird er insbesondere auch auf die Wettbewerbssituation in den Bereichen Mobil- und Festnetz eingehen und zur Frage Stellung nehmen, wo es dort Handlungsbedarf gibt. Dabei wird er natürlich auch der Übernahme von Sunrise durch Orange, welche noch der Zustimmung von Weko und Comcom bedarf, Rechnung tragen. Der Bundesrat wird die Frage der staatlichen Beteiligung an der Swisscom in seinem Bericht in Beantwortung des Postulates 06.3636, \"Fragen zur Weiterentwicklung des Swisscom-Dossiers\", behandeln. Er beabsichtigt, den Bericht im Verlaufe des Jahres 2010 abzuschliessen. Der Bericht wird die Optionen des Bundes bei der Weiterentwicklung des Dossiers aufzeigen. Dazu gehört neben dem Status quo und der vollständigen Privatisierung auch der Rückzug des Bundes auf eine Sperrminorität.</p>'}>, <Node element_id='4:fa996e42-3a3f-4866-ad85-cb06ad63f099:454284' labels=frozenset({'Question Time', 'Bill'}) properties={'title_de': 'Spielt der Wettbewerb im Telekom-Markt mit einer staatlichen Swisscom?', 'bill_number': '09.5607', 'title_fr': 'Le marché des télécommunications est-il concurrentiel face à une Swisscom étatisée?', 'urgent': False, 'status': 'Resolved'}>) type='REACTION_TO' properties={}> - Node 2: <Node element_id='4:fa996e42-3a3f-4866-ad85-cb06ad63f099:250690' labels=frozenset({'Written Response', 'Federal Response'}) properties={'date': neo4j.time.Date(2009, 12, 7), 'uid': '09.5607.fr.fa3aa1c4-ffe2-48ad-9e72-09372088f353', 'text': '<p>Der Gesetzgeber hat anlässlich der letzten Revision des Fernmeldegesetzes den Infrastrukturwettbewerb bewusst bekräftigt. In Erfüllung des Postulates der KVF-S 09.3002 wird der Bundesrat dem Parlament bis spätestens Mitte 2010 einen Bericht zur Evaluation des Fernmeldemarktes vorlegen. Darin wird er insbesondere auch auf die Wettbewerbssituation in den Bereichen Mobil- und Festnetz eingehen und zur Frage Stellung nehmen, wo es dort Handlungsbedarf gibt. Dabei wird er natürlich auch der Übernahme von Sunrise durch Orange, welche noch der Zustimmung von Weko und Comcom bedarf, Rechnung tragen. Der Bundesrat wird die Frage der staatlichen Beteiligung an der Swisscom in seinem Bericht in Beantwortung des Postulates 06.3636, \"Fragen zur Weiterentwicklung des Swisscom-Dossiers\", behandeln. Er beabsichtigt, den Bericht im Verlaufe des Jahres 2010 abzuschliessen. Der Bericht wird die Optionen des Bundes bei der Weiterentwicklung des Dossiers aufzeigen. Dazu gehört neben dem Status quo und der vollständigen Privatisierung auch der Rückzug des Bundes auf eine Sperrminorität.</p>'}>\n",
      "Node 1: <Node element_id='4:fa996e42-3a3f-4866-ad85-cb06ad63f099:454285' labels=frozenset({'Question Time', 'Bill'}) properties={'title_de': 'Vorbehalt des Minarett-Bauverbots in der EMRK', 'bill_number': '09.5615', 'title_fr': 'CEDH. Réserve relative à la construction de minarets', 'urgent': False, 'status': 'Resolved'}> - Relationship: <Relationship element_id='5:fa996e42-3a3f-4866-ad85-cb06ad63f099:2214075' nodes=(<Node element_id='4:fa996e42-3a3f-4866-ad85-cb06ad63f099:544344' labels=frozenset({'Unique Person', 'Person'}) properties={'date_birth': neo4j.time.Date(1957, 11, 21), 'uid': 1142, 'gender': 'm', 'last_name': 'Wobmann', 'first_name': 'Walter'}>, <Node element_id='4:fa996e42-3a3f-4866-ad85-cb06ad63f099:454285' labels=frozenset({'Question Time', 'Bill'}) properties={'title_de': 'Vorbehalt des Minarett-Bauverbots in der EMRK', 'bill_number': '09.5615', 'title_fr': 'CEDH. Réserve relative à la construction de minarets', 'urgent': False, 'status': 'Resolved'}>) type='SPONSORS' properties={'transferred': False}> - Node 2: <Node element_id='4:fa996e42-3a3f-4866-ad85-cb06ad63f099:544344' labels=frozenset({'Unique Person', 'Person'}) properties={'date_birth': neo4j.time.Date(1957, 11, 21), 'uid': 1142, 'gender': 'm', 'last_name': 'Wobmann', 'first_name': 'Walter'}>\n",
      "Node 1: <Node element_id='4:fa996e42-3a3f-4866-ad85-cb06ad63f099:454286' labels=frozenset({'Question Time', 'Bill'}) properties={'title_de': 'Telekom-Markt nach Orange/Sunrise. Marktzutritt ermöglichen?', 'bill_number': '09.5633', 'title_fr': \"Ouverture de l'accès au marché des télécommunications après la fusion Orange/Sunrise\", 'urgent': False, 'status': 'Resolved'}> - Relationship: <Relationship element_id='5:fa996e42-3a3f-4866-ad85-cb06ad63f099:2360193' nodes=(<Node element_id='4:fa996e42-3a3f-4866-ad85-cb06ad63f099:549101' labels=frozenset({'Unique Person', 'Person'}) properties={'date_birth': neo4j.time.Date(1962, 8, 16), 'uid': 3908, 'gender': 'm', 'last_name': 'von Graffenried', 'first_name': 'Alec'}>, <Node element_id='4:fa996e42-3a3f-4866-ad85-cb06ad63f099:454286' labels=frozenset({'Question Time', 'Bill'}) properties={'title_de': 'Telekom-Markt nach Orange/Sunrise. Marktzutritt ermöglichen?', 'bill_number': '09.5633', 'title_fr': \"Ouverture de l'accès au marché des télécommunications après la fusion Orange/Sunrise\", 'urgent': False, 'status': 'Resolved'}>) type='SPONSORS' properties={'transferred': False}> - Node 2: <Node element_id='4:fa996e42-3a3f-4866-ad85-cb06ad63f099:549101' labels=frozenset({'Unique Person', 'Person'}) properties={'date_birth': neo4j.time.Date(1962, 8, 16), 'uid': 3908, 'gender': 'm', 'last_name': 'von Graffenried', 'first_name': 'Alec'}>\n",
      "Node 1: <Node element_id='4:fa996e42-3a3f-4866-ad85-cb06ad63f099:454286' labels=frozenset({'Question Time', 'Bill'}) properties={'title_de': 'Telekom-Markt nach Orange/Sunrise. Marktzutritt ermöglichen?', 'bill_number': '09.5633', 'title_fr': \"Ouverture de l'accès au marché des télécommunications après la fusion Orange/Sunrise\", 'urgent': False, 'status': 'Resolved'}> - Relationship: <Relationship element_id='5:fa996e42-3a3f-4866-ad85-cb06ad63f099:394513' nodes=(<Node element_id='4:fa996e42-3a3f-4866-ad85-cb06ad63f099:250616' labels=frozenset({'Written Response', 'Federal Response'}) properties={'date': neo4j.time.Date(2009, 12, 7), 'uid': '09.5633.fr.dcb59a08-b30f-4f6b-a97a-873e8f8380d9', 'text': '<p>Der Gesetzgeber hat anlässlich der letzten Revision des Fernmeldegesetzes den Infrastrukturwettbewerb bewusst bekräftigt. In Erfüllung des Postulates der KVF-S 09.3002 wird der Bundesrat dem Parlament bis spätestens Mitte 2010 einen Bericht zur Evaluation des Fernmeldemarktes vorlegen. Darin wird er insbesondere auch auf die Wettbewerbssituation in den Bereichen Mobil- und Festnetz eingehen und zur Frage Stellung nehmen, wo es dort Handlungsbedarf gibt. Dabei wird er natürlich auch der Übernahme von Sunrise durch Orange, welche noch der Zustimmung von Weko und Comcom bedarf, Rechnung tragen. Der Bundesrat wird die Frage der staatlichen Beteiligung an der Swisscom in seinem Bericht in Beantwortung des Postulates 06.3636, \"Fragen zur Weiterentwicklung des Swisscom-Dossiers\", behandeln. Er beabsichtigt, den Bericht im Verlaufe des Jahres 2010 abzuschliessen. Der Bericht wird die Optionen des Bundes bei der Weiterentwicklung des Dossiers aufzeigen. Dazu gehört neben dem Status quo und der vollständigen Privatisierung auch der Rückzug des Bundes auf eine Sperrminorität.</p>'}>, <Node element_id='4:fa996e42-3a3f-4866-ad85-cb06ad63f099:454286' labels=frozenset({'Question Time', 'Bill'}) properties={'title_de': 'Telekom-Markt nach Orange/Sunrise. Marktzutritt ermöglichen?', 'bill_number': '09.5633', 'title_fr': \"Ouverture de l'accès au marché des télécommunications après la fusion Orange/Sunrise\", 'urgent': False, 'status': 'Resolved'}>) type='REACTION_TO' properties={}> - Node 2: <Node element_id='4:fa996e42-3a3f-4866-ad85-cb06ad63f099:250616' labels=frozenset({'Written Response', 'Federal Response'}) properties={'date': neo4j.time.Date(2009, 12, 7), 'uid': '09.5633.fr.dcb59a08-b30f-4f6b-a97a-873e8f8380d9', 'text': '<p>Der Gesetzgeber hat anlässlich der letzten Revision des Fernmeldegesetzes den Infrastrukturwettbewerb bewusst bekräftigt. In Erfüllung des Postulates der KVF-S 09.3002 wird der Bundesrat dem Parlament bis spätestens Mitte 2010 einen Bericht zur Evaluation des Fernmeldemarktes vorlegen. Darin wird er insbesondere auch auf die Wettbewerbssituation in den Bereichen Mobil- und Festnetz eingehen und zur Frage Stellung nehmen, wo es dort Handlungsbedarf gibt. Dabei wird er natürlich auch der Übernahme von Sunrise durch Orange, welche noch der Zustimmung von Weko und Comcom bedarf, Rechnung tragen. Der Bundesrat wird die Frage der staatlichen Beteiligung an der Swisscom in seinem Bericht in Beantwortung des Postulates 06.3636, \"Fragen zur Weiterentwicklung des Swisscom-Dossiers\", behandeln. Er beabsichtigt, den Bericht im Verlaufe des Jahres 2010 abzuschliessen. Der Bericht wird die Optionen des Bundes bei der Weiterentwicklung des Dossiers aufzeigen. Dazu gehört neben dem Status quo und der vollständigen Privatisierung auch der Rückzug des Bundes auf eine Sperrminorität.</p>'}>\n",
      "Node 1: <Node element_id='4:fa996e42-3a3f-4866-ad85-cb06ad63f099:454287' labels=frozenset({'Question Time', 'Bill'}) properties={'title_de': 'Zölibat', 'bill_number': '09.5568', 'title_fr': 'Célibat', 'urgent': False, 'status': 'Resolved'}> - Relationship: <Relationship element_id='5:fa996e42-3a3f-4866-ad85-cb06ad63f099:1142544' nodes=(<Node element_id='4:fa996e42-3a3f-4866-ad85-cb06ad63f099:516613' labels=frozenset({'Unique Person', 'Person'}) properties={'date_birth': neo4j.time.Date(1948, 6, 13), 'uid': 479, 'gender': 'm', 'last_name': 'Kaufmann', 'first_name': 'Hans'}>, <Node element_id='4:fa996e42-3a3f-4866-ad85-cb06ad63f099:454287' labels=frozenset({'Question Time', 'Bill'}) properties={'title_de': 'Zölibat', 'bill_number': '09.5568', 'title_fr': 'Célibat', 'urgent': False, 'status': 'Resolved'}>) type='SPONSORS' properties={'transferred': False}> - Node 2: <Node element_id='4:fa996e42-3a3f-4866-ad85-cb06ad63f099:516613' labels=frozenset({'Unique Person', 'Person'}) properties={'date_birth': neo4j.time.Date(1948, 6, 13), 'uid': 479, 'gender': 'm', 'last_name': 'Kaufmann', 'first_name': 'Hans'}>\n",
      "Node 1: <Node element_id='4:fa996e42-3a3f-4866-ad85-cb06ad63f099:454288' labels=frozenset({'Question Time', 'Bill'}) properties={'title_de': 'Umsetzung der Qualitätsstrategie im Gesundheitswesen', 'bill_number': '09.5599', 'title_fr': \"Mise en oeuvre de la stratégie en matière d'assurance-qualité\", 'urgent': False, 'status': 'Resolved'}> - Relationship: <Relationship element_id='5:fa996e42-3a3f-4866-ad85-cb06ad63f099:2296201' nodes=(<Node element_id='4:fa996e42-3a3f-4866-ad85-cb06ad63f099:516759' labels=frozenset({'Unique Person', 'Person'}) properties={'date_birth': neo4j.time.Date(1948, 5, 17), 'uid': 435, 'gender': 'f', 'last_name': 'Meyer-Kaelin', 'first_name': 'Thérèse'}>, <Node element_id='4:fa996e42-3a3f-4866-ad85-cb06ad63f099:454288' labels=frozenset({'Question Time', 'Bill'}) properties={'title_de': 'Umsetzung der Qualitätsstrategie im Gesundheitswesen', 'bill_number': '09.5599', 'title_fr': \"Mise en oeuvre de la stratégie en matière d'assurance-qualité\", 'urgent': False, 'status': 'Resolved'}>) type='SPONSORS' properties={'transferred': False}> - Node 2: <Node element_id='4:fa996e42-3a3f-4866-ad85-cb06ad63f099:516759' labels=frozenset({'Unique Person', 'Person'}) properties={'date_birth': neo4j.time.Date(1948, 5, 17), 'uid': 435, 'gender': 'f', 'last_name': 'Meyer-Kaelin', 'first_name': 'Thérèse'}>\n",
      "Node 1: <Node element_id='4:fa996e42-3a3f-4866-ad85-cb06ad63f099:454288' labels=frozenset({'Question Time', 'Bill'}) properties={'title_de': 'Umsetzung der Qualitätsstrategie im Gesundheitswesen', 'bill_number': '09.5599', 'title_fr': \"Mise en oeuvre de la stratégie en matière d'assurance-qualité\", 'urgent': False, 'status': 'Resolved'}> - Relationship: <Relationship element_id='5:fa996e42-3a3f-4866-ad85-cb06ad63f099:394386' nodes=(<Node element_id='4:fa996e42-3a3f-4866-ad85-cb06ad63f099:250801' labels=frozenset({'Written Response', 'Federal Response'}) properties={'date': neo4j.time.Date(2009, 12, 7), 'uid': '09.5599.fr.8ebceb25-b6e9-425b-ab62-5b2f2ab7595d', 'text': \"<p>En effet, le Conseil fédéral veut faire usage de ses compétences légales de façon plus marquée en concrétisant et en mettant en oeuvre la stratégie en matière de qualité qui a été approuvée. Les acteurs concernés y seront associés. La question du type d'organisation qui sera chargée de cette tâche est volontairement demeurée en suspens dans la stratégie. Elle devra être clarifiée au cours de l'année 2010 dans le cadre du projet de mise en oeuvre. C'est pourquoi aucune réponse ne peut être donnée à ce sujet pour l'instant.</p>\"}>, <Node element_id='4:fa996e42-3a3f-4866-ad85-cb06ad63f099:454288' labels=frozenset({'Question Time', 'Bill'}) properties={'title_de': 'Umsetzung der Qualitätsstrategie im Gesundheitswesen', 'bill_number': '09.5599', 'title_fr': \"Mise en oeuvre de la stratégie en matière d'assurance-qualité\", 'urgent': False, 'status': 'Resolved'}>) type='REACTION_TO' properties={}> - Node 2: <Node element_id='4:fa996e42-3a3f-4866-ad85-cb06ad63f099:250801' labels=frozenset({'Written Response', 'Federal Response'}) properties={'date': neo4j.time.Date(2009, 12, 7), 'uid': '09.5599.fr.8ebceb25-b6e9-425b-ab62-5b2f2ab7595d', 'text': \"<p>En effet, le Conseil fédéral veut faire usage de ses compétences légales de façon plus marquée en concrétisant et en mettant en oeuvre la stratégie en matière de qualité qui a été approuvée. Les acteurs concernés y seront associés. La question du type d'organisation qui sera chargée de cette tâche est volontairement demeurée en suspens dans la stratégie. Elle devra être clarifiée au cours de l'année 2010 dans le cadre du projet de mise en oeuvre. C'est pourquoi aucune réponse ne peut être donnée à ce sujet pour l'instant.</p>\"}>\n",
      "Node 1: <Node element_id='4:fa996e42-3a3f-4866-ad85-cb06ad63f099:454289' labels=frozenset({'Question Time', 'Bill'}) properties={'title_de': 'Sicherheit bei Fussball- und Eishockeyspielen', 'bill_number': '09.5567', 'title_fr': 'Sécurité lors des matchs de football et de hockey sur glace', 'urgent': False, 'status': 'Resolved'}> - Relationship: <Relationship element_id='5:fa996e42-3a3f-4866-ad85-cb06ad63f099:659778' nodes=(<Node element_id='4:fa996e42-3a3f-4866-ad85-cb06ad63f099:538610' labels=frozenset({'Unique Person', 'Person'}) properties={'date_birth': neo4j.time.Date(1946, 5, 16), 'uid': 268, 'gender': 'm', 'last_name': 'Schenk', 'date_death': neo4j.time.Date(2020, 5, 1), 'first_name': 'Simon'}>, <Node element_id='4:fa996e42-3a3f-4866-ad85-cb06ad63f099:454289' labels=frozenset({'Question Time', 'Bill'}) properties={'title_de': 'Sicherheit bei Fussball- und Eishockeyspielen', 'bill_number': '09.5567', 'title_fr': 'Sécurité lors des matchs de football et de hockey sur glace', 'urgent': False, 'status': 'Resolved'}>) type='SPONSORS' properties={'transferred': False}> - Node 2: <Node element_id='4:fa996e42-3a3f-4866-ad85-cb06ad63f099:538610' labels=frozenset({'Unique Person', 'Person'}) properties={'date_birth': neo4j.time.Date(1946, 5, 16), 'uid': 268, 'gender': 'm', 'last_name': 'Schenk', 'date_death': neo4j.time.Date(2020, 5, 1), 'first_name': 'Simon'}>\n",
      "Node 1: <Node element_id='4:fa996e42-3a3f-4866-ad85-cb06ad63f099:454290' labels=frozenset({'Question Time', 'Bill'}) properties={'title_de': 'Bundesreisezentrale konkurrenziert private Unternehmen', 'bill_number': '09.5543', 'title_fr': 'Entreprises privées concurrencées par la centrale des voyages de la Confédération', 'urgent': False, 'status': 'Resolved'}> - Relationship: <Relationship element_id='5:fa996e42-3a3f-4866-ad85-cb06ad63f099:2340086' nodes=(<Node element_id='4:fa996e42-3a3f-4866-ad85-cb06ad63f099:538595' labels=frozenset({'Unique Person', 'Person'}) properties={'date_birth': neo4j.time.Date(1953, 12, 2), 'uid': 1135, 'gender': 'm', 'last_name': 'Amstutz', 'first_name': 'Adrian'}>, <Node element_id='4:fa996e42-3a3f-4866-ad85-cb06ad63f099:454290' labels=frozenset({'Question Time', 'Bill'}) properties={'title_de': 'Bundesreisezentrale konkurrenziert private Unternehmen', 'bill_number': '09.5543', 'title_fr': 'Entreprises privées concurrencées par la centrale des voyages de la Confédération', 'urgent': False, 'status': 'Resolved'}>) type='SPONSORS' properties={'transferred': False}> - Node 2: <Node element_id='4:fa996e42-3a3f-4866-ad85-cb06ad63f099:538595' labels=frozenset({'Unique Person', 'Person'}) properties={'date_birth': neo4j.time.Date(1953, 12, 2), 'uid': 1135, 'gender': 'm', 'last_name': 'Amstutz', 'first_name': 'Adrian'}>\n",
      "Node 1: <Node element_id='4:fa996e42-3a3f-4866-ad85-cb06ad63f099:454291' labels=frozenset({'Question Time', 'Bill'}) properties={'title_de': 'Hochschulen. Studiengebühren', 'bill_number': '09.5614', 'title_fr': \"Hautes écoles. Finances d'inscription\", 'urgent': False, 'status': 'Resolved'}> - Relationship: <Relationship element_id='5:fa996e42-3a3f-4866-ad85-cb06ad63f099:1540427' nodes=(<Node element_id='4:fa996e42-3a3f-4866-ad85-cb06ad63f099:539557' labels=frozenset({'Unique Person', 'Person'}) properties={'date_birth': neo4j.time.Date(1952, 10, 21), 'uid': 502, 'gender': 'f', 'last_name': 'Riklin', 'first_name': 'Kathy'}>, <Node element_id='4:fa996e42-3a3f-4866-ad85-cb06ad63f099:454291' labels=frozenset({'Question Time', 'Bill'}) properties={'title_de': 'Hochschulen. Studiengebühren', 'bill_number': '09.5614', 'title_fr': \"Hautes écoles. Finances d'inscription\", 'urgent': False, 'status': 'Resolved'}>) type='SPONSORS' properties={'transferred': False}> - Node 2: <Node element_id='4:fa996e42-3a3f-4866-ad85-cb06ad63f099:539557' labels=frozenset({'Unique Person', 'Person'}) properties={'date_birth': neo4j.time.Date(1952, 10, 21), 'uid': 502, 'gender': 'f', 'last_name': 'Riklin', 'first_name': 'Kathy'}>\n"
     ]
    }
   ],
   "source": [
    "class Neo4jQuery:\n",
    "\n",
    "    def __init__(self, uri, user, password):\n",
    "        self.driver = GraphDatabase.driver(uri, auth=(user, password))\n",
    "\n",
    "    def close(self):\n",
    "        self.driver.close()\n",
    "\n",
    "    def get_relations_for_bill_nodes(self):\n",
    "        query = \"\"\"\n",
    "        MATCH (b:Bill)-[r]->(n)\n",
    "        RETURN b, r, n\n",
    "        LIMIT 25\n",
    "        UNION\n",
    "        MATCH (n)-[r]->(b:Bill)\n",
    "        RETURN n, r, b\n",
    "        LIMIT 25\n",
    "        \"\"\"\n",
    "        with self.driver.session() as session:\n",
    "            result = session.run(query)\n",
    "            return [(record['b'], record['r'], record['n']) for record in result]\n",
    "\n",
    "# Create a Neo4jQuery instance\n",
    "neo4j_query = Neo4jQuery(uri, username, password)\n",
    "\n",
    "# Get relations for Bill nodes\n",
    "relations = neo4j_query.get_relations_for_bill_nodes()\n",
    "\n",
    "# Display the results\n",
    "for relation in relations:\n",
    "    print(f\"Node 1: {relation[0]} - Relationship: {relation[1]} - Node 2: {relation[2]}\")\n"
   ]
  },
  {
   "cell_type": "code",
   "execution_count": 1,
   "id": "63e38d46-a2c9-4d4e-a863-ae22d50feaba",
   "metadata": {},
   "outputs": [
    {
     "name": "stdout",
     "output_type": "stream",
     "text": [
      "<Record n=<Node element_id='4:fa996e42-3a3f-4866-ad85-cb06ad63f099:170765' labels=frozenset({'Debate', 'Chamber Debate'}) properties={'uid': '12_5127.1', 'date_start': neo4j.time.Date(2012, 3, 12), 'date_end': neo4j.time.Date(2012, 3, 12), 'order_stamp': 1}> r=<Relationship element_id='5:fa996e42-3a3f-4866-ad85-cb06ad63f099:0' nodes=(<Node element_id='4:fa996e42-3a3f-4866-ad85-cb06ad63f099:170765' labels=frozenset({'Debate', 'Chamber Debate'}) properties={'uid': '12_5127.1', 'date_start': neo4j.time.Date(2012, 3, 12), 'date_end': neo4j.time.Date(2012, 3, 12), 'order_stamp': 1}>, <Node element_id='4:fa996e42-3a3f-4866-ad85-cb06ad63f099:518450' labels=frozenset({'Chamber'}) properties={'name': 'Nationalrat', 'abbrev': 'NR'}>) type='TAKES_PLACE_IN' properties={}> m=<Node element_id='4:fa996e42-3a3f-4866-ad85-cb06ad63f099:518450' labels=frozenset({'Chamber'}) properties={'name': 'Nationalrat', 'abbrev': 'NR'}>>\n",
      "<Record n=<Node element_id='4:fa996e42-3a3f-4866-ad85-cb06ad63f099:170615' labels=frozenset({'Debate', 'Chamber Debate'}) properties={'uid': '12_5281.1', 'date_start': neo4j.time.Date(2012, 9, 17), 'date_end': neo4j.time.Date(2012, 9, 17), 'order_stamp': 1}> r=<Relationship element_id='5:fa996e42-3a3f-4866-ad85-cb06ad63f099:1' nodes=(<Node element_id='4:fa996e42-3a3f-4866-ad85-cb06ad63f099:170615' labels=frozenset({'Debate', 'Chamber Debate'}) properties={'uid': '12_5281.1', 'date_start': neo4j.time.Date(2012, 9, 17), 'date_end': neo4j.time.Date(2012, 9, 17), 'order_stamp': 1}>, <Node element_id='4:fa996e42-3a3f-4866-ad85-cb06ad63f099:518450' labels=frozenset({'Chamber'}) properties={'name': 'Nationalrat', 'abbrev': 'NR'}>) type='TAKES_PLACE_IN' properties={}> m=<Node element_id='4:fa996e42-3a3f-4866-ad85-cb06ad63f099:518450' labels=frozenset({'Chamber'}) properties={'name': 'Nationalrat', 'abbrev': 'NR'}>>\n",
      "<Record n=<Node element_id='4:fa996e42-3a3f-4866-ad85-cb06ad63f099:170746' labels=frozenset({'Debate', 'Chamber Debate'}) properties={'uid': '12_4221.1', 'date_start': neo4j.time.Date(2013, 6, 21), 'date_end': neo4j.time.Date(2013, 6, 21), 'order_stamp': 1}> r=<Relationship element_id='5:fa996e42-3a3f-4866-ad85-cb06ad63f099:2' nodes=(<Node element_id='4:fa996e42-3a3f-4866-ad85-cb06ad63f099:170746' labels=frozenset({'Debate', 'Chamber Debate'}) properties={'uid': '12_4221.1', 'date_start': neo4j.time.Date(2013, 6, 21), 'date_end': neo4j.time.Date(2013, 6, 21), 'order_stamp': 1}>, <Node element_id='4:fa996e42-3a3f-4866-ad85-cb06ad63f099:518450' labels=frozenset({'Chamber'}) properties={'name': 'Nationalrat', 'abbrev': 'NR'}>) type='TAKES_PLACE_IN' properties={}> m=<Node element_id='4:fa996e42-3a3f-4866-ad85-cb06ad63f099:518450' labels=frozenset({'Chamber'}) properties={'name': 'Nationalrat', 'abbrev': 'NR'}>>\n",
      "<Record n=<Node element_id='4:fa996e42-3a3f-4866-ad85-cb06ad63f099:494894' labels=frozenset({'Debate', 'Committee Debate'}) properties={'date': neo4j.time.Date(2013, 5, 28), 'uid': '12_430.1', 'text': 'Folge gegeben', 'order_stamp_in_enactment_draft': 1, 'order_stamp': 1}> r=<Relationship element_id='5:fa996e42-3a3f-4866-ad85-cb06ad63f099:3' nodes=(<Node element_id='4:fa996e42-3a3f-4866-ad85-cb06ad63f099:494894' labels=frozenset({'Debate', 'Committee Debate'}) properties={'date': neo4j.time.Date(2013, 5, 28), 'uid': '12_430.1', 'text': 'Folge gegeben', 'order_stamp_in_enactment_draft': 1, 'order_stamp': 1}>, <Node element_id='4:fa996e42-3a3f-4866-ad85-cb06ad63f099:517152' labels=frozenset({'Committee'}) properties={'abbrev2': 'SPK', 'committee_number': 11, 'name': 'Staatspolitische Kommission NR', 'abbrev': 'SPK-NR', 'type': 'Permanent', 'abbrev1': 'SPK-NR'}>) type='TAKES_PLACE_IN' properties={}> m=<Node element_id='4:fa996e42-3a3f-4866-ad85-cb06ad63f099:517152' labels=frozenset({'Committee'}) properties={'abbrev2': 'SPK', 'committee_number': 11, 'name': 'Staatspolitische Kommission NR', 'abbrev': 'SPK-NR', 'type': 'Permanent', 'abbrev1': 'SPK-NR'}>>\n",
      "<Record n=<Node element_id='4:fa996e42-3a3f-4866-ad85-cb06ad63f099:170831' labels=frozenset({'Debate', 'Chamber Debate'}) properties={'uid': '12_5332.1', 'date_start': neo4j.time.Date(2012, 9, 17), 'date_end': neo4j.time.Date(2012, 9, 17), 'order_stamp': 1}> r=<Relationship element_id='5:fa996e42-3a3f-4866-ad85-cb06ad63f099:4' nodes=(<Node element_id='4:fa996e42-3a3f-4866-ad85-cb06ad63f099:170831' labels=frozenset({'Debate', 'Chamber Debate'}) properties={'uid': '12_5332.1', 'date_start': neo4j.time.Date(2012, 9, 17), 'date_end': neo4j.time.Date(2012, 9, 17), 'order_stamp': 1}>, <Node element_id='4:fa996e42-3a3f-4866-ad85-cb06ad63f099:518450' labels=frozenset({'Chamber'}) properties={'name': 'Nationalrat', 'abbrev': 'NR'}>) type='TAKES_PLACE_IN' properties={}> m=<Node element_id='4:fa996e42-3a3f-4866-ad85-cb06ad63f099:518450' labels=frozenset({'Chamber'}) properties={'name': 'Nationalrat', 'abbrev': 'NR'}>>\n",
      "<Record n=<Node element_id='4:fa996e42-3a3f-4866-ad85-cb06ad63f099:170424' labels=frozenset({'Debate', 'Chamber Debate'}) properties={'uid': '12_5260.1', 'date_start': neo4j.time.Date(2012, 6, 11), 'date_end': neo4j.time.Date(2012, 6, 11), 'order_stamp': 1}> r=<Relationship element_id='5:fa996e42-3a3f-4866-ad85-cb06ad63f099:5' nodes=(<Node element_id='4:fa996e42-3a3f-4866-ad85-cb06ad63f099:170424' labels=frozenset({'Debate', 'Chamber Debate'}) properties={'uid': '12_5260.1', 'date_start': neo4j.time.Date(2012, 6, 11), 'date_end': neo4j.time.Date(2012, 6, 11), 'order_stamp': 1}>, <Node element_id='4:fa996e42-3a3f-4866-ad85-cb06ad63f099:518450' labels=frozenset({'Chamber'}) properties={'name': 'Nationalrat', 'abbrev': 'NR'}>) type='TAKES_PLACE_IN' properties={}> m=<Node element_id='4:fa996e42-3a3f-4866-ad85-cb06ad63f099:518450' labels=frozenset({'Chamber'}) properties={'name': 'Nationalrat', 'abbrev': 'NR'}>>\n",
      "<Record n=<Node element_id='4:fa996e42-3a3f-4866-ad85-cb06ad63f099:170812' labels=frozenset({'Debate', 'Chamber Debate'}) properties={'uid': '12_5305.1', 'date_start': neo4j.time.Date(2012, 9, 17), 'date_end': neo4j.time.Date(2012, 9, 17), 'order_stamp': 1}> r=<Relationship element_id='5:fa996e42-3a3f-4866-ad85-cb06ad63f099:6' nodes=(<Node element_id='4:fa996e42-3a3f-4866-ad85-cb06ad63f099:170812' labels=frozenset({'Debate', 'Chamber Debate'}) properties={'uid': '12_5305.1', 'date_start': neo4j.time.Date(2012, 9, 17), 'date_end': neo4j.time.Date(2012, 9, 17), 'order_stamp': 1}>, <Node element_id='4:fa996e42-3a3f-4866-ad85-cb06ad63f099:518450' labels=frozenset({'Chamber'}) properties={'name': 'Nationalrat', 'abbrev': 'NR'}>) type='TAKES_PLACE_IN' properties={}> m=<Node element_id='4:fa996e42-3a3f-4866-ad85-cb06ad63f099:518450' labels=frozenset({'Chamber'}) properties={'name': 'Nationalrat', 'abbrev': 'NR'}>>\n",
      "<Record n=<Node element_id='4:fa996e42-3a3f-4866-ad85-cb06ad63f099:170698' labels=frozenset({'Debate', 'Chamber Debate'}) properties={'uid': '12_5134.1', 'date_start': neo4j.time.Date(2012, 3, 12), 'date_end': neo4j.time.Date(2012, 3, 12), 'order_stamp': 1}> r=<Relationship element_id='5:fa996e42-3a3f-4866-ad85-cb06ad63f099:7' nodes=(<Node element_id='4:fa996e42-3a3f-4866-ad85-cb06ad63f099:170698' labels=frozenset({'Debate', 'Chamber Debate'}) properties={'uid': '12_5134.1', 'date_start': neo4j.time.Date(2012, 3, 12), 'date_end': neo4j.time.Date(2012, 3, 12), 'order_stamp': 1}>, <Node element_id='4:fa996e42-3a3f-4866-ad85-cb06ad63f099:518450' labels=frozenset({'Chamber'}) properties={'name': 'Nationalrat', 'abbrev': 'NR'}>) type='TAKES_PLACE_IN' properties={}> m=<Node element_id='4:fa996e42-3a3f-4866-ad85-cb06ad63f099:518450' labels=frozenset({'Chamber'}) properties={'name': 'Nationalrat', 'abbrev': 'NR'}>>\n",
      "<Record n=<Node element_id='4:fa996e42-3a3f-4866-ad85-cb06ad63f099:170483' labels=frozenset({'Debate', 'Chamber Debate'}) properties={'uid': '12_4224.1', 'date_start': neo4j.time.Date(2013, 3, 22), 'date_end': neo4j.time.Date(2013, 3, 22), 'order_stamp': 1}> r=<Relationship element_id='5:fa996e42-3a3f-4866-ad85-cb06ad63f099:8' nodes=(<Node element_id='4:fa996e42-3a3f-4866-ad85-cb06ad63f099:170483' labels=frozenset({'Debate', 'Chamber Debate'}) properties={'uid': '12_4224.1', 'date_start': neo4j.time.Date(2013, 3, 22), 'date_end': neo4j.time.Date(2013, 3, 22), 'order_stamp': 1}>, <Node element_id='4:fa996e42-3a3f-4866-ad85-cb06ad63f099:518450' labels=frozenset({'Chamber'}) properties={'name': 'Nationalrat', 'abbrev': 'NR'}>) type='TAKES_PLACE_IN' properties={}> m=<Node element_id='4:fa996e42-3a3f-4866-ad85-cb06ad63f099:518450' labels=frozenset({'Chamber'}) properties={'name': 'Nationalrat', 'abbrev': 'NR'}>>\n",
      "<Record n=<Node element_id='4:fa996e42-3a3f-4866-ad85-cb06ad63f099:170298' labels=frozenset({'Debate', 'Chamber Debate'}) properties={'uid': '12_5059.1', 'date_start': neo4j.time.Date(2012, 3, 5), 'date_end': neo4j.time.Date(2012, 3, 5), 'order_stamp': 1}> r=<Relationship element_id='5:fa996e42-3a3f-4866-ad85-cb06ad63f099:9' nodes=(<Node element_id='4:fa996e42-3a3f-4866-ad85-cb06ad63f099:170298' labels=frozenset({'Debate', 'Chamber Debate'}) properties={'uid': '12_5059.1', 'date_start': neo4j.time.Date(2012, 3, 5), 'date_end': neo4j.time.Date(2012, 3, 5), 'order_stamp': 1}>, <Node element_id='4:fa996e42-3a3f-4866-ad85-cb06ad63f099:518450' labels=frozenset({'Chamber'}) properties={'name': 'Nationalrat', 'abbrev': 'NR'}>) type='TAKES_PLACE_IN' properties={}> m=<Node element_id='4:fa996e42-3a3f-4866-ad85-cb06ad63f099:518450' labels=frozenset({'Chamber'}) properties={'name': 'Nationalrat', 'abbrev': 'NR'}>>\n",
      "<Record n=<Node element_id='4:fa996e42-3a3f-4866-ad85-cb06ad63f099:170792' labels=frozenset({'Debate', 'Chamber Debate'}) properties={'uid': '12_5123.1', 'date_start': neo4j.time.Date(2012, 3, 12), 'date_end': neo4j.time.Date(2012, 3, 12), 'order_stamp': 1}> r=<Relationship element_id='5:fa996e42-3a3f-4866-ad85-cb06ad63f099:10' nodes=(<Node element_id='4:fa996e42-3a3f-4866-ad85-cb06ad63f099:170792' labels=frozenset({'Debate', 'Chamber Debate'}) properties={'uid': '12_5123.1', 'date_start': neo4j.time.Date(2012, 3, 12), 'date_end': neo4j.time.Date(2012, 3, 12), 'order_stamp': 1}>, <Node element_id='4:fa996e42-3a3f-4866-ad85-cb06ad63f099:518450' labels=frozenset({'Chamber'}) properties={'name': 'Nationalrat', 'abbrev': 'NR'}>) type='TAKES_PLACE_IN' properties={}> m=<Node element_id='4:fa996e42-3a3f-4866-ad85-cb06ad63f099:518450' labels=frozenset({'Chamber'}) properties={'name': 'Nationalrat', 'abbrev': 'NR'}>>\n",
      "<Record n=<Node element_id='4:fa996e42-3a3f-4866-ad85-cb06ad63f099:170736' labels=frozenset({'Debate', 'Chamber Debate'}) properties={'uid': '12_5405.1', 'date_start': neo4j.time.Date(2012, 12, 3), 'date_end': neo4j.time.Date(2012, 12, 3), 'order_stamp': 1}> r=<Relationship element_id='5:fa996e42-3a3f-4866-ad85-cb06ad63f099:11' nodes=(<Node element_id='4:fa996e42-3a3f-4866-ad85-cb06ad63f099:170736' labels=frozenset({'Debate', 'Chamber Debate'}) properties={'uid': '12_5405.1', 'date_start': neo4j.time.Date(2012, 12, 3), 'date_end': neo4j.time.Date(2012, 12, 3), 'order_stamp': 1}>, <Node element_id='4:fa996e42-3a3f-4866-ad85-cb06ad63f099:518450' labels=frozenset({'Chamber'}) properties={'name': 'Nationalrat', 'abbrev': 'NR'}>) type='TAKES_PLACE_IN' properties={}> m=<Node element_id='4:fa996e42-3a3f-4866-ad85-cb06ad63f099:518450' labels=frozenset({'Chamber'}) properties={'name': 'Nationalrat', 'abbrev': 'NR'}>>\n",
      "<Record n=<Node element_id='4:fa996e42-3a3f-4866-ad85-cb06ad63f099:170475' labels=frozenset({'Debate', 'Chamber Debate'}) properties={'uid': '12_5230.1', 'date_start': neo4j.time.Date(2012, 6, 11), 'date_end': neo4j.time.Date(2012, 6, 11), 'order_stamp': 1}> r=<Relationship element_id='5:fa996e42-3a3f-4866-ad85-cb06ad63f099:12' nodes=(<Node element_id='4:fa996e42-3a3f-4866-ad85-cb06ad63f099:170475' labels=frozenset({'Debate', 'Chamber Debate'}) properties={'uid': '12_5230.1', 'date_start': neo4j.time.Date(2012, 6, 11), 'date_end': neo4j.time.Date(2012, 6, 11), 'order_stamp': 1}>, <Node element_id='4:fa996e42-3a3f-4866-ad85-cb06ad63f099:518450' labels=frozenset({'Chamber'}) properties={'name': 'Nationalrat', 'abbrev': 'NR'}>) type='TAKES_PLACE_IN' properties={}> m=<Node element_id='4:fa996e42-3a3f-4866-ad85-cb06ad63f099:518450' labels=frozenset({'Chamber'}) properties={'name': 'Nationalrat', 'abbrev': 'NR'}>>\n",
      "<Record n=<Node element_id='4:fa996e42-3a3f-4866-ad85-cb06ad63f099:170371' labels=frozenset({'Debate', 'Chamber Debate'}) properties={'uid': '12_5176.1', 'date_start': neo4j.time.Date(2012, 6, 4), 'date_end': neo4j.time.Date(2012, 6, 4), 'order_stamp': 1}> r=<Relationship element_id='5:fa996e42-3a3f-4866-ad85-cb06ad63f099:13' nodes=(<Node element_id='4:fa996e42-3a3f-4866-ad85-cb06ad63f099:170371' labels=frozenset({'Debate', 'Chamber Debate'}) properties={'uid': '12_5176.1', 'date_start': neo4j.time.Date(2012, 6, 4), 'date_end': neo4j.time.Date(2012, 6, 4), 'order_stamp': 1}>, <Node element_id='4:fa996e42-3a3f-4866-ad85-cb06ad63f099:518450' labels=frozenset({'Chamber'}) properties={'name': 'Nationalrat', 'abbrev': 'NR'}>) type='TAKES_PLACE_IN' properties={}> m=<Node element_id='4:fa996e42-3a3f-4866-ad85-cb06ad63f099:518450' labels=frozenset({'Chamber'}) properties={'name': 'Nationalrat', 'abbrev': 'NR'}>>\n",
      "<Record n=<Node element_id='4:fa996e42-3a3f-4866-ad85-cb06ad63f099:170459' labels=frozenset({'Debate', 'Chamber Debate'}) properties={'uid': '12_5316.1', 'date_start': neo4j.time.Date(2012, 9, 17), 'date_end': neo4j.time.Date(2012, 9, 17), 'order_stamp': 1}> r=<Relationship element_id='5:fa996e42-3a3f-4866-ad85-cb06ad63f099:14' nodes=(<Node element_id='4:fa996e42-3a3f-4866-ad85-cb06ad63f099:170459' labels=frozenset({'Debate', 'Chamber Debate'}) properties={'uid': '12_5316.1', 'date_start': neo4j.time.Date(2012, 9, 17), 'date_end': neo4j.time.Date(2012, 9, 17), 'order_stamp': 1}>, <Node element_id='4:fa996e42-3a3f-4866-ad85-cb06ad63f099:518450' labels=frozenset({'Chamber'}) properties={'name': 'Nationalrat', 'abbrev': 'NR'}>) type='TAKES_PLACE_IN' properties={}> m=<Node element_id='4:fa996e42-3a3f-4866-ad85-cb06ad63f099:518450' labels=frozenset({'Chamber'}) properties={'name': 'Nationalrat', 'abbrev': 'NR'}>>\n",
      "<Record n=<Node element_id='4:fa996e42-3a3f-4866-ad85-cb06ad63f099:170328' labels=frozenset({'Debate', 'Chamber Debate'}) properties={'uid': '12_5187.1', 'date_start': neo4j.time.Date(2012, 6, 4), 'date_end': neo4j.time.Date(2012, 6, 4), 'order_stamp': 1}> r=<Relationship element_id='5:fa996e42-3a3f-4866-ad85-cb06ad63f099:15' nodes=(<Node element_id='4:fa996e42-3a3f-4866-ad85-cb06ad63f099:170328' labels=frozenset({'Debate', 'Chamber Debate'}) properties={'uid': '12_5187.1', 'date_start': neo4j.time.Date(2012, 6, 4), 'date_end': neo4j.time.Date(2012, 6, 4), 'order_stamp': 1}>, <Node element_id='4:fa996e42-3a3f-4866-ad85-cb06ad63f099:518450' labels=frozenset({'Chamber'}) properties={'name': 'Nationalrat', 'abbrev': 'NR'}>) type='TAKES_PLACE_IN' properties={}> m=<Node element_id='4:fa996e42-3a3f-4866-ad85-cb06ad63f099:518450' labels=frozenset({'Chamber'}) properties={'name': 'Nationalrat', 'abbrev': 'NR'}>>\n",
      "<Record n=<Node element_id='4:fa996e42-3a3f-4866-ad85-cb06ad63f099:170669' labels=frozenset({'Debate', 'Chamber Debate'}) properties={'uid': '12_4200.1', 'date_start': neo4j.time.Date(2013, 3, 11), 'date_end': neo4j.time.Date(2013, 3, 11), 'order_stamp': 1}> r=<Relationship element_id='5:fa996e42-3a3f-4866-ad85-cb06ad63f099:16' nodes=(<Node element_id='4:fa996e42-3a3f-4866-ad85-cb06ad63f099:170669' labels=frozenset({'Debate', 'Chamber Debate'}) properties={'uid': '12_4200.1', 'date_start': neo4j.time.Date(2013, 3, 11), 'date_end': neo4j.time.Date(2013, 3, 11), 'order_stamp': 1}>, <Node element_id='4:fa996e42-3a3f-4866-ad85-cb06ad63f099:518452' labels=frozenset({'Chamber'}) properties={'name': 'Ständerat', 'abbrev': 'SR'}>) type='TAKES_PLACE_IN' properties={}> m=<Node element_id='4:fa996e42-3a3f-4866-ad85-cb06ad63f099:518452' labels=frozenset({'Chamber'}) properties={'name': 'Ständerat', 'abbrev': 'SR'}>>\n",
      "<Record n=<Node element_id='4:fa996e42-3a3f-4866-ad85-cb06ad63f099:170434' labels=frozenset({'Debate', 'Chamber Debate'}) properties={'uid': '12_5417.1', 'date_start': neo4j.time.Date(2012, 12, 3), 'date_end': neo4j.time.Date(2012, 12, 3), 'order_stamp': 1}> r=<Relationship element_id='5:fa996e42-3a3f-4866-ad85-cb06ad63f099:17' nodes=(<Node element_id='4:fa996e42-3a3f-4866-ad85-cb06ad63f099:170434' labels=frozenset({'Debate', 'Chamber Debate'}) properties={'uid': '12_5417.1', 'date_start': neo4j.time.Date(2012, 12, 3), 'date_end': neo4j.time.Date(2012, 12, 3), 'order_stamp': 1}>, <Node element_id='4:fa996e42-3a3f-4866-ad85-cb06ad63f099:518450' labels=frozenset({'Chamber'}) properties={'name': 'Nationalrat', 'abbrev': 'NR'}>) type='TAKES_PLACE_IN' properties={}> m=<Node element_id='4:fa996e42-3a3f-4866-ad85-cb06ad63f099:518450' labels=frozenset({'Chamber'}) properties={'name': 'Nationalrat', 'abbrev': 'NR'}>>\n",
      "<Record n=<Node element_id='4:fa996e42-3a3f-4866-ad85-cb06ad63f099:170426' labels=frozenset({'Debate', 'Chamber Debate'}) properties={'uid': '12_5103.1', 'date_start': neo4j.time.Date(2012, 3, 12), 'date_end': neo4j.time.Date(2012, 3, 12), 'order_stamp': 1}> r=<Relationship element_id='5:fa996e42-3a3f-4866-ad85-cb06ad63f099:18' nodes=(<Node element_id='4:fa996e42-3a3f-4866-ad85-cb06ad63f099:170426' labels=frozenset({'Debate', 'Chamber Debate'}) properties={'uid': '12_5103.1', 'date_start': neo4j.time.Date(2012, 3, 12), 'date_end': neo4j.time.Date(2012, 3, 12), 'order_stamp': 1}>, <Node element_id='4:fa996e42-3a3f-4866-ad85-cb06ad63f099:518450' labels=frozenset({'Chamber'}) properties={'name': 'Nationalrat', 'abbrev': 'NR'}>) type='TAKES_PLACE_IN' properties={}> m=<Node element_id='4:fa996e42-3a3f-4866-ad85-cb06ad63f099:518450' labels=frozenset({'Chamber'}) properties={'name': 'Nationalrat', 'abbrev': 'NR'}>>\n",
      "<Record n=<Node element_id='4:fa996e42-3a3f-4866-ad85-cb06ad63f099:170283' labels=frozenset({'Debate', 'Chamber Debate'}) properties={'uid': '12_5110.1', 'date_start': neo4j.time.Date(2012, 3, 12), 'date_end': neo4j.time.Date(2012, 3, 12), 'order_stamp': 1}> r=<Relationship element_id='5:fa996e42-3a3f-4866-ad85-cb06ad63f099:19' nodes=(<Node element_id='4:fa996e42-3a3f-4866-ad85-cb06ad63f099:170283' labels=frozenset({'Debate', 'Chamber Debate'}) properties={'uid': '12_5110.1', 'date_start': neo4j.time.Date(2012, 3, 12), 'date_end': neo4j.time.Date(2012, 3, 12), 'order_stamp': 1}>, <Node element_id='4:fa996e42-3a3f-4866-ad85-cb06ad63f099:518450' labels=frozenset({'Chamber'}) properties={'name': 'Nationalrat', 'abbrev': 'NR'}>) type='TAKES_PLACE_IN' properties={}> m=<Node element_id='4:fa996e42-3a3f-4866-ad85-cb06ad63f099:518450' labels=frozenset({'Chamber'}) properties={'name': 'Nationalrat', 'abbrev': 'NR'}>>\n",
      "<Record n=<Node element_id='4:fa996e42-3a3f-4866-ad85-cb06ad63f099:170502' labels=frozenset({'Debate', 'Chamber Debate'}) properties={'uid': '12_5035.1', 'date_start': neo4j.time.Date(2012, 3, 5), 'date_end': neo4j.time.Date(2012, 3, 5), 'order_stamp': 1}> r=<Relationship element_id='5:fa996e42-3a3f-4866-ad85-cb06ad63f099:20' nodes=(<Node element_id='4:fa996e42-3a3f-4866-ad85-cb06ad63f099:170502' labels=frozenset({'Debate', 'Chamber Debate'}) properties={'uid': '12_5035.1', 'date_start': neo4j.time.Date(2012, 3, 5), 'date_end': neo4j.time.Date(2012, 3, 5), 'order_stamp': 1}>, <Node element_id='4:fa996e42-3a3f-4866-ad85-cb06ad63f099:518450' labels=frozenset({'Chamber'}) properties={'name': 'Nationalrat', 'abbrev': 'NR'}>) type='TAKES_PLACE_IN' properties={}> m=<Node element_id='4:fa996e42-3a3f-4866-ad85-cb06ad63f099:518450' labels=frozenset({'Chamber'}) properties={'name': 'Nationalrat', 'abbrev': 'NR'}>>\n",
      "<Record n=<Node element_id='4:fa996e42-3a3f-4866-ad85-cb06ad63f099:170702' labels=frozenset({'Debate', 'Chamber Debate'}) properties={'uid': '12_5216.1', 'date_start': neo4j.time.Date(2012, 6, 11), 'date_end': neo4j.time.Date(2012, 6, 11), 'order_stamp': 1}> r=<Relationship element_id='5:fa996e42-3a3f-4866-ad85-cb06ad63f099:21' nodes=(<Node element_id='4:fa996e42-3a3f-4866-ad85-cb06ad63f099:170702' labels=frozenset({'Debate', 'Chamber Debate'}) properties={'uid': '12_5216.1', 'date_start': neo4j.time.Date(2012, 6, 11), 'date_end': neo4j.time.Date(2012, 6, 11), 'order_stamp': 1}>, <Node element_id='4:fa996e42-3a3f-4866-ad85-cb06ad63f099:518450' labels=frozenset({'Chamber'}) properties={'name': 'Nationalrat', 'abbrev': 'NR'}>) type='TAKES_PLACE_IN' properties={}> m=<Node element_id='4:fa996e42-3a3f-4866-ad85-cb06ad63f099:518450' labels=frozenset({'Chamber'}) properties={'name': 'Nationalrat', 'abbrev': 'NR'}>>\n",
      "<Record n=<Node element_id='4:fa996e42-3a3f-4866-ad85-cb06ad63f099:170752' labels=frozenset({'Debate', 'Chamber Debate'}) properties={'uid': '12_5020.1', 'date_start': neo4j.time.Date(2012, 3, 5), 'date_end': neo4j.time.Date(2012, 3, 5), 'order_stamp': 1}> r=<Relationship element_id='5:fa996e42-3a3f-4866-ad85-cb06ad63f099:22' nodes=(<Node element_id='4:fa996e42-3a3f-4866-ad85-cb06ad63f099:170752' labels=frozenset({'Debate', 'Chamber Debate'}) properties={'uid': '12_5020.1', 'date_start': neo4j.time.Date(2012, 3, 5), 'date_end': neo4j.time.Date(2012, 3, 5), 'order_stamp': 1}>, <Node element_id='4:fa996e42-3a3f-4866-ad85-cb06ad63f099:518450' labels=frozenset({'Chamber'}) properties={'name': 'Nationalrat', 'abbrev': 'NR'}>) type='TAKES_PLACE_IN' properties={}> m=<Node element_id='4:fa996e42-3a3f-4866-ad85-cb06ad63f099:518450' labels=frozenset({'Chamber'}) properties={'name': 'Nationalrat', 'abbrev': 'NR'}>>\n",
      "<Record n=<Node element_id='4:fa996e42-3a3f-4866-ad85-cb06ad63f099:170278' labels=frozenset({'Debate', 'Chamber Debate'}) properties={'uid': '12_5087.1', 'date_start': neo4j.time.Date(2012, 3, 12), 'date_end': neo4j.time.Date(2012, 3, 12), 'order_stamp': 1}> r=<Relationship element_id='5:fa996e42-3a3f-4866-ad85-cb06ad63f099:23' nodes=(<Node element_id='4:fa996e42-3a3f-4866-ad85-cb06ad63f099:170278' labels=frozenset({'Debate', 'Chamber Debate'}) properties={'uid': '12_5087.1', 'date_start': neo4j.time.Date(2012, 3, 12), 'date_end': neo4j.time.Date(2012, 3, 12), 'order_stamp': 1}>, <Node element_id='4:fa996e42-3a3f-4866-ad85-cb06ad63f099:518450' labels=frozenset({'Chamber'}) properties={'name': 'Nationalrat', 'abbrev': 'NR'}>) type='TAKES_PLACE_IN' properties={}> m=<Node element_id='4:fa996e42-3a3f-4866-ad85-cb06ad63f099:518450' labels=frozenset({'Chamber'}) properties={'name': 'Nationalrat', 'abbrev': 'NR'}>>\n",
      "<Record n=<Node element_id='4:fa996e42-3a3f-4866-ad85-cb06ad63f099:170528' labels=frozenset({'Debate', 'Chamber Debate'}) properties={'uid': '12_5130.1', 'date_start': neo4j.time.Date(2012, 3, 12), 'date_end': neo4j.time.Date(2012, 3, 12), 'order_stamp': 1}> r=<Relationship element_id='5:fa996e42-3a3f-4866-ad85-cb06ad63f099:24' nodes=(<Node element_id='4:fa996e42-3a3f-4866-ad85-cb06ad63f099:170528' labels=frozenset({'Debate', 'Chamber Debate'}) properties={'uid': '12_5130.1', 'date_start': neo4j.time.Date(2012, 3, 12), 'date_end': neo4j.time.Date(2012, 3, 12), 'order_stamp': 1}>, <Node element_id='4:fa996e42-3a3f-4866-ad85-cb06ad63f099:518450' labels=frozenset({'Chamber'}) properties={'name': 'Nationalrat', 'abbrev': 'NR'}>) type='TAKES_PLACE_IN' properties={}> m=<Node element_id='4:fa996e42-3a3f-4866-ad85-cb06ad63f099:518450' labels=frozenset({'Chamber'}) properties={'name': 'Nationalrat', 'abbrev': 'NR'}>>\n"
     ]
    }
   ],
   "source": [
    "from neo4j import GraphDatabase\n",
    "\n",
    "# Define the connection URI and authentication\n",
    "uri = \"bolt://94.230.217.43:7687\"  # Update this if you're using a different address   localhost\n",
    "username = \"neo4j\"  # Your Neo4j username\n",
    "password = \"lagginhorn\"  # Your Neo4j password   newpassword\n",
    "\n",
    "# Create a Neo4j driver instance\n",
    "driver = GraphDatabase.driver(uri, auth=(username, password))\n",
    "\n",
    "# Define a function to query the Neo4j database\n",
    "def query_neo4j(query):\n",
    "    with driver.session() as session:\n",
    "        # Run the query and return the results\n",
    "        result = session.run(query)\n",
    "        return [record for record in result]\n",
    "\n",
    "# Example Cypher query to retrieve all nodes and relationships\n",
    "cypher_query = \"\"\"\n",
    "MATCH (n)-[r]->(m)\n",
    "RETURN n, r, m\n",
    "LIMIT 25\n",
    "\"\"\"\n",
    "\n",
    "# Execute the query and print the results\n",
    "results = query_neo4j(cypher_query)\n",
    "for record in results:\n",
    "    print(record)\n",
    "\n",
    "# Close the driver connection when done\n",
    "driver.close()\n"
   ]
  },
  {
   "cell_type": "code",
   "execution_count": 15,
   "id": "530c0f14-83a4-4d26-bbeb-cdba9a643f95",
   "metadata": {},
   "outputs": [
    {
     "name": "stdout",
     "output_type": "stream",
     "text": [
      "<Node element_id='4:fa996e42-3a3f-4866-ad85-cb06ad63f099:454275' labels=frozenset({'Bill', 'Question Time'}) properties={'title_de': 'Kyoto-Protokoll. Bilanz der bisherigen Politik?', 'bill_number': '09.5595', 'title_fr': 'Protocole de Kyoto. Bilan de la politique menée?', 'urgent': False, 'status': 'Resolved'}>\n",
      "<Node element_id='4:fa996e42-3a3f-4866-ad85-cb06ad63f099:454276' labels=frozenset({'Bill', 'Question Time'}) properties={'title_de': 'Einsparungspotenzial bei der SRG', 'bill_number': '09.5612', 'title_fr': \"Possibilités d'économies pour la SSR\", 'urgent': False, 'status': 'Resolved'}>\n",
      "<Node element_id='4:fa996e42-3a3f-4866-ad85-cb06ad63f099:454277' labels=frozenset({'Bill', 'Question Time'}) properties={'title_de': 'Putsch in Honduras', 'bill_number': '09.5570', 'title_fr': \"Coup d'Etat au Honduras\", 'urgent': False, 'status': 'Resolved'}>\n",
      "<Node element_id='4:fa996e42-3a3f-4866-ad85-cb06ad63f099:454278' labels=frozenset({'Bill', 'Question Time'}) properties={'title_de': 'Wintereinbruch und Verkehrsmanagement auf der A2', 'bill_number': '09.5622', 'title_fr': \"Premières chutes de neige et gestion de la circulation sur l'A2\", 'urgent': False, 'status': 'Resolved'}>\n",
      "<Node element_id='4:fa996e42-3a3f-4866-ad85-cb06ad63f099:454279' labels=frozenset({'Bill', 'Question Time'}) properties={'title_de': 'Berufsverbot für Frauen', 'bill_number': '09.5569', 'title_fr': \"Interdiction d'exercer une profession pour les femmes\", 'urgent': False, 'status': 'Resolved'}>\n",
      "<Node element_id='4:fa996e42-3a3f-4866-ad85-cb06ad63f099:454280' labels=frozenset({'Bill', 'Question Time'}) properties={'title_de': 'Minarett-Verbot. EMRK-Abklärung durch den Bundesrat', 'bill_number': '09.5611', 'title_fr': 'Interdiction des minarets. Examen de la conformité à la CEDH par le Conseil fédéral', 'urgent': False, 'status': 'Resolved'}>\n",
      "<Node element_id='4:fa996e42-3a3f-4866-ad85-cb06ad63f099:454281' labels=frozenset({'Bill', 'Question Time'}) properties={'title_de': 'Neutrales Gutachten zur Einschätzung der Risiken des Kernkraftwerks Mühleberg?', 'bill_number': '09.5559', 'title_fr': 'Une expertise neutre pour évaluer les risques de la centrale nucléaire de Mühleberg?', 'urgent': False, 'status': 'Resolved'}>\n",
      "<Node element_id='4:fa996e42-3a3f-4866-ad85-cb06ad63f099:454282' labels=frozenset({'Bill', 'Question Time'}) properties={'title_de': 'UBS-Verantwortlichkeitsklage?', 'bill_number': '09.5631', 'title_fr': 'UBS. Action en responsabilité?', 'urgent': False, 'status': 'Resolved'}>\n",
      "<Node element_id='4:fa996e42-3a3f-4866-ad85-cb06ad63f099:454283' labels=frozenset({'Bill', 'Question Time'}) properties={'title_de': 'Druckaufträge der Post im Ausland', 'bill_number': '09.5592', 'title_fr': \"Commandes d'impression confiées par la Poste à des entreprises situées à l'étranger\", 'urgent': False, 'status': 'Resolved'}>\n",
      "<Node element_id='4:fa996e42-3a3f-4866-ad85-cb06ad63f099:454284' labels=frozenset({'Bill', 'Question Time'}) properties={'title_de': 'Spielt der Wettbewerb im Telekom-Markt mit einer staatlichen Swisscom?', 'bill_number': '09.5607', 'title_fr': 'Le marché des télécommunications est-il concurrentiel face à une Swisscom étatisée?', 'urgent': False, 'status': 'Resolved'}>\n",
      "<Node element_id='4:fa996e42-3a3f-4866-ad85-cb06ad63f099:454285' labels=frozenset({'Bill', 'Question Time'}) properties={'title_de': 'Vorbehalt des Minarett-Bauverbots in der EMRK', 'bill_number': '09.5615', 'title_fr': 'CEDH. Réserve relative à la construction de minarets', 'urgent': False, 'status': 'Resolved'}>\n",
      "<Node element_id='4:fa996e42-3a3f-4866-ad85-cb06ad63f099:454286' labels=frozenset({'Bill', 'Question Time'}) properties={'title_de': 'Telekom-Markt nach Orange/Sunrise. Marktzutritt ermöglichen?', 'bill_number': '09.5633', 'title_fr': \"Ouverture de l'accès au marché des télécommunications après la fusion Orange/Sunrise\", 'urgent': False, 'status': 'Resolved'}>\n",
      "<Node element_id='4:fa996e42-3a3f-4866-ad85-cb06ad63f099:454287' labels=frozenset({'Bill', 'Question Time'}) properties={'title_de': 'Zölibat', 'bill_number': '09.5568', 'title_fr': 'Célibat', 'urgent': False, 'status': 'Resolved'}>\n",
      "<Node element_id='4:fa996e42-3a3f-4866-ad85-cb06ad63f099:454288' labels=frozenset({'Bill', 'Question Time'}) properties={'title_de': 'Umsetzung der Qualitätsstrategie im Gesundheitswesen', 'bill_number': '09.5599', 'title_fr': \"Mise en oeuvre de la stratégie en matière d'assurance-qualité\", 'urgent': False, 'status': 'Resolved'}>\n",
      "<Node element_id='4:fa996e42-3a3f-4866-ad85-cb06ad63f099:454289' labels=frozenset({'Bill', 'Question Time'}) properties={'title_de': 'Sicherheit bei Fussball- und Eishockeyspielen', 'bill_number': '09.5567', 'title_fr': 'Sécurité lors des matchs de football et de hockey sur glace', 'urgent': False, 'status': 'Resolved'}>\n",
      "<Node element_id='4:fa996e42-3a3f-4866-ad85-cb06ad63f099:454290' labels=frozenset({'Bill', 'Question Time'}) properties={'title_de': 'Bundesreisezentrale konkurrenziert private Unternehmen', 'bill_number': '09.5543', 'title_fr': 'Entreprises privées concurrencées par la centrale des voyages de la Confédération', 'urgent': False, 'status': 'Resolved'}>\n",
      "<Node element_id='4:fa996e42-3a3f-4866-ad85-cb06ad63f099:454291' labels=frozenset({'Bill', 'Question Time'}) properties={'title_de': 'Hochschulen. Studiengebühren', 'bill_number': '09.5614', 'title_fr': \"Hautes écoles. Finances d'inscription\", 'urgent': False, 'status': 'Resolved'}>\n",
      "<Node element_id='4:fa996e42-3a3f-4866-ad85-cb06ad63f099:454292' labels=frozenset({'Bill', 'Question Time'}) properties={'title_de': 'Kosten der Personenfreizügigkeit', 'bill_number': '09.5581', 'title_fr': 'Coûts de la libre circulation des personnes', 'urgent': False, 'status': 'Resolved'}>\n",
      "<Node element_id='4:fa996e42-3a3f-4866-ad85-cb06ad63f099:454293' labels=frozenset({'Bill', 'Question Time'}) properties={'title_de': 'Homepage www.sms-jugendarbeitslosigkeit.ch', 'bill_number': '09.5623', 'title_fr': 'Site www.sms-chomage-des-jeunes.ch', 'urgent': False, 'status': 'Resolved'}>\n",
      "<Node element_id='4:fa996e42-3a3f-4866-ad85-cb06ad63f099:454294' labels=frozenset({'Bill', 'Question Time'}) properties={'title_de': 'Wintereinbruch und Schwerverkehrsdosierung auf der A2', 'bill_number': '09.5586', 'title_fr': \"Arrivée de l'hiver et régulation du trafic lourd sur l'A2\", 'urgent': False, 'status': 'Resolved'}>\n",
      "<Node element_id='4:fa996e42-3a3f-4866-ad85-cb06ad63f099:454295' labels=frozenset({'Bill', 'Question Time'}) properties={'title_de': 'Freie Veröffentlichung von digitalen Kartografiedaten der Swisstopo', 'bill_number': '09.5644', 'title_fr': 'Publication libre des données cartographiques numériques de Swisstopo', 'urgent': False, 'status': 'Resolved'}>\n",
      "<Node element_id='4:fa996e42-3a3f-4866-ad85-cb06ad63f099:454296' labels=frozenset({'Bill', 'Question Time'}) properties={'title_de': 'ETH-Fahrzeug im Dienste von Demonstranten', 'bill_number': '09.5632', 'title_fr': 'Véhicule des EPF utilisé par des manifestants', 'urgent': False, 'status': 'Resolved'}>\n",
      "<Node element_id='4:fa996e42-3a3f-4866-ad85-cb06ad63f099:454297' labels=frozenset({'Bill', 'Question Time'}) properties={'title_de': 'Militärpflichtersatz', 'bill_number': '09.5578', 'title_fr': \"Taxe d'exemption de l'obligation de servir\", 'urgent': False, 'status': 'Resolved'}>\n",
      "<Node element_id='4:fa996e42-3a3f-4866-ad85-cb06ad63f099:454298' labels=frozenset({'Bill', 'Question Time'}) properties={'title_de': 'Umsetzung des Cassis-de-Dijon-Prinzips', 'bill_number': '09.5634', 'title_fr': 'Application du principe du \"Cassis de Dijon\"', 'urgent': False, 'status': 'Resolved'}>\n",
      "<Node element_id='4:fa996e42-3a3f-4866-ad85-cb06ad63f099:454299' labels=frozenset({'Bill', 'Question Time'}) properties={'title_de': 'Verdikt des Souveräns zur Minarett-Initiative und Religionsfriede in der Schweiz', 'bill_number': '09.5625', 'title_fr': 'Initiative contre les minarets et paix confessionnelle en Suisse. Verdict populaire', 'urgent': False, 'status': 'Resolved'}>\n"
     ]
    }
   ],
   "source": [
    "def get_bills_nodes(driver):\n",
    "    with driver.session() as session:\n",
    "        # Cypher query to fetch all Bills nodes\n",
    "        result = session.run(\"MATCH (b:Bill) RETURN b LIMIT 25\")\n",
    "        bills = [record[\"b\"] for record in result]\n",
    "        return bills\n",
    "\n",
    "driver = GraphDatabase.driver(uri, auth=(username, password))\n",
    "\n",
    "# Fetch and print the Bills nodes\n",
    "bills_nodes = get_bills_nodes(driver)\n",
    "for bill in bills_nodes:\n",
    "    print(bill)"
   ]
  },
  {
   "cell_type": "code",
   "execution_count": 16,
   "id": "3fb87401-fa72-40d7-a1b4-45ede6410a46",
   "metadata": {},
   "outputs": [
    {
     "name": "stdout",
     "output_type": "stream",
     "text": [
      "Chamber Debate\n",
      "Legislative Period\n",
      "Committee\n",
      "Foundation\n",
      "Federal Council Report\n",
      "Postulate\n",
      "Commission\n",
      "Federal Council Dispatch\n",
      "Canton\n",
      "Simple Cooperative\n",
      "Not Bill Related\n",
      "Vote\n",
      "External Entity\n",
      "Corporation\n",
      "Popular vote\n",
      "Legislative Proposition\n",
      "Discussion\n",
      "Partition\n",
      "Federal Response\n",
      "Other Parliamentary Activities\n",
      "Club\n",
      "Message/Report not in BBl\n",
      "Parliamentary Initiative\n",
      "BillText\n",
      "Committee Debate\n",
      "City\n",
      "URL\n",
      "Department\n",
      "Petition\n",
      "Cooperative\n",
      "Limited Liability Company\n",
      "Public Body\n",
      "Party Class\n",
      "Unique Person\n",
      "Ambiguous Person\n",
      "Written Response\n",
      "Year\n",
      "Unexpected Vote Total\n",
      "Consultation\n",
      "Speech\n",
      "Federal Commission\n",
      "Session\n",
      "Interest Group\n",
      "Public Foundation\n",
      "Question Time\n",
      "Public Institute\n",
      "Limited Partnership\n",
      "Media Summary\n",
      "Location\n",
      "Person\n",
      "Reasoning\n",
      "News Report\n",
      "Commission documents\n",
      "Question\n",
      "Ambiguous Employer\n",
      "Transcript\n",
      "Cantonal Initiative\n",
      "Negotiation booklet\n",
      "MultiDebate\n",
      "Bill\n",
      "Enactment Draft\n",
      "Submitted\n",
      "Party\n",
      "Proposal\n",
      "Interpellation\n",
      "Organisation\n",
      "Postprocessing Necessary\n",
      "Inconsistent Timestamp\n",
      "Parliamentary Group\n",
      "General Partnership\n",
      "Employer\n",
      "Delegation\n",
      "Motion\n",
      "Meeting\n",
      "Issuelist\n",
      "Chamber\n",
      "Source\n",
      "Tag\n",
      "Debate\n"
     ]
    }
   ],
   "source": [
    "def get_unique_node_labels():\n",
    "    with driver.session() as session:\n",
    "        # Cypher query to get all labels of nodes\n",
    "        result = session.run(\"MATCH (n) RETURN DISTINCT labels(n) AS label_list\")\n",
    "        # Extracting and flattening the label lists\n",
    "        unique_labels = set()\n",
    "        for record in result:\n",
    "            unique_labels.update(record[\"label_list\"])\n",
    "        return unique_labels\n",
    "\n",
    "# Fetch and print the unique node labels\n",
    "unique_labels = get_unique_node_labels()\n",
    "for label in unique_labels:\n",
    "    print(label)"
   ]
  },
  {
   "cell_type": "code",
   "execution_count": 27,
   "id": "2d5574b6-819e-44b7-a220-0aab4914c1bd",
   "metadata": {},
   "outputs": [
    {
     "name": "stdout",
     "output_type": "stream",
     "text": [
      "<Node element_id='4:fa996e42-3a3f-4866-ad85-cb06ad63f099:170838' labels=frozenset({'BillText', 'Submitted'}) properties={'uid': '12.5206.bt.45421f8c-f6c6-42cb-9d86-1e2873c67a69', 'text': '<p>Vor allem im Umfeld von Asylunterkünften kommt es zu immer mehr Belästigungen, Tätlichkeiten, Diebstählen, Einbrüchen, Drogendelikten und anderen Straftaten, die durch renitente und kriminelle Asylanten verursacht werden.</p><p>Ist der Bundesrat auch der Meinung, dass Asylsuchende, welche die öffentliche Ordnung und Sicherheit gefährden, zu internieren und aus dem Asylverfahren auszuschliessen sind?</p>'}>\n",
      "<Node element_id='4:fa996e42-3a3f-4866-ad85-cb06ad63f099:170839' labels=frozenset({'BillText', 'Submitted'}) properties={'uid': '12.5319.bt.8f9d1768-16fb-4a7f-80f9-74f7b9c45a2f', 'text': '<p>- Welche Konsequenzen hätte ein Auseinanderbrechen des Euros für die Schweizer Volkswirtschaft?</p><p>- Hat der Bundesrat dafür ein Notfallszenario vorbereitet?</p>'}>\n",
      "<Node element_id='4:fa996e42-3a3f-4866-ad85-cb06ad63f099:170840' labels=frozenset({'BillText', 'Submitted'}) properties={'uid': '12.4235.bt.205a943a-215b-4a3b-8733-6c1db4dbcdc3', 'text': '<p>Die Zukunft von Menschen mit Behinderungen ist zu einem wesentlichen Teil auch vom Ergebnis des IV-Gutachtens abhängig. Umso wichtiger sind die Unabhängigkeit der Gutachter und Gutachterinnen sowie die Gewährleistung der Qualität der medizinischen Gutachtertätigkeit im Rahmen der IV. In diesem Zusammenhang stellen sich folgende Fragen und Anforderungen:</p><p>1. Welche fachliche Qualifikations- und Qualitätskriterien haben medizinische IV-Gutachter und -Gutachterinnen, ob vollamtlich oder teilzeitlich tätig, nachzuweisen und zu erfüllen? Welche Voraussetzungen haben Personen, die ein Gutachterinstitut der IV leiten, zu erfüllen?</p><p>2. Wie lauten die konkreten Leistungsaufträge für Gutachterinstitute?</p><p>3. Welcher Art und Periodizität der Aufsicht und Qualitätskontrolle untersteht die gutachterliche Tätigkeit?</p><p>4. Aufgrund welcher transparenter Nachweise können Versicherte darauf vertrauen, dass sie von einer unabhängigen und fachlich kompetenten Gutachterstelle untersucht werden?</p><p>5. Falls diesbezüglich Lücken bestehen, ist der Bundesrat bereit, zusammen mit Fachleuten einen Kriterienkatalog und medizinische Standards für Qualität gutachterlicher Tätigkeiten erarbeiten zu lassen und zu implementieren?</p>'}>\n",
      "<Node element_id='4:fa996e42-3a3f-4866-ad85-cb06ad63f099:170841' labels=frozenset({'BillText', 'Submitted'}) properties={'uid': '12.5025.bt.8ebe8dd7-9c6e-41de-b982-9500700e6142', 'text': '<p>Seit 2009 haben sich 23 Tibeterinnen und Tibeter aus Protest gegen die chinesische Unterdrückungspolitik und für Freiheit und die Rückkehr des Dalai-Lama selbst verbrannt. Solche politisch motivierten Akte sind als Hilfeschreie an die internationale Gemeinschaft zu verstehen und zeugen von einem äusserst repressiven Klima in Tibet.</p><p>- Hat der Bundesrat gegenüber der chinesischen Regierung seine Besorgnis über diese Selbstverbrennungen bekundet?</p><p>- Was gedenkt er dagegen zu tun?</p>'}>\n",
      "<Node element_id='4:fa996e42-3a3f-4866-ad85-cb06ad63f099:170842' labels=frozenset({'BillText', 'Submitted'}) properties={'uid': '12.5215.bt.c0c31d89-e041-4a62-a7ed-0c268e00f569', 'text': '<p>- Bestätigt der Bundesrat, dass er gedenkt, die Gotthard-Passstrasse für einen Betrag von ungefähr 250 Millionen Franken zu sanieren?</p><p>- Kann er genauer ausführen, welche Arbeiten er umsetzen möchte und in welchem Zeitraum diese stattfinden?</p><p>- Hält es der Bundesrat nicht für angemessen, den Ausgang der Diskussion darüber abzuwarten, wie der Gotthard-Strassentunnel saniert werden soll, bevor über Ausgaben in dieser Höhe entschieden wird?</p>'}>\n",
      "<Node element_id='4:fa996e42-3a3f-4866-ad85-cb06ad63f099:170843' labels=frozenset({'BillText', 'Submitted'}) properties={'uid': '12.4198.bt.2fca3fb7-666f-4a00-be3e-b1dd6c221169', 'text': '<p>In einem kürzlich in der Sendung \"Patti Chiari\" der Radiotelevisione svizzera (RSI) ausgestrahlten Beitrag wurde berichtet, dass die Schweizer Armee verschiedene Arzneimittel im Lagerbestand behält, deren Haltbarkeitsfrist bereits abgelaufen ist. Diesen Sachverhalt bestätigte der Oberfeldarzt, Dr. Andreas Stettbacher, der in der Armeeapotheke in Ittigen interviewt wurde. Divisionär Stettbacher erklärte bezüglich dieser Arzneimittel: \"Wir geben diese nicht den Soldaten, behalten sie aber im Sperrbestand. Im Notfall, etwa bei einer landesweiten Arzneimittelknappheit, werden wir sie verwenden.\" Im gleichen Beitrag war zu erfahren, dass die amerikanische Armee seit 1985 in der Praxis die Haltbarkeitsdauer für Arzneimittel in Zusammenarbeit mit der Kontrollbehörde FDA verlängert und damit grosse Einsparungen bei den öffentlichen Geldern erzielt. Die Daten zu diesem Projekt sind in wissenschaftlichen Fachzeitschriften veröffentlicht worden und zeigen, dass zahlreiche Arzneimittel viele Jahre nach Ablauf der Haltbarkeitsfrist noch wirksam und sicher sind.</p><p>Vor diesem Hintergrund frage ich den Bundesrat:</p><p>1. Welche und wie viele Arzneimittel werden von der Schweizer Armee über die Haltbarkeitsdauer hinaus gelagert?</p><p>2. Welche Arten von Kontrollen nimmt die Armee an diesen Arzneimitteln vor?</p><p>3. Wenn es in der Schweizer und der amerikanischen Armee möglich ist, bestimmte Arzneimittel über die Haltbarkeitsfrist hinaus aufzubewahren, findet er dann nicht auch, dass diese Praxis auch für den zivilen Gebrauch evaluiert werden sollte?</p><p>4. Besteht nach Ansicht des Bundesrates in diesem Bereich gesetzlicher Handlungsbedarf?</p>'}>\n",
      "<Node element_id='4:fa996e42-3a3f-4866-ad85-cb06ad63f099:170844' labels=frozenset({'BillText', 'Submitted'}) properties={'uid': '12.5063.bt.f69fc165-d085-4c6b-bca2-c6984919b647', 'text': '<p>Die Prämienerhöhung der Krankenkasse EGK wirft grosse Fragezeichen auf zu deren Unternehmensstrategie.</p><p>1. Wie hat sich die Versichertenzahl zwischen 2010 und 2012 entwickelt?</p><p>2. Wie viele haben die Minimalfranchise (2010-2012) gewählt?</p><p>3. Wie haben sich die Reserven zwischen 2010 und 2012 entwickelt?</p><p>4. War angesichts der tiefen Prämien der Zustrom so vieler neuer Versicherter nicht abzusehen?</p><p>5. Hätte man nicht die Reserven entsprechend erhöhen sollen?</p><p>6. Wäre eine solche Situation überhaupt möglich, wenn das neue KVAG, wie es der Bundesrat ausgearbeitet hat, in Kraft wäre?</p>'}>\n",
      "<Node element_id='4:fa996e42-3a3f-4866-ad85-cb06ad63f099:170845' labels=frozenset({'BillText', 'Submitted'}) properties={'uid': '12.5344.bt.274b2a31-318e-447e-b398-ded0a406b88a', 'text': '<p>An der Alpenwoche 2012 wurde neben der Diskussion von Projekten erstmals auch die Alpenkonferenz - das Treffen der Umweltminister der Länder der Alpenkonvention - durchgeführt. Bekanntlich wurden die Durchführungsprotokolle der Alpenkonvention vom Schweizer Parlament abgelehnt.</p><p>Besteht nicht die Gefahr, dass mit solchen Veranstaltungen der Wille des Parlamentes verwässert wird und einzelne Punkte des Protokolls schleichend Eingang in den Gesetzesprozess finden können?</p>'}>\n",
      "<Node element_id='4:fa996e42-3a3f-4866-ad85-cb06ad63f099:170846' labels=frozenset({'BillText', 'Submitted'}) properties={'uid': '12.4237.bt.4c69d1b9-570b-4dd5-8611-7cf5d6faa947', 'text': '<p>Der Bundesrat wird ersucht, folgende Fragen zu beantworten: </p><p>1. Entspricht eine optimalere Effizienzfinanzierung im Gebäudebereich mit kantonalem Vollzug den Energiezielen des Bundesrates und dem Verhältnismässigkeitsprinzip nicht besser als die 200- bis 400-prozentige Förderung von Kleinwasserkraftwerken?</p><p>2. Was meint er zu einer entsprechend effizienteren Gebäude-KEV?</p>'}>\n",
      "<Node element_id='4:fa996e42-3a3f-4866-ad85-cb06ad63f099:170847' labels=frozenset({'BillText', 'Submitted'}) properties={'uid': '12.5031.bt.0c6b12d9-f494-4a1a-ba09-e6511333a55a', 'text': '<p>Eine Krankenkasse kann die Prämien nur erhöhen, wenn sie das Bundesamt für Gesundheit (BAG) fünf Monate vorher über ihre Absicht informiert hat. Wenn die Prämien also auf den 1. Mai erhöht werden, muss das BAG bereits im November 2011 informiert worden sein.</p><p>Wäre es nicht anständig und richtig gewesen, zu diesem Zeitpunkt die Versicherten zu informieren, sodass sie noch fristgerecht hätten den Versicherer wechseln können?</p>'}>\n",
      "<Node element_id='4:fa996e42-3a3f-4866-ad85-cb06ad63f099:170848' labels=frozenset({'BillText', 'Submitted'}) properties={'uid': '12.5209.bt.4c00d412-28aa-4c15-a839-496ee632b3ae', 'text': '<p>Die Grenzwacht macht auch in der Ostschweiz Kontrollen im Zug. Heute sind diese zeitlich aufwendiger, z. B. ist das Erkennen von gefälschten Dokumenten wegen deren Qualität schwieriger geworden. Den Beamten bleibt teilweise nur wenig Zeit für ihre Arbeit, im Railjet ab Buchs in Richtung Zürich sind es knapp 20 Minuten, weil die Beamten in Sargans den Zug verlassen müssen. Der Grund dafür ist, dass der Zug von Sargans nach Zürich durch andere Kantone als St. Gallen führt.</p><p>Was hält der Bundesrat von dieser Situation?</p>'}>\n",
      "<Node element_id='4:fa996e42-3a3f-4866-ad85-cb06ad63f099:170849' labels=frozenset({'BillText', 'Submitted'}) properties={'uid': '12.5233.bt.fc70cfd9-e55a-4f4a-b301-bc7fed2edf35', 'text': '<p>Zum Thema Begegnungszonen hat das Astra einen Bericht in Auftrag gegeben. Der Entwurf dieses Berichtes enthält wichtige Erkenntnisse in Bezug auf die Neugestaltung und Signalisation der Begegnungszonen.</p><p>Wann wird dieser Bericht veröffentlicht?</p>'}>\n",
      "<Node element_id='4:fa996e42-3a3f-4866-ad85-cb06ad63f099:170850' labels=frozenset({'BillText', 'Submitted'}) properties={'uid': '12.5243.bt.3c651add-4769-4b2e-b8fd-62d1b4418ecc', 'text': '<p>Gemäss Jahreszielen des Bundesrates 2012 sah der Bericht zur Zukunft der zweiten Säule eine Agenda der notwendigen Reformen vor.</p><p>- Wie sieht der Fahrplan der BVG-Reform konkret aus?</p><p>- Wann kann mit einer Auswertung der Anhörung gerechnet werden?</p>'}>\n",
      "<Node element_id='4:fa996e42-3a3f-4866-ad85-cb06ad63f099:170851' labels=frozenset({'BillText', 'Submitted'}) properties={'uid': '12.5013.bt.062d6199-ca0b-44bd-b7fb-8b8eaf12256b', 'text': '<p>Ein neues Gas, Tetrafluorpropen (HFO-1234yf), wird neu für Klimaanlagen eingesetzt. Bei Entzündung dieses Gases entsteht Fluorwasserstoff, welcher sich bei Kontakt mit Wasser in Fluorwasserstoffsäure verwandelt. Diese Säure ist äusserst giftig und ätzend und kann sogar tödlich sein.</p><p>Beabsichtigt der Bundesrat,</p><p>a. die Verwendung dieses Gases und</p><p>b. den Import von Apparaten und Fahrzeugen, welche dieses Gas für die Klimaanlage oder für das Kühlsystem verwenden, zu verbieten?</p>'}>\n",
      "<Node element_id='4:fa996e42-3a3f-4866-ad85-cb06ad63f099:170852' labels=frozenset({'BillText', 'Submitted'}) properties={'uid': '12.5405.bt.ddd51e29-8291-47bd-b774-46f2ef45f58a', 'text': '<p>Wenn eine Braut oder ein Bräutigam die Bestimmung über Zulassung und Aufenthalt von Ausländerinnen und Ausländern umgehen und keine wirkliche Lebensgemeinschaft begründen wollen, tritt der Zivilstandsbeamte auf das Gesuch nicht ein.</p><p>- Sind dem Bundesrat Probleme bei den Beweiserhebungen in dieser Sache bekannt?</p><p>Falls ja, welche?</p><p>- In wie vielen Fällen wurde seit Einführung von Artikel\\xa097a des Zivilgesetzbuches einem Gesuch um Vorbereitung der Eheschliessung nicht stattgegeben?</p>'}>\n",
      "<Node element_id='4:fa996e42-3a3f-4866-ad85-cb06ad63f099:170853' labels=frozenset({'BillText', 'Submitted'}) properties={'uid': '12.4177.bt.6df6b8e3-a223-4e96-a93d-f89949f1ea37', 'text': '<p>In mehreren Gemeinden und einzelnen Kantonen wird über die Einführung einer Zweitwohnungssteuer diskutiert. Die Gemeinde Silvaplana will eine Zweitwohnungssteuer konkret einführen. Der Fall ist beim Bundesgericht hängig. </p><p>Bestehen aus Sicht des Bundesrates innerhalb des Bundesrechts Normen, die die Einführung einer Zweitwohnungssteuer auf Kantons- und/oder Gemeindeebene erschweren/verhindern? Wenn ja, ist der Bundesrat gewillt, die Schranken zu beseitigen?</p>'}>\n",
      "<Node element_id='4:fa996e42-3a3f-4866-ad85-cb06ad63f099:170854' labels=frozenset({'BillText', 'Submitted'}) properties={'uid': '12.5255.bt.643ce806-3669-4b35-9745-db15d0f06a5c', 'text': '<p>Der Entscheid des Bundesgerichtes, der die Verlegung von Höchstspannungsleitungen durch schützenswerte Landschaften unter die Erde begünstigt, sowie die technische Entwicklung, die die Kosten für die Erdverlegung vermindert, machen es dringend nötig, klare Kriterien für die Wahl zwischen oberirdischen und unterirdischen Höchstspannungsleitungen aufzustellen (u. a. Verminderung des Elektrosmogs, Schutz der Böden, Gewässer und des Natur- und Kulturerbes).</p><p>- Beabsichtigt der Bundesrat, das Parlament über die von Kantonen und Swissgrid hierzu in Auftrag gegebenen Studien zu informieren?</p><p>- Wenn ja, wann?</p>'}>\n",
      "<Node element_id='4:fa996e42-3a3f-4866-ad85-cb06ad63f099:170855' labels=frozenset({'BillText', 'Submitted'}) properties={'uid': '12.4216.bt.e95069e6-68d2-4c05-9dc4-0a736de26072', 'text': '<p>Der Bundesrat weist in der Botschaft zur Beschaffung des Kampfflugzeugs Gripen auf Lärmmessungen der Eidgenössischen Materialprüfungs- und Forschungsanstalt (Empa) hin. Dabei bleiben wichtige Fragen betreffend die Lärmbelastung durch den Gripen offen:</p><p>1. Die Empa führte die Lärmmessungen in Emmen, also im Mittelland, durch. Sind diese Messungen ohne Weiteres auf Bergregionen wie Meiringen übertragbar, wo sich die umliegenden Felswände wie ein Lärmtrichter auswirken und wo mit Nachbrenner gestartet werden muss?</p><p>2. Die Messungen für den Gripen wurden 2008 mit dem RM12-Triebwerk durchgeführt. Wie kommt der Bundesrat zur Aussage, dass er mit dem deutlich leistungsstärkeren F414G-Triebwerk \"ähnliche Lärmemissionen erwartet\"?</p><p>3. Laut Botschaft bewertet die Empa den Gripen beim Start mit und ohne Nachbrenner gleich wie den F/A-18. Ziel der Gripen-Beschaffung ist aber der Ersatz nicht des F/A-18, sondern des Tiger F-5. Entspricht der physikalische Lärm eines einzigen Gripen jenem von fünf Tiger, verursacht der Gripen also fünfmal mehr Lärm als der Tiger?</p><p>4. Laut Botschaft soll ein Verband von bis zu acht Gripen-Kampfflugzeugen während drei Monaten pro Jahr, einschliesslich Juni, Juli und August, in Schweden Trainings durchführen, um so die Lärmbelastung in der Schweiz während der Sommerferienzeit zu senken. Werden die übrigen 14 Gripen, die in der Schweiz bleiben, im Juni, Juli und August am Boden stehen?</p><p>5. Wird der Bundesrat in zeitlicher Hinsicht während den touristisch wichtigen Perioden (inklusive Herbst- und Wintersaison) für den Gripen Flug-Sperrzeiten einrichten?</p><p>6. Mit wie vielen Gripen-Flugbewegungen rechnet er pro Jahr in der Schweiz? Mit wie vielen im Ausland? Wie verteilen sich die Gripen-Flugbewegungen auf die Flugplätze in der Schweiz (Meiringen, Payerne, Sitten, andere)?</p><p>7. Wie viele Besucherinnen und Besucher zählt das Freilichtmuseum Ballenberg pro Jahr? Welchem Lärm sind diese ausgesetzt, wenn in Meiringen ein Kampfflugzeug vom Typ Gripen E startet oder landet? Zwischen 100 und 115 Dezibel?</p><p>8. Glaubt der Bundesrat im Ernst, dass sich die Gäste der Ferienregion Brienz-Haslital für (mittels Einbezug lärmfreier Zeitabschnitte heruntergerechnete) Durchschnittswerte interessieren, wie dies Anhang 8 zur Lärmschutz-Verordnung (\"Belastungsgrenzwerte für Lärm von Militärflugplätzen\") macht? Sollten nicht endlich Spitzenbelastungsgrenzwerte festgelegt werden?</p>'}>\n",
      "<Node element_id='4:fa996e42-3a3f-4866-ad85-cb06ad63f099:170856' labels=frozenset({'BillText', 'Submitted'}) properties={'uid': '12.5373.bt.b667e66f-3a8c-4e9d-82b9-4c39d72653eb', 'text': '<p>- Wie sahen die Vergabekriterien für die vom Bundesamt für Energie in Auftrag gegebenen Studien zur Erarbeitung der Energiestrategie 2050 aus?</p><p>- Gab es Ausschreibungen oder Direktvergaben?</p><p>- Wurden auch internationale Energieforschungsinstitute bei der Selektion berücksichtigt?</p><p>- In welchem finanziellen Umfang bewegen sich die Ausgaben für Studien, welche für die Erarbeitung der Energiestrategie 2050 in Auftrag gegeben wurden oder noch geplant sind?</p>'}>\n",
      "<Node element_id='4:fa996e42-3a3f-4866-ad85-cb06ad63f099:170857' labels=frozenset({'BillText', 'Submitted'}) properties={'uid': '12.4234.bt.436e4c88-5ab6-465e-87b5-1ec879bb293f', 'text': '<p>Der Bundesrat wird beauftragt zu prüfen, mit welchen verhältnispräventiven Massnahmen Abhängigkeiten von Online-Games verhindert oder vermindert werden können. Insbesondere soll geprüft werden, inwiefern die Hersteller von Online-Games dazu in die Pflicht genommen und marktregulierende Massnahmen, welche sich in anderen Bereichen der Suchtprävention bewährt haben, eingesetzt werden können.</p>'}>\n",
      "<Node element_id='4:fa996e42-3a3f-4866-ad85-cb06ad63f099:170858' labels=frozenset({'BillText', 'Submitted'}) properties={'uid': '12.4266.bt.e3991825-f37e-466d-aad7-0d55083a76c1', 'text': '<p>Der Bundesrat der Legislatur 2003-2007 hat den Text im Bundesbüchlein zu verantworten. Darin wurde den Stimmberechtigten vor der Referendumsabstimmung vom Februar 2008 null und nichts zu den Steuerausfällen bei Verrechnungs- und Einkommenssteuer aufgrund des Systemwechsels zum Kapitaleinlageprinzip mitgeteilt. Das führte zur historisch stärksten Kritik des Bundesgerichtes vom 20. Dezember 2011 am damaligen Bundesrat wegen Verletzung der Abstimmungsfreiheit (Bundesverfassung) durch seine lücken- und mangelhafte Information der Stimmberechtigten vor der Abstimmung.</p><p>Am 1. Januar 2011 ist das Kapitaleinlageprinzip in Kraft getreten. Zwei Jahre danach stellen sich folgende Fragen:</p><p>1. Welcher Totalbestand von Reserven aus Kapitaleinlagen ist zur steuerfreien Ausschüttung bis Ende Dezember 2012 angemeldet worden?</p><p>2. Welcher Betrag ist von der Eidgenössischen Steuerverwaltung (ESTV) zur steuerfreien Ausschüttung genehmigt worden?</p><p>3. Welcher Anteil daran kommt von Aktiengesellschaften, die ab Februar 2008 vom Ausland zugezogen sind?</p><p>4. Welcher Teil davon kommt von Publikumsgesellschaften?</p><p>5. Welche Steuerausfälle resultieren für die Jahre 2012ff. bei der:</p><p>a. Verrechnungssteuer?</p><p>b. Einkommenssteuer bei Bund, Kantonen und Gemeinden?</p><p>6. Wie erklärt die ESTV, dass sie ihre Steuerausfallprognosen seit März 2011 bisher auf gleichem Stand behielt, obschon die angemeldeten Kapitaleinlagereserven von Monat zu Monat dramatisch ansteigen?</p><p>7. Welchen Mitarbeiterbestand absorbiert die Bearbeitung dieser Kapitaleinlagereserven bei der ESTV seit der Referendumsabstimmung 2008? Und welchen ab 2013? Welche anderen Arbeiten mussten dadurch reduziert werden? </p><p>8. Das KEP hat zu einem negativen Perpetuum mobile geführt: In Rezessionsjahren machen die Kapitalgesellschaften Kapitalerhöhungen, um dann in guten Wirtschaftsjahren statt steuerbaren Dividenden aus den Gewinnen steuerfreie \"Dividenden\" aus den Reserven auszuschütten. Welche Dimensionen nimmt dieses Phänomen an, insbesondere bei den grossen Aktiengesellschaften? </p><p>9. Ist der Bundesrat bereit, im Rahmen des Berichtes zur Staatsrechnung 2012 die schweizerische Öffentlichkeit über die obgenannten Fragestellungen zu informieren?</p>'}>\n",
      "<Node element_id='4:fa996e42-3a3f-4866-ad85-cb06ad63f099:170859' labels=frozenset({'BillText', 'Submitted'}) properties={'uid': '12.4273.bt.10a581af-d87d-4008-a01f-793376bf85aa', 'text': '<text><p>Elektronische Datenbanken wie auch Recherchen werden bei der Arbeit in Schweizer Gerichten und Anwaltskanzleien immer wichtiger. Über die letzten Jahre hinweg hat die Privatwirtschaft in diesem Bereich diverse IT-Dienstleistungen erarbeitet und damit Arbeitsplätze geschaffen. Verstärkt mischt auch das Bundesgericht als Justizbehörde mit ihrer eigenen IT-Abteilung in diesem aufstrebenden Markt mit und konkurrenziert damit private Anbieter. In diesem Zusammenhang wird der Bundesrat um die Beantwortung folgender Fragen gebeten:</p><p>1. Wie beurteilt er diese wirtschaftliche Nebentätigkeit des Bundesgerichtes? Besteht hier nicht das Risiko einer Quersubventionierung mit staatlichen Mitteln? Teilt er die Ansicht, dass diese Nebentätigkeiten mit den damit verbundenen Risiken (Finanzen, Haftungsfragen, Befangenheiten) potenziell die Integrität der obersten Justizbehörde gefährden können?</p><p>2. Staatliche Tätigkeit in einem marktwirtschaftlichen Bereich hat stets subsidiär zu erfolgen und bedarf eines besonderen öffentlichen Interesses (ein fiskalisches Interesse genügt dabei nicht). Zudem erfordert eine solche Tätigkeit eine gesetzliche Grundlage. Ist dieser Grundsatz im vorliegenden Fall erfüllt? Falls ja, um welche gesetzliche Grundlage handelt es sich? Falls nein, plant er die Schaffung einer entsprechenden Rechtsgrundlage?</p><p>3. Offensichtlich bestehen bei der Informatik des Bundesgerichtes Überkapazitäten, wenn solche Nebentätigkeiten ausgeführt werden können. Mit der Verselbstständigung des Bundesverwaltungsgerichtes wurden zwar beim Bundesgericht Informatikstellen abgebaut, die Lohnkosten sind aber offenbar nicht proportional gesunken. Wie erklärt er sich diesen Widerspruch? Ist er nicht auch der Meinung, dass Überkapazitäten abgebaut werden müssten?</p><p>4. In Medien kamen bereits mehrmals Berichte, dass die IT-Abteilung des Bundegerichtes selbstentwickelte Produkte den Kantonen kostenlos oder zu Tiefpreisen anbietet und damit verzerrend in einen funktionierenden Markt eingreift. Wie beurteilt er die entsprechende Situation? Besteht hier aus seiner Sicht nicht ein gesetzgeberischer Handlungsbedarf, um die Rolle der öffentlichen Hand zu klären und zu verhindern, dass es zu staatlichen Eingriffen in die verfassungsmässig gewährleistete Wirtschaftsfreiheit kommt? Stuft er es zudem nicht als problematisch ein, wenn das Bundesgericht mit kantonalen Vorinstanzen in ein Leistungserbringer- bzw. Kundenverhältnis tritt?</p><p>5. Wie beurteilt er den Vorwurf, dass die vom Bundesgericht angebotenen Dienstleistungen auf den Ideen und Produkten privater Anbieter basieren, die bereits auf dem Markt verfügbar waren, als das Bundesgericht selbst entsprechende Angebote zu entwickeln begann?</p></text>'}>\n",
      "<Node element_id='4:fa996e42-3a3f-4866-ad85-cb06ad63f099:170860' labels=frozenset({'BillText', 'Submitted'}) properties={'uid': '12.5016.bt.6e6a7ed1-64ea-4b68-a1fa-17d73710eccb', 'text': '<p>Im Zusammenhang mit dem in den Philippinen seit über drei Monaten vermissten Schweizer Alex Reich erheben Angehörige und Medien Kritik an den Bundesstellen: Es fehle in solchen Fällen an Unterstützung, klar geregelten Kompetenzen und an geordneten Prozessen.</p><p>Wie stellt sich der Bundesrat dazu?</p>'}>\n",
      "<Node element_id='4:fa996e42-3a3f-4866-ad85-cb06ad63f099:170861' labels=frozenset({'BillText', 'Submitted'}) properties={'uid': '12.5309.bt.6bcc26f3-ca48-4d9f-af9d-1fb17f1539c7', 'text': '<p>- Welcher Zeitplan ist für das Ausführungsgesetz zur neuen Verfassungsbestimmung in Artikel\\xa075b betreffend Zweitwohnungen vorgesehen, insbesondere für Vernehmlassung und Botschaft?</p><p>- Welches Departement wird damit betraut sein?</p>'}>\n",
      "<Node element_id='4:fa996e42-3a3f-4866-ad85-cb06ad63f099:170862' labels=frozenset({'BillText', 'Submitted'}) properties={'uid': '12.5415.bt.b674030f-edb1-4d79-a623-2c41dffe9169', 'text': '<p>Am 19. September 2012 ist bekanntgeworden, dass Bundesrätin Sommaruga bereits im Frühjahr der Aufnahme einiger syrischer Flüchtlingsfamilien mit insgesamt 36 Personen zugestimmt hat. Inzwischen hat das UNHCR erneut um Aufnahme eines Kontingents von rund 40 Syrern ersucht.</p><p>Ist der Bundesrat auch der Meinung, dass es viel sinnvoller ist, wenn die Schweiz nötigenfalls zugunsten von syrischen Flüchtlingen in den grenznahen Lagern der Türkei und Libanons humanitäre Hilfe leistet?</p>'}>\n",
      "<Node element_id='4:fa996e42-3a3f-4866-ad85-cb06ad63f099:170863' labels=frozenset({'BillText', 'Submitted'}) properties={'uid': '12.4226.bt.7a7b45ee-2ace-4140-a63a-beb55c2f6613', 'text': '<p>Die KVG-Bestimmung, welche die Nichtbezahlung von Prämien und Kostenbeteiligungen regelt (Art. 64a KVG), wurde kürzlich geändert und ist am 1. Januar 2012 in Kraft getreten.</p><p>Selbst wenn der Krankenversicherer in gewissen Fällen die Leistungen sistieren kann, präsentiert sich die Lage derart, dass der im Ausland wohnhafte Schuldner weiterhin in der Schweiz versichert bleibt und dessen Prämienausstand fortbesteht.</p><p>Wäre es somit nicht denkbar, dass der Bund 85 Prozent der Forderungen der im Ausland wohnhaften Schuldner übernimmt und folglich das analoge Verfahren wie für die in der Schweiz wohnhaften Versicherten zur Anwendung kommt (die Rolle der Kantone wird durch den Bund wahrgenommen)?</p>'}>\n",
      "<Node element_id='4:fa996e42-3a3f-4866-ad85-cb06ad63f099:170864' labels=frozenset({'BillText', 'Submitted'}) properties={'uid': '12.5017.bt.0177355b-b928-48d8-b562-584593c9d2e0', 'text': '<p>Wie beurteilt der Bundesrat die Herabsetzung der \"Wertfreigrenze\" von heute 300 Franken auf beispielsweise 100 Franken in Bezug auf den Erhalt von Arbeits- und Ausbildungsplätzen im Inland?</p>'}>\n",
      "<Node element_id='4:fa996e42-3a3f-4866-ad85-cb06ad63f099:170865' labels=frozenset({'BillText', 'Submitted'}) properties={'uid': '12.5073.bt.77e4b70c-37cf-43a3-955a-9412f87fd146', 'text': '<p>Die Krankenkasse EGK hat offensichtlich zu niedrige Prämien 2012 angeboten und muss sie daher per 1. Mai 2012 teilweise massiv erhöhen. Die aktuellen Prämien wurden vom BAG geprüft und genehmigt. </p><p>- Wer trägt für diesen Fehler die Verantwortung: die EGK oder das BAG?</p><p>- Welche Konsequenzen ergeben sich aus diesem Versagen für die Aufsichtsbehörde?</p><p>- Kann das neue Krankenversicherungsaufsichtsgesetz eine solche Fehlkalkulation mit gravierenden Folgen für die Versicherten verhindern?</p>'}>\n",
      "<Node element_id='4:fa996e42-3a3f-4866-ad85-cb06ad63f099:170866' labels=frozenset({'BillText', 'Submitted'}) properties={'uid': '12.4199.bt.2d2fa86a-ece0-4493-b4ce-2ea51d37e3bb', 'text': '<p>Der Bundesrat wird beauftragt, dafür zu sorgen, dass die Massnahmen zum Schutz von archäologischen Stätten koordiniert werden und die Bevölkerung informiert und sensibilisiert wird. Es geht insbesondere um die Frage, wie das archäologische Erbe vor dem Einsatz von Hilfsmitteln zur archäologischen Erforschung, namentlich Metalldetektoren, generell geschützt werden kann, und dies nicht nur in registrierten archäologischen Stätten und gefährdeten Gebieten, sondern auf dem gesamten Gebiet der Schweiz. Zudem geht es darum, die Schweizer Bevölkerung über dieses Thema zu informieren.</p>'}>\n",
      "<Node element_id='4:fa996e42-3a3f-4866-ad85-cb06ad63f099:170867' labels=frozenset({'BillText', 'Submitted'}) properties={'uid': '12.5253.bt.31ff44db-35cd-4eb4-9ed4-abc3d81b21ba', 'text': '<p>Laut \"Tages-Anzeiger\" vom 9. Mai 2012 soll ein Kadermann im Bafu Aufträge unter der Hand vergeben und dafür Geschenke entgegengenommen haben. Das Bafu habe sich vom verdächtigten Mitarbeiter getrennt.</p><p>- Können Gewerbe und Steuerzahler davon ausgehen, dass die Kündigung fristlos und ohne Entschädigung ausgesprochen wurde, dass der Betreffende für den Schaden aufkommen muss und dass der Bundesrat die offensichtlich bestehenden Lücken im Controlling inzwischen geschlossen hat?</p><p>- Wenn ja, wie?</p>'}>\n",
      "<Node element_id='4:fa996e42-3a3f-4866-ad85-cb06ad63f099:170868' labels=frozenset({'BillText', 'Submitted'}) properties={'uid': '12.5053.bt.d3ee9df4-3d73-4c9b-a3f1-c38424f409ce', 'text': '<p>Bis Ende 2012 müssen die Restwassersanierungen gemäss den Artikeln 80ff. GSchG abgeschlossen sein. </p><p>Gemäss einer im August 2011 vom Bafu durchgeführten Umfrage bei den Kantonen sind über 60 Prozent der sanierungspflichtigen Wasserentnahmen zur Wasserkraftnutzung noch nicht saniert, und es muss davon ausgegangen werden, dass rund die Hälfte der Kantone die Sanierungsfrist nicht einhalten wird.</p><p>- Wie beurteilt der Bundesrat diesen Vollzugsnotstand?</p><p>- Welche Massnahmen gedenkt er zu ergreifen?</p>'}>\n",
      "<Node element_id='4:fa996e42-3a3f-4866-ad85-cb06ad63f099:170869' labels=frozenset({'BillText', 'Submitted'}) properties={'uid': '12.5082.bt.a80bbf42-92cf-4198-9704-1d0ad524109c', 'text': '<p>In Brasilien ist der Bau eines riesigen Staudammprojekts am Xingu und seinen Zuflüssen geplant. Durch den Hauptdamm würde eine Fläche von 500 Quadratkilometern überflutet, und flussabwärts würde der Flusslauf über eine Länge von 100 Kilometern trockengelegt. Ausserdem würde dieses Projekt die Biodiversität beeinträchtigen und die Indios, die nie konsultiert wurden, würden den Zugang zu Fisch, Trinkwasser und Transportmitteln verlieren.</p><p>Gibt es Schweizer Unternehmen, die für dieses Projekt die Schweizerische Exportrisikoversicherung in Anspruch nehmen wollen?</p>'}>\n",
      "<Node element_id='4:fa996e42-3a3f-4866-ad85-cb06ad63f099:170870' labels=frozenset({'BillText', 'Submitted'}) properties={'uid': '12.5166.bt.49ec3500-ecc4-4f75-a3d4-c5bf7ab97e0a', 'text': '<p>Einem Artikel in der \"Berner Zeitung\" vom 29. Mai 2012 zufolge hat Bundesrätin Doris Leuthard die Absicht, das Bundesamt für Zivilluftfahrt (Bazl) auszulagern. Die Auslagerung hätte drastische Folgen für die Mitarbeiterinnen und Mitarbeiter des Bazl.</p><p>- Wie gedenkt der Bundesrat die Sozialpartner bei diesen Überlegungen einzubeziehen?</p><p>- Was wären die Konsequenzen für die Mitarbeiterinnen und Mitarbeiter und wie viele Personen wären betroffen?</p>'}>\n",
      "<Node element_id='4:fa996e42-3a3f-4866-ad85-cb06ad63f099:170871' labels=frozenset({'BillText', 'Submitted'}) properties={'uid': '12.5297.bt.38f56302-7573-4489-bbb1-a7bd0735b4de', 'text': '<p>Der Ökonom Kaspar Müller hat bewiesen, dass die Besitzer der Schweizer Kernkraftwerke in ihren Bilanzen übertriebene zukünftige Aufwendungen aktivieren und nicht genügend Rückstellungen für die Entsorgung der Abfälle und den Rückbau der Kernkraftwerke bilden - die Verordnung sieht eine Rendite von 5 Prozent vor, was ganz offensichtlich übertrieben ist. Aufgrund dieser Tatsache wäre Gösgen um 969 Millionen und Leibstadt um 868 Millionen Franken unterkapitalisiert.</p><p>Welche Massnahmen gedenkt der Bundesrat zu ergreifen, um diese Situation zu verbessern?</p>'}>\n",
      "<Node element_id='4:fa996e42-3a3f-4866-ad85-cb06ad63f099:170872' labels=frozenset({'BillText', 'Submitted'}) properties={'uid': '12.5089.bt.289eb46b-e37e-4928-970a-44f96a54b9af', 'text': '<p>In der Beantwortung der Frage 12.5052 erläutert der Bundesrat, dass aus Gründen der Risikobeurteilung auch Aktivitäten wie Erlebnispädagogik dem Gesetz zu unterstellen sind.</p><p>Weshalb wurden Anbieter aus den Bereichen Erlebnispädagogik und Umweltbildung, welche von der Verordnung über das Bergführerwesen und Anbieten weiterer Risikoaktivitäten betroffen sein werden, nicht in die Ausarbeitung der Verordnung und insbesondere in die zentrale Definition der Geländekategorien involviert?</p>'}>\n",
      "<Node element_id='4:fa996e42-3a3f-4866-ad85-cb06ad63f099:170873' labels=frozenset({'BillText', 'Submitted'}) properties={'uid': '12.5117.bt.57f2d037-e074-434c-b743-cf92a51e1969', 'text': '<p>Laut einer Information des BAG erhöht die Krankenkasse EGK die Prämien nicht in allen Kantonen gleich stark. In den Kantonen Appenzell Innerrhoden, Basel-Stadt, Glarus, Obwalden und Uri bleiben die Prämien auf bisherigem Niveau, in anderen Kantonen hingegen, so im Tessin, steigen sie. Was den Kanton Tessin betrifft, so ist die Erhöhung ungerecht; denn der Anteil der Reserven liegt da bei 89 Prozent, wohingegen das landesweite Mittel Ende 2010 nur gerade bei 10,5 Prozent lag.</p><p>- Wie kommt es also, dass im Tessin die Prämien erhöht werden? Müssten sie nicht eher gesenkt werden?</p>'}>\n",
      "<Node element_id='4:fa996e42-3a3f-4866-ad85-cb06ad63f099:170874' labels=frozenset({'BillText', 'Submitted'}) properties={'uid': '12.5122.bt.50616bf1-a7b1-4479-b272-7c1197c2f526', 'text': '<p>Mifid II soll ab 2015 in der EU implementiert werden. Mifid II will vor allem anderen den Anlegerschutz stärken durch härtere Verhaltensregeln für Finanzdienstleister, eine transparentere Dokumentation über Finanzprodukte und durch die Ausdehnung auf unabhängige Vermögensverwalter.</p><p>Setzt die Schweiz diese Normen nicht ebenfalls um, so könnte Schweizer Finanzdienstleistern in der EU der Marktzugang verwehrt werden.</p><p>1. Wie kann die Wettbewerbsfähigkeit der Schweizer Finanzdienstleister auch unter den Bedingungen von Mifid II gesichert werden?</p><p>2. Unterstützt der Bundesrat aktiv eine Qualitätsstrategie in der Anlageberatung?</p>'}>\n",
      "<Node element_id='4:fa996e42-3a3f-4866-ad85-cb06ad63f099:170875' labels=frozenset({'BillText', 'Submitted'}) properties={'uid': '12.5260.bt.6e27cb2a-454c-4686-9c6a-48dd167d0957', 'text': '<p>Die Medien berichten über Lockerungsversuche der Kriegsmaterial- und Güterkontrollverordnungen.</p><p>- Was ist der Stand der Dinge?</p><p>- Warum sollen die Verordnungen gelockert werden?</p><p>- Welche Länder dürfen neu unsere Waffen gegen andere verwenden?</p>'}>\n",
      "<Node element_id='4:fa996e42-3a3f-4866-ad85-cb06ad63f099:170876' labels=frozenset({'BillText', 'Submitted'}) properties={'uid': '12.5336.bt.939e09cb-823d-4cbd-b585-ef8713aac30f', 'text': '<p>In der Sonntagspresse vom 9. September 2012 hat sich der Armeechef positiv zu einem möglichen Einsatz von Schweizer Soldaten in Haiti geäussert.</p><p>Ist der Bundesrat auch der Meinung, dass ein solcher Einsatz in Anbetracht der aktuellen Situation in Haiti hochgefährlich und unverantwortbar wäre?</p>'}>\n",
      "<Node element_id='4:fa996e42-3a3f-4866-ad85-cb06ad63f099:170877' labels=frozenset({'BillText', 'Submitted'}) properties={'uid': '12.5119.bt.7f4bd836-76c0-4f5c-b182-7035fd3d39c2', 'text': '<p>- Wie stellt sich der Bundesrat zu den Ausführungen von alt Bundesrätin Elisabeth Kopp, wonach die Schweiz als einziges Land der Welt von der internationalen Dienstleistungsorganisation OECD, bei der sie selbst Mitglied ist, Befehle entgegennimmt?</p><p>- Falls die Analyse von Frau Kopp zutrifft: Ist der Bundesrat künftig bereit, zwischen den Werten der Schweiz (Freiheit, Selbstbestimmung, Vertrauen, Privatsphäre) und den Werten der anderen zu unterscheiden?</p>'}>\n",
      "<Node element_id='4:fa996e42-3a3f-4866-ad85-cb06ad63f099:170878' labels=frozenset({'BillText', 'Submitted'}) properties={'uid': '12.5192.bt.3ae175e0-cf04-4e19-b6eb-35afe02a5038', 'text': '<p>Dank der neugeschaffenen Sondereinheit zur Bekämpfung der Kriminalität, die 18 Mitarbeitende der Genfer Polizei umfasst und mit dem Grenzwachtkorps zusammenarbeitet, konnten innerhalb eines Monats 109 Wiederholungstäter festgenommen werden. Die Mehrheit davon - 90 Prozent - sind Ausländer. 67 haben gegen das Ausländergesetz verstossen, was darauf hindeutet, dass die Kontrolle über die Einreise sowohl auf kantonaler wie nationaler Ebene schwindet.</p><p>Gedenkt der Bundesrat eine Änderung des Schengen-Abkommens anzustrengen, um die Kontrolle über unsere Aussengrenzen wiederzuerlangen?</p>'}>\n",
      "<Node element_id='4:fa996e42-3a3f-4866-ad85-cb06ad63f099:170879' labels=frozenset({'BillText', 'Submitted'}) properties={'uid': '12.4244.bt.dbaa03da-e1e1-45d2-a60e-cbfb7dd9630c', 'text': '<p>Anlässlich der Behandlung der Volksinitiative \"Volkswahl des Bundesrates\" im Nationalrat stand unter anderem auch ein Minderheitsantrag zur Diskussion. Dieser forderte neun Mitglieder im Bundesrat, gewählt von der Bundesversammlung. Damit unterscheidet sich dieser direkte Gegenvorschlag sowohl in der Anzahl wie auch im Wahlkörper von der Volksinitiative. Vor allem nimmt er den Hauptinhalt der Initiative, nämlich die Volkswahl des Bundesrates, nicht auf.</p><p>Volk und Stände müssten zwischen zwei konträren Varianten wählen. Und würde bei einer solchen Abstimmungsanlage mit der Möglichkeit eines doppelten Ja sowohl der Initiative als auch dem Gegenvorschlag zugestimmt, hätte die Stichfrage zwischen zwei absolut unterschiedlichen Wahlverfahren und zusätzlich darin enthalten auch zwischen einer unterschiedlichen Anzahl von Sitzen im Bundesrat zu entscheiden.</p><p>1. Auf welche Rechtsgrundlagen und allenfalls Gutachten stützt sich der Bundesrat, wenn er die Rechtmässigkeit eines solch konträren Gegenvorschlages bejaht?</p><p>2. Ist sich der Bundesrat dabei der Möglichkeit und der Problematik des doppelten Ja bewusst?</p><p>3. Wäre er bereit, die angefragte Problematik in einem kurzen Bericht an das Parlament zu analysieren?</p>'}>\n",
      "<Node element_id='4:fa996e42-3a3f-4866-ad85-cb06ad63f099:170880' labels=frozenset({'BillText', 'Submitted'}) properties={'uid': '12.4194.bt.e8b5a358-83a9-4c0e-b0e4-c86769c29cef', 'text': '<p>Der Bundesrat wird beauftragt, in Zusammenarbeit mit den Kantonen ein permanentes Monitoring der Übergänge der Versicherten von einer Sozialversicherung zur anderen sowie von den Sozialversicherungen zur kantonalen Sozialhilfe einzuführen. Eine gesamtschweizerische, zentrale Datenbank soll der Koordination der Sozialleistungen von Bund und Kantonen dienen und die Evaluation der Auswirkungen von verschiedenen Entwicklungen und Reformen der Sozialversicherungen ermöglichen.</p>'}>\n",
      "<Node element_id='4:fa996e42-3a3f-4866-ad85-cb06ad63f099:170881' labels=frozenset({'BillText', 'Submitted'}) properties={'uid': '12.5259.bt.a833389f-a4cd-4651-8cb9-0dfcf1820b4f', 'text': '<p>Auf eine Anfrage im Luzerner Kantonsparlament zu einem mutmasslichen rwandischen Kriegsverbrecher schreibt die Luzerner Regierung am 22. Mai 2012, dieser mutmassliche Kriegsverbrecher sei von Interpol rechtsgültig zur Verhaftung ausgeschrieben. Es bestehe aber keine Ausschreibung im Schengen-Raum und im schweizerischen Fahndungsregister. \"Diese Differenz konnte das Fedpol nicht klären. Dies erscheint uns widersprüchlich. Die Sache liegt aber ganz in der Kompetenz der Bundesbehörden.\"</p><p>Wie ist der heutige Stand in dieser Angelegenheit?</p>'}>\n",
      "<Node element_id='4:fa996e42-3a3f-4866-ad85-cb06ad63f099:170882' labels=frozenset({'BillText', 'Submitted'}) properties={'uid': '12.5359.bt.645a559e-e577-4fb0-beac-ac13670638ae', 'text': '<p>Der G-20-Gipfel in Los Cabos vom Juni 2012 beharrt in Ziffer 48 der Schlusserklärung darauf, dass in Steuersachen alle Jurisdiktionen die internationalen Standards des Global Forum vollumfänglich befolgen. Auch Bankeninformationen müssen offengelegt werden.</p><p>- Welche dieser Standards erfüllt die Schweiz noch nicht?</p><p>- Wann folgt der Bundesrat dem erneuten Aufruf der G-20 und leitet den Beitritt der Schweiz zur OECD-/Europarats-Konvention über gegenseitige Verwaltungshilfe in Steuersachen ein?</p>'}>\n",
      "<Node element_id='4:fa996e42-3a3f-4866-ad85-cb06ad63f099:170883' labels=frozenset({'BillText', 'Submitted'}) properties={'uid': '12.5138.bt.4087f4ea-3d16-4520-b32e-c9692c928e6c', 'text': '<p>Die Abgeltungssteuerabkommen mit Deutschland und Grossbritannien enthalten viele Fristen und Eckwerte. Diese werden hinfällig, falls die Abkommen am 1. Januar 2013 nicht in Kraft treten. Laut Bundesrat (Frage 11.5485) steht das EFD noch immer \"in ständigen Gesprächen mit den Vertragspartnern\" und analysiert die Entwicklung \"in den betroffenen Gremien der EU\".</p><p>- Bis wann sind diese Gespräche abzuschliessen, damit die Inkraftsetzung rechtzeitig erfolgt?</p><p>- Was passiert, falls bis Ende März 2012 kein Ergebnis vorliegt?</p>'}>\n",
      "<Node element_id='4:fa996e42-3a3f-4866-ad85-cb06ad63f099:170884' labels=frozenset({'BillText', 'Submitted'}) properties={'uid': '12.5327.bt.7ed7de28-1941-4af5-86c9-f1b475f1ce06', 'text': '<p>Direktor Wanner fordert für das Ensi eine abschliessende Entscheidkompetenz. Damit würde die Position der KNS geschwächt. Ehemalige Mitglieder der KNS weisen darauf hin, dass das Ensi kritische Meinungen ignoriere.</p><p>- Teilt der Bundesrat die Haltung von Direktor Wanner?</p><p>- Ist er bereit, die Vorwürfe zu prüfen, dass kritische Meinungen bei der Aufsicht ignoriert werden und dass es bei der Erarbeitung des Sachplans nukleare Entsorgung bei der Sicherheitskultur mangle?</p>'}>\n",
      "<Node element_id='4:fa996e42-3a3f-4866-ad85-cb06ad63f099:170885' labels=frozenset({'BillText', 'Submitted'}) properties={'uid': '12.5381.bt.be44b4a5-c518-4ce6-847b-0a534855a3a8', 'text': '<p>Gemäss Medien hat Rosatom Zugang zur Uranwiederaufbereitungsanlage Majak erlaubt.</p><p>- Stimmt dies?</p><p>- Wer macht nun von dem Gebrauch und berichtet darüber?</p>'}>\n",
      "<Node element_id='4:fa996e42-3a3f-4866-ad85-cb06ad63f099:170886' labels=frozenset({'BillText', 'Submitted'}) properties={'uid': '12.5020.bt.61c52e03-c80c-4bf9-b943-56625ea86f63', 'text': '<p>Die Krankenkasse EGK erhöht unterjährig ihre Prämien für die obligatorische Krankenversicherung massiv. Dies wurde vom Bundesamt für Gesundheit genehmigt.</p><p>- Ist der Bundesrat der Meinung, dass das geltende Prämiengenehmigungsverfahren zur Zufriedenheit funktioniert?</p><p>- Wenn nicht, wie gedenkt der Bundesrat massive unterjährige Prämienerhöhungen in Zukunft zu verhindern?</p><p>- Über welchen Handlungsspielraum verfügt der Bundesrat bei der Festlegung der Prämien nach dem Urteil des Bundesverwaltungsgerichtes zugunsten der Assura vom Dezember 2010?</p>'}>\n",
      "<Node element_id='4:fa996e42-3a3f-4866-ad85-cb06ad63f099:170887' labels=frozenset({'BillText', 'Submitted'}) properties={'uid': '12.5048.bt.0a56e8e1-0ddc-425d-8d8e-8e979e2bdc92', 'text': '<p>Den eigentlichen Engpass im Studium Humanmedizin stellen die begrenzten klinischen Kapazitäten dar. Die Verfügbarkeit der Patienten für Ausbildungszwecke dürfte mit der Einführung der Fallpauschale und der erwarteten kürzeren Spitalverweildauer noch abnehmen.</p><p>In welcher Form, nebst den im Strategiepapier festgehaltenen Empfehlungen, ist der Bundesrat bereit Einfluss zu nehmen, um die knappen klinischen Kapazitäten mittels E-Learning-Programmen rasch zu erweitern?</p>'}>\n"
     ]
    }
   ],
   "source": [
    "def get_bills_nodes(driver):\n",
    "    with driver.session() as session:\n",
    "        # Cypher query to fetch all Bills nodes\n",
    "        result = session.run(\"MATCH (b:BillText) RETURN b LIMIT 50\")\n",
    "        bills = [record[\"b\"] for record in result]\n",
    "        return bills\n",
    "\n",
    "driver = GraphDatabase.driver(uri, auth=(username, password))\n",
    "\n",
    "# Fetch and print the Bills nodes\n",
    "bills_nodes = get_bills_nodes(driver)\n",
    "for bill in bills_nodes:\n",
    "    print(bill)"
   ]
  },
  {
   "cell_type": "code",
   "execution_count": null,
   "id": "22b609a5-cd86-404b-85e5-2b6d0caaaf8c",
   "metadata": {},
   "outputs": [],
   "source": []
  },
  {
   "cell_type": "code",
   "execution_count": null,
   "id": "7289120d-1662-40a1-9a88-faac07e15a40",
   "metadata": {},
   "outputs": [],
   "source": []
  },
  {
   "cell_type": "code",
   "execution_count": 5,
   "id": "01d1874d-4645-440c-bad8-ae7fc5356c06",
   "metadata": {},
   "outputs": [
    {
     "name": "stdout",
     "output_type": "stream",
     "text": [
      "<Record n=<Node element_id='4:57021189-84a0-4dfc-8fa3-eb8852328616:170765' labels=frozenset({'Chamber Debate', 'Debate'}) properties={'uid': '12_5127.1', 'date_start': neo4j.time.Date(2012, 3, 12), 'date_end': neo4j.time.Date(2012, 3, 12), 'order_stamp': 1}> r=<Relationship element_id='5:57021189-84a0-4dfc-8fa3-eb8852328616:0' nodes=(<Node element_id='4:57021189-84a0-4dfc-8fa3-eb8852328616:170765' labels=frozenset({'Chamber Debate', 'Debate'}) properties={'uid': '12_5127.1', 'date_start': neo4j.time.Date(2012, 3, 12), 'date_end': neo4j.time.Date(2012, 3, 12), 'order_stamp': 1}>, <Node element_id='4:57021189-84a0-4dfc-8fa3-eb8852328616:518450' labels=frozenset({'Chamber'}) properties={'name': 'Nationalrat', 'abbrev': 'NR'}>) type='TAKES_PLACE_IN' properties={}> m=<Node element_id='4:57021189-84a0-4dfc-8fa3-eb8852328616:518450' labels=frozenset({'Chamber'}) properties={'name': 'Nationalrat', 'abbrev': 'NR'}>>\n",
      "<Record n=<Node element_id='4:57021189-84a0-4dfc-8fa3-eb8852328616:170615' labels=frozenset({'Chamber Debate', 'Debate'}) properties={'uid': '12_5281.1', 'date_start': neo4j.time.Date(2012, 9, 17), 'date_end': neo4j.time.Date(2012, 9, 17), 'order_stamp': 1}> r=<Relationship element_id='5:57021189-84a0-4dfc-8fa3-eb8852328616:1' nodes=(<Node element_id='4:57021189-84a0-4dfc-8fa3-eb8852328616:170615' labels=frozenset({'Chamber Debate', 'Debate'}) properties={'uid': '12_5281.1', 'date_start': neo4j.time.Date(2012, 9, 17), 'date_end': neo4j.time.Date(2012, 9, 17), 'order_stamp': 1}>, <Node element_id='4:57021189-84a0-4dfc-8fa3-eb8852328616:518450' labels=frozenset({'Chamber'}) properties={'name': 'Nationalrat', 'abbrev': 'NR'}>) type='TAKES_PLACE_IN' properties={}> m=<Node element_id='4:57021189-84a0-4dfc-8fa3-eb8852328616:518450' labels=frozenset({'Chamber'}) properties={'name': 'Nationalrat', 'abbrev': 'NR'}>>\n",
      "<Record n=<Node element_id='4:57021189-84a0-4dfc-8fa3-eb8852328616:170746' labels=frozenset({'Chamber Debate', 'Debate'}) properties={'uid': '12_4221.1', 'date_start': neo4j.time.Date(2013, 6, 21), 'date_end': neo4j.time.Date(2013, 6, 21), 'order_stamp': 1}> r=<Relationship element_id='5:57021189-84a0-4dfc-8fa3-eb8852328616:2' nodes=(<Node element_id='4:57021189-84a0-4dfc-8fa3-eb8852328616:170746' labels=frozenset({'Chamber Debate', 'Debate'}) properties={'uid': '12_4221.1', 'date_start': neo4j.time.Date(2013, 6, 21), 'date_end': neo4j.time.Date(2013, 6, 21), 'order_stamp': 1}>, <Node element_id='4:57021189-84a0-4dfc-8fa3-eb8852328616:518450' labels=frozenset({'Chamber'}) properties={'name': 'Nationalrat', 'abbrev': 'NR'}>) type='TAKES_PLACE_IN' properties={}> m=<Node element_id='4:57021189-84a0-4dfc-8fa3-eb8852328616:518450' labels=frozenset({'Chamber'}) properties={'name': 'Nationalrat', 'abbrev': 'NR'}>>\n",
      "<Record n=<Node element_id='4:57021189-84a0-4dfc-8fa3-eb8852328616:494894' labels=frozenset({'Committee Debate', 'Debate'}) properties={'date': neo4j.time.Date(2013, 5, 28), 'uid': '12_430.1', 'text': 'Folge gegeben', 'order_stamp_in_enactment_draft': 1, 'order_stamp': 1}> r=<Relationship element_id='5:57021189-84a0-4dfc-8fa3-eb8852328616:3' nodes=(<Node element_id='4:57021189-84a0-4dfc-8fa3-eb8852328616:494894' labels=frozenset({'Committee Debate', 'Debate'}) properties={'date': neo4j.time.Date(2013, 5, 28), 'uid': '12_430.1', 'text': 'Folge gegeben', 'order_stamp_in_enactment_draft': 1, 'order_stamp': 1}>, <Node element_id='4:57021189-84a0-4dfc-8fa3-eb8852328616:517152' labels=frozenset({'Committee'}) properties={'abbrev2': 'SPK', 'committee_number': 11, 'name': 'Staatspolitische Kommission NR', 'abbrev': 'SPK-NR', 'type': 'Permanent', 'abbrev1': 'SPK-NR'}>) type='TAKES_PLACE_IN' properties={}> m=<Node element_id='4:57021189-84a0-4dfc-8fa3-eb8852328616:517152' labels=frozenset({'Committee'}) properties={'abbrev2': 'SPK', 'committee_number': 11, 'name': 'Staatspolitische Kommission NR', 'abbrev': 'SPK-NR', 'type': 'Permanent', 'abbrev1': 'SPK-NR'}>>\n",
      "<Record n=<Node element_id='4:57021189-84a0-4dfc-8fa3-eb8852328616:170831' labels=frozenset({'Chamber Debate', 'Debate'}) properties={'uid': '12_5332.1', 'date_start': neo4j.time.Date(2012, 9, 17), 'date_end': neo4j.time.Date(2012, 9, 17), 'order_stamp': 1}> r=<Relationship element_id='5:57021189-84a0-4dfc-8fa3-eb8852328616:4' nodes=(<Node element_id='4:57021189-84a0-4dfc-8fa3-eb8852328616:170831' labels=frozenset({'Chamber Debate', 'Debate'}) properties={'uid': '12_5332.1', 'date_start': neo4j.time.Date(2012, 9, 17), 'date_end': neo4j.time.Date(2012, 9, 17), 'order_stamp': 1}>, <Node element_id='4:57021189-84a0-4dfc-8fa3-eb8852328616:518450' labels=frozenset({'Chamber'}) properties={'name': 'Nationalrat', 'abbrev': 'NR'}>) type='TAKES_PLACE_IN' properties={}> m=<Node element_id='4:57021189-84a0-4dfc-8fa3-eb8852328616:518450' labels=frozenset({'Chamber'}) properties={'name': 'Nationalrat', 'abbrev': 'NR'}>>\n",
      "<Record n=<Node element_id='4:57021189-84a0-4dfc-8fa3-eb8852328616:170424' labels=frozenset({'Chamber Debate', 'Debate'}) properties={'uid': '12_5260.1', 'date_start': neo4j.time.Date(2012, 6, 11), 'date_end': neo4j.time.Date(2012, 6, 11), 'order_stamp': 1}> r=<Relationship element_id='5:57021189-84a0-4dfc-8fa3-eb8852328616:5' nodes=(<Node element_id='4:57021189-84a0-4dfc-8fa3-eb8852328616:170424' labels=frozenset({'Chamber Debate', 'Debate'}) properties={'uid': '12_5260.1', 'date_start': neo4j.time.Date(2012, 6, 11), 'date_end': neo4j.time.Date(2012, 6, 11), 'order_stamp': 1}>, <Node element_id='4:57021189-84a0-4dfc-8fa3-eb8852328616:518450' labels=frozenset({'Chamber'}) properties={'name': 'Nationalrat', 'abbrev': 'NR'}>) type='TAKES_PLACE_IN' properties={}> m=<Node element_id='4:57021189-84a0-4dfc-8fa3-eb8852328616:518450' labels=frozenset({'Chamber'}) properties={'name': 'Nationalrat', 'abbrev': 'NR'}>>\n",
      "<Record n=<Node element_id='4:57021189-84a0-4dfc-8fa3-eb8852328616:170812' labels=frozenset({'Chamber Debate', 'Debate'}) properties={'uid': '12_5305.1', 'date_start': neo4j.time.Date(2012, 9, 17), 'date_end': neo4j.time.Date(2012, 9, 17), 'order_stamp': 1}> r=<Relationship element_id='5:57021189-84a0-4dfc-8fa3-eb8852328616:6' nodes=(<Node element_id='4:57021189-84a0-4dfc-8fa3-eb8852328616:170812' labels=frozenset({'Chamber Debate', 'Debate'}) properties={'uid': '12_5305.1', 'date_start': neo4j.time.Date(2012, 9, 17), 'date_end': neo4j.time.Date(2012, 9, 17), 'order_stamp': 1}>, <Node element_id='4:57021189-84a0-4dfc-8fa3-eb8852328616:518450' labels=frozenset({'Chamber'}) properties={'name': 'Nationalrat', 'abbrev': 'NR'}>) type='TAKES_PLACE_IN' properties={}> m=<Node element_id='4:57021189-84a0-4dfc-8fa3-eb8852328616:518450' labels=frozenset({'Chamber'}) properties={'name': 'Nationalrat', 'abbrev': 'NR'}>>\n",
      "<Record n=<Node element_id='4:57021189-84a0-4dfc-8fa3-eb8852328616:170698' labels=frozenset({'Chamber Debate', 'Debate'}) properties={'uid': '12_5134.1', 'date_start': neo4j.time.Date(2012, 3, 12), 'date_end': neo4j.time.Date(2012, 3, 12), 'order_stamp': 1}> r=<Relationship element_id='5:57021189-84a0-4dfc-8fa3-eb8852328616:7' nodes=(<Node element_id='4:57021189-84a0-4dfc-8fa3-eb8852328616:170698' labels=frozenset({'Chamber Debate', 'Debate'}) properties={'uid': '12_5134.1', 'date_start': neo4j.time.Date(2012, 3, 12), 'date_end': neo4j.time.Date(2012, 3, 12), 'order_stamp': 1}>, <Node element_id='4:57021189-84a0-4dfc-8fa3-eb8852328616:518450' labels=frozenset({'Chamber'}) properties={'name': 'Nationalrat', 'abbrev': 'NR'}>) type='TAKES_PLACE_IN' properties={}> m=<Node element_id='4:57021189-84a0-4dfc-8fa3-eb8852328616:518450' labels=frozenset({'Chamber'}) properties={'name': 'Nationalrat', 'abbrev': 'NR'}>>\n",
      "<Record n=<Node element_id='4:57021189-84a0-4dfc-8fa3-eb8852328616:170483' labels=frozenset({'Chamber Debate', 'Debate'}) properties={'uid': '12_4224.1', 'date_start': neo4j.time.Date(2013, 3, 22), 'date_end': neo4j.time.Date(2013, 3, 22), 'order_stamp': 1}> r=<Relationship element_id='5:57021189-84a0-4dfc-8fa3-eb8852328616:8' nodes=(<Node element_id='4:57021189-84a0-4dfc-8fa3-eb8852328616:170483' labels=frozenset({'Chamber Debate', 'Debate'}) properties={'uid': '12_4224.1', 'date_start': neo4j.time.Date(2013, 3, 22), 'date_end': neo4j.time.Date(2013, 3, 22), 'order_stamp': 1}>, <Node element_id='4:57021189-84a0-4dfc-8fa3-eb8852328616:518450' labels=frozenset({'Chamber'}) properties={'name': 'Nationalrat', 'abbrev': 'NR'}>) type='TAKES_PLACE_IN' properties={}> m=<Node element_id='4:57021189-84a0-4dfc-8fa3-eb8852328616:518450' labels=frozenset({'Chamber'}) properties={'name': 'Nationalrat', 'abbrev': 'NR'}>>\n",
      "<Record n=<Node element_id='4:57021189-84a0-4dfc-8fa3-eb8852328616:170298' labels=frozenset({'Chamber Debate', 'Debate'}) properties={'uid': '12_5059.1', 'date_start': neo4j.time.Date(2012, 3, 5), 'date_end': neo4j.time.Date(2012, 3, 5), 'order_stamp': 1}> r=<Relationship element_id='5:57021189-84a0-4dfc-8fa3-eb8852328616:9' nodes=(<Node element_id='4:57021189-84a0-4dfc-8fa3-eb8852328616:170298' labels=frozenset({'Chamber Debate', 'Debate'}) properties={'uid': '12_5059.1', 'date_start': neo4j.time.Date(2012, 3, 5), 'date_end': neo4j.time.Date(2012, 3, 5), 'order_stamp': 1}>, <Node element_id='4:57021189-84a0-4dfc-8fa3-eb8852328616:518450' labels=frozenset({'Chamber'}) properties={'name': 'Nationalrat', 'abbrev': 'NR'}>) type='TAKES_PLACE_IN' properties={}> m=<Node element_id='4:57021189-84a0-4dfc-8fa3-eb8852328616:518450' labels=frozenset({'Chamber'}) properties={'name': 'Nationalrat', 'abbrev': 'NR'}>>\n",
      "<Record n=<Node element_id='4:57021189-84a0-4dfc-8fa3-eb8852328616:170792' labels=frozenset({'Chamber Debate', 'Debate'}) properties={'uid': '12_5123.1', 'date_start': neo4j.time.Date(2012, 3, 12), 'date_end': neo4j.time.Date(2012, 3, 12), 'order_stamp': 1}> r=<Relationship element_id='5:57021189-84a0-4dfc-8fa3-eb8852328616:10' nodes=(<Node element_id='4:57021189-84a0-4dfc-8fa3-eb8852328616:170792' labels=frozenset({'Chamber Debate', 'Debate'}) properties={'uid': '12_5123.1', 'date_start': neo4j.time.Date(2012, 3, 12), 'date_end': neo4j.time.Date(2012, 3, 12), 'order_stamp': 1}>, <Node element_id='4:57021189-84a0-4dfc-8fa3-eb8852328616:518450' labels=frozenset({'Chamber'}) properties={'name': 'Nationalrat', 'abbrev': 'NR'}>) type='TAKES_PLACE_IN' properties={}> m=<Node element_id='4:57021189-84a0-4dfc-8fa3-eb8852328616:518450' labels=frozenset({'Chamber'}) properties={'name': 'Nationalrat', 'abbrev': 'NR'}>>\n",
      "<Record n=<Node element_id='4:57021189-84a0-4dfc-8fa3-eb8852328616:170736' labels=frozenset({'Chamber Debate', 'Debate'}) properties={'uid': '12_5405.1', 'date_start': neo4j.time.Date(2012, 12, 3), 'date_end': neo4j.time.Date(2012, 12, 3), 'order_stamp': 1}> r=<Relationship element_id='5:57021189-84a0-4dfc-8fa3-eb8852328616:11' nodes=(<Node element_id='4:57021189-84a0-4dfc-8fa3-eb8852328616:170736' labels=frozenset({'Chamber Debate', 'Debate'}) properties={'uid': '12_5405.1', 'date_start': neo4j.time.Date(2012, 12, 3), 'date_end': neo4j.time.Date(2012, 12, 3), 'order_stamp': 1}>, <Node element_id='4:57021189-84a0-4dfc-8fa3-eb8852328616:518450' labels=frozenset({'Chamber'}) properties={'name': 'Nationalrat', 'abbrev': 'NR'}>) type='TAKES_PLACE_IN' properties={}> m=<Node element_id='4:57021189-84a0-4dfc-8fa3-eb8852328616:518450' labels=frozenset({'Chamber'}) properties={'name': 'Nationalrat', 'abbrev': 'NR'}>>\n",
      "<Record n=<Node element_id='4:57021189-84a0-4dfc-8fa3-eb8852328616:170475' labels=frozenset({'Chamber Debate', 'Debate'}) properties={'uid': '12_5230.1', 'date_start': neo4j.time.Date(2012, 6, 11), 'date_end': neo4j.time.Date(2012, 6, 11), 'order_stamp': 1}> r=<Relationship element_id='5:57021189-84a0-4dfc-8fa3-eb8852328616:12' nodes=(<Node element_id='4:57021189-84a0-4dfc-8fa3-eb8852328616:170475' labels=frozenset({'Chamber Debate', 'Debate'}) properties={'uid': '12_5230.1', 'date_start': neo4j.time.Date(2012, 6, 11), 'date_end': neo4j.time.Date(2012, 6, 11), 'order_stamp': 1}>, <Node element_id='4:57021189-84a0-4dfc-8fa3-eb8852328616:518450' labels=frozenset({'Chamber'}) properties={'name': 'Nationalrat', 'abbrev': 'NR'}>) type='TAKES_PLACE_IN' properties={}> m=<Node element_id='4:57021189-84a0-4dfc-8fa3-eb8852328616:518450' labels=frozenset({'Chamber'}) properties={'name': 'Nationalrat', 'abbrev': 'NR'}>>\n",
      "<Record n=<Node element_id='4:57021189-84a0-4dfc-8fa3-eb8852328616:170371' labels=frozenset({'Chamber Debate', 'Debate'}) properties={'uid': '12_5176.1', 'date_start': neo4j.time.Date(2012, 6, 4), 'date_end': neo4j.time.Date(2012, 6, 4), 'order_stamp': 1}> r=<Relationship element_id='5:57021189-84a0-4dfc-8fa3-eb8852328616:13' nodes=(<Node element_id='4:57021189-84a0-4dfc-8fa3-eb8852328616:170371' labels=frozenset({'Chamber Debate', 'Debate'}) properties={'uid': '12_5176.1', 'date_start': neo4j.time.Date(2012, 6, 4), 'date_end': neo4j.time.Date(2012, 6, 4), 'order_stamp': 1}>, <Node element_id='4:57021189-84a0-4dfc-8fa3-eb8852328616:518450' labels=frozenset({'Chamber'}) properties={'name': 'Nationalrat', 'abbrev': 'NR'}>) type='TAKES_PLACE_IN' properties={}> m=<Node element_id='4:57021189-84a0-4dfc-8fa3-eb8852328616:518450' labels=frozenset({'Chamber'}) properties={'name': 'Nationalrat', 'abbrev': 'NR'}>>\n",
      "<Record n=<Node element_id='4:57021189-84a0-4dfc-8fa3-eb8852328616:170459' labels=frozenset({'Chamber Debate', 'Debate'}) properties={'uid': '12_5316.1', 'date_start': neo4j.time.Date(2012, 9, 17), 'date_end': neo4j.time.Date(2012, 9, 17), 'order_stamp': 1}> r=<Relationship element_id='5:57021189-84a0-4dfc-8fa3-eb8852328616:14' nodes=(<Node element_id='4:57021189-84a0-4dfc-8fa3-eb8852328616:170459' labels=frozenset({'Chamber Debate', 'Debate'}) properties={'uid': '12_5316.1', 'date_start': neo4j.time.Date(2012, 9, 17), 'date_end': neo4j.time.Date(2012, 9, 17), 'order_stamp': 1}>, <Node element_id='4:57021189-84a0-4dfc-8fa3-eb8852328616:518450' labels=frozenset({'Chamber'}) properties={'name': 'Nationalrat', 'abbrev': 'NR'}>) type='TAKES_PLACE_IN' properties={}> m=<Node element_id='4:57021189-84a0-4dfc-8fa3-eb8852328616:518450' labels=frozenset({'Chamber'}) properties={'name': 'Nationalrat', 'abbrev': 'NR'}>>\n",
      "<Record n=<Node element_id='4:57021189-84a0-4dfc-8fa3-eb8852328616:170328' labels=frozenset({'Chamber Debate', 'Debate'}) properties={'uid': '12_5187.1', 'date_start': neo4j.time.Date(2012, 6, 4), 'date_end': neo4j.time.Date(2012, 6, 4), 'order_stamp': 1}> r=<Relationship element_id='5:57021189-84a0-4dfc-8fa3-eb8852328616:15' nodes=(<Node element_id='4:57021189-84a0-4dfc-8fa3-eb8852328616:170328' labels=frozenset({'Chamber Debate', 'Debate'}) properties={'uid': '12_5187.1', 'date_start': neo4j.time.Date(2012, 6, 4), 'date_end': neo4j.time.Date(2012, 6, 4), 'order_stamp': 1}>, <Node element_id='4:57021189-84a0-4dfc-8fa3-eb8852328616:518450' labels=frozenset({'Chamber'}) properties={'name': 'Nationalrat', 'abbrev': 'NR'}>) type='TAKES_PLACE_IN' properties={}> m=<Node element_id='4:57021189-84a0-4dfc-8fa3-eb8852328616:518450' labels=frozenset({'Chamber'}) properties={'name': 'Nationalrat', 'abbrev': 'NR'}>>\n",
      "<Record n=<Node element_id='4:57021189-84a0-4dfc-8fa3-eb8852328616:170669' labels=frozenset({'Chamber Debate', 'Debate'}) properties={'uid': '12_4200.1', 'date_start': neo4j.time.Date(2013, 3, 11), 'date_end': neo4j.time.Date(2013, 3, 11), 'order_stamp': 1}> r=<Relationship element_id='5:57021189-84a0-4dfc-8fa3-eb8852328616:16' nodes=(<Node element_id='4:57021189-84a0-4dfc-8fa3-eb8852328616:170669' labels=frozenset({'Chamber Debate', 'Debate'}) properties={'uid': '12_4200.1', 'date_start': neo4j.time.Date(2013, 3, 11), 'date_end': neo4j.time.Date(2013, 3, 11), 'order_stamp': 1}>, <Node element_id='4:57021189-84a0-4dfc-8fa3-eb8852328616:518452' labels=frozenset({'Chamber'}) properties={'name': 'Ständerat', 'abbrev': 'SR'}>) type='TAKES_PLACE_IN' properties={}> m=<Node element_id='4:57021189-84a0-4dfc-8fa3-eb8852328616:518452' labels=frozenset({'Chamber'}) properties={'name': 'Ständerat', 'abbrev': 'SR'}>>\n",
      "<Record n=<Node element_id='4:57021189-84a0-4dfc-8fa3-eb8852328616:170434' labels=frozenset({'Chamber Debate', 'Debate'}) properties={'uid': '12_5417.1', 'date_start': neo4j.time.Date(2012, 12, 3), 'date_end': neo4j.time.Date(2012, 12, 3), 'order_stamp': 1}> r=<Relationship element_id='5:57021189-84a0-4dfc-8fa3-eb8852328616:17' nodes=(<Node element_id='4:57021189-84a0-4dfc-8fa3-eb8852328616:170434' labels=frozenset({'Chamber Debate', 'Debate'}) properties={'uid': '12_5417.1', 'date_start': neo4j.time.Date(2012, 12, 3), 'date_end': neo4j.time.Date(2012, 12, 3), 'order_stamp': 1}>, <Node element_id='4:57021189-84a0-4dfc-8fa3-eb8852328616:518450' labels=frozenset({'Chamber'}) properties={'name': 'Nationalrat', 'abbrev': 'NR'}>) type='TAKES_PLACE_IN' properties={}> m=<Node element_id='4:57021189-84a0-4dfc-8fa3-eb8852328616:518450' labels=frozenset({'Chamber'}) properties={'name': 'Nationalrat', 'abbrev': 'NR'}>>\n",
      "<Record n=<Node element_id='4:57021189-84a0-4dfc-8fa3-eb8852328616:170426' labels=frozenset({'Chamber Debate', 'Debate'}) properties={'uid': '12_5103.1', 'date_start': neo4j.time.Date(2012, 3, 12), 'date_end': neo4j.time.Date(2012, 3, 12), 'order_stamp': 1}> r=<Relationship element_id='5:57021189-84a0-4dfc-8fa3-eb8852328616:18' nodes=(<Node element_id='4:57021189-84a0-4dfc-8fa3-eb8852328616:170426' labels=frozenset({'Chamber Debate', 'Debate'}) properties={'uid': '12_5103.1', 'date_start': neo4j.time.Date(2012, 3, 12), 'date_end': neo4j.time.Date(2012, 3, 12), 'order_stamp': 1}>, <Node element_id='4:57021189-84a0-4dfc-8fa3-eb8852328616:518450' labels=frozenset({'Chamber'}) properties={'name': 'Nationalrat', 'abbrev': 'NR'}>) type='TAKES_PLACE_IN' properties={}> m=<Node element_id='4:57021189-84a0-4dfc-8fa3-eb8852328616:518450' labels=frozenset({'Chamber'}) properties={'name': 'Nationalrat', 'abbrev': 'NR'}>>\n",
      "<Record n=<Node element_id='4:57021189-84a0-4dfc-8fa3-eb8852328616:170283' labels=frozenset({'Chamber Debate', 'Debate'}) properties={'uid': '12_5110.1', 'date_start': neo4j.time.Date(2012, 3, 12), 'date_end': neo4j.time.Date(2012, 3, 12), 'order_stamp': 1}> r=<Relationship element_id='5:57021189-84a0-4dfc-8fa3-eb8852328616:19' nodes=(<Node element_id='4:57021189-84a0-4dfc-8fa3-eb8852328616:170283' labels=frozenset({'Chamber Debate', 'Debate'}) properties={'uid': '12_5110.1', 'date_start': neo4j.time.Date(2012, 3, 12), 'date_end': neo4j.time.Date(2012, 3, 12), 'order_stamp': 1}>, <Node element_id='4:57021189-84a0-4dfc-8fa3-eb8852328616:518450' labels=frozenset({'Chamber'}) properties={'name': 'Nationalrat', 'abbrev': 'NR'}>) type='TAKES_PLACE_IN' properties={}> m=<Node element_id='4:57021189-84a0-4dfc-8fa3-eb8852328616:518450' labels=frozenset({'Chamber'}) properties={'name': 'Nationalrat', 'abbrev': 'NR'}>>\n",
      "<Record n=<Node element_id='4:57021189-84a0-4dfc-8fa3-eb8852328616:170502' labels=frozenset({'Chamber Debate', 'Debate'}) properties={'uid': '12_5035.1', 'date_start': neo4j.time.Date(2012, 3, 5), 'date_end': neo4j.time.Date(2012, 3, 5), 'order_stamp': 1}> r=<Relationship element_id='5:57021189-84a0-4dfc-8fa3-eb8852328616:20' nodes=(<Node element_id='4:57021189-84a0-4dfc-8fa3-eb8852328616:170502' labels=frozenset({'Chamber Debate', 'Debate'}) properties={'uid': '12_5035.1', 'date_start': neo4j.time.Date(2012, 3, 5), 'date_end': neo4j.time.Date(2012, 3, 5), 'order_stamp': 1}>, <Node element_id='4:57021189-84a0-4dfc-8fa3-eb8852328616:518450' labels=frozenset({'Chamber'}) properties={'name': 'Nationalrat', 'abbrev': 'NR'}>) type='TAKES_PLACE_IN' properties={}> m=<Node element_id='4:57021189-84a0-4dfc-8fa3-eb8852328616:518450' labels=frozenset({'Chamber'}) properties={'name': 'Nationalrat', 'abbrev': 'NR'}>>\n",
      "<Record n=<Node element_id='4:57021189-84a0-4dfc-8fa3-eb8852328616:170702' labels=frozenset({'Chamber Debate', 'Debate'}) properties={'uid': '12_5216.1', 'date_start': neo4j.time.Date(2012, 6, 11), 'date_end': neo4j.time.Date(2012, 6, 11), 'order_stamp': 1}> r=<Relationship element_id='5:57021189-84a0-4dfc-8fa3-eb8852328616:21' nodes=(<Node element_id='4:57021189-84a0-4dfc-8fa3-eb8852328616:170702' labels=frozenset({'Chamber Debate', 'Debate'}) properties={'uid': '12_5216.1', 'date_start': neo4j.time.Date(2012, 6, 11), 'date_end': neo4j.time.Date(2012, 6, 11), 'order_stamp': 1}>, <Node element_id='4:57021189-84a0-4dfc-8fa3-eb8852328616:518450' labels=frozenset({'Chamber'}) properties={'name': 'Nationalrat', 'abbrev': 'NR'}>) type='TAKES_PLACE_IN' properties={}> m=<Node element_id='4:57021189-84a0-4dfc-8fa3-eb8852328616:518450' labels=frozenset({'Chamber'}) properties={'name': 'Nationalrat', 'abbrev': 'NR'}>>\n",
      "<Record n=<Node element_id='4:57021189-84a0-4dfc-8fa3-eb8852328616:170752' labels=frozenset({'Chamber Debate', 'Debate'}) properties={'uid': '12_5020.1', 'date_start': neo4j.time.Date(2012, 3, 5), 'date_end': neo4j.time.Date(2012, 3, 5), 'order_stamp': 1}> r=<Relationship element_id='5:57021189-84a0-4dfc-8fa3-eb8852328616:22' nodes=(<Node element_id='4:57021189-84a0-4dfc-8fa3-eb8852328616:170752' labels=frozenset({'Chamber Debate', 'Debate'}) properties={'uid': '12_5020.1', 'date_start': neo4j.time.Date(2012, 3, 5), 'date_end': neo4j.time.Date(2012, 3, 5), 'order_stamp': 1}>, <Node element_id='4:57021189-84a0-4dfc-8fa3-eb8852328616:518450' labels=frozenset({'Chamber'}) properties={'name': 'Nationalrat', 'abbrev': 'NR'}>) type='TAKES_PLACE_IN' properties={}> m=<Node element_id='4:57021189-84a0-4dfc-8fa3-eb8852328616:518450' labels=frozenset({'Chamber'}) properties={'name': 'Nationalrat', 'abbrev': 'NR'}>>\n",
      "<Record n=<Node element_id='4:57021189-84a0-4dfc-8fa3-eb8852328616:170278' labels=frozenset({'Chamber Debate', 'Debate'}) properties={'uid': '12_5087.1', 'date_start': neo4j.time.Date(2012, 3, 12), 'date_end': neo4j.time.Date(2012, 3, 12), 'order_stamp': 1}> r=<Relationship element_id='5:57021189-84a0-4dfc-8fa3-eb8852328616:23' nodes=(<Node element_id='4:57021189-84a0-4dfc-8fa3-eb8852328616:170278' labels=frozenset({'Chamber Debate', 'Debate'}) properties={'uid': '12_5087.1', 'date_start': neo4j.time.Date(2012, 3, 12), 'date_end': neo4j.time.Date(2012, 3, 12), 'order_stamp': 1}>, <Node element_id='4:57021189-84a0-4dfc-8fa3-eb8852328616:518450' labels=frozenset({'Chamber'}) properties={'name': 'Nationalrat', 'abbrev': 'NR'}>) type='TAKES_PLACE_IN' properties={}> m=<Node element_id='4:57021189-84a0-4dfc-8fa3-eb8852328616:518450' labels=frozenset({'Chamber'}) properties={'name': 'Nationalrat', 'abbrev': 'NR'}>>\n",
      "<Record n=<Node element_id='4:57021189-84a0-4dfc-8fa3-eb8852328616:170528' labels=frozenset({'Chamber Debate', 'Debate'}) properties={'uid': '12_5130.1', 'date_start': neo4j.time.Date(2012, 3, 12), 'date_end': neo4j.time.Date(2012, 3, 12), 'order_stamp': 1}> r=<Relationship element_id='5:57021189-84a0-4dfc-8fa3-eb8852328616:24' nodes=(<Node element_id='4:57021189-84a0-4dfc-8fa3-eb8852328616:170528' labels=frozenset({'Chamber Debate', 'Debate'}) properties={'uid': '12_5130.1', 'date_start': neo4j.time.Date(2012, 3, 12), 'date_end': neo4j.time.Date(2012, 3, 12), 'order_stamp': 1}>, <Node element_id='4:57021189-84a0-4dfc-8fa3-eb8852328616:518450' labels=frozenset({'Chamber'}) properties={'name': 'Nationalrat', 'abbrev': 'NR'}>) type='TAKES_PLACE_IN' properties={}> m=<Node element_id='4:57021189-84a0-4dfc-8fa3-eb8852328616:518450' labels=frozenset({'Chamber'}) properties={'name': 'Nationalrat', 'abbrev': 'NR'}>>\n"
     ]
    }
   ],
   "source": [
    "from neo4j import GraphDatabase\n",
    "\n",
    "# Define the connection URI and authentication\n",
    "uri = \"bolt://localhost:7687\"  # Update this if you're using a different address\n",
    "username = \"neo4j\"  # Your Neo4j username\n",
    "password = \"newpassword\"  # Your Neo4j password\n",
    "\n",
    "# Create a Neo4j driver instance\n",
    "driver = GraphDatabase.driver(uri, auth=(username, password))\n",
    "\n",
    "# Define a function to query the Neo4j database\n",
    "def query_neo4j(query):\n",
    "    with driver.session() as session:\n",
    "        # Run the query and return the results\n",
    "        result = session.run(query)\n",
    "        return [record for record in result]\n",
    "\n",
    "# Example Cypher query to retrieve all nodes and relationships\n",
    "cypher_query = \"\"\"\n",
    "MATCH (n)-[r]->(m)\n",
    "RETURN n, r, m\n",
    "LIMIT 25\n",
    "\"\"\"\n",
    "\n",
    "# Execute the query and print the results\n",
    "results = query_neo4j(cypher_query)\n",
    "for record in results:\n",
    "    print(record)\n",
    "\n",
    "# Close the driver connection when done\n",
    "driver.close()\n"
   ]
  },
  {
   "cell_type": "code",
   "execution_count": 8,
   "id": "357cb82d-fe14-45c5-9d36-4f3f72998801",
   "metadata": {},
   "outputs": [],
   "source": [
    "from neo4j import GraphDatabase\n",
    "\n",
    "# Define the connection URI and authentication\n",
    "uri = \"bolt://94.230.217.43:7687\"  # Update this if you're using a different address\n",
    "username = \"neo4j\"  # Your Neo4j username\n",
    "password = \"lagginhorn\"  # Your Neo4j password\n",
    "\n",
    "# Create a Neo4j driver instance\n",
    "driver = GraphDatabase.driver(uri, auth=(username, password))\n",
    "\n",
    "# Define a function to query the Neo4j database\n",
    "def query_neo4j(query):\n",
    "    with driver.session() as session:\n",
    "        # Run the query and return the results\n",
    "        result = session.run(query)\n",
    "        return [record for record in result]\n",
    "\n",
    "# Example Cypher query to retrieve all nodes and relationships\n",
    "cypher_query = \"\"\"\n",
    "MATCH (n)-[r]->(m)\n",
    "RETURN n, r, m\n",
    "LIMIT 25\n",
    "\"\"\"\n",
    "\n",
    "# Execute the query and print the results\n",
    "results = query_neo4j(cypher_query)\n",
    "for record in results:\n",
    "    print(record)\n",
    "\n",
    "# Close the driver connection when done\n",
    "driver.close()\n"
   ]
  },
  {
   "cell_type": "code",
   "execution_count": null,
   "id": "7d1f9a05-8d11-40af-9bf6-d7dd6d8a8ea6",
   "metadata": {},
   "outputs": [],
   "source": []
  },
  {
   "cell_type": "code",
   "execution_count": null,
   "id": "6159a482-9b34-4098-8df8-7b4403f7fd33",
   "metadata": {},
   "outputs": [],
   "source": []
  },
  {
   "cell_type": "code",
   "execution_count": null,
   "id": "533fcdaa-885e-4497-ac1a-4b7ecc109ded",
   "metadata": {},
   "outputs": [],
   "source": []
  },
  {
   "cell_type": "code",
   "execution_count": 4,
   "id": "c3d9deff-6a17-423e-b1e4-774871d0051d",
   "metadata": {},
   "outputs": [
    {
     "name": "stdout",
     "output_type": "stream",
     "text": [
      "Password changed successfully.\n"
     ]
    }
   ],
   "source": [
    "from neo4j import GraphDatabase\n",
    "\n",
    "# Define the connection URI and authentication with the expired password\n",
    "uri = \"bolt://localhost:7687\"\n",
    "username = \"neo4j\"  # Your Neo4j username\n",
    "current_password = \"neo4j\"  # The current password you provided\n",
    "new_password = \"newpassword\"  # Set the new password\n",
    "\n",
    "# Create a Neo4j driver instance\n",
    "driver = GraphDatabase.driver(uri, auth=(username, current_password))\n",
    "\n",
    "# Function to change the password\n",
    "def change_password(current_password, new_password):\n",
    "    try:\n",
    "        with driver.session(database=\"system\") as session:  # Connect to the system database\n",
    "            # Cypher query to change the password\n",
    "            query = f\"ALTER CURRENT USER SET PASSWORD FROM '{current_password}' TO '{new_password}'\"\n",
    "            session.run(query)\n",
    "            print(\"Password changed successfully.\")\n",
    "    except Exception as e:\n",
    "        print(f\"An error occurred: {e}\")\n",
    "    finally:\n",
    "        driver.close()\n",
    "\n",
    "# Change the password by executing the query\n",
    "change_password(current_password, new_password)\n"
   ]
  }
 ],
 "metadata": {
  "kernelspec": {
   "display_name": "Python 3 (ipykernel)",
   "language": "python",
   "name": "python3"
  },
  "language_info": {
   "codemirror_mode": {
    "name": "ipython",
    "version": 3
   },
   "file_extension": ".py",
   "mimetype": "text/x-python",
   "name": "python",
   "nbconvert_exporter": "python",
   "pygments_lexer": "ipython3",
   "version": "3.10.11"
  }
 },
 "nbformat": 4,
 "nbformat_minor": 5
}
