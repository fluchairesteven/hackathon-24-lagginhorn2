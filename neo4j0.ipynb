{
 "cells": [
  {
   "cell_type": "code",
   "execution_count": 1,
   "id": "5d40f362-fb57-4974-8add-0d6b6e157c93",
   "metadata": {},
   "outputs": [
    {
     "name": "stdout",
     "output_type": "stream",
     "text": [
      "Collecting neo4j\n",
      "  Downloading neo4j-5.25.0-py3-none-any.whl (296 kB)\n",
      "\u001b[2K     \u001b[90m━━━━━━━━━━━━━━━━━━━━━━━━━━━━━━━━━━━━━━━\u001b[0m \u001b[32m296.6/296.6 kB\u001b[0m \u001b[31m4.8 MB/s\u001b[0m eta \u001b[36m0:00:00\u001b[0ma \u001b[36m0:00:01\u001b[0m\n",
      "\u001b[?25hRequirement already satisfied: pytz in /opt/conda/lib/python3.10/site-packages (from neo4j) (2023.3)\n",
      "Installing collected packages: neo4j\n",
      "Successfully installed neo4j-5.25.0\n"
     ]
    }
   ],
   "source": [
    "! pip install neo4j"
   ]
  },
  {
   "cell_type": "code",
   "execution_count": 5,
   "id": "01d1874d-4645-440c-bad8-ae7fc5356c06",
   "metadata": {},
   "outputs": [
    {
     "name": "stdout",
     "output_type": "stream",
     "text": [
      "<Record n=<Node element_id='4:57021189-84a0-4dfc-8fa3-eb8852328616:170765' labels=frozenset({'Chamber Debate', 'Debate'}) properties={'uid': '12_5127.1', 'date_start': neo4j.time.Date(2012, 3, 12), 'date_end': neo4j.time.Date(2012, 3, 12), 'order_stamp': 1}> r=<Relationship element_id='5:57021189-84a0-4dfc-8fa3-eb8852328616:0' nodes=(<Node element_id='4:57021189-84a0-4dfc-8fa3-eb8852328616:170765' labels=frozenset({'Chamber Debate', 'Debate'}) properties={'uid': '12_5127.1', 'date_start': neo4j.time.Date(2012, 3, 12), 'date_end': neo4j.time.Date(2012, 3, 12), 'order_stamp': 1}>, <Node element_id='4:57021189-84a0-4dfc-8fa3-eb8852328616:518450' labels=frozenset({'Chamber'}) properties={'name': 'Nationalrat', 'abbrev': 'NR'}>) type='TAKES_PLACE_IN' properties={}> m=<Node element_id='4:57021189-84a0-4dfc-8fa3-eb8852328616:518450' labels=frozenset({'Chamber'}) properties={'name': 'Nationalrat', 'abbrev': 'NR'}>>\n",
      "<Record n=<Node element_id='4:57021189-84a0-4dfc-8fa3-eb8852328616:170615' labels=frozenset({'Chamber Debate', 'Debate'}) properties={'uid': '12_5281.1', 'date_start': neo4j.time.Date(2012, 9, 17), 'date_end': neo4j.time.Date(2012, 9, 17), 'order_stamp': 1}> r=<Relationship element_id='5:57021189-84a0-4dfc-8fa3-eb8852328616:1' nodes=(<Node element_id='4:57021189-84a0-4dfc-8fa3-eb8852328616:170615' labels=frozenset({'Chamber Debate', 'Debate'}) properties={'uid': '12_5281.1', 'date_start': neo4j.time.Date(2012, 9, 17), 'date_end': neo4j.time.Date(2012, 9, 17), 'order_stamp': 1}>, <Node element_id='4:57021189-84a0-4dfc-8fa3-eb8852328616:518450' labels=frozenset({'Chamber'}) properties={'name': 'Nationalrat', 'abbrev': 'NR'}>) type='TAKES_PLACE_IN' properties={}> m=<Node element_id='4:57021189-84a0-4dfc-8fa3-eb8852328616:518450' labels=frozenset({'Chamber'}) properties={'name': 'Nationalrat', 'abbrev': 'NR'}>>\n",
      "<Record n=<Node element_id='4:57021189-84a0-4dfc-8fa3-eb8852328616:170746' labels=frozenset({'Chamber Debate', 'Debate'}) properties={'uid': '12_4221.1', 'date_start': neo4j.time.Date(2013, 6, 21), 'date_end': neo4j.time.Date(2013, 6, 21), 'order_stamp': 1}> r=<Relationship element_id='5:57021189-84a0-4dfc-8fa3-eb8852328616:2' nodes=(<Node element_id='4:57021189-84a0-4dfc-8fa3-eb8852328616:170746' labels=frozenset({'Chamber Debate', 'Debate'}) properties={'uid': '12_4221.1', 'date_start': neo4j.time.Date(2013, 6, 21), 'date_end': neo4j.time.Date(2013, 6, 21), 'order_stamp': 1}>, <Node element_id='4:57021189-84a0-4dfc-8fa3-eb8852328616:518450' labels=frozenset({'Chamber'}) properties={'name': 'Nationalrat', 'abbrev': 'NR'}>) type='TAKES_PLACE_IN' properties={}> m=<Node element_id='4:57021189-84a0-4dfc-8fa3-eb8852328616:518450' labels=frozenset({'Chamber'}) properties={'name': 'Nationalrat', 'abbrev': 'NR'}>>\n",
      "<Record n=<Node element_id='4:57021189-84a0-4dfc-8fa3-eb8852328616:494894' labels=frozenset({'Committee Debate', 'Debate'}) properties={'date': neo4j.time.Date(2013, 5, 28), 'uid': '12_430.1', 'text': 'Folge gegeben', 'order_stamp_in_enactment_draft': 1, 'order_stamp': 1}> r=<Relationship element_id='5:57021189-84a0-4dfc-8fa3-eb8852328616:3' nodes=(<Node element_id='4:57021189-84a0-4dfc-8fa3-eb8852328616:494894' labels=frozenset({'Committee Debate', 'Debate'}) properties={'date': neo4j.time.Date(2013, 5, 28), 'uid': '12_430.1', 'text': 'Folge gegeben', 'order_stamp_in_enactment_draft': 1, 'order_stamp': 1}>, <Node element_id='4:57021189-84a0-4dfc-8fa3-eb8852328616:517152' labels=frozenset({'Committee'}) properties={'abbrev2': 'SPK', 'committee_number': 11, 'name': 'Staatspolitische Kommission NR', 'abbrev': 'SPK-NR', 'type': 'Permanent', 'abbrev1': 'SPK-NR'}>) type='TAKES_PLACE_IN' properties={}> m=<Node element_id='4:57021189-84a0-4dfc-8fa3-eb8852328616:517152' labels=frozenset({'Committee'}) properties={'abbrev2': 'SPK', 'committee_number': 11, 'name': 'Staatspolitische Kommission NR', 'abbrev': 'SPK-NR', 'type': 'Permanent', 'abbrev1': 'SPK-NR'}>>\n",
      "<Record n=<Node element_id='4:57021189-84a0-4dfc-8fa3-eb8852328616:170831' labels=frozenset({'Chamber Debate', 'Debate'}) properties={'uid': '12_5332.1', 'date_start': neo4j.time.Date(2012, 9, 17), 'date_end': neo4j.time.Date(2012, 9, 17), 'order_stamp': 1}> r=<Relationship element_id='5:57021189-84a0-4dfc-8fa3-eb8852328616:4' nodes=(<Node element_id='4:57021189-84a0-4dfc-8fa3-eb8852328616:170831' labels=frozenset({'Chamber Debate', 'Debate'}) properties={'uid': '12_5332.1', 'date_start': neo4j.time.Date(2012, 9, 17), 'date_end': neo4j.time.Date(2012, 9, 17), 'order_stamp': 1}>, <Node element_id='4:57021189-84a0-4dfc-8fa3-eb8852328616:518450' labels=frozenset({'Chamber'}) properties={'name': 'Nationalrat', 'abbrev': 'NR'}>) type='TAKES_PLACE_IN' properties={}> m=<Node element_id='4:57021189-84a0-4dfc-8fa3-eb8852328616:518450' labels=frozenset({'Chamber'}) properties={'name': 'Nationalrat', 'abbrev': 'NR'}>>\n",
      "<Record n=<Node element_id='4:57021189-84a0-4dfc-8fa3-eb8852328616:170424' labels=frozenset({'Chamber Debate', 'Debate'}) properties={'uid': '12_5260.1', 'date_start': neo4j.time.Date(2012, 6, 11), 'date_end': neo4j.time.Date(2012, 6, 11), 'order_stamp': 1}> r=<Relationship element_id='5:57021189-84a0-4dfc-8fa3-eb8852328616:5' nodes=(<Node element_id='4:57021189-84a0-4dfc-8fa3-eb8852328616:170424' labels=frozenset({'Chamber Debate', 'Debate'}) properties={'uid': '12_5260.1', 'date_start': neo4j.time.Date(2012, 6, 11), 'date_end': neo4j.time.Date(2012, 6, 11), 'order_stamp': 1}>, <Node element_id='4:57021189-84a0-4dfc-8fa3-eb8852328616:518450' labels=frozenset({'Chamber'}) properties={'name': 'Nationalrat', 'abbrev': 'NR'}>) type='TAKES_PLACE_IN' properties={}> m=<Node element_id='4:57021189-84a0-4dfc-8fa3-eb8852328616:518450' labels=frozenset({'Chamber'}) properties={'name': 'Nationalrat', 'abbrev': 'NR'}>>\n",
      "<Record n=<Node element_id='4:57021189-84a0-4dfc-8fa3-eb8852328616:170812' labels=frozenset({'Chamber Debate', 'Debate'}) properties={'uid': '12_5305.1', 'date_start': neo4j.time.Date(2012, 9, 17), 'date_end': neo4j.time.Date(2012, 9, 17), 'order_stamp': 1}> r=<Relationship element_id='5:57021189-84a0-4dfc-8fa3-eb8852328616:6' nodes=(<Node element_id='4:57021189-84a0-4dfc-8fa3-eb8852328616:170812' labels=frozenset({'Chamber Debate', 'Debate'}) properties={'uid': '12_5305.1', 'date_start': neo4j.time.Date(2012, 9, 17), 'date_end': neo4j.time.Date(2012, 9, 17), 'order_stamp': 1}>, <Node element_id='4:57021189-84a0-4dfc-8fa3-eb8852328616:518450' labels=frozenset({'Chamber'}) properties={'name': 'Nationalrat', 'abbrev': 'NR'}>) type='TAKES_PLACE_IN' properties={}> m=<Node element_id='4:57021189-84a0-4dfc-8fa3-eb8852328616:518450' labels=frozenset({'Chamber'}) properties={'name': 'Nationalrat', 'abbrev': 'NR'}>>\n",
      "<Record n=<Node element_id='4:57021189-84a0-4dfc-8fa3-eb8852328616:170698' labels=frozenset({'Chamber Debate', 'Debate'}) properties={'uid': '12_5134.1', 'date_start': neo4j.time.Date(2012, 3, 12), 'date_end': neo4j.time.Date(2012, 3, 12), 'order_stamp': 1}> r=<Relationship element_id='5:57021189-84a0-4dfc-8fa3-eb8852328616:7' nodes=(<Node element_id='4:57021189-84a0-4dfc-8fa3-eb8852328616:170698' labels=frozenset({'Chamber Debate', 'Debate'}) properties={'uid': '12_5134.1', 'date_start': neo4j.time.Date(2012, 3, 12), 'date_end': neo4j.time.Date(2012, 3, 12), 'order_stamp': 1}>, <Node element_id='4:57021189-84a0-4dfc-8fa3-eb8852328616:518450' labels=frozenset({'Chamber'}) properties={'name': 'Nationalrat', 'abbrev': 'NR'}>) type='TAKES_PLACE_IN' properties={}> m=<Node element_id='4:57021189-84a0-4dfc-8fa3-eb8852328616:518450' labels=frozenset({'Chamber'}) properties={'name': 'Nationalrat', 'abbrev': 'NR'}>>\n",
      "<Record n=<Node element_id='4:57021189-84a0-4dfc-8fa3-eb8852328616:170483' labels=frozenset({'Chamber Debate', 'Debate'}) properties={'uid': '12_4224.1', 'date_start': neo4j.time.Date(2013, 3, 22), 'date_end': neo4j.time.Date(2013, 3, 22), 'order_stamp': 1}> r=<Relationship element_id='5:57021189-84a0-4dfc-8fa3-eb8852328616:8' nodes=(<Node element_id='4:57021189-84a0-4dfc-8fa3-eb8852328616:170483' labels=frozenset({'Chamber Debate', 'Debate'}) properties={'uid': '12_4224.1', 'date_start': neo4j.time.Date(2013, 3, 22), 'date_end': neo4j.time.Date(2013, 3, 22), 'order_stamp': 1}>, <Node element_id='4:57021189-84a0-4dfc-8fa3-eb8852328616:518450' labels=frozenset({'Chamber'}) properties={'name': 'Nationalrat', 'abbrev': 'NR'}>) type='TAKES_PLACE_IN' properties={}> m=<Node element_id='4:57021189-84a0-4dfc-8fa3-eb8852328616:518450' labels=frozenset({'Chamber'}) properties={'name': 'Nationalrat', 'abbrev': 'NR'}>>\n",
      "<Record n=<Node element_id='4:57021189-84a0-4dfc-8fa3-eb8852328616:170298' labels=frozenset({'Chamber Debate', 'Debate'}) properties={'uid': '12_5059.1', 'date_start': neo4j.time.Date(2012, 3, 5), 'date_end': neo4j.time.Date(2012, 3, 5), 'order_stamp': 1}> r=<Relationship element_id='5:57021189-84a0-4dfc-8fa3-eb8852328616:9' nodes=(<Node element_id='4:57021189-84a0-4dfc-8fa3-eb8852328616:170298' labels=frozenset({'Chamber Debate', 'Debate'}) properties={'uid': '12_5059.1', 'date_start': neo4j.time.Date(2012, 3, 5), 'date_end': neo4j.time.Date(2012, 3, 5), 'order_stamp': 1}>, <Node element_id='4:57021189-84a0-4dfc-8fa3-eb8852328616:518450' labels=frozenset({'Chamber'}) properties={'name': 'Nationalrat', 'abbrev': 'NR'}>) type='TAKES_PLACE_IN' properties={}> m=<Node element_id='4:57021189-84a0-4dfc-8fa3-eb8852328616:518450' labels=frozenset({'Chamber'}) properties={'name': 'Nationalrat', 'abbrev': 'NR'}>>\n",
      "<Record n=<Node element_id='4:57021189-84a0-4dfc-8fa3-eb8852328616:170792' labels=frozenset({'Chamber Debate', 'Debate'}) properties={'uid': '12_5123.1', 'date_start': neo4j.time.Date(2012, 3, 12), 'date_end': neo4j.time.Date(2012, 3, 12), 'order_stamp': 1}> r=<Relationship element_id='5:57021189-84a0-4dfc-8fa3-eb8852328616:10' nodes=(<Node element_id='4:57021189-84a0-4dfc-8fa3-eb8852328616:170792' labels=frozenset({'Chamber Debate', 'Debate'}) properties={'uid': '12_5123.1', 'date_start': neo4j.time.Date(2012, 3, 12), 'date_end': neo4j.time.Date(2012, 3, 12), 'order_stamp': 1}>, <Node element_id='4:57021189-84a0-4dfc-8fa3-eb8852328616:518450' labels=frozenset({'Chamber'}) properties={'name': 'Nationalrat', 'abbrev': 'NR'}>) type='TAKES_PLACE_IN' properties={}> m=<Node element_id='4:57021189-84a0-4dfc-8fa3-eb8852328616:518450' labels=frozenset({'Chamber'}) properties={'name': 'Nationalrat', 'abbrev': 'NR'}>>\n",
      "<Record n=<Node element_id='4:57021189-84a0-4dfc-8fa3-eb8852328616:170736' labels=frozenset({'Chamber Debate', 'Debate'}) properties={'uid': '12_5405.1', 'date_start': neo4j.time.Date(2012, 12, 3), 'date_end': neo4j.time.Date(2012, 12, 3), 'order_stamp': 1}> r=<Relationship element_id='5:57021189-84a0-4dfc-8fa3-eb8852328616:11' nodes=(<Node element_id='4:57021189-84a0-4dfc-8fa3-eb8852328616:170736' labels=frozenset({'Chamber Debate', 'Debate'}) properties={'uid': '12_5405.1', 'date_start': neo4j.time.Date(2012, 12, 3), 'date_end': neo4j.time.Date(2012, 12, 3), 'order_stamp': 1}>, <Node element_id='4:57021189-84a0-4dfc-8fa3-eb8852328616:518450' labels=frozenset({'Chamber'}) properties={'name': 'Nationalrat', 'abbrev': 'NR'}>) type='TAKES_PLACE_IN' properties={}> m=<Node element_id='4:57021189-84a0-4dfc-8fa3-eb8852328616:518450' labels=frozenset({'Chamber'}) properties={'name': 'Nationalrat', 'abbrev': 'NR'}>>\n",
      "<Record n=<Node element_id='4:57021189-84a0-4dfc-8fa3-eb8852328616:170475' labels=frozenset({'Chamber Debate', 'Debate'}) properties={'uid': '12_5230.1', 'date_start': neo4j.time.Date(2012, 6, 11), 'date_end': neo4j.time.Date(2012, 6, 11), 'order_stamp': 1}> r=<Relationship element_id='5:57021189-84a0-4dfc-8fa3-eb8852328616:12' nodes=(<Node element_id='4:57021189-84a0-4dfc-8fa3-eb8852328616:170475' labels=frozenset({'Chamber Debate', 'Debate'}) properties={'uid': '12_5230.1', 'date_start': neo4j.time.Date(2012, 6, 11), 'date_end': neo4j.time.Date(2012, 6, 11), 'order_stamp': 1}>, <Node element_id='4:57021189-84a0-4dfc-8fa3-eb8852328616:518450' labels=frozenset({'Chamber'}) properties={'name': 'Nationalrat', 'abbrev': 'NR'}>) type='TAKES_PLACE_IN' properties={}> m=<Node element_id='4:57021189-84a0-4dfc-8fa3-eb8852328616:518450' labels=frozenset({'Chamber'}) properties={'name': 'Nationalrat', 'abbrev': 'NR'}>>\n",
      "<Record n=<Node element_id='4:57021189-84a0-4dfc-8fa3-eb8852328616:170371' labels=frozenset({'Chamber Debate', 'Debate'}) properties={'uid': '12_5176.1', 'date_start': neo4j.time.Date(2012, 6, 4), 'date_end': neo4j.time.Date(2012, 6, 4), 'order_stamp': 1}> r=<Relationship element_id='5:57021189-84a0-4dfc-8fa3-eb8852328616:13' nodes=(<Node element_id='4:57021189-84a0-4dfc-8fa3-eb8852328616:170371' labels=frozenset({'Chamber Debate', 'Debate'}) properties={'uid': '12_5176.1', 'date_start': neo4j.time.Date(2012, 6, 4), 'date_end': neo4j.time.Date(2012, 6, 4), 'order_stamp': 1}>, <Node element_id='4:57021189-84a0-4dfc-8fa3-eb8852328616:518450' labels=frozenset({'Chamber'}) properties={'name': 'Nationalrat', 'abbrev': 'NR'}>) type='TAKES_PLACE_IN' properties={}> m=<Node element_id='4:57021189-84a0-4dfc-8fa3-eb8852328616:518450' labels=frozenset({'Chamber'}) properties={'name': 'Nationalrat', 'abbrev': 'NR'}>>\n",
      "<Record n=<Node element_id='4:57021189-84a0-4dfc-8fa3-eb8852328616:170459' labels=frozenset({'Chamber Debate', 'Debate'}) properties={'uid': '12_5316.1', 'date_start': neo4j.time.Date(2012, 9, 17), 'date_end': neo4j.time.Date(2012, 9, 17), 'order_stamp': 1}> r=<Relationship element_id='5:57021189-84a0-4dfc-8fa3-eb8852328616:14' nodes=(<Node element_id='4:57021189-84a0-4dfc-8fa3-eb8852328616:170459' labels=frozenset({'Chamber Debate', 'Debate'}) properties={'uid': '12_5316.1', 'date_start': neo4j.time.Date(2012, 9, 17), 'date_end': neo4j.time.Date(2012, 9, 17), 'order_stamp': 1}>, <Node element_id='4:57021189-84a0-4dfc-8fa3-eb8852328616:518450' labels=frozenset({'Chamber'}) properties={'name': 'Nationalrat', 'abbrev': 'NR'}>) type='TAKES_PLACE_IN' properties={}> m=<Node element_id='4:57021189-84a0-4dfc-8fa3-eb8852328616:518450' labels=frozenset({'Chamber'}) properties={'name': 'Nationalrat', 'abbrev': 'NR'}>>\n",
      "<Record n=<Node element_id='4:57021189-84a0-4dfc-8fa3-eb8852328616:170328' labels=frozenset({'Chamber Debate', 'Debate'}) properties={'uid': '12_5187.1', 'date_start': neo4j.time.Date(2012, 6, 4), 'date_end': neo4j.time.Date(2012, 6, 4), 'order_stamp': 1}> r=<Relationship element_id='5:57021189-84a0-4dfc-8fa3-eb8852328616:15' nodes=(<Node element_id='4:57021189-84a0-4dfc-8fa3-eb8852328616:170328' labels=frozenset({'Chamber Debate', 'Debate'}) properties={'uid': '12_5187.1', 'date_start': neo4j.time.Date(2012, 6, 4), 'date_end': neo4j.time.Date(2012, 6, 4), 'order_stamp': 1}>, <Node element_id='4:57021189-84a0-4dfc-8fa3-eb8852328616:518450' labels=frozenset({'Chamber'}) properties={'name': 'Nationalrat', 'abbrev': 'NR'}>) type='TAKES_PLACE_IN' properties={}> m=<Node element_id='4:57021189-84a0-4dfc-8fa3-eb8852328616:518450' labels=frozenset({'Chamber'}) properties={'name': 'Nationalrat', 'abbrev': 'NR'}>>\n",
      "<Record n=<Node element_id='4:57021189-84a0-4dfc-8fa3-eb8852328616:170669' labels=frozenset({'Chamber Debate', 'Debate'}) properties={'uid': '12_4200.1', 'date_start': neo4j.time.Date(2013, 3, 11), 'date_end': neo4j.time.Date(2013, 3, 11), 'order_stamp': 1}> r=<Relationship element_id='5:57021189-84a0-4dfc-8fa3-eb8852328616:16' nodes=(<Node element_id='4:57021189-84a0-4dfc-8fa3-eb8852328616:170669' labels=frozenset({'Chamber Debate', 'Debate'}) properties={'uid': '12_4200.1', 'date_start': neo4j.time.Date(2013, 3, 11), 'date_end': neo4j.time.Date(2013, 3, 11), 'order_stamp': 1}>, <Node element_id='4:57021189-84a0-4dfc-8fa3-eb8852328616:518452' labels=frozenset({'Chamber'}) properties={'name': 'Ständerat', 'abbrev': 'SR'}>) type='TAKES_PLACE_IN' properties={}> m=<Node element_id='4:57021189-84a0-4dfc-8fa3-eb8852328616:518452' labels=frozenset({'Chamber'}) properties={'name': 'Ständerat', 'abbrev': 'SR'}>>\n",
      "<Record n=<Node element_id='4:57021189-84a0-4dfc-8fa3-eb8852328616:170434' labels=frozenset({'Chamber Debate', 'Debate'}) properties={'uid': '12_5417.1', 'date_start': neo4j.time.Date(2012, 12, 3), 'date_end': neo4j.time.Date(2012, 12, 3), 'order_stamp': 1}> r=<Relationship element_id='5:57021189-84a0-4dfc-8fa3-eb8852328616:17' nodes=(<Node element_id='4:57021189-84a0-4dfc-8fa3-eb8852328616:170434' labels=frozenset({'Chamber Debate', 'Debate'}) properties={'uid': '12_5417.1', 'date_start': neo4j.time.Date(2012, 12, 3), 'date_end': neo4j.time.Date(2012, 12, 3), 'order_stamp': 1}>, <Node element_id='4:57021189-84a0-4dfc-8fa3-eb8852328616:518450' labels=frozenset({'Chamber'}) properties={'name': 'Nationalrat', 'abbrev': 'NR'}>) type='TAKES_PLACE_IN' properties={}> m=<Node element_id='4:57021189-84a0-4dfc-8fa3-eb8852328616:518450' labels=frozenset({'Chamber'}) properties={'name': 'Nationalrat', 'abbrev': 'NR'}>>\n",
      "<Record n=<Node element_id='4:57021189-84a0-4dfc-8fa3-eb8852328616:170426' labels=frozenset({'Chamber Debate', 'Debate'}) properties={'uid': '12_5103.1', 'date_start': neo4j.time.Date(2012, 3, 12), 'date_end': neo4j.time.Date(2012, 3, 12), 'order_stamp': 1}> r=<Relationship element_id='5:57021189-84a0-4dfc-8fa3-eb8852328616:18' nodes=(<Node element_id='4:57021189-84a0-4dfc-8fa3-eb8852328616:170426' labels=frozenset({'Chamber Debate', 'Debate'}) properties={'uid': '12_5103.1', 'date_start': neo4j.time.Date(2012, 3, 12), 'date_end': neo4j.time.Date(2012, 3, 12), 'order_stamp': 1}>, <Node element_id='4:57021189-84a0-4dfc-8fa3-eb8852328616:518450' labels=frozenset({'Chamber'}) properties={'name': 'Nationalrat', 'abbrev': 'NR'}>) type='TAKES_PLACE_IN' properties={}> m=<Node element_id='4:57021189-84a0-4dfc-8fa3-eb8852328616:518450' labels=frozenset({'Chamber'}) properties={'name': 'Nationalrat', 'abbrev': 'NR'}>>\n",
      "<Record n=<Node element_id='4:57021189-84a0-4dfc-8fa3-eb8852328616:170283' labels=frozenset({'Chamber Debate', 'Debate'}) properties={'uid': '12_5110.1', 'date_start': neo4j.time.Date(2012, 3, 12), 'date_end': neo4j.time.Date(2012, 3, 12), 'order_stamp': 1}> r=<Relationship element_id='5:57021189-84a0-4dfc-8fa3-eb8852328616:19' nodes=(<Node element_id='4:57021189-84a0-4dfc-8fa3-eb8852328616:170283' labels=frozenset({'Chamber Debate', 'Debate'}) properties={'uid': '12_5110.1', 'date_start': neo4j.time.Date(2012, 3, 12), 'date_end': neo4j.time.Date(2012, 3, 12), 'order_stamp': 1}>, <Node element_id='4:57021189-84a0-4dfc-8fa3-eb8852328616:518450' labels=frozenset({'Chamber'}) properties={'name': 'Nationalrat', 'abbrev': 'NR'}>) type='TAKES_PLACE_IN' properties={}> m=<Node element_id='4:57021189-84a0-4dfc-8fa3-eb8852328616:518450' labels=frozenset({'Chamber'}) properties={'name': 'Nationalrat', 'abbrev': 'NR'}>>\n",
      "<Record n=<Node element_id='4:57021189-84a0-4dfc-8fa3-eb8852328616:170502' labels=frozenset({'Chamber Debate', 'Debate'}) properties={'uid': '12_5035.1', 'date_start': neo4j.time.Date(2012, 3, 5), 'date_end': neo4j.time.Date(2012, 3, 5), 'order_stamp': 1}> r=<Relationship element_id='5:57021189-84a0-4dfc-8fa3-eb8852328616:20' nodes=(<Node element_id='4:57021189-84a0-4dfc-8fa3-eb8852328616:170502' labels=frozenset({'Chamber Debate', 'Debate'}) properties={'uid': '12_5035.1', 'date_start': neo4j.time.Date(2012, 3, 5), 'date_end': neo4j.time.Date(2012, 3, 5), 'order_stamp': 1}>, <Node element_id='4:57021189-84a0-4dfc-8fa3-eb8852328616:518450' labels=frozenset({'Chamber'}) properties={'name': 'Nationalrat', 'abbrev': 'NR'}>) type='TAKES_PLACE_IN' properties={}> m=<Node element_id='4:57021189-84a0-4dfc-8fa3-eb8852328616:518450' labels=frozenset({'Chamber'}) properties={'name': 'Nationalrat', 'abbrev': 'NR'}>>\n",
      "<Record n=<Node element_id='4:57021189-84a0-4dfc-8fa3-eb8852328616:170702' labels=frozenset({'Chamber Debate', 'Debate'}) properties={'uid': '12_5216.1', 'date_start': neo4j.time.Date(2012, 6, 11), 'date_end': neo4j.time.Date(2012, 6, 11), 'order_stamp': 1}> r=<Relationship element_id='5:57021189-84a0-4dfc-8fa3-eb8852328616:21' nodes=(<Node element_id='4:57021189-84a0-4dfc-8fa3-eb8852328616:170702' labels=frozenset({'Chamber Debate', 'Debate'}) properties={'uid': '12_5216.1', 'date_start': neo4j.time.Date(2012, 6, 11), 'date_end': neo4j.time.Date(2012, 6, 11), 'order_stamp': 1}>, <Node element_id='4:57021189-84a0-4dfc-8fa3-eb8852328616:518450' labels=frozenset({'Chamber'}) properties={'name': 'Nationalrat', 'abbrev': 'NR'}>) type='TAKES_PLACE_IN' properties={}> m=<Node element_id='4:57021189-84a0-4dfc-8fa3-eb8852328616:518450' labels=frozenset({'Chamber'}) properties={'name': 'Nationalrat', 'abbrev': 'NR'}>>\n",
      "<Record n=<Node element_id='4:57021189-84a0-4dfc-8fa3-eb8852328616:170752' labels=frozenset({'Chamber Debate', 'Debate'}) properties={'uid': '12_5020.1', 'date_start': neo4j.time.Date(2012, 3, 5), 'date_end': neo4j.time.Date(2012, 3, 5), 'order_stamp': 1}> r=<Relationship element_id='5:57021189-84a0-4dfc-8fa3-eb8852328616:22' nodes=(<Node element_id='4:57021189-84a0-4dfc-8fa3-eb8852328616:170752' labels=frozenset({'Chamber Debate', 'Debate'}) properties={'uid': '12_5020.1', 'date_start': neo4j.time.Date(2012, 3, 5), 'date_end': neo4j.time.Date(2012, 3, 5), 'order_stamp': 1}>, <Node element_id='4:57021189-84a0-4dfc-8fa3-eb8852328616:518450' labels=frozenset({'Chamber'}) properties={'name': 'Nationalrat', 'abbrev': 'NR'}>) type='TAKES_PLACE_IN' properties={}> m=<Node element_id='4:57021189-84a0-4dfc-8fa3-eb8852328616:518450' labels=frozenset({'Chamber'}) properties={'name': 'Nationalrat', 'abbrev': 'NR'}>>\n",
      "<Record n=<Node element_id='4:57021189-84a0-4dfc-8fa3-eb8852328616:170278' labels=frozenset({'Chamber Debate', 'Debate'}) properties={'uid': '12_5087.1', 'date_start': neo4j.time.Date(2012, 3, 12), 'date_end': neo4j.time.Date(2012, 3, 12), 'order_stamp': 1}> r=<Relationship element_id='5:57021189-84a0-4dfc-8fa3-eb8852328616:23' nodes=(<Node element_id='4:57021189-84a0-4dfc-8fa3-eb8852328616:170278' labels=frozenset({'Chamber Debate', 'Debate'}) properties={'uid': '12_5087.1', 'date_start': neo4j.time.Date(2012, 3, 12), 'date_end': neo4j.time.Date(2012, 3, 12), 'order_stamp': 1}>, <Node element_id='4:57021189-84a0-4dfc-8fa3-eb8852328616:518450' labels=frozenset({'Chamber'}) properties={'name': 'Nationalrat', 'abbrev': 'NR'}>) type='TAKES_PLACE_IN' properties={}> m=<Node element_id='4:57021189-84a0-4dfc-8fa3-eb8852328616:518450' labels=frozenset({'Chamber'}) properties={'name': 'Nationalrat', 'abbrev': 'NR'}>>\n",
      "<Record n=<Node element_id='4:57021189-84a0-4dfc-8fa3-eb8852328616:170528' labels=frozenset({'Chamber Debate', 'Debate'}) properties={'uid': '12_5130.1', 'date_start': neo4j.time.Date(2012, 3, 12), 'date_end': neo4j.time.Date(2012, 3, 12), 'order_stamp': 1}> r=<Relationship element_id='5:57021189-84a0-4dfc-8fa3-eb8852328616:24' nodes=(<Node element_id='4:57021189-84a0-4dfc-8fa3-eb8852328616:170528' labels=frozenset({'Chamber Debate', 'Debate'}) properties={'uid': '12_5130.1', 'date_start': neo4j.time.Date(2012, 3, 12), 'date_end': neo4j.time.Date(2012, 3, 12), 'order_stamp': 1}>, <Node element_id='4:57021189-84a0-4dfc-8fa3-eb8852328616:518450' labels=frozenset({'Chamber'}) properties={'name': 'Nationalrat', 'abbrev': 'NR'}>) type='TAKES_PLACE_IN' properties={}> m=<Node element_id='4:57021189-84a0-4dfc-8fa3-eb8852328616:518450' labels=frozenset({'Chamber'}) properties={'name': 'Nationalrat', 'abbrev': 'NR'}>>\n"
     ]
    }
   ],
   "source": [
    "from neo4j import GraphDatabase\n",
    "\n",
    "# Define the connection URI and authentication\n",
    "uri = \"bolt://localhost:7687\"  # Update this if you're using a different address\n",
    "username = \"neo4j\"  # Your Neo4j username\n",
    "password = \"newpassword\"  # Your Neo4j password\n",
    "\n",
    "# Create a Neo4j driver instance\n",
    "driver = GraphDatabase.driver(uri, auth=(username, password))\n",
    "\n",
    "# Define a function to query the Neo4j database\n",
    "def query_neo4j(query):\n",
    "    with driver.session() as session:\n",
    "        # Run the query and return the results\n",
    "        result = session.run(query)\n",
    "        return [record for record in result]\n",
    "\n",
    "# Example Cypher query to retrieve all nodes and relationships\n",
    "cypher_query = \"\"\"\n",
    "MATCH (n)-[r]->(m)\n",
    "RETURN n, r, m\n",
    "LIMIT 25\n",
    "\"\"\"\n",
    "\n",
    "# Execute the query and print the results\n",
    "results = query_neo4j(cypher_query)\n",
    "for record in results:\n",
    "    print(record)\n",
    "\n",
    "# Close the driver connection when done\n",
    "driver.close()\n"
   ]
  },
  {
   "cell_type": "code",
   "execution_count": 8,
   "id": "357cb82d-fe14-45c5-9d36-4f3f72998801",
   "metadata": {},
   "outputs": [],
   "source": [
    "from neo4j import GraphDatabase\n",
    "\n",
    "# Define the connection URI and authentication\n",
    "uri = \"bolt://94.230.217.43:7687\"  # Update this if you're using a different address\n",
    "username = \"neo4j\"  # Your Neo4j username\n",
    "password = \"lagginhorn\"  # Your Neo4j password\n",
    "\n",
    "# Create a Neo4j driver instance\n",
    "driver = GraphDatabase.driver(uri, auth=(username, password))\n",
    "\n",
    "# Define a function to query the Neo4j database\n",
    "def query_neo4j(query):\n",
    "    with driver.session() as session:\n",
    "        # Run the query and return the results\n",
    "        result = session.run(query)\n",
    "        return [record for record in result]\n",
    "\n",
    "# Example Cypher query to retrieve all nodes and relationships\n",
    "cypher_query = \"\"\"\n",
    "MATCH (n)-[r]->(m)\n",
    "RETURN n, r, m\n",
    "LIMIT 25\n",
    "\"\"\"\n",
    "\n",
    "# Execute the query and print the results\n",
    "results = query_neo4j(cypher_query)\n",
    "for record in results:\n",
    "    print(record)\n",
    "\n",
    "# Close the driver connection when done\n",
    "driver.close()\n"
   ]
  },
  {
   "cell_type": "code",
   "execution_count": null,
   "id": "7d1f9a05-8d11-40af-9bf6-d7dd6d8a8ea6",
   "metadata": {},
   "outputs": [],
   "source": []
  },
  {
   "cell_type": "code",
   "execution_count": null,
   "id": "6159a482-9b34-4098-8df8-7b4403f7fd33",
   "metadata": {},
   "outputs": [],
   "source": []
  },
  {
   "cell_type": "code",
   "execution_count": null,
   "id": "533fcdaa-885e-4497-ac1a-4b7ecc109ded",
   "metadata": {},
   "outputs": [],
   "source": []
  },
  {
   "cell_type": "code",
   "execution_count": 4,
   "id": "c3d9deff-6a17-423e-b1e4-774871d0051d",
   "metadata": {},
   "outputs": [
    {
     "name": "stdout",
     "output_type": "stream",
     "text": [
      "Password changed successfully.\n"
     ]
    }
   ],
   "source": [
    "from neo4j import GraphDatabase\n",
    "\n",
    "# Define the connection URI and authentication with the expired password\n",
    "uri = \"bolt://localhost:7687\"\n",
    "username = \"neo4j\"  # Your Neo4j username\n",
    "current_password = \"neo4j\"  # The current password you provided\n",
    "new_password = \"newpassword\"  # Set the new password\n",
    "\n",
    "# Create a Neo4j driver instance\n",
    "driver = GraphDatabase.driver(uri, auth=(username, current_password))\n",
    "\n",
    "# Function to change the password\n",
    "def change_password(current_password, new_password):\n",
    "    try:\n",
    "        with driver.session(database=\"system\") as session:  # Connect to the system database\n",
    "            # Cypher query to change the password\n",
    "            query = f\"ALTER CURRENT USER SET PASSWORD FROM '{current_password}' TO '{new_password}'\"\n",
    "            session.run(query)\n",
    "            print(\"Password changed successfully.\")\n",
    "    except Exception as e:\n",
    "        print(f\"An error occurred: {e}\")\n",
    "    finally:\n",
    "        driver.close()\n",
    "\n",
    "# Change the password by executing the query\n",
    "change_password(current_password, new_password)\n"
   ]
  }
 ],
 "metadata": {
  "kernelspec": {
   "display_name": "Python 3 (ipykernel)",
   "language": "python",
   "name": "python3"
  },
  "language_info": {
   "codemirror_mode": {
    "name": "ipython",
    "version": 3
   },
   "file_extension": ".py",
   "mimetype": "text/x-python",
   "name": "python",
   "nbconvert_exporter": "python",
   "pygments_lexer": "ipython3",
   "version": "3.10.11"
  }
 },
 "nbformat": 4,
 "nbformat_minor": 5
}
